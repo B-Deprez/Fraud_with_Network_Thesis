{
 "cells": [
  {
   "cell_type": "markdown",
   "id": "68dc2fa8",
   "metadata": {},
   "source": [
    "# StellarGraph Full Dataset"
   ]
  },
  {
   "cell_type": "markdown",
   "id": "89b42a48",
   "metadata": {},
   "source": [
    "This notebook is mostly used to load the full dataset provided, and test some StellarGraph algorithms. "
   ]
  },
  {
   "cell_type": "markdown",
   "id": "ff35cc11",
   "metadata": {},
   "source": [
    "First, we load the necessary packages"
   ]
  },
  {
   "cell_type": "code",
   "execution_count": 1,
   "id": "12a9a313",
   "metadata": {},
   "outputs": [
    {
     "name": "stderr",
     "output_type": "stream",
     "text": [
      "C:\\Users\\bruno\\anaconda3\\lib\\site-packages\\nxviz\\__init__.py:18: UserWarning: \n",
      "nxviz has a new API! Version 0.7.0 onwards, the old class-based API is being\n",
      "deprecated in favour of a new API focused on advancing a grammar of network\n",
      "graphics. If your plotting code depends on the old API, please consider\n",
      "pinning nxviz at version 0.7.0, as the new API will break your old code.\n",
      "\n",
      "To check out the new API, please head over to the docs at\n",
      "https://ericmjl.github.io/nxviz/ to learn more. We hope you enjoy using it!\n",
      "\n",
      "(This deprecation message will go away in version 1.0.)\n",
      "\n",
      "  warnings.warn(\n"
     ]
    }
   ],
   "source": [
    "import numpy as np\n",
    "import scipy as sp\n",
    "import pickle as pkl\n",
    "import networkx as nx\n",
    "from py2neo import Graph\n",
    "import py2neo\n",
    "import pandas as pd\n",
    "import nxviz as nv\n",
    "import matplotlib.pyplot as plt\n",
    "from stellargraph import StellarGraph\n",
    "\n",
    "\n",
    "%matplotlib inline"
   ]
  },
  {
   "cell_type": "markdown",
   "id": "2b1e56d8",
   "metadata": {},
   "source": [
    "In the next part, the different nodes are loaded with their corresponding edges"
   ]
  },
  {
   "cell_type": "code",
   "execution_count": 2,
   "id": "0e3d681a",
   "metadata": {},
   "outputs": [],
   "source": [
    "broker_nodes = pkl.load(open( \"broker_nodes_brunosept.pkl\", \"rb\" ))\n",
    "cars_nodes = pkl.load(open( \"cars_nodes_brunosept.pkl\", \"rb\" ))\n",
    "claims_nodes = pkl.load(open( \"claims_nodes_brunosept.pkl\", \"rb\" ))\n",
    "policy_nodes = pkl.load(open( \"policy_nodes_brunosept.pkl\", \"rb\" ))\n",
    "edges = pkl.load(open( \"edges_brunosept.pkl\", \"rb\" ))\n",
    "\n",
    "labels = pd.DataFrame(pkl.load(open(\"Y\", \"rb\")))"
   ]
  },
  {
   "cell_type": "code",
   "execution_count": 6,
   "id": "255efbe0",
   "metadata": {
    "scrolled": true
   },
   "outputs": [
    {
     "data": {
      "text/html": [
       "<div>\n",
       "<style scoped>\n",
       "    .dataframe tbody tr th:only-of-type {\n",
       "        vertical-align: middle;\n",
       "    }\n",
       "\n",
       "    .dataframe tbody tr th {\n",
       "        vertical-align: top;\n",
       "    }\n",
       "\n",
       "    .dataframe thead th {\n",
       "        text-align: right;\n",
       "    }\n",
       "</style>\n",
       "<table border=\"1\" class=\"dataframe\">\n",
       "  <thead>\n",
       "    <tr style=\"text-align: right;\">\n",
       "      <th></th>\n",
       "      <th>Fraud</th>\n",
       "      <th>Labelled</th>\n",
       "    </tr>\n",
       "    <tr>\n",
       "      <th>SI01_NO_SIN</th>\n",
       "      <th></th>\n",
       "      <th></th>\n",
       "    </tr>\n",
       "  </thead>\n",
       "  <tbody>\n",
       "    <tr>\n",
       "      <th>000020211004303</th>\n",
       "      <td>0</td>\n",
       "      <td>0.0</td>\n",
       "    </tr>\n",
       "    <tr>\n",
       "      <th>000020211004304</th>\n",
       "      <td>0</td>\n",
       "      <td>0.0</td>\n",
       "    </tr>\n",
       "    <tr>\n",
       "      <th>000020211004306</th>\n",
       "      <td>0</td>\n",
       "      <td>0.0</td>\n",
       "    </tr>\n",
       "    <tr>\n",
       "      <th>000020211004307</th>\n",
       "      <td>0</td>\n",
       "      <td>0.0</td>\n",
       "    </tr>\n",
       "    <tr>\n",
       "      <th>000020211004308</th>\n",
       "      <td>0</td>\n",
       "      <td>0.0</td>\n",
       "    </tr>\n",
       "  </tbody>\n",
       "</table>\n",
       "</div>"
      ],
      "text/plain": [
       "                 Fraud  Labelled\n",
       "SI01_NO_SIN                     \n",
       "000020211004303      0       0.0\n",
       "000020211004304      0       0.0\n",
       "000020211004306      0       0.0\n",
       "000020211004307      0       0.0\n",
       "000020211004308      0       0.0"
      ]
     },
     "execution_count": 6,
     "metadata": {},
     "output_type": "execute_result"
    }
   ],
   "source": [
    "labels.rename(columns = {\"y1\": \"Fraud\", \"y2\":\"Labelled\"}, inplace = True)\n",
    "labels.head()"
   ]
  },
  {
   "cell_type": "markdown",
   "id": "bb99c8b4",
   "metadata": {},
   "source": [
    "And finally, we make our graph"
   ]
  },
  {
   "cell_type": "code",
   "execution_count": 9,
   "id": "38495885",
   "metadata": {},
   "outputs": [],
   "source": [
    "HG = StellarGraph({\"claim\" : claims_nodes, \"car\" : cars_nodes, \"policy\" : policy_nodes, \"broker\" : broker_nodes}, edges)"
   ]
  },
  {
   "cell_type": "code",
   "execution_count": 13,
   "id": "2c8429e8",
   "metadata": {
    "scrolled": false
   },
   "outputs": [],
   "source": [
    "degrees = HG.node_degrees()\n",
    "claim_degrees = pd.Series([degrees[x] for x in list(claims_nodes.index)])\n",
    "car_degrees = pd.Series([degrees[x] for x in list(cars_nodes.index)])\n",
    "policy_degrees = pd.Series([degrees[x] for x in list(policy_nodes.index)])\n",
    "broker_degrees = pd.Series([degrees[x] for x in list(broker_nodes.index)])\n",
    "perc = [.25,.50,.75,.85,.95, .99] "
   ]
  },
  {
   "cell_type": "code",
   "execution_count": 18,
   "id": "73d6d174",
   "metadata": {},
   "outputs": [
    {
     "data": {
      "text/plain": [
       "<AxesSubplot:>"
      ]
     },
     "execution_count": 18,
     "metadata": {},
     "output_type": "execute_result"
    },
    {
     "data": {
      "image/png": "[encoded data removed]",
      "text/plain": [
       "<Figure size 432x288 with 1 Axes>"
      ]
     },
     "metadata": {
      "needs_background": "light"
     },
     "output_type": "display_data"
    }
   ],
   "source": [
    "broker_degrees[broker_degrees>100].hist()"
   ]
  },
  {
   "cell_type": "code",
   "execution_count": 13,
   "id": "3920b7d2",
   "metadata": {},
   "outputs": [],
   "source": [
    "with open(\"C:/Users/bruno/OneDrive/Documenten/KUL/MaAct2/Thesis/Python/multigraph.dump\", 'wb') as f:\n",
    "    pkl.dump(HG, f)"
   ]
  },
  {
   "cell_type": "code",
   "execution_count": 19,
   "id": "43abbaa9",
   "metadata": {},
   "outputs": [],
   "source": [
    "HG_claims = HG.nodes(\"claim\")\n",
    "HG_cars = HG.nodes(\"car\")"
   ]
  },
  {
   "cell_type": "code",
   "execution_count": 20,
   "id": "92b4ba44",
   "metadata": {
    "scrolled": false
   },
   "outputs": [
    {
     "name": "stdout",
     "output_type": "stream",
     "text": [
      "True True\n"
     ]
    }
   ],
   "source": [
    "HG_sub = list(HG_claims)+ list(HG_cars)\n",
    "print(HG_sub[1] == HG_claims[1],\n",
    "HG_sub[-1] == HG_cars[-1])"
   ]
  },
  {
   "cell_type": "code",
   "execution_count": 23,
   "id": "dc6d4956",
   "metadata": {},
   "outputs": [
    {
     "data": {
      "text/plain": [
       "matrix([[1060.,  289., 1915., ...,    2.,    2.,    2.]], dtype=float32)"
      ]
     },
     "execution_count": 23,
     "metadata": {},
     "output_type": "execute_result"
    }
   ],
   "source": [
    "amat.sum(axis = 0)"
   ]
  },
  {
   "cell_type": "code",
   "execution_count": 27,
   "id": "215286f0",
   "metadata": {
    "scrolled": true
   },
   "outputs": [
    {
     "data": {
      "text/plain": [
       "1167038"
      ]
     },
     "execution_count": 27,
     "metadata": {},
     "output_type": "execute_result"
    }
   ],
   "source": [
    "A = adjmat_claim_car @ adjmat_car_policy @ adjmat_policy_broker\n",
    "A.count_nonzero()"
   ]
  },
  {
   "cell_type": "code",
   "execution_count": 29,
   "id": "8c009d74",
   "metadata": {},
   "outputs": [
    {
     "data": {
      "text/plain": [
       "2314182951"
      ]
     },
     "execution_count": 29,
     "metadata": {},
     "output_type": "execute_result"
    }
   ],
   "source": [
    "Proj = A @ A.transpose()\n",
    "Proj.count_nonzero()"
   ]
  },
  {
   "cell_type": "code",
   "execution_count": null,
   "id": "792ffd41",
   "metadata": {},
   "outputs": [],
   "source": [
    "Proj.setdiag(0)"
   ]
  },
  {
   "cell_type": "code",
   "execution_count": 40,
   "id": "abfec754",
   "metadata": {
    "scrolled": true
   },
   "outputs": [
    {
     "data": {
      "image/png": "[encoded data removed]",
      "text/plain": [
       "<Figure size 432x288 with 1 Axes>"
      ]
     },
     "metadata": {
      "needs_background": "light"
     },
     "output_type": "display_data"
    }
   ],
   "source": [
    "plt.spy(Proj[:300,:300], markersize = 0.05)\n",
    "plt.savefig(\"First300AdjMat.pdf\")"
   ]
  },
  {
   "cell_type": "code",
   "execution_count": 27,
   "id": "6040acf9",
   "metadata": {},
   "outputs": [],
   "source": [
    "Proj_nx = nx.convert_matrix.from_scipy_sparse_matrix(Proj[:300,:300])\n",
    "Proj_nx.remove_edges_from(nx.selfloop_edges(Proj_nx))"
   ]
  },
  {
   "cell_type": "markdown",
   "id": "88c89dd6",
   "metadata": {},
   "source": [
    "## Going to bipartite network with parties and claims"
   ]
  },
  {
   "cell_type": "markdown",
   "id": "a0371844",
   "metadata": {},
   "source": [
    "The problem with the first approach is that we cannot distinguish between claims that are closer and further apart. \n",
    "\n",
    "We cannot see if two nodes that connect after projection connected to the same car or if they can only reach eachother by going through a broker in the original network. \n",
    "\n",
    "This is a particular problem in our large network, where some brokers have a lot of connections, and act as some kind of hub. "
   ]
  },
  {
   "cell_type": "code",
   "execution_count": 28,
   "id": "b4e1d82e",
   "metadata": {},
   "outputs": [],
   "source": [
    "C = adjmat_claim_car\n",
    "P = adjmat_car_policy\n",
    "B = adjmat_policy_broker\n",
    "CP = C @ P\n",
    "CB = CP @ B"
   ]
  },
  {
   "cell_type": "code",
   "execution_count": 29,
   "id": "ef9c7d77",
   "metadata": {},
   "outputs": [],
   "source": [
    "adjmat_bipartite = sp.sparse.hstack((C, CP, CB))"
   ]
  },
  {
   "cell_type": "code",
   "execution_count": 32,
   "id": "9bb27c0e",
   "metadata": {},
   "outputs": [],
   "source": [
    "A_weighted = adjmat_bipartite @ adjmat_bipartite.transpose()"
   ]
  },
  {
   "cell_type": "code",
   "execution_count": 41,
   "id": "1f46fbcf",
   "metadata": {
    "scrolled": false
   },
   "outputs": [
    {
     "data": {
      "text/plain": [
       "<matplotlib.lines.Line2D at 0x20806e0dbe0>"
      ]
     },
     "execution_count": 41,
     "metadata": {},
     "output_type": "execute_result"
    },
    {
     "data": {
      "image/png": "[encoded data removed]",
      "text/plain": [
       "<Figure size 432x288 with 1 Axes>"
      ]
     },
     "metadata": {
      "needs_background": "light"
     },
     "output_type": "display_data"
    }
   ],
   "source": [
    "A_draw = A_weighted[:300,:300]\n",
    "A_draw.setdiag(0)\n",
    "plt.spy(A_draw, markersize = 0.5)"
   ]
  },
  {
   "cell_type": "code",
   "execution_count": 42,
   "id": "5b4dbf20",
   "metadata": {
    "scrolled": true
   },
   "outputs": [
    {
     "data": {
      "text/plain": [
       "<matplotlib.lines.Line2D at 0x20806ea1b80>"
      ]
     },
     "execution_count": 42,
     "metadata": {},
     "output_type": "execute_result"
    },
    {
     "data": {
      "image/png": "[encoded data removed]",
      "text/plain": [
       "<Figure size 432x288 with 1 Axes>"
      ]
     },
     "metadata": {
      "needs_background": "light"
     },
     "output_type": "display_data"
    }
   ],
   "source": [
    "A_draw = A_weighted[40:50,40:50]\n",
    "A_draw.setdiag(0)\n",
    "plt.spy(A_draw)"
   ]
  },
  {
   "cell_type": "code",
   "execution_count": 47,
   "id": "d8791bc4",
   "metadata": {
    "scrolled": true
   },
   "outputs": [
    {
     "name": "stdout",
     "output_type": "stream",
     "text": [
      "3908\n",
      "[962620, 283, 220, 205, 184, 183, 182, 181, 178, 177, 176, 174, 168, 168, 166, 159, 147, 144, 140, 139, 137, 134, 134, 134, 134, 126, 126, 123, 120, 119, 119, 118, 117, 116, 116, 113, 112, 111, 110, 110, 108, 108, 107, 107, 104, 101, 100, 99, 99, 98, 97, 97, 94, 93, 93, 93, 90, 88, 88, 88, 87, 87, 86, 86, 86, 83, 82, 82, 80, 80, 79, 79, 79, 78, 78, 77, 77, 76, 75, 75, 75, 75, 74, 74, 74, 74, 73, 73, 72, 72, 72, 72, 71, 71, 71, 71, 71, 70, 70, 70, 70, 70, 69, 69, 69, 68, 68, 68, 67, 67, 67, 66, 66, 65, 65, 65, 65, 65, 65, 65, 65, 64, 64, 64, 64, 64, 64, 64, 63, 63, 62, 62, 62, 62, 62, 62, 61, 61, 61, 61, 61, 61, 61, 61, 60, 59, 59, 59, 58, 58, 58, 58, 58, 57, 57, 57, 57, 56, 56, 56, 56, 56, 56, 56, 56, 55, 55, 54, 54, 54, 54, 54, 54, 54, 54, 53, 53, 53, 53, 53, 53, 53, 53, 53, 53, 52, 52, 52, 52, 51, 51, 50, 50, 50, 50, 50, 50, 50, 50, 50, 50, 49, 49, 49, 49, 49, 48, 48, 48, 48, 47, 47, 47, 47, 47, 47, 47, 47, 47, 47, 47, 47, 47, 46, 46, 46, 46, 46, 46, 46, 46, 46, 46, 46, 45, 45, 45, 45, 44, 44, 44, 44, 44, 43, 43, 43, 43, 43, 43, 43, 43, 42, 42, 42, 42, 42, 42, 42, 42, 42, 41, 41, 41, 41, 41, 41, 41, 40, 40, 40, 40, 40, 40, 40, 40, 40, 40, 40, 40, 39, 39, 39, 39, 39, 39, 39, 39, 39, 39, 39, 39, 38, 38, 38, 38, 38, 38, 38, 37, 37, 37, 37, 37, 37, 37, 37, 37, 37, 36, 36, 36, 36, 36, 36, 36, 36, 36, 36, 36, 36, 36, 36, 36, 36, 36, 35, 35, 35, 35, 35, 35, 35, 35, 35, 35, 35, 35, 35, 35, 35, 34, 34, 34, 34, 34, 34, 34, 34, 34, 34, 33, 33, 33, 33, 33, 33, 33, 33, 33, 33, 33, 33, 33, 33, 32, 32, 32, 32, 32, 32, 32, 32, 32, 32, 32, 32, 32, 32, 31, 31, 31, 31, 31, 31, 31, 31, 31, 31, 31, 31, 31, 31, 30, 30, 30, 30, 30, 30, 30, 30, 30, 30, 30, 30, 30, 30, 29, 29, 29, 29, 29, 29, 29, 29, 29, 29, 29, 29, 29, 29, 29, 28, 28, 28, 28, 28, 28, 28, 28, 28, 28, 28, 28, 28, 28, 28, 28, 28, 28, 28, 28, 28, 28, 28, 27, 27, 27, 27, 27, 27, 27, 27, 27, 27, 27, 27, 27, 27, 27, 27, 27, 27, 27, 26, 26, 26, 26, 26, 26, 26, 26, 26, 26, 26, 26, 26, 26, 25, 25, 25, 25, 25, 25, 25, 25, 25, 25, 25, 25, 25, 25, 25, 25, 25, 25, 25, 24, 24, 24, 24, 24, 24, 24, 24, 24, 24, 24, 24, 23, 23, 23, 23, 23, 23, 23, 23, 23, 23, 23, 23, 23, 23, 23, 23, 23, 23, 23, 23, 23, 23, 23, 23, 22, 22, 22, 22, 22, 22, 22, 22, 22, 22, 22, 22, 22, 22, 22, 22, 22, 22, 22, 22, 22, 22, 22, 22, 22, 22, 22, 21, 21, 21, 21, 21, 21, 21, 21, 21, 21, 21, 21, 21, 21, 21, 21, 21, 21, 21, 21, 21, 21, 21, 21, 21, 21, 21, 21, 21, 21, 21, 21, 21, 20, 20, 20, 20, 20, 20, 20, 20, 20, 20, 20, 20, 20, 20, 20, 20, 20, 20, 20, 20, 20, 20, 20, 20, 20, 19, 19, 19, 19, 19, 19, 19, 19, 19, 19, 19, 19, 19, 19, 19, 19, 19, 19, 19, 19, 19, 19, 19, 19, 19, 19, 19, 19, 19, 19, 19, 19, 19, 18, 18, 18, 18, 18, 18, 18, 18, 18, 18, 18, 18, 18, 18, 18, 18, 18, 18, 18, 18, 18, 18, 17, 17, 17, 17, 17, 17, 17, 17, 17, 17, 17, 17, 17, 17, 17, 17, 17, 17, 17, 17, 17, 17, 17, 17, 17, 17, 17, 17, 17, 17, 17, 17, 16, 16, 16, 16, 16, 16, 16, 16, 16, 16, 16, 16, 16, 16, 16, 16, 16, 16, 16, 16, 16, 16, 16, 16, 16, 16, 16, 16, 16, 16, 16, 16, 16, 16, 15, 15, 15, 15, 15, 15, 15, 15, 15, 15, 15, 15, 15, 15, 15, 15, 15, 15, 15, 15, 15, 15, 15, 15, 15, 15, 15, 15, 15, 15, 15, 15, 15, 15, 15, 15, 15, 15, 15, 15, 15, 15, 15, 15, 15, 15, 15, 15, 15, 15, 15, 15, 15, 14, 14, 14, 14, 14, 14, 14, 14, 14, 14, 14, 14, 14, 14, 14, 14, 14, 14, 14, 14, 14, 14, 14, 14, 14, 14, 14, 14, 14, 14, 14, 14, 14, 14, 14, 14, 14, 14, 14, 14, 14, 13, 13, 13, 13, 13, 13, 13, 13, 13, 13, 13, 13, 13, 13, 13, 13, 13, 13, 13, 13, 13, 13, 13, 13, 13, 13, 13, 13, 13, 13, 13, 13, 13, 13, 13, 13, 13, 13, 13, 13, 13, 13, 13, 13, 13, 13, 13, 13, 13, 13, 13, 13, 13, 13, 12, 12, 12, 12, 12, 12, 12, 12, 12, 12, 12, 12, 12, 12, 12, 12, 12, 12, 12, 12, 12, 12, 12, 12, 12, 12, 12, 12, 12, 12, 12, 12, 12, 12, 12, 12, 12, 12, 12, 12, 12, 12, 12, 12, 12, 12, 12, 12, 12, 11, 11, 11, 11, 11, 11, 11, 11, 11, 11, 11, 11, 11, 11, 11, 11, 11, 11, 11, 11, 11, 11, 11, 11, 11, 11, 11, 11, 11, 11, 11, 11, 11, 11, 11, 11, 11, 11, 11, 11, 11, 11, 11, 11, 11, 11, 11, 11, 11, 11, 11, 11, 11, 10, 10, 10, 10, 10, 10, 10, 10, 10, 10, 10, 10, 10, 10, 10, 10, 10, 10, 10, 10, 10, 10, 10, 10, 10, 10, 10, 10, 10, 10, 10, 10, 10, 10, 10, 10, 10, 10, 10, 10, 10, 10, 10, 10, 10, 10, 10, 10, 10, 10, 10, 10, 10, 10, 10, 10, 10, 10, 10, 10, 9, 9, 9, 9, 9, 9, 9, 9, 9, 9, 9, 9, 9, 9, 9, 9, 9, 9, 9, 9, 9, 9, 9, 9, 9, 9, 9, 9, 9, 9, 9, 9, 9, 9, 9, 9, 9, 9, 9, 9, 9, 9, 9, 9, 9, 9, 9, 9, 9, 9, 9, 9, 9, 9, 9, 9, 9, 9, 9, 9, 9, 9, 9, 9, 9, 9, 9, 9, 9, 9, 9, 9, 9, 9, 9, 9, 8, 8, 8, 8, 8, 8, 8, 8, 8, 8, 8, 8, 8, 8, 8, 8, 8, 8, 8, 8, 8, 8, 8, 8, 8, 8, 8, 8, 8, 8, 8, 8, 8, 8, 8, 8, 8, 8, 8, 8, 8, 8, 8, 8, 8, 8, 8, 8, 8, 8, 8, 8, 8, 8, 8, 8, 8, 8, 8, 8, 8, 8, 8, 8, 8, 8, 8, 8, 8, 8, 8, 8, 8, 8, 8, 8, 8, 8, 8, 8, 8, 8, 8, 8, 8, 8, 8, 8, 8, 8, 8, 8, 8, 7, 7, 7, 7, 7, 7, 7, 7, 7, 7, 7, 7, 7, 7, 7, 7, 7, 7, 7, 7, 7, 7, 7, 7, 7, 7, 7, 7, 7, 7, 7, 7, 7, 7, 7, 7, 7, 7, 7, 7, 7, 7, 7, 7, 7, 7, 7, 7, 7, 7, 7, 7, 7, 7, 7, 7, 7, 7, 7, 7, 7, 7, 7, 7, 7, 7, 7, 7, 7, 7, 7, 7, 7, 7, 7, 7, 7, 7, 7, 7, 7, 7, 7, 7, 6, 6, 6, 6, 6, 6, 6, 6, 6, 6, 6, 6, 6, 6, 6, 6, 6, 6, 6, 6, 6, 6, 6, 6, 6, 6, 6, 6, 6, 6, 6, 6, 6, 6, 6, 6, 6, 6, 6, 6, 6, 6, 6, 6, 6, 6, 6, 6, 6, 6, 6, 6, 6, 6, 6, 6, 6, 6, 6, 6, 6, 6, 6, 6, 6, 6, 6, 6, 6, 6, 6, 6, 6, 6, 6, 6, 5, 5, 5, 5, 5, 5, 5, 5, 5, 5, 5, 5, 5, 5, 5, 5, 5, 5, 5, 5, 5, 5, 5, 5, 5, 5, 5, 5, 5, 5, 5, 5, 5, 5, 5, 5, 5, 5, 5, 5, 5, 5, 5, 5, 5, 5, 5, 5, 5, 5, 5, 5, 5, 5, 5, 5, 5, 5, 5, 5, 5, 5, 5, 5, 5, 5, 5, 5, 5, 5, 5, 5, 5, 5, 5, 5, 5, 5, 5, 5, 5, 5, 5, 5, 5, 5, 5, 5, 5, 5, 5, 5, 5, 5, 5, 5, 5, 5, 5, 5, 5, 5, 5, 5, 5, 5, 5, 5, 5, 5, 5, 5, 5, 5, 5, 5, 5, 5, 5, 5, 5, 5, 5, 5, 5, 5, 5, 5, 5, 5, 5, 5, 5, 5, 5, 5, 5, 5, 5, 5, 5, 5, 5, 5, 5, 5, 5, 5, 5, 5, 5, 5, 5, 5, 5, 5, 5, 5, 5, 5, 5, 5, 5, 5, 5, 5, 5, 5, 5, 5, 5, 5, 5, 5, 5, 5, 5, 5, 5, 5, 5, 5, 5, 5, 5, 5, 5, 5, 5, 5, 5, 5, 5, 5, 5, 5, 5, 5, 5, 5, 5, 5, 5, 5, 5, 5, 5, 5, 5, 5, 5, 5, 5, 5, 5, 4, 4, 4, 4, 4, 4, 4, 4, 4, 4, 4, 4, 4, 4, 4, 4, 4, 4, 4, 4, 4, 4, 4, 4, 4, 4, 4, 4, 4, 4, 4, 4, 4, 4, 4, 4, 4, 4, 4, 4, 4, 4, 4, 4, 4, 4, 4, 4, 4, 4, 4, 4, 4, 4, 4, 4, 4, 4, 4, 4, 4, 4, 4, 4, 4, 4, 4, 4, 4, 4, 4, 4, 4, 4, 4, 4, 4, 4, 4, 4, 4, 4, 4, 4, 4, 4, 4, 4, 4, 4, 4, 4, 4, 4, 4, 4, 4, 4, 4, 4, 4, 4, 4, 4, 4, 4, 4, 4, 4, 4, 4, 4, 4, 4, 4, 4, 4, 4, 4, 4, 4, 4, 4, 4, 4, 4, 4, 4, 4, 4, 4, 4, 4, 4, 4, 4, 4, 4, 4, 4, 4, 4, 4, 4, 4, 4, 4, 4, 4, 4, 4, 4, 4, 4, 4, 4, 4, 4, 4, 3, 3, 3, 3, 3, 3, 3, 3, 3, 3, 3, 3, 3, 3, 3, 3, 3, 3, 2, 2, 2, 2, 2, 2, 2, 2, 2, 2, 2, 2, 2, 2, 2, 2, 2, 2, 2, 2, 2, 2, 2, 2, 2, 2, 2, 2, 2, 2, 2, 2, 2, 2, 2, 2, 2, 2, 2, 2, 2, 2, 2, 2, 2, 2, 2, 2, 2, 2, 2, 2, 2, 2, 2, 2, 2, 2, 2, 2, 2, 2, 2, 2, 2, 2, 2, 2, 2, 2, 2, 2, 2, 2, 2, 2, 2, 2, 2, 2, 2, 2, 2, 2, 2, 2, 2, 2, 2, 2, 2, 2, 2, 2, 2, 2, 2, 2, 2, 2, 2, 2, 2, 2, 2, 2, 2, 2, 2, 2, 2, 2, 2, 2, 2, 2, 2, 2, 2, 2, 2, 2, 2, 2, 2, 2, 2, 2, 2, 2, 2, 2, 2, 2, 2, 2, 2, 2, 2, 2, 2, 2, 2, 2, 2, 2, 2, 2, 2, 2, 2, 2, 2, 2, 2, 2, 2, 2, 2, 2, 2, 2, 2, 2, 2, 2, 2, 2, 2, 2, 2, 2, 2, 2, 2, 2, 2, 2, 2, 2, 2, 2, 2, 2, 2, 2, 2, 2, 2, 2, 2, 2, 2, 2, 2, 2, 2, 2, 2, 2, 2, 2, 2, 2, 2, 2, 2, 2, 2, 2, 2, 2, 2, 2, 2, 2, 2, 2, 2, 2, 2, 2, 2, 2, 2, 2, 2, 2, 2, 2, 2, 2, 2, 2, 2, 2, 2, 2, 2, 2, 2, 2, 2, 2, 2, 2, 2, 2, 2, 2, 2, 2, 2, 2, 2, 2, 2, 2, 2, 2, 2, 2, 2, 2, 2, 2, 2, 2, 2, 2, 2, 2, 2, 2, 2, 2, 2, 2, 2, 2, 2, 2, 2, 2, 2, 2, 2, 2, 2, 2, 2, 2, 2, 2, 2, 2, 2, 2, 2, 2, 2, 2, 2, 2, 2, 2, 2, 2, 2, 2, 2, 2, 2, 2, 2, 2, 2, 2, 2, 2, 2, 2, 2, 2, 2, 2, 2, 2, 2, 2, 2, 2, 2, 2, 2, 2, 2, 2, 2, 2, 2, 2, 2, 2, 2, 2, 2, 2, 2, 2, 2, 2, 2, 2, 2, 2, 2, 2, 2, 2, 2, 2, 2, 2, 2, 2, 2, 2, 2, 2, 1, 1, 1, 1, 1, 1, 1, 1, 1, 1, 1, 1, 1, 1, 1, 1, 1, 1, 1, 1, 1, 1, 1, 1, 1, 1, 1, 1, 1, 1, 1, 1, 1, 1, 1, 1, 1, 1, 1, 1, 1, 1, 1, 1, 1, 1, 1, 1, 1, 1, 1, 1, 1, 1, 1, 1, 1, 1, 1, 1, 1, 1, 1, 1, 1, 1, 1, 1, 1, 1, 1, 1, 1, 1, 1, 1, 1, 1, 1, 1, 1, 1, 1, 1, 1, 1, 1, 1, 1, 1, 1, 1, 1, 1, 1, 1, 1, 1, 1, 1, 1, 1, 1, 1, 1, 1, 1, 1, 1, 1, 1, 1, 1, 1, 1, 1, 1, 1, 1, 1, 1, 1, 1, 1, 1, 1, 1, 1, 1, 1, 1, 1, 1, 1, 1, 1, 1, 1, 1, 1, 1, 1, 1, 1, 1, 1, 1, 1, 1, 1, 1, 1, 1, 1, 1, 1, 1, 1, 1, 1, 1, 1, 1, 1, 1, 1, 1, 1, 1, 1, 1, 1, 1, 1, 1, 1, 1, 1, 1, 1, 1, 1, 1, 1, 1, 1, 1, 1, 1, 1, 1, 1, 1, 1, 1, 1, 1, 1, 1, 1, 1, 1, 1, 1, 1, 1, 1, 1, 1, 1, 1, 1, 1, 1, 1, 1, 1, 1, 1, 1, 1, 1, 1, 1, 1, 1, 1, 1, 1, 1, 1, 1, 1, 1, 1, 1, 1, 1, 1, 1, 1, 1, 1, 1, 1, 1, 1, 1, 1, 1, 1, 1, 1, 1, 1, 1, 1, 1, 1, 1, 1, 1, 1, 1, 1, 1, 1, 1, 1, 1, 1, 1, 1, 1, 1, 1, 1, 1, 1, 1, 1, 1, 1, 1, 1, 1, 1, 1, 1, 1, 1, 1, 1, 1, 1, 1, 1, 1, 1, 1, 1, 1, 1, 1, 1, 1, 1, 1, 1, 1, 1, 1, 1, 1, 1, 1, 1, 1, 1, 1, 1, 1, 1, 1, 1, 1, 1, 1, 1, 1, 1, 1, 1, 1, 1, 1, 1, 1, 1, 1, 1, 1, 1, 1, 1, 1, 1, 1, 1, 1, 1, 1, 1, 1, 1, 1, 1, 1, 1, 1, 1, 1, 1, 1, 1, 1, 1, 1, 1, 1, 1, 1, 1, 1, 1, 1, 1, 1, 1, 1, 1, 1, 1, 1, 1, 1, 1, 1, 1, 1, 1, 1, 1, 1, 1, 1, 1, 1, 1, 1, 1, 1, 1, 1, 1, 1, 1, 1, 1, 1, 1, 1, 1, 1, 1, 1, 1, 1, 1, 1, 1, 1, 1, 1, 1, 1, 1, 1, 1, 1, 1, 1, 1, 1, 1, 1, 1, 1, 1, 1, 1, 1, 1, 1, 1, 1, 1, 1, 1, 1, 1, 1, 1, 1, 1, 1, 1, 1, 1, 1, 1, 1, 1, 1, 1, 1, 1, 1, 1, 1, 1, 1, 1, 1, 1, 1, 1, 1, 1, 1, 1, 1, 1, 1, 1, 1, 1, 1, 1, 1, 1, 1, 1, 1, 1, 1, 1, 1, 1, 1, 1, 1, 1, 1, 1, 1, 1, 1, 1, 1, 1, 1, 1, 1, 1, 1, 1, 1, 1, 1, 1, 1, 1, 1, 1, 1, 1, 1, 1, 1, 1, 1, 1, 1, 1, 1, 1, 1, 1, 1, 1, 1, 1, 1, 1, 1, 1, 1, 1, 1, 1, 1, 1, 1, 1, 1, 1, 1, 1, 1, 1, 1, 1, 1, 1, 1, 1, 1, 1, 1, 1, 1, 1, 1, 1, 1, 1, 1, 1, 1, 1, 1, 1, 1, 1, 1, 1, 1, 1, 1, 1, 1, 1, 1, 1, 1, 1, 1, 1, 1, 1, 1, 1, 1, 1, 1, 1, 1, 1, 1, 1, 1, 1, 1, 1, 1, 1, 1, 1, 1, 1, 1, 1, 1, 1, 1, 1, 1, 1, 1, 1, 1, 1, 1, 1, 1, 1, 1, 1, 1, 1, 1, 1, 1, 1, 1, 1, 1, 1, 1, 1, 1, 1, 1, 1, 1, 1, 1, 1, 1, 1, 1, 1, 1, 1, 1, 1, 1, 1, 1, 1, 1, 1, 1, 1, 1, 1, 1, 1, 1, 1, 1, 1, 1, 1, 1, 1, 1, 1, 1, 1, 1, 1, 1, 1, 1, 1, 1, 1, 1, 1, 1, 1, 1, 1, 1, 1, 1, 1, 1, 1, 1, 1, 1, 1, 1, 1, 1, 1, 1, 1, 1, 1, 1, 1, 1, 1, 1, 1, 1, 1, 1, 1, 1, 1, 1, 1, 1, 1, 1, 1, 1, 1, 1, 1, 1, 1, 1, 1, 1, 1, 1, 1, 1, 1, 1, 1, 1, 1, 1, 1, 1, 1, 1, 1, 1, 1, 1, 1, 1, 1, 1, 1, 1, 1, 1, 1, 1, 1, 1, 1, 1, 1, 1, 1, 1, 1, 1, 1, 1, 1, 1, 1, 1, 1, 1, 1, 1, 1, 1, 1, 1, 1, 1, 1, 1, 1, 1, 1, 1, 1, 1, 1, 1, 1, 1, 1, 1, 1, 1, 1, 1, 1, 1, 1, 1, 1, 1, 1, 1, 1, 1, 1, 1, 1, 1, 1, 1, 1, 1, 1, 1, 1, 1, 1, 1, 1, 1, 1, 1, 1, 1, 1, 1, 1, 1, 1, 1, 1, 1, 1, 1, 1, 1, 1, 1, 1, 1, 1, 1, 1, 1, 1, 1, 1, 1, 1, 1, 1, 1, 1, 1, 1, 1, 1, 1, 1, 1, 1, 1, 1, 1, 1, 1, 1, 1, 1, 1, 1, 1, 1, 1, 1, 1, 1, 1, 1, 1, 1, 1, 1, 1, 1, 1, 1, 1, 1, 1, 1, 1, 1, 1, 1, 1, 1, 1, 1, 1, 1, 1, 1, 1, 1, 1, 1, 1, 1, 1, 1, 1, 1, 1, 1, 1, 1, 1, 1, 1, 1, 1, 1, 1, 1, 1, 1, 1, 1, 1, 1, 1, 1, 1, 1, 1, 1, 1, 1, 1, 1, 1, 1, 1, 1, 1, 1, 1, 1, 1, 1, 1, 1, 1, 1, 1, 1, 1, 1, 1, 1, 1, 1, 1, 1, 1, 1, 1, 1, 1, 1, 1, 1, 1, 1, 1, 1, 1, 1, 1, 1, 1, 1, 1, 1, 1, 1, 1, 1, 1, 1, 1, 1, 1, 1, 1, 1, 1, 1, 1, 1, 1, 1, 1, 1, 1, 1, 1, 1, 1, 1, 1, 1, 1, 1, 1, 1, 1, 1, 1, 1, 1, 1, 1, 1, 1, 1, 1, 1, 1, 1, 1, 1, 1, 1, 1, 1, 1, 1, 1, 1, 1, 1, 1, 1, 1, 1, 1, 1, 1, 1, 1, 1, 1, 1, 1, 1, 1, 1, 1, 1, 1, 1, 1, 1, 1, 1, 1, 1, 1, 1, 1, 1, 1, 1, 1, 1, 1, 1, 1, 1, 1, 1, 1, 1, 1, 1, 1, 1, 1, 1, 1, 1, 1, 1, 1, 1, 1, 1, 1, 1, 1, 1, 1, 1, 1, 1, 1, 1, 1, 1, 1, 1, 1, 1, 1, 1, 1, 1, 1, 1, 1, 1, 1, 1, 1, 1, 1, 1, 1, 1, 1, 1, 1, 1, 1, 1, 1, 1, 1, 1, 1, 1, 1, 1, 1, 1, 1, 1, 1, 1, 1, 1, 1, 1, 1, 1, 1, 1, 1, 1, 1, 1, 1, 1, 1, 1, 1, 1, 1, 1, 1, 1, 1, 1, 1, 1, 1, 1, 1, 1, 1, 1, 1, 1, 1, 1, 1, 1, 1, 1, 1, 1, 1, 1, 1, 1, 1, 1, 1, 1, 1, 1, 1, 1, 1, 1, 1, 1, 1, 1, 1, 1, 1, 1, 1, 1, 1, 1, 1, 1, 1, 1, 1, 1, 1, 1, 1, 1, 1, 1, 1, 1, 1, 1, 1, 1, 1, 1, 1, 1, 1, 1, 1, 1, 1, 1, 1, 1, 1, 1, 1, 1, 1, 1, 1, 1, 1, 1, 1, 1, 1, 1, 1, 1, 1, 1, 1, 1, 1, 1, 1, 1, 1, 1, 1, 1, 1, 1, 1, 1, 1, 1, 1, 1, 1, 1, 1, 1, 1, 1, 1, 1, 1, 1, 1, 1, 1, 1, 1, 1, 1, 1, 1, 1, 1, 1, 1, 1, 1, 1, 1, 1, 1, 1, 1, 1, 1, 1, 1, 1, 1, 1, 1, 1, 1, 1, 1, 1, 1, 1, 1, 1, 1, 1, 1, 1, 1, 1, 1, 1, 1, 1, 1, 1, 1, 1, 1, 1, 1, 1, 1, 1, 1, 1, 1, 1, 1, 1, 1, 1, 1, 1, 1, 1, 1, 1, 1, 1, 1, 1, 1, 1, 1, 1, 1, 1, 1, 1, 1, 1, 1, 1, 1, 1, 1, 1, 1, 1, 1, 1, 1, 1, 1, 1, 1, 1, 1, 1, 1, 1, 1, 1, 1, 1, 1, 1, 1, 1, 1, 1, 1, 1, 1, 1, 1, 1, 1, 1, 1, 1, 1, 1, 1, 1, 1, 1, 1, 1, 1, 1, 1, 1, 1, 1, 1, 1, 1, 1, 1, 1, 1, 1, 1, 1, 1, 1, 1, 1, 1, 1, 1, 1, 1, 1, 1, 1, 1, 1, 1, 1, 1, 1, 1, 1, 1, 1, 1, 1, 1, 1, 1, 1, 1, 1, 1, 1, 1, 1, 1, 1, 1, 1, 1, 1, 1, 1, 1, 1, 1, 1, 1, 1, 1, 1, 1, 1, 1, 1, 1, 1, 1, 1, 1, 1, 1, 1, 1, 1, 1, 1, 1, 1, 1, 1, 1, 1, 1, 1, 1, 1, 1, 1, 1, 1, 1, 1, 1, 1, 1, 1, 1, 1, 1, 1, 1, 1, 1, 1, 1, 1, 1, 1, 1, 1, 1, 1, 1, 1, 1, 1, 1, 1, 1, 1, 1, 1, 1, 1, 1, 1, 1, 1, 1, 1, 1, 1, 1, 1, 1, 1, 1, 1, 1, 1, 1, 1, 1, 1, 1, 1, 1, 1, 1, 1, 1, 1, 1, 1, 1, 1, 1, 1, 1, 1, 1, 1, 1, 1, 1, 1, 1, 1, 1, 1, 1, 1, 1, 1, 1, 1, 1, 1, 1, 1, 1, 1, 1, 1, 1, 1, 1, 1, 1, 1, 1, 1, 1, 1, 1, 1, 1, 1, 1, 1, 1, 1, 1, 1, 1, 1, 1, 1, 1, 1, 1, 1, 1, 1, 1, 1, 1, 1, 1, 1, 1, 1, 1, 1, 1, 1, 1, 1, 1, 1, 1, 1, 1, 1, 1, 1, 1, 1, 1, 1, 1, 1, 1, 1, 1, 1, 1, 1, 1, 1, 1, 1, 1, 1, 1, 1, 1, 1, 1, 1, 1, 1, 1, 1, 1, 1, 1, 1, 1, 1, 1, 1, 1, 1, 1, 1, 1, 1, 1, 1, 1, 1, 1, 1, 1, 1, 1, 1, 1, 1, 1, 1, 1, 1, 1, 1, 1, 1, 1, 1, 1, 1, 1, 1, 1, 1]\n"
     ]
    }
   ],
   "source": [
    "j = 0\n",
    "nodes = []\n",
    "for i in HG.connected_components():\n",
    "    nodes.append(len(i))\n",
    "    j += 1\n",
    "print(j)\n",
    "print(nodes)"
   ]
  },
  {
   "cell_type": "code",
   "execution_count": 45,
   "id": "61514d64",
   "metadata": {},
   "outputs": [
    {
     "data": {
      "text/plain": [
       "count    3907.000000\n",
       "mean       10.821602\n",
       "std        21.321225\n",
       "min         1.000000\n",
       "25%         1.000000\n",
       "50%         2.000000\n",
       "75%        11.000000\n",
       "85%        21.000000\n",
       "95%        50.000000\n",
       "99%       108.000000\n",
       "max       283.000000\n",
       "dtype: float64"
      ]
     },
     "execution_count": 45,
     "metadata": {},
     "output_type": "execute_result"
    }
   ],
   "source": [
    "nodes\n",
    "smaller_subgraphs = pd.Series(nodes[1:])\n",
    "smaller_subgraphs.describe(percentiles = perc)"
   ]
  },
  {
   "cell_type": "code",
   "execution_count": 53,
   "id": "5062f962",
   "metadata": {},
   "outputs": [
    {
     "data": {
      "text/plain": [
       "array(['70034001       ', '20324001       ', '90032501       ', ...,\n",
       "       '011102101059310', '010602100827002', '010102100896098'],\n",
       "      dtype=object)"
      ]
     },
     "execution_count": 53,
     "metadata": {},
     "output_type": "execute_result"
    }
   ],
   "source": [
    "j = 0\n",
    "nodes = []\n",
    "for i in HG.connected_components():\n",
    "    if j ==0:\n",
    "        nodes = i\n",
    "    else:\n",
    "        break\n",
    "    j += 1"
   ]
  },
  {
   "cell_type": "code",
   "execution_count": 39,
   "id": "ff269ec8",
   "metadata": {
    "scrolled": true
   },
   "outputs": [],
   "source": [
    "degrees_fullNetwork = HG.node_degrees()"
   ]
  },
  {
   "cell_type": "code",
   "execution_count": 40,
   "id": "3d00b1c8",
   "metadata": {
    "scrolled": true
   },
   "outputs": [
    {
     "data": {
      "text/plain": [
       "collections.defaultdict"
      ]
     },
     "execution_count": 40,
     "metadata": {},
     "output_type": "execute_result"
    }
   ],
   "source": [
    "type(degrees_fullNetwork)"
   ]
  },
  {
   "cell_type": "code",
   "execution_count": 41,
   "id": "7ab43690",
   "metadata": {},
   "outputs": [],
   "source": [
    "degrees = list(degrees_fullNetwork.values())"
   ]
  },
  {
   "cell_type": "code",
   "execution_count": 42,
   "id": "117fbe55",
   "metadata": {},
   "outputs": [
    {
     "data": {
      "text/plain": [
       "0"
      ]
     },
     "execution_count": 42,
     "metadata": {},
     "output_type": "execute_result"
    }
   ],
   "source": [
    "np.min(degrees)"
   ]
  },
  {
   "cell_type": "code",
   "execution_count": 43,
   "id": "91e56a99",
   "metadata": {
    "scrolled": true
   },
   "outputs": [
    {
     "data": {
      "text/plain": [
       "(array([  1769., 384206., 502763.,  67890.,  23994.,  11191.,   5563.,\n",
       "          2709.,   1369.,    729.]),\n",
       " array([0. , 0.9, 1.8, 2.7, 3.6, 4.5, 5.4, 6.3, 7.2, 8.1, 9. ]),\n",
       " <BarContainer object of 10 artists>)"
      ]
     },
     "execution_count": 43,
     "metadata": {},
     "output_type": "execute_result"
    },
    {
     "data": {
      "image/png": "[encoded data removed]",
      "text/plain": [
       "<Figure size 432x288 with 1 Axes>"
      ]
     },
     "metadata": {
      "needs_background": "light"
     },
     "output_type": "display_data"
    }
   ],
   "source": [
    "degrees = np.array(degrees)\n",
    "plt.hist(degrees[degrees < 10])"
   ]
  },
  {
   "cell_type": "code",
   "execution_count": 44,
   "id": "8f5fb4b0",
   "metadata": {
    "scrolled": true
   },
   "outputs": [
    {
     "data": {
      "text/plain": [
       "GraphSchema:\n",
       "node type: policy\n",
       "   policy -- default -> broker\n",
       "   policy -- default -> car\n",
       "node type: car\n",
       "   car -- default -> claim\n",
       "   car -- default -> policy\n",
       "node type: broker\n",
       "   broker -- default -> policy\n",
       "node type: claim\n",
       "   claim -- default -> car"
      ]
     },
     "execution_count": 44,
     "metadata": {},
     "output_type": "execute_result"
    }
   ],
   "source": [
    "HG.create_graph_schema()"
   ]
  },
  {
   "cell_type": "markdown",
   "id": "558fd11e",
   "metadata": {},
   "source": [
    "# First Fraud Test"
   ]
  },
  {
   "cell_type": "code",
   "execution_count": 45,
   "id": "d3cf299c",
   "metadata": {},
   "outputs": [],
   "source": [
    "claim_nodes = []\n",
    "party_nodes = []"
   ]
  },
  {
   "cell_type": "code",
   "execution_count": 46,
   "id": "0dfcec3c",
   "metadata": {},
   "outputs": [
    {
     "data": {
      "text/html": [
       "<div>\n",
       "<style scoped>\n",
       "    .dataframe tbody tr th:only-of-type {\n",
       "        vertical-align: middle;\n",
       "    }\n",
       "\n",
       "    .dataframe tbody tr th {\n",
       "        vertical-align: top;\n",
       "    }\n",
       "\n",
       "    .dataframe thead th {\n",
       "        text-align: right;\n",
       "    }\n",
       "</style>\n",
       "<table border=\"1\" class=\"dataframe\">\n",
       "  <thead>\n",
       "    <tr style=\"text-align: right;\">\n",
       "      <th></th>\n",
       "    </tr>\n",
       "    <tr>\n",
       "      <th>ID</th>\n",
       "    </tr>\n",
       "  </thead>\n",
       "  <tbody>\n",
       "    <tr>\n",
       "      <th>21</th>\n",
       "    </tr>\n",
       "    <tr>\n",
       "      <th>22</th>\n",
       "    </tr>\n",
       "    <tr>\n",
       "      <th>23</th>\n",
       "    </tr>\n",
       "    <tr>\n",
       "      <th>24</th>\n",
       "    </tr>\n",
       "    <tr>\n",
       "      <th>25</th>\n",
       "    </tr>\n",
       "    <tr>\n",
       "      <th>26</th>\n",
       "    </tr>\n",
       "    <tr>\n",
       "      <th>27</th>\n",
       "    </tr>\n",
       "    <tr>\n",
       "      <th>28</th>\n",
       "    </tr>\n",
       "  </tbody>\n",
       "</table>\n",
       "</div>"
      ],
      "text/plain": [
       "Empty DataFrame\n",
       "Columns: []\n",
       "Index: [21, 22, 23, 24, 25, 26, 27, 28]"
      ]
     },
     "execution_count": 46,
     "metadata": {},
     "output_type": "execute_result"
    }
   ],
   "source": [
    "for i in np.arange(1,9):\n",
    "    claim_nodes.append(\"2\" + str(i))\n",
    "claim_nodes = pd.DataFrame({\"ID\": claim_nodes}).set_index(\"ID\")\n",
    "claim_nodes"
   ]
  },
  {
   "cell_type": "code",
   "execution_count": 47,
   "id": "e9f1cd77",
   "metadata": {},
   "outputs": [
    {
     "data": {
      "text/html": [
       "<div>\n",
       "<style scoped>\n",
       "    .dataframe tbody tr th:only-of-type {\n",
       "        vertical-align: middle;\n",
       "    }\n",
       "\n",
       "    .dataframe tbody tr th {\n",
       "        vertical-align: top;\n",
       "    }\n",
       "\n",
       "    .dataframe thead th {\n",
       "        text-align: right;\n",
       "    }\n",
       "</style>\n",
       "<table border=\"1\" class=\"dataframe\">\n",
       "  <thead>\n",
       "    <tr style=\"text-align: right;\">\n",
       "      <th></th>\n",
       "    </tr>\n",
       "    <tr>\n",
       "      <th>ID</th>\n",
       "    </tr>\n",
       "  </thead>\n",
       "  <tbody>\n",
       "    <tr>\n",
       "      <th>11</th>\n",
       "    </tr>\n",
       "    <tr>\n",
       "      <th>12</th>\n",
       "    </tr>\n",
       "    <tr>\n",
       "      <th>13</th>\n",
       "    </tr>\n",
       "    <tr>\n",
       "      <th>14</th>\n",
       "    </tr>\n",
       "    <tr>\n",
       "      <th>15</th>\n",
       "    </tr>\n",
       "    <tr>\n",
       "      <th>16</th>\n",
       "    </tr>\n",
       "    <tr>\n",
       "      <th>17</th>\n",
       "    </tr>\n",
       "    <tr>\n",
       "      <th>18</th>\n",
       "    </tr>\n",
       "    <tr>\n",
       "      <th>19</th>\n",
       "    </tr>\n",
       "    <tr>\n",
       "      <th>110</th>\n",
       "    </tr>\n",
       "  </tbody>\n",
       "</table>\n",
       "</div>"
      ],
      "text/plain": [
       "Empty DataFrame\n",
       "Columns: []\n",
       "Index: [11, 12, 13, 14, 15, 16, 17, 18, 19, 110]"
      ]
     },
     "execution_count": 47,
     "metadata": {},
     "output_type": "execute_result"
    }
   ],
   "source": [
    "for i in np.arange(1,11):\n",
    "    party_nodes.append(\"1\" + str(i))\n",
    "party_nodes = pd.DataFrame({\"ID\": party_nodes}).set_index(\"ID\")\n",
    "party_nodes"
   ]
  },
  {
   "cell_type": "code",
   "execution_count": 48,
   "id": "dc84b2ef",
   "metadata": {},
   "outputs": [],
   "source": [
    "edge_nodes = pd.DataFrame(\n",
    "    {\"source\": ['12', '13', '13', '12', '13', '13', '11', '14', '11', '14',\n",
    "                '15', '16', '17', '18', '19', '110', '15', '16', '18', '16', '15'],\n",
    "     \"target\": ['23', '23', '24', '21', '21', '25', '21', '25', '22', '22',\n",
    "              '24', '24', '26', '27', '26', '28', '28', '27', '26', '23', '27']}\n",
    ")"
   ]
  },
  {
   "cell_type": "code",
   "execution_count": 49,
   "id": "35f86d73",
   "metadata": {},
   "outputs": [],
   "source": [
    "Network_Antonio = StellarGraph({\"claim\" : claim_nodes, \"party\" : party_nodes}, edge_nodes)"
   ]
  },
  {
   "cell_type": "code",
   "execution_count": 50,
   "id": "b90e4cfd",
   "metadata": {},
   "outputs": [],
   "source": [
    "G = Network_Antonio.to_networkx()"
   ]
  },
  {
   "cell_type": "code",
   "execution_count": 51,
   "id": "60b25022",
   "metadata": {
    "scrolled": false
   },
   "outputs": [
    {
     "data": {
      "image/png": "[encoded data removed]",
      "text/plain": [
       "<Figure size 432x288 with 1 Axes>"
      ]
     },
     "metadata": {},
     "output_type": "display_data"
    }
   ],
   "source": [
    "pos = nx.spring_layout(G, seed=314)\n",
    "\n",
    "options = {\"edgecolors\": \"tab:gray\", \"node_size\": 150}\n",
    "\n",
    "# nodes\n",
    "nx.draw_networkx_nodes(G, pos, nodelist=[x for x in party_nodes.index], node_color=\"tab:red\", **options)\n",
    "nx.draw_networkx_nodes(G, pos, nodelist=[x for x in claim_nodes.index], node_color=\"tab:blue\", **options)\n",
    "\n",
    "# edges\n",
    "nx.draw_networkx_edges(G, pos, width=1.0, alpha=0.5)\n",
    "plt.savefig(\"Antonio.pdf\")"
   ]
  },
  {
   "cell_type": "code",
   "execution_count": 52,
   "id": "e411a01f",
   "metadata": {
    "scrolled": false
   },
   "outputs": [
    {
     "data": {
      "text/html": [
       "<div>\n",
       "<style scoped>\n",
       "    .dataframe tbody tr th:only-of-type {\n",
       "        vertical-align: middle;\n",
       "    }\n",
       "\n",
       "    .dataframe tbody tr th {\n",
       "        vertical-align: top;\n",
       "    }\n",
       "\n",
       "    .dataframe thead th {\n",
       "        text-align: right;\n",
       "    }\n",
       "</style>\n",
       "<table border=\"1\" class=\"dataframe\">\n",
       "  <thead>\n",
       "    <tr style=\"text-align: right;\">\n",
       "      <th></th>\n",
       "      <th>FraudInd</th>\n",
       "    </tr>\n",
       "  </thead>\n",
       "  <tbody>\n",
       "    <tr>\n",
       "      <th>0</th>\n",
       "      <td>False</td>\n",
       "    </tr>\n",
       "    <tr>\n",
       "      <th>1</th>\n",
       "      <td>False</td>\n",
       "    </tr>\n",
       "    <tr>\n",
       "      <th>2</th>\n",
       "      <td>False</td>\n",
       "    </tr>\n",
       "    <tr>\n",
       "      <th>3</th>\n",
       "      <td>True</td>\n",
       "    </tr>\n",
       "    <tr>\n",
       "      <th>4</th>\n",
       "      <td>False</td>\n",
       "    </tr>\n",
       "    <tr>\n",
       "      <th>5</th>\n",
       "      <td>True</td>\n",
       "    </tr>\n",
       "    <tr>\n",
       "      <th>6</th>\n",
       "      <td>True</td>\n",
       "    </tr>\n",
       "    <tr>\n",
       "      <th>7</th>\n",
       "      <td>False</td>\n",
       "    </tr>\n",
       "  </tbody>\n",
       "</table>\n",
       "</div>"
      ],
      "text/plain": [
       "   FraudInd\n",
       "0     False\n",
       "1     False\n",
       "2     False\n",
       "3      True\n",
       "4     False\n",
       "5      True\n",
       "6      True\n",
       "7     False"
      ]
     },
     "execution_count": 52,
     "metadata": {},
     "output_type": "execute_result"
    }
   ],
   "source": [
    "fraud = {\"FraudInd\" : [False, False, False, True, False, True, True, False]}\n",
    "fraudMat = pd.DataFrame(fraud); fraudMat"
   ]
  },
  {
   "cell_type": "code",
   "execution_count": 53,
   "id": "e4c237ce",
   "metadata": {},
   "outputs": [],
   "source": [
    "from BiRank import BiRank"
   ]
  },
  {
   "cell_type": "code",
   "execution_count": 54,
   "id": "15283c2a",
   "metadata": {},
   "outputs": [],
   "source": [
    "HG = list(party_nodes.index)+list(claim_nodes.index)\n",
    "adj_mat_antonio = Network_Antonio.to_adjacency_matrix(HG)[:len(party_nodes.index), len(party_nodes.index):]"
   ]
  },
  {
   "cell_type": "code",
   "execution_count": 55,
   "id": "6253d3d4",
   "metadata": {
    "scrolled": true
   },
   "outputs": [
    {
     "name": "stdout",
     "output_type": "stream",
     "text": [
      "Convergence reached.\n"
     ]
    }
   ],
   "source": [
    "Claims_res, Parties_res, aMat, iterations, convergence = BiRank(adj_mat_antonio, claim_nodes, party_nodes, fraudMat)"
   ]
  },
  {
   "cell_type": "code",
   "execution_count": 56,
   "id": "6a8bbe8c",
   "metadata": {
    "scrolled": true
   },
   "outputs": [
    {
     "data": {
      "text/html": [
       "<div>\n",
       "<style scoped>\n",
       "    .dataframe tbody tr th:only-of-type {\n",
       "        vertical-align: middle;\n",
       "    }\n",
       "\n",
       "    .dataframe tbody tr th {\n",
       "        vertical-align: top;\n",
       "    }\n",
       "\n",
       "    .dataframe thead th {\n",
       "        text-align: right;\n",
       "    }\n",
       "</style>\n",
       "<table border=\"1\" class=\"dataframe\">\n",
       "  <thead>\n",
       "    <tr style=\"text-align: right;\">\n",
       "      <th></th>\n",
       "      <th>ID</th>\n",
       "      <th>Score</th>\n",
       "      <th>StdScore</th>\n",
       "      <th>ScaledScore</th>\n",
       "    </tr>\n",
       "  </thead>\n",
       "  <tbody>\n",
       "    <tr>\n",
       "      <th>5</th>\n",
       "      <td>5</td>\n",
       "      <td>0.275385</td>\n",
       "      <td>1.756054</td>\n",
       "      <td>1.000000</td>\n",
       "    </tr>\n",
       "    <tr>\n",
       "      <th>6</th>\n",
       "      <td>6</td>\n",
       "      <td>0.214027</td>\n",
       "      <td>1.016653</td>\n",
       "      <td>0.736495</td>\n",
       "    </tr>\n",
       "    <tr>\n",
       "      <th>3</th>\n",
       "      <td>3</td>\n",
       "      <td>0.174062</td>\n",
       "      <td>0.535042</td>\n",
       "      <td>0.564860</td>\n",
       "    </tr>\n",
       "    <tr>\n",
       "      <th>7</th>\n",
       "      <td>7</td>\n",
       "      <td>0.103593</td>\n",
       "      <td>-0.314157</td>\n",
       "      <td>0.262225</td>\n",
       "    </tr>\n",
       "    <tr>\n",
       "      <th>2</th>\n",
       "      <td>2</td>\n",
       "      <td>0.099588</td>\n",
       "      <td>-0.362428</td>\n",
       "      <td>0.245023</td>\n",
       "    </tr>\n",
       "    <tr>\n",
       "      <th>0</th>\n",
       "      <td>0</td>\n",
       "      <td>0.070962</td>\n",
       "      <td>-0.707386</td>\n",
       "      <td>0.122087</td>\n",
       "    </tr>\n",
       "    <tr>\n",
       "      <th>4</th>\n",
       "      <td>4</td>\n",
       "      <td>0.057151</td>\n",
       "      <td>-0.873813</td>\n",
       "      <td>0.062777</td>\n",
       "    </tr>\n",
       "    <tr>\n",
       "      <th>1</th>\n",
       "      <td>1</td>\n",
       "      <td>0.042534</td>\n",
       "      <td>-1.049966</td>\n",
       "      <td>0.000000</td>\n",
       "    </tr>\n",
       "  </tbody>\n",
       "</table>\n",
       "</div>"
      ],
      "text/plain": [
       "   ID     Score  StdScore  ScaledScore\n",
       "5   5  0.275385  1.756054     1.000000\n",
       "6   6  0.214027  1.016653     0.736495\n",
       "3   3  0.174062  0.535042     0.564860\n",
       "7   7  0.103593 -0.314157     0.262225\n",
       "2   2  0.099588 -0.362428     0.245023\n",
       "0   0  0.070962 -0.707386     0.122087\n",
       "4   4  0.057151 -0.873813     0.062777\n",
       "1   1  0.042534 -1.049966     0.000000"
      ]
     },
     "execution_count": 56,
     "metadata": {},
     "output_type": "execute_result"
    }
   ],
   "source": [
    "Claims_res"
   ]
  },
  {
   "cell_type": "code",
   "execution_count": 57,
   "id": "6b33990b",
   "metadata": {},
   "outputs": [
    {
     "data": {
      "text/html": [
       "<div>\n",
       "<style scoped>\n",
       "    .dataframe tbody tr th:only-of-type {\n",
       "        vertical-align: middle;\n",
       "    }\n",
       "\n",
       "    .dataframe tbody tr th {\n",
       "        vertical-align: top;\n",
       "    }\n",
       "\n",
       "    .dataframe thead th {\n",
       "        text-align: right;\n",
       "    }\n",
       "</style>\n",
       "<table border=\"1\" class=\"dataframe\">\n",
       "  <thead>\n",
       "    <tr style=\"text-align: right;\">\n",
       "      <th></th>\n",
       "      <th>ID</th>\n",
       "      <th>Score</th>\n",
       "      <th>StdScore</th>\n",
       "      <th>ScaledScore</th>\n",
       "    </tr>\n",
       "  </thead>\n",
       "  <tbody>\n",
       "    <tr>\n",
       "      <th>5</th>\n",
       "      <td>5</td>\n",
       "      <td>0.275385</td>\n",
       "      <td>1.756054</td>\n",
       "      <td>1.000000</td>\n",
       "    </tr>\n",
       "    <tr>\n",
       "      <th>6</th>\n",
       "      <td>6</td>\n",
       "      <td>0.214027</td>\n",
       "      <td>1.016653</td>\n",
       "      <td>0.736495</td>\n",
       "    </tr>\n",
       "    <tr>\n",
       "      <th>3</th>\n",
       "      <td>3</td>\n",
       "      <td>0.174062</td>\n",
       "      <td>0.535042</td>\n",
       "      <td>0.564860</td>\n",
       "    </tr>\n",
       "    <tr>\n",
       "      <th>7</th>\n",
       "      <td>7</td>\n",
       "      <td>0.103593</td>\n",
       "      <td>-0.314157</td>\n",
       "      <td>0.262225</td>\n",
       "    </tr>\n",
       "    <tr>\n",
       "      <th>2</th>\n",
       "      <td>2</td>\n",
       "      <td>0.099588</td>\n",
       "      <td>-0.362428</td>\n",
       "      <td>0.245023</td>\n",
       "    </tr>\n",
       "    <tr>\n",
       "      <th>0</th>\n",
       "      <td>0</td>\n",
       "      <td>0.070962</td>\n",
       "      <td>-0.707386</td>\n",
       "      <td>0.122087</td>\n",
       "    </tr>\n",
       "    <tr>\n",
       "      <th>4</th>\n",
       "      <td>4</td>\n",
       "      <td>0.057151</td>\n",
       "      <td>-0.873813</td>\n",
       "      <td>0.062777</td>\n",
       "    </tr>\n",
       "    <tr>\n",
       "      <th>1</th>\n",
       "      <td>1</td>\n",
       "      <td>0.042534</td>\n",
       "      <td>-1.049966</td>\n",
       "      <td>0.000000</td>\n",
       "    </tr>\n",
       "  </tbody>\n",
       "</table>\n",
       "</div>"
      ],
      "text/plain": [
       "   ID     Score  StdScore  ScaledScore\n",
       "5   5  0.275385  1.756054     1.000000\n",
       "6   6  0.214027  1.016653     0.736495\n",
       "3   3  0.174062  0.535042     0.564860\n",
       "7   7  0.103593 -0.314157     0.262225\n",
       "2   2  0.099588 -0.362428     0.245023\n",
       "0   0  0.070962 -0.707386     0.122087\n",
       "4   4  0.057151 -0.873813     0.062777\n",
       "1   1  0.042534 -1.049966     0.000000"
      ]
     },
     "execution_count": 57,
     "metadata": {},
     "output_type": "execute_result"
    }
   ],
   "source": [
    "Claims_res"
   ]
  },
  {
   "cell_type": "code",
   "execution_count": 58,
   "id": "f3f8ff4e",
   "metadata": {
    "scrolled": true
   },
   "outputs": [
    {
     "data": {
      "text/html": [
       "<div>\n",
       "<style scoped>\n",
       "    .dataframe tbody tr th:only-of-type {\n",
       "        vertical-align: middle;\n",
       "    }\n",
       "\n",
       "    .dataframe tbody tr th {\n",
       "        vertical-align: top;\n",
       "    }\n",
       "\n",
       "    .dataframe thead th {\n",
       "        text-align: right;\n",
       "    }\n",
       "</style>\n",
       "<table border=\"1\" class=\"dataframe\">\n",
       "  <thead>\n",
       "    <tr style=\"text-align: right;\">\n",
       "      <th></th>\n",
       "      <th>ID</th>\n",
       "      <th>Score</th>\n",
       "      <th>StdScore</th>\n",
       "      <th>ScaledScore</th>\n",
       "    </tr>\n",
       "  </thead>\n",
       "  <tbody>\n",
       "    <tr>\n",
       "      <th>7</th>\n",
       "      <td>7</td>\n",
       "      <td>0.199802</td>\n",
       "      <td>1.395043</td>\n",
       "      <td>1.000000</td>\n",
       "    </tr>\n",
       "    <tr>\n",
       "      <th>4</th>\n",
       "      <td>4</td>\n",
       "      <td>0.171655</td>\n",
       "      <td>0.893798</td>\n",
       "      <td>0.812303</td>\n",
       "    </tr>\n",
       "    <tr>\n",
       "      <th>5</th>\n",
       "      <td>5</td>\n",
       "      <td>0.162559</td>\n",
       "      <td>0.731816</td>\n",
       "      <td>0.751648</td>\n",
       "    </tr>\n",
       "    <tr>\n",
       "      <th>6</th>\n",
       "      <td>6</td>\n",
       "      <td>0.158993</td>\n",
       "      <td>0.668321</td>\n",
       "      <td>0.727871</td>\n",
       "    </tr>\n",
       "    <tr>\n",
       "      <th>8</th>\n",
       "      <td>8</td>\n",
       "      <td>0.158993</td>\n",
       "      <td>0.668321</td>\n",
       "      <td>0.727871</td>\n",
       "    </tr>\n",
       "    <tr>\n",
       "      <th>2</th>\n",
       "      <td>2</td>\n",
       "      <td>0.119687</td>\n",
       "      <td>-0.031659</td>\n",
       "      <td>0.465756</td>\n",
       "    </tr>\n",
       "    <tr>\n",
       "      <th>9</th>\n",
       "      <td>9</td>\n",
       "      <td>0.073251</td>\n",
       "      <td>-0.858593</td>\n",
       "      <td>0.156101</td>\n",
       "    </tr>\n",
       "    <tr>\n",
       "      <th>1</th>\n",
       "      <td>1</td>\n",
       "      <td>0.069627</td>\n",
       "      <td>-0.923145</td>\n",
       "      <td>0.131929</td>\n",
       "    </tr>\n",
       "    <tr>\n",
       "      <th>0</th>\n",
       "      <td>0</td>\n",
       "      <td>0.050237</td>\n",
       "      <td>-1.268439</td>\n",
       "      <td>0.002630</td>\n",
       "    </tr>\n",
       "    <tr>\n",
       "      <th>3</th>\n",
       "      <td>3</td>\n",
       "      <td>0.049843</td>\n",
       "      <td>-1.275462</td>\n",
       "      <td>0.000000</td>\n",
       "    </tr>\n",
       "  </tbody>\n",
       "</table>\n",
       "</div>"
      ],
      "text/plain": [
       "   ID     Score  StdScore  ScaledScore\n",
       "7   7  0.199802  1.395043     1.000000\n",
       "4   4  0.171655  0.893798     0.812303\n",
       "5   5  0.162559  0.731816     0.751648\n",
       "6   6  0.158993  0.668321     0.727871\n",
       "8   8  0.158993  0.668321     0.727871\n",
       "2   2  0.119687 -0.031659     0.465756\n",
       "9   9  0.073251 -0.858593     0.156101\n",
       "1   1  0.069627 -0.923145     0.131929\n",
       "0   0  0.050237 -1.268439     0.002630\n",
       "3   3  0.049843 -1.275462     0.000000"
      ]
     },
     "execution_count": 58,
     "metadata": {},
     "output_type": "execute_result"
    }
   ],
   "source": [
    "Parties_res"
   ]
  },
  {
   "cell_type": "code",
   "execution_count": 59,
   "id": "577a927d",
   "metadata": {},
   "outputs": [
    {
     "data": {
      "text/plain": [
       "193"
      ]
     },
     "execution_count": 59,
     "metadata": {},
     "output_type": "execute_result"
    }
   ],
   "source": [
    "iterations"
   ]
  },
  {
   "cell_type": "code",
   "execution_count": 60,
   "id": "105e9e4b",
   "metadata": {},
   "outputs": [],
   "source": [
    "from sklearn.preprocessing import normalize"
   ]
  },
  {
   "cell_type": "code",
   "execution_count": 61,
   "id": "9facc87e",
   "metadata": {},
   "outputs": [
    {
     "data": {
      "text/plain": [
       "array([[1., 1., 0., 0., 0., 0., 0., 0.],\n",
       "       [1., 0., 1., 0., 0., 0., 0., 0.],\n",
       "       [1., 0., 1., 1., 1., 0., 0., 0.],\n",
       "       [0., 1., 0., 0., 1., 0., 0., 0.],\n",
       "       [0., 0., 0., 1., 0., 0., 1., 1.],\n",
       "       [0., 0., 1., 1., 0., 0., 1., 0.],\n",
       "       [0., 0., 0., 0., 0., 1., 0., 0.],\n",
       "       [0., 0., 0., 0., 0., 1., 1., 0.],\n",
       "       [0., 0., 0., 0., 0., 1., 0., 0.],\n",
       "       [0., 0., 0., 0., 0., 0., 0., 1.]], dtype=float32)"
      ]
     },
     "execution_count": 61,
     "metadata": {},
     "output_type": "execute_result"
    }
   ],
   "source": [
    "aMat.toarray()"
   ]
  },
  {
   "cell_type": "code",
   "execution_count": 62,
   "id": "378488d2",
   "metadata": {},
   "outputs": [
    {
     "data": {
      "text/plain": [
       "True"
      ]
     },
     "execution_count": 62,
     "metadata": {},
     "output_type": "execute_result"
    }
   ],
   "source": [
    "convergence"
   ]
  },
  {
   "cell_type": "markdown",
   "id": "53f28291",
   "metadata": {},
   "source": [
    "### Now, to the full dataset"
   ]
  },
  {
   "cell_type": "code",
   "execution_count": 63,
   "id": "1f6827f0",
   "metadata": {
    "scrolled": true
   },
   "outputs": [
    {
     "data": {
      "text/html": [
       "<div>\n",
       "<style scoped>\n",
       "    .dataframe tbody tr th:only-of-type {\n",
       "        vertical-align: middle;\n",
       "    }\n",
       "\n",
       "    .dataframe tbody tr th {\n",
       "        vertical-align: top;\n",
       "    }\n",
       "\n",
       "    .dataframe thead th {\n",
       "        text-align: right;\n",
       "    }\n",
       "</style>\n",
       "<table border=\"1\" class=\"dataframe\">\n",
       "  <thead>\n",
       "    <tr style=\"text-align: right;\">\n",
       "      <th></th>\n",
       "      <th>Fraud</th>\n",
       "      <th>Labelled</th>\n",
       "    </tr>\n",
       "    <tr>\n",
       "      <th>SI01_NO_SIN</th>\n",
       "      <th></th>\n",
       "      <th></th>\n",
       "    </tr>\n",
       "  </thead>\n",
       "  <tbody>\n",
       "    <tr>\n",
       "      <th>000020211004303</th>\n",
       "      <td>0</td>\n",
       "      <td>0.0</td>\n",
       "    </tr>\n",
       "    <tr>\n",
       "      <th>000020211004304</th>\n",
       "      <td>0</td>\n",
       "      <td>0.0</td>\n",
       "    </tr>\n",
       "    <tr>\n",
       "      <th>000020211004306</th>\n",
       "      <td>0</td>\n",
       "      <td>0.0</td>\n",
       "    </tr>\n",
       "    <tr>\n",
       "      <th>000020211004307</th>\n",
       "      <td>0</td>\n",
       "      <td>0.0</td>\n",
       "    </tr>\n",
       "    <tr>\n",
       "      <th>000020211004308</th>\n",
       "      <td>0</td>\n",
       "      <td>0.0</td>\n",
       "    </tr>\n",
       "  </tbody>\n",
       "</table>\n",
       "</div>"
      ],
      "text/plain": [
       "                 Fraud  Labelled\n",
       "SI01_NO_SIN                     \n",
       "000020211004303      0       0.0\n",
       "000020211004304      0       0.0\n",
       "000020211004306      0       0.0\n",
       "000020211004307      0       0.0\n",
       "000020211004308      0       0.0"
      ]
     },
     "execution_count": 63,
     "metadata": {},
     "output_type": "execute_result"
    }
   ],
   "source": [
    "labels.head()"
   ]
  },
  {
   "cell_type": "code",
   "execution_count": 64,
   "id": "788d7bfd",
   "metadata": {},
   "outputs": [
    {
     "data": {
      "text/html": [
       "<div>\n",
       "<style scoped>\n",
       "    .dataframe tbody tr th:only-of-type {\n",
       "        vertical-align: middle;\n",
       "    }\n",
       "\n",
       "    .dataframe tbody tr th {\n",
       "        vertical-align: top;\n",
       "    }\n",
       "\n",
       "    .dataframe thead th {\n",
       "        text-align: right;\n",
       "    }\n",
       "</style>\n",
       "<table border=\"1\" class=\"dataframe\">\n",
       "  <thead>\n",
       "    <tr style=\"text-align: right;\">\n",
       "      <th></th>\n",
       "      <th>Fraud</th>\n",
       "      <th>Labelled</th>\n",
       "    </tr>\n",
       "    <tr>\n",
       "      <th>SI01_NO_SIN</th>\n",
       "      <th></th>\n",
       "      <th></th>\n",
       "    </tr>\n",
       "  </thead>\n",
       "  <tbody>\n",
       "    <tr>\n",
       "      <th>000020211004295</th>\n",
       "      <td>0</td>\n",
       "      <td>0.0</td>\n",
       "    </tr>\n",
       "    <tr>\n",
       "      <th>000020211004296</th>\n",
       "      <td>0</td>\n",
       "      <td>0.0</td>\n",
       "    </tr>\n",
       "    <tr>\n",
       "      <th>000020211004300</th>\n",
       "      <td>0</td>\n",
       "      <td>0.0</td>\n",
       "    </tr>\n",
       "    <tr>\n",
       "      <th>000020211004301</th>\n",
       "      <td>0</td>\n",
       "      <td>0.0</td>\n",
       "    </tr>\n",
       "    <tr>\n",
       "      <th>000020211004302</th>\n",
       "      <td>0</td>\n",
       "      <td>0.0</td>\n",
       "    </tr>\n",
       "  </tbody>\n",
       "</table>\n",
       "</div>"
      ],
      "text/plain": [
       "                 Fraud  Labelled\n",
       "SI01_NO_SIN                     \n",
       "000020211004295      0       0.0\n",
       "000020211004296      0       0.0\n",
       "000020211004300      0       0.0\n",
       "000020211004301      0       0.0\n",
       "000020211004302      0       0.0"
      ]
     },
     "execution_count": 64,
     "metadata": {},
     "output_type": "execute_result"
    }
   ],
   "source": [
    "labels.tail()"
   ]
  },
  {
   "cell_type": "code",
   "execution_count": 65,
   "id": "89b21643",
   "metadata": {},
   "outputs": [
    {
     "data": {
      "text/plain": [
       "array(['000020211004303', '000020211004304', '000020211004306', ...,\n",
       "       '000020211004300', '000020211004301', '000020211004302'],\n",
       "      dtype=object)"
      ]
     },
     "execution_count": 65,
     "metadata": {},
     "output_type": "execute_result"
    }
   ],
   "source": [
    "HG_claims"
   ]
  },
  {
   "cell_type": "code",
   "execution_count": 68,
   "id": "562ed660",
   "metadata": {},
   "outputs": [],
   "source": [
    "HG_parties = np.concatenate((HG_cars, HG_policies, HG_brokers))"
   ]
  },
  {
   "cell_type": "code",
   "execution_count": 70,
   "id": "8e31e1ab",
   "metadata": {},
   "outputs": [
    {
     "data": {
      "text/plain": [
       "scipy.sparse.coo.coo_matrix"
      ]
     },
     "execution_count": 70,
     "metadata": {},
     "output_type": "execute_result"
    }
   ],
   "source": [
    "type(adjmat_bipartite)"
   ]
  },
  {
   "cell_type": "code",
   "execution_count": 71,
   "id": "ee89e14d",
   "metadata": {
    "scrolled": true
   },
   "outputs": [
    {
     "name": "stderr",
     "output_type": "stream",
     "text": [
      "C:\\Users\\bruno\\OneDrive\\Documenten\\KUL\\MaAct2\\Thesis\\Python\\BiRank.py:6: RuntimeWarning: divide by zero encountered in true_divide\n",
      "  Dp = sparse.diags(np.asarray(1 / np.sqrt(adjMat.sum(axis=1).flatten())), [0])\n",
      "C:\\Users\\bruno\\OneDrive\\Documenten\\KUL\\MaAct2\\Thesis\\Python\\BiRank.py:7: RuntimeWarning: divide by zero encountered in true_divide\n",
      "  Dc = sparse.diags(np.asarray(1 / np.sqrt(adjMat.sum(axis=0))), [0])\n"
     ]
    },
    {
     "name": "stdout",
     "output_type": "stream",
     "text": [
      "Convergence reached.\n"
     ]
    }
   ],
   "source": [
    "ADJ = adjmat_bipartite.transpose().tocsr()\n",
    "Claims_res, Parties_res, aMat, iterations, convergence = BiRank(ADJ, claim_nodes, party_nodes, fraudMat)"
   ]
  },
  {
   "cell_type": "code",
   "execution_count": 73,
   "id": "fa56fa95",
   "metadata": {},
   "outputs": [
    {
     "data": {
      "text/html": [
       "<div>\n",
       "<style scoped>\n",
       "    .dataframe tbody tr th:only-of-type {\n",
       "        vertical-align: middle;\n",
       "    }\n",
       "\n",
       "    .dataframe tbody tr th {\n",
       "        vertical-align: top;\n",
       "    }\n",
       "\n",
       "    .dataframe thead th {\n",
       "        text-align: right;\n",
       "    }\n",
       "</style>\n",
       "<table border=\"1\" class=\"dataframe\">\n",
       "  <thead>\n",
       "    <tr style=\"text-align: right;\">\n",
       "      <th></th>\n",
       "      <th>ID</th>\n",
       "      <th>Score</th>\n",
       "      <th>StdScore</th>\n",
       "      <th>ScaledScore</th>\n",
       "    </tr>\n",
       "  </thead>\n",
       "  <tbody>\n",
       "    <tr>\n",
       "      <th>2816</th>\n",
       "      <td>2816</td>\n",
       "      <td>0.001185</td>\n",
       "      <td>67.290610</td>\n",
       "      <td>1.000000</td>\n",
       "    </tr>\n",
       "    <tr>\n",
       "      <th>348904</th>\n",
       "      <td>348904</td>\n",
       "      <td>0.001185</td>\n",
       "      <td>67.290610</td>\n",
       "      <td>1.000000</td>\n",
       "    </tr>\n",
       "    <tr>\n",
       "      <th>47622</th>\n",
       "      <td>47622</td>\n",
       "      <td>0.001185</td>\n",
       "      <td>67.290610</td>\n",
       "      <td>1.000000</td>\n",
       "    </tr>\n",
       "    <tr>\n",
       "      <th>361310</th>\n",
       "      <td>361310</td>\n",
       "      <td>0.001185</td>\n",
       "      <td>67.290597</td>\n",
       "      <td>1.000000</td>\n",
       "    </tr>\n",
       "    <tr>\n",
       "      <th>46540</th>\n",
       "      <td>46540</td>\n",
       "      <td>0.001185</td>\n",
       "      <td>67.290597</td>\n",
       "      <td>1.000000</td>\n",
       "    </tr>\n",
       "    <tr>\n",
       "      <th>215442</th>\n",
       "      <td>215442</td>\n",
       "      <td>0.000777</td>\n",
       "      <td>44.116429</td>\n",
       "      <td>0.656201</td>\n",
       "    </tr>\n",
       "    <tr>\n",
       "      <th>211468</th>\n",
       "      <td>211468</td>\n",
       "      <td>0.000777</td>\n",
       "      <td>44.116429</td>\n",
       "      <td>0.656201</td>\n",
       "    </tr>\n",
       "    <tr>\n",
       "      <th>65343</th>\n",
       "      <td>65343</td>\n",
       "      <td>0.000658</td>\n",
       "      <td>37.330610</td>\n",
       "      <td>0.555530</td>\n",
       "    </tr>\n",
       "    <tr>\n",
       "      <th>60347</th>\n",
       "      <td>60347</td>\n",
       "      <td>0.000657</td>\n",
       "      <td>37.272316</td>\n",
       "      <td>0.554665</td>\n",
       "    </tr>\n",
       "    <tr>\n",
       "      <th>113699</th>\n",
       "      <td>113699</td>\n",
       "      <td>0.000656</td>\n",
       "      <td>37.177080</td>\n",
       "      <td>0.553252</td>\n",
       "    </tr>\n",
       "    <tr>\n",
       "      <th>93670</th>\n",
       "      <td>93670</td>\n",
       "      <td>0.000610</td>\n",
       "      <td>34.590718</td>\n",
       "      <td>0.514882</td>\n",
       "    </tr>\n",
       "    <tr>\n",
       "      <th>134878</th>\n",
       "      <td>134878</td>\n",
       "      <td>0.000610</td>\n",
       "      <td>34.572920</td>\n",
       "      <td>0.514618</td>\n",
       "    </tr>\n",
       "    <tr>\n",
       "      <th>183812</th>\n",
       "      <td>183812</td>\n",
       "      <td>0.000587</td>\n",
       "      <td>33.254992</td>\n",
       "      <td>0.495066</td>\n",
       "    </tr>\n",
       "    <tr>\n",
       "      <th>215042</th>\n",
       "      <td>215042</td>\n",
       "      <td>0.000560</td>\n",
       "      <td>31.730547</td>\n",
       "      <td>0.472451</td>\n",
       "    </tr>\n",
       "    <tr>\n",
       "      <th>307439</th>\n",
       "      <td>307439</td>\n",
       "      <td>0.000560</td>\n",
       "      <td>31.727044</td>\n",
       "      <td>0.472399</td>\n",
       "    </tr>\n",
       "    <tr>\n",
       "      <th>293642</th>\n",
       "      <td>293642</td>\n",
       "      <td>0.000558</td>\n",
       "      <td>31.637145</td>\n",
       "      <td>0.471065</td>\n",
       "    </tr>\n",
       "    <tr>\n",
       "      <th>182875</th>\n",
       "      <td>182875</td>\n",
       "      <td>0.000557</td>\n",
       "      <td>31.589573</td>\n",
       "      <td>0.470359</td>\n",
       "    </tr>\n",
       "    <tr>\n",
       "      <th>44995</th>\n",
       "      <td>44995</td>\n",
       "      <td>0.000556</td>\n",
       "      <td>31.542543</td>\n",
       "      <td>0.469661</td>\n",
       "    </tr>\n",
       "    <tr>\n",
       "      <th>56499</th>\n",
       "      <td>56499</td>\n",
       "      <td>0.000549</td>\n",
       "      <td>31.098699</td>\n",
       "      <td>0.463077</td>\n",
       "    </tr>\n",
       "    <tr>\n",
       "      <th>210516</th>\n",
       "      <td>210516</td>\n",
       "      <td>0.000548</td>\n",
       "      <td>31.058356</td>\n",
       "      <td>0.462478</td>\n",
       "    </tr>\n",
       "  </tbody>\n",
       "</table>\n",
       "</div>"
      ],
      "text/plain": [
       "            ID     Score   StdScore  ScaledScore\n",
       "2816      2816  0.001185  67.290610     1.000000\n",
       "348904  348904  0.001185  67.290610     1.000000\n",
       "47622    47622  0.001185  67.290610     1.000000\n",
       "361310  361310  0.001185  67.290597     1.000000\n",
       "46540    46540  0.001185  67.290597     1.000000\n",
       "215442  215442  0.000777  44.116429     0.656201\n",
       "211468  211468  0.000777  44.116429     0.656201\n",
       "65343    65343  0.000658  37.330610     0.555530\n",
       "60347    60347  0.000657  37.272316     0.554665\n",
       "113699  113699  0.000656  37.177080     0.553252\n",
       "93670    93670  0.000610  34.590718     0.514882\n",
       "134878  134878  0.000610  34.572920     0.514618\n",
       "183812  183812  0.000587  33.254992     0.495066\n",
       "215042  215042  0.000560  31.730547     0.472451\n",
       "307439  307439  0.000560  31.727044     0.472399\n",
       "293642  293642  0.000558  31.637145     0.471065\n",
       "182875  182875  0.000557  31.589573     0.470359\n",
       "44995    44995  0.000556  31.542543     0.469661\n",
       "56499    56499  0.000549  31.098699     0.463077\n",
       "210516  210516  0.000548  31.058356     0.462478"
      ]
     },
     "execution_count": 73,
     "metadata": {},
     "output_type": "execute_result"
    }
   ],
   "source": [
    "Claims_res.head(20)"
   ]
  },
  {
   "cell_type": "code",
   "execution_count": 74,
   "id": "26fb499f",
   "metadata": {},
   "outputs": [
    {
     "data": {
      "text/plain": [
       "249"
      ]
     },
     "execution_count": 74,
     "metadata": {},
     "output_type": "execute_result"
    }
   ],
   "source": [
    "iterations"
   ]
  },
  {
   "cell_type": "code",
   "execution_count": 75,
   "id": "5d2292f3",
   "metadata": {},
   "outputs": [
    {
     "data": {
      "text/plain": [
       "'000020121000912'"
      ]
     },
     "execution_count": 75,
     "metadata": {},
     "output_type": "execute_result"
    }
   ],
   "source": [
    "HG_claims[2816]"
   ]
  },
  {
   "cell_type": "code",
   "execution_count": 76,
   "id": "5e35f246",
   "metadata": {},
   "outputs": [
    {
     "data": {
      "text/plain": [
       "Fraud       1.0\n",
       "Labelled    1.0\n",
       "Name: 000020121000912, dtype: float64"
      ]
     },
     "execution_count": 76,
     "metadata": {},
     "output_type": "execute_result"
    }
   ],
   "source": [
    "labels.iloc[2816]"
   ]
  },
  {
   "cell_type": "code",
   "execution_count": 78,
   "id": "9048e7b7",
   "metadata": {},
   "outputs": [],
   "source": [
    "claims_merged = pd.merge(Claims_res, fraudsters, on = \"ID\")"
   ]
  },
  {
   "cell_type": "code",
   "execution_count": 79,
   "id": "fd13a3f6",
   "metadata": {},
   "outputs": [
    {
     "data": {
      "text/html": [
       "<div>\n",
       "<style scoped>\n",
       "    .dataframe tbody tr th:only-of-type {\n",
       "        vertical-align: middle;\n",
       "    }\n",
       "\n",
       "    .dataframe tbody tr th {\n",
       "        vertical-align: top;\n",
       "    }\n",
       "\n",
       "    .dataframe thead th {\n",
       "        text-align: right;\n",
       "    }\n",
       "</style>\n",
       "<table border=\"1\" class=\"dataframe\">\n",
       "  <thead>\n",
       "    <tr style=\"text-align: right;\">\n",
       "      <th></th>\n",
       "      <th>ID</th>\n",
       "      <th>Score</th>\n",
       "      <th>StdScore</th>\n",
       "      <th>ScaledScore</th>\n",
       "      <th>Fraud</th>\n",
       "      <th>Labelled</th>\n",
       "    </tr>\n",
       "  </thead>\n",
       "  <tbody>\n",
       "    <tr>\n",
       "      <th>382</th>\n",
       "      <td>118521</td>\n",
       "      <td>0.000336</td>\n",
       "      <td>18.982870</td>\n",
       "      <td>0.283333</td>\n",
       "      <td>0</td>\n",
       "      <td>0.0</td>\n",
       "    </tr>\n",
       "    <tr>\n",
       "      <th>383</th>\n",
       "      <td>124247</td>\n",
       "      <td>0.000336</td>\n",
       "      <td>18.982870</td>\n",
       "      <td>0.283333</td>\n",
       "      <td>0</td>\n",
       "      <td>0.0</td>\n",
       "    </tr>\n",
       "    <tr>\n",
       "      <th>566</th>\n",
       "      <td>40560</td>\n",
       "      <td>0.000287</td>\n",
       "      <td>16.224239</td>\n",
       "      <td>0.242408</td>\n",
       "      <td>0</td>\n",
       "      <td>0.0</td>\n",
       "    </tr>\n",
       "    <tr>\n",
       "      <th>567</th>\n",
       "      <td>321876</td>\n",
       "      <td>0.000287</td>\n",
       "      <td>16.224239</td>\n",
       "      <td>0.242408</td>\n",
       "      <td>0</td>\n",
       "      <td>0.0</td>\n",
       "    </tr>\n",
       "    <tr>\n",
       "      <th>591</th>\n",
       "      <td>386730</td>\n",
       "      <td>0.000277</td>\n",
       "      <td>15.667893</td>\n",
       "      <td>0.234154</td>\n",
       "      <td>0</td>\n",
       "      <td>0.0</td>\n",
       "    </tr>\n",
       "    <tr>\n",
       "      <th>704</th>\n",
       "      <td>302082</td>\n",
       "      <td>0.000245</td>\n",
       "      <td>13.842102</td>\n",
       "      <td>0.207068</td>\n",
       "      <td>0</td>\n",
       "      <td>0.0</td>\n",
       "    </tr>\n",
       "    <tr>\n",
       "      <th>783</th>\n",
       "      <td>110468</td>\n",
       "      <td>0.000221</td>\n",
       "      <td>12.434988</td>\n",
       "      <td>0.186192</td>\n",
       "      <td>0</td>\n",
       "      <td>0.0</td>\n",
       "    </tr>\n",
       "    <tr>\n",
       "      <th>794</th>\n",
       "      <td>274466</td>\n",
       "      <td>0.000216</td>\n",
       "      <td>12.153342</td>\n",
       "      <td>0.182014</td>\n",
       "      <td>0</td>\n",
       "      <td>0.0</td>\n",
       "    </tr>\n",
       "    <tr>\n",
       "      <th>814</th>\n",
       "      <td>45751</td>\n",
       "      <td>0.000207</td>\n",
       "      <td>11.680605</td>\n",
       "      <td>0.175001</td>\n",
       "      <td>0</td>\n",
       "      <td>0.0</td>\n",
       "    </tr>\n",
       "    <tr>\n",
       "      <th>817</th>\n",
       "      <td>151755</td>\n",
       "      <td>0.000205</td>\n",
       "      <td>11.526715</td>\n",
       "      <td>0.172718</td>\n",
       "      <td>0</td>\n",
       "      <td>0.0</td>\n",
       "    </tr>\n",
       "  </tbody>\n",
       "</table>\n",
       "</div>"
      ],
      "text/plain": [
       "         ID     Score   StdScore  ScaledScore  Fraud  Labelled\n",
       "382  118521  0.000336  18.982870     0.283333      0       0.0\n",
       "383  124247  0.000336  18.982870     0.283333      0       0.0\n",
       "566   40560  0.000287  16.224239     0.242408      0       0.0\n",
       "567  321876  0.000287  16.224239     0.242408      0       0.0\n",
       "591  386730  0.000277  15.667893     0.234154      0       0.0\n",
       "704  302082  0.000245  13.842102     0.207068      0       0.0\n",
       "783  110468  0.000221  12.434988     0.186192      0       0.0\n",
       "794  274466  0.000216  12.153342     0.182014      0       0.0\n",
       "814   45751  0.000207  11.680605     0.175001      0       0.0\n",
       "817  151755  0.000205  11.526715     0.172718      0       0.0"
      ]
     },
     "execution_count": 79,
     "metadata": {},
     "output_type": "execute_result"
    }
   ],
   "source": [
    "claims_merged[claims_merged[\"Fraud\"]==0].head(10)"
   ]
  },
  {
   "cell_type": "code",
   "execution_count": 80,
   "id": "aead2d5c",
   "metadata": {
    "scrolled": false
   },
   "outputs": [
    {
     "data": {
      "text/html": [
       "<div>\n",
       "<style scoped>\n",
       "    .dataframe tbody tr th:only-of-type {\n",
       "        vertical-align: middle;\n",
       "    }\n",
       "\n",
       "    .dataframe tbody tr th {\n",
       "        vertical-align: top;\n",
       "    }\n",
       "\n",
       "    .dataframe thead th {\n",
       "        text-align: right;\n",
       "    }\n",
       "</style>\n",
       "<table border=\"1\" class=\"dataframe\">\n",
       "  <thead>\n",
       "    <tr style=\"text-align: right;\">\n",
       "      <th></th>\n",
       "      <th>ID</th>\n",
       "      <th>Score</th>\n",
       "      <th>StdScore</th>\n",
       "      <th>ScaledScore</th>\n",
       "      <th>Fraud</th>\n",
       "      <th>Labelled</th>\n",
       "    </tr>\n",
       "  </thead>\n",
       "  <tbody>\n",
       "    <tr>\n",
       "      <th>380</th>\n",
       "      <td>35486</td>\n",
       "      <td>0.000337</td>\n",
       "      <td>19.057448</td>\n",
       "      <td>0.284439</td>\n",
       "      <td>1</td>\n",
       "      <td>1.0</td>\n",
       "    </tr>\n",
       "    <tr>\n",
       "      <th>381</th>\n",
       "      <td>316445</td>\n",
       "      <td>0.000336</td>\n",
       "      <td>18.995083</td>\n",
       "      <td>0.283514</td>\n",
       "      <td>1</td>\n",
       "      <td>1.0</td>\n",
       "    </tr>\n",
       "    <tr>\n",
       "      <th>382</th>\n",
       "      <td>118521</td>\n",
       "      <td>0.000336</td>\n",
       "      <td>18.982870</td>\n",
       "      <td>0.283333</td>\n",
       "      <td>0</td>\n",
       "      <td>0.0</td>\n",
       "    </tr>\n",
       "    <tr>\n",
       "      <th>383</th>\n",
       "      <td>124247</td>\n",
       "      <td>0.000336</td>\n",
       "      <td>18.982870</td>\n",
       "      <td>0.283333</td>\n",
       "      <td>0</td>\n",
       "      <td>0.0</td>\n",
       "    </tr>\n",
       "    <tr>\n",
       "      <th>384</th>\n",
       "      <td>168433</td>\n",
       "      <td>0.000334</td>\n",
       "      <td>18.873268</td>\n",
       "      <td>0.281707</td>\n",
       "      <td>1</td>\n",
       "      <td>1.0</td>\n",
       "    </tr>\n",
       "    <tr>\n",
       "      <th>385</th>\n",
       "      <td>54296</td>\n",
       "      <td>0.000332</td>\n",
       "      <td>18.786609</td>\n",
       "      <td>0.280421</td>\n",
       "      <td>1</td>\n",
       "      <td>1.0</td>\n",
       "    </tr>\n",
       "  </tbody>\n",
       "</table>\n",
       "</div>"
      ],
      "text/plain": [
       "         ID     Score   StdScore  ScaledScore  Fraud  Labelled\n",
       "380   35486  0.000337  19.057448     0.284439      1       1.0\n",
       "381  316445  0.000336  18.995083     0.283514      1       1.0\n",
       "382  118521  0.000336  18.982870     0.283333      0       0.0\n",
       "383  124247  0.000336  18.982870     0.283333      0       0.0\n",
       "384  168433  0.000334  18.873268     0.281707      1       1.0\n",
       "385   54296  0.000332  18.786609     0.280421      1       1.0"
      ]
     },
     "execution_count": 80,
     "metadata": {},
     "output_type": "execute_result"
    }
   ],
   "source": [
    "claims_merged.iloc[380:386]"
   ]
  },
  {
   "cell_type": "code",
   "execution_count": 81,
   "id": "3bcc26dd",
   "metadata": {},
   "outputs": [
    {
     "data": {
      "text/plain": [
       "'000020211004854'"
      ]
     },
     "execution_count": 81,
     "metadata": {},
     "output_type": "execute_result"
    }
   ],
   "source": [
    "HG_claims[380]"
   ]
  },
  {
   "cell_type": "code",
   "execution_count": 82,
   "id": "ca1f6c14",
   "metadata": {},
   "outputs": [
    {
     "data": {
      "text/plain": [
       "'000020211004855'"
      ]
     },
     "execution_count": 82,
     "metadata": {},
     "output_type": "execute_result"
    }
   ],
   "source": [
    "HG_claims[381]"
   ]
  },
  {
   "cell_type": "code",
   "execution_count": 83,
   "id": "c4950233",
   "metadata": {
    "scrolled": true
   },
   "outputs": [
    {
     "data": {
      "text/plain": [
       "Fraud       8.440000e+02\n",
       "Labelled    1.331100e+04\n",
       "ID          7.846563e+10\n",
       "dtype: float64"
      ]
     },
     "execution_count": 83,
     "metadata": {},
     "output_type": "execute_result"
    }
   ],
   "source": [
    "labels.sum()"
   ]
  },
  {
   "cell_type": "code",
   "execution_count": 84,
   "id": "dc30e3a7",
   "metadata": {},
   "outputs": [],
   "source": [
    "from sklearn import metrics"
   ]
  },
  {
   "cell_type": "code",
   "execution_count": 86,
   "id": "81b1859d",
   "metadata": {
    "scrolled": true
   },
   "outputs": [],
   "source": [
    "y = labels.Fraud.values\n",
    "pred = Claims_res.sort_values(\"ID\").ScaledScore"
   ]
  },
  {
   "cell_type": "code",
   "execution_count": 87,
   "id": "8b476528",
   "metadata": {},
   "outputs": [],
   "source": [
    "fpr, tpr, thresholds = metrics.roc_curve(y,pred)"
   ]
  },
  {
   "cell_type": "code",
   "execution_count": 88,
   "id": "d38a28d6",
   "metadata": {},
   "outputs": [
    {
     "data": {
      "image/png": "[encoded data removed]",
      "text/plain": [
       "<Figure size 432x288 with 1 Axes>"
      ]
     },
     "metadata": {
      "needs_background": "light"
     },
     "output_type": "display_data"
    }
   ],
   "source": [
    "plt.plot(fpr,tpr)\n",
    "plt.plot([0,1], [0,1], color = \"grey\", alpha = 0.5)\n",
    "plt.title(\"AUC: \"+str(np.round(metrics.auc(fpr, tpr),3)))\n",
    "plt.savefig(\"AUC_BiRank_1.pdf\")"
   ]
  },
  {
   "cell_type": "markdown",
   "id": "d502754e",
   "metadata": {},
   "source": [
    "### Train-Test split"
   ]
  },
  {
   "cell_type": "markdown",
   "id": "668efbc0",
   "metadata": {},
   "source": [
    "Delete part of the network, and adding it later"
   ]
  },
  {
   "cell_type": "code",
   "execution_count": 89,
   "id": "f4d13b28",
   "metadata": {},
   "outputs": [
    {
     "name": "stderr",
     "output_type": "stream",
     "text": [
      "C:\\Users\\bruno\\OneDrive\\Documenten\\KUL\\MaAct2\\Thesis\\Python\\BiRank.py:6: RuntimeWarning: divide by zero encountered in true_divide\n",
      "  Dp = sparse.diags(np.asarray(1 / np.sqrt(adjMat.sum(axis=1).flatten())), [0])\n",
      "C:\\Users\\bruno\\OneDrive\\Documenten\\KUL\\MaAct2\\Thesis\\Python\\BiRank.py:7: RuntimeWarning: divide by zero encountered in true_divide\n",
      "  Dc = sparse.diags(np.asarray(1 / np.sqrt(adjMat.sum(axis=0))), [0])\n"
     ]
    },
    {
     "name": "stdout",
     "output_type": "stream",
     "text": [
      "Convergence reached.\n"
     ]
    }
   ],
   "source": [
    "ADJ = adjmat_bipartite.tocsr()\n",
    "number_claims = ADJ.shape[0]\n",
    "train_set_size = int(np.round(0.6*number_claims))\n",
    "test_set_size = number_claims-train_set_size\n",
    "ADJ_train= ADJ[:train_set_size,:]\n",
    "fraud_train = {\"FraudInd\": labels[\"Fraud\"].values[:train_set_size]}\n",
    "fraudMat_train = pd.DataFrame(fraud_train)\n",
    "claims_train = claim_nodes[:train_set_size]\n",
    "\n",
    "ADJ = ADJ_train.transpose().tocsr()\n",
    "Claims_res, Parties_res, aMat, iterations, convergence = BiRank(ADJ, claims_train, party_nodes, fraudMat_train)"
   ]
  },
  {
   "cell_type": "code",
   "execution_count": 90,
   "id": "4bf5d534",
   "metadata": {},
   "outputs": [],
   "source": [
    "fraud_train_res = {\"FraudInd\": Claims_res.sort_values(\"ID\")[\"ScaledScore\"].values}\n",
    "test_set_fraud = {\"FraudInd\": [0]*test_set_size}\n",
    "fraudMat_train_res = pd.DataFrame(fraud_train_res)\n",
    "fraudMat_test_set = pd.DataFrame(test_set_fraud)\n",
    "fraudMat_test = fraudMat_train_res.append(fraudMat_test_set)"
   ]
  },
  {
   "cell_type": "code",
   "execution_count": 91,
   "id": "4dfb88f3",
   "metadata": {},
   "outputs": [
    {
     "name": "stdout",
     "output_type": "stream",
     "text": [
      "Convergence reached.\n"
     ]
    }
   ],
   "source": [
    "ADJ = adjmat_bipartite.transpose().tocsr()\n",
    "Claims_res, Parties_res, aMat, iterations, convergence = BiRank(ADJ, claim_nodes, party_nodes, fraudMat_test)"
   ]
  },
  {
   "cell_type": "code",
   "execution_count": 92,
   "id": "51c70484",
   "metadata": {},
   "outputs": [
    {
     "data": {
      "image/png": "[encoded data removed]",
      "text/plain": [
       "<Figure size 432x288 with 1 Axes>"
      ]
     },
     "metadata": {
      "needs_background": "light"
     },
     "output_type": "display_data"
    }
   ],
   "source": [
    "y = labels[train_set_size:].Fraud.values\n",
    "pred = Claims_res.sort_values(\"ID\")[train_set_size:].ScaledScore\n",
    "fpr, tpr, thresholds = metrics.roc_curve(y,pred)\n",
    "plt.plot(fpr,tpr)\n",
    "plt.plot([0,1], [0,1], color = \"grey\", alpha = 0.5)\n",
    "plt.title(\"AUC: \"+str(np.round(metrics.auc(fpr, tpr),3)))\n",
    "plt.savefig(\"AUC_BiRank_2.pdf\")"
   ]
  },
  {
   "cell_type": "markdown",
   "id": "7d796a58",
   "metadata": {},
   "source": [
    "Just setting the labels to 0, but keeping the full network"
   ]
  },
  {
   "cell_type": "code",
   "execution_count": 93,
   "id": "6391150a",
   "metadata": {
    "scrolled": true
   },
   "outputs": [
    {
     "name": "stderr",
     "output_type": "stream",
     "text": [
      "C:\\Users\\bruno\\OneDrive\\Documenten\\KUL\\MaAct2\\Thesis\\Python\\BiRank.py:6: RuntimeWarning: divide by zero encountered in true_divide\n",
      "  Dp = sparse.diags(np.asarray(1 / np.sqrt(adjMat.sum(axis=1).flatten())), [0])\n",
      "C:\\Users\\bruno\\OneDrive\\Documenten\\KUL\\MaAct2\\Thesis\\Python\\BiRank.py:7: RuntimeWarning: divide by zero encountered in true_divide\n",
      "  Dc = sparse.diags(np.asarray(1 / np.sqrt(adjMat.sum(axis=0))), [0])\n"
     ]
    },
    {
     "name": "stdout",
     "output_type": "stream",
     "text": [
      "Convergence reached.\n"
     ]
    }
   ],
   "source": [
    "fraud_train = {\"FraudInd\": labels[\"Fraud\"].values[:train_set_size]}\n",
    "fraudMat_train = pd.DataFrame(fraud_train)\n",
    "test_set_fraud = {\"FraudInd\": [0]*test_set_size}\n",
    "fraudMat_test_set = pd.DataFrame(test_set_fraud)\n",
    "fraudMat_test = fraudMat_train.append(fraudMat_test_set)\n",
    "\n",
    "ADJ = adjmat_bipartite.transpose().tocsr()\n",
    "Claims_res, Parties_res, aMat, iterations, convergence = BiRank(ADJ, claim_nodes, party_nodes, fraudMat_test)"
   ]
  },
  {
   "cell_type": "code",
   "execution_count": 94,
   "id": "f49bf946",
   "metadata": {},
   "outputs": [
    {
     "data": {
      "image/png": "[encoded data removed]",
      "text/plain": [
       "<Figure size 432x288 with 1 Axes>"
      ]
     },
     "metadata": {
      "needs_background": "light"
     },
     "output_type": "display_data"
    }
   ],
   "source": [
    "y = labels[train_set_size:].Fraud.values\n",
    "pred = Claims_res.sort_values(\"ID\")[train_set_size:].ScaledScore\n",
    "fpr, tpr, thresholds = metrics.roc_curve(y,pred)\n",
    "plt.plot(fpr,tpr)\n",
    "plt.plot([0,1], [0,1], color = \"grey\", alpha = 0.5)\n",
    "plt.title(\"AUC: \"+str(np.round(metrics.auc(fpr, tpr),3)))\n",
    "plt.savefig(\"AUC_BiRank_3.pdf\")"
   ]
  },
  {
   "cell_type": "code",
   "execution_count": null,
   "id": "584f6506",
   "metadata": {},
   "outputs": [],
   "source": []
  }
 ],
 "metadata": {
  "kernelspec": {
   "display_name": "Python 3",
   "language": "python",
   "name": "python3"
  },
  "language_info": {
   "codemirror_mode": {
    "name": "ipython",
    "version": 3
   },
   "file_extension": ".py",
   "mimetype": "text/x-python",
   "name": "python",
   "nbconvert_exporter": "python",
   "pygments_lexer": "ipython3",
   "version": "3.8.8"
  }
 },
 "nbformat": 4,
 "nbformat_minor": 5
}
