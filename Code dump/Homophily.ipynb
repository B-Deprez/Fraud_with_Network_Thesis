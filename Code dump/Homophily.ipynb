{
 "cells": [
  {
   "cell_type": "markdown",
   "id": "86dbf9e1",
   "metadata": {},
   "source": [
    "In this document, we investigate the neighbourhood of all labelled claims to have a grasp of the homophily in our network. \n",
    "\n",
    "This idea is based on what is done in the paper of Antonio et al."
   ]
  },
  {
   "cell_type": "markdown",
   "id": "107a655e",
   "metadata": {},
   "source": [
    "# Loading the data"
   ]
  },
  {
   "cell_type": "code",
   "execution_count": 1,
   "id": "9a2aad10",
   "metadata": {},
   "outputs": [
    {
     "name": "stderr",
     "output_type": "stream",
     "text": [
      "C:\\Users\\bruno\\anaconda3\\lib\\site-packages\\nxviz\\__init__.py:18: UserWarning: \n",
      "nxviz has a new API! Version 0.7.0 onwards, the old class-based API is being\n",
      "deprecated in favour of a new API focused on advancing a grammar of network\n",
      "graphics. If your plotting code depends on the old API, please consider\n",
      "pinning nxviz at version 0.7.0, as the new API will break your old code.\n",
      "\n",
      "To check out the new API, please head over to the docs at\n",
      "https://ericmjl.github.io/nxviz/ to learn more. We hope you enjoy using it!\n",
      "\n",
      "(This deprecation message will go away in version 1.0.)\n",
      "\n",
      "  warnings.warn(\n"
     ]
    }
   ],
   "source": [
    "import numpy as np\n",
    "import scipy as sp\n",
    "import pickle as pkl\n",
    "import networkx as nx\n",
    "from py2neo import Graph\n",
    "import py2neo\n",
    "import pandas as pd\n",
    "import nxviz as nv\n",
    "import matplotlib.pyplot as plt\n",
    "from stellargraph import StellarGraph\n",
    "\n",
    "from tqdm.notebook import tqdm\n",
    "\n",
    "\n",
    "%matplotlib inline"
   ]
  },
  {
   "cell_type": "code",
   "execution_count": 2,
   "id": "2c3a52bd",
   "metadata": {},
   "outputs": [],
   "source": [
    "broker_nodes = pkl.load(open( \"broker_nodes_brunosept.pkl\", \"rb\" ))\n",
    "cars_nodes = pkl.load(open( \"cars_nodes_brunosept.pkl\", \"rb\" ))\n",
    "claims_nodes = pkl.load(open( \"claims_nodes_brunosept.pkl\", \"rb\" )).sort_values(\"ID\")\n",
    "policy_nodes = pkl.load(open( \"policy_nodes_brunosept.pkl\", \"rb\" ))\n",
    "edges = pkl.load(open( \"edges_brunosept.pkl\", \"rb\" ))\n",
    "\n",
    "labels = pd.DataFrame(pkl.load(open(\"Y\", \"rb\"))).sort_values(\"SI01_NO_SIN\")\n",
    "labels.rename(columns = {\"y1\": \"Fraud\", \"y2\":\"Labelled\"}, inplace = True)\n",
    "\n",
    "HG = StellarGraph({\"claim\" : claims_nodes, \"car\" : cars_nodes, \"policy\" : policy_nodes, \"broker\" : broker_nodes}, edges)"
   ]
  },
  {
   "cell_type": "code",
   "execution_count": 3,
   "id": "e22c56e9",
   "metadata": {},
   "outputs": [],
   "source": [
    "HG_claims = HG.nodes(\"claim\")\n",
    "HG_cars = HG.nodes(\"car\")\n",
    "HG_sub = list(HG_claims)+ list(HG_cars)\n",
    "adjmat_claim_car = HG.to_adjacency_matrix(HG_sub)[:len(HG_claims), len(HG_claims):]\n",
    "\n",
    "HG_policies = HG.nodes(\"policy\")\n",
    "HG_sub = list(HG_cars)+list(HG_policies)\n",
    "adjmat_car_policy = HG.to_adjacency_matrix(HG_sub)[:len(HG_cars), len(HG_cars):]\n",
    "\n",
    "C = adjmat_claim_car\n",
    "P = adjmat_car_policy\n",
    "CP = C @ P\n",
    "\n",
    "A_bipartite = sp.sparse.hstack((C, CP)).tocsr()"
   ]
  },
  {
   "cell_type": "code",
   "execution_count": 4,
   "id": "668ace62",
   "metadata": {},
   "outputs": [
    {
     "data": {
      "application/vnd.jupyter.widget-view+json": {
       "model_id": "4ab5c16f84384c0ca347dc1f9c4df7b6",
       "version_major": 2,
       "version_minor": 0
      },
      "text/plain": [
       "  0%|          | 0/396146 [00:00<?, ?it/s]"
      ]
     },
     "metadata": {},
     "output_type": "display_data"
    }
   ],
   "source": [
    "nRows = A_bipartite.shape[0]\n",
    "edges = {\"source\":[], \"target\":[], \"weight\":[]}\n",
    "\n",
    "from tqdm.notebook import tqdm\n",
    "for i in tqdm(range(nRows)):\n",
    "    nonzeroIndices = A_bipartite[i, :].nonzero()\n",
    "    for j in nonzeroIndices[1]:\n",
    "        w = A_bipartite[i,j]\n",
    "        edges[\"source\"].append(i)\n",
    "        edges[\"target\"].append(j)\n",
    "        edges[\"weight\"].append(w)"
   ]
  },
  {
   "cell_type": "code",
   "execution_count": 5,
   "id": "473ff1c3",
   "metadata": {},
   "outputs": [],
   "source": [
    "df_edges = pd.DataFrame(edges)\n",
    "\n",
    "party_index = np.concatenate((np.array(cars_nodes.index), np.array(policy_nodes.index)))\n",
    "pd_party_index = pd.DataFrame(party_index)\n",
    "pd_party_index.columns = [\"party\"]\n",
    "pd_party_index[\"party_num\"] = range(len(party_index))\n",
    "\n",
    "pd_claim_index = pd.DataFrame(claims_nodes.index)\n",
    "pd_claim_index.columns = [\"claim\"]\n",
    "pd_claim_index[\"claim_num\"] = range(len(claims_nodes.index))\n",
    "\n",
    "pd_merged = pd_claim_index.merge(df_edges.merge(pd_party_index, how = \"left\", left_on = \"target\", right_on = \"party_num\"), left_on = \"claim_num\", right_on = \"source\")\n",
    "pd_merged = pd_merged[[\"claim\", \"party\", \"weight\"]]\n",
    "pd_merged.columns = [\"source\", \"target\", \"weight\"]\n",
    "pd_merged.head()\n",
    "\n",
    "all_claims = pd.DataFrame(pd_claim_index['claim'])\n",
    "all_claims.columns = [\"ID\"]\n",
    "all_claims = all_claims.set_index(\"ID\")\n",
    "\n",
    "all_parties = pd.DataFrame(pd_party_index['party'])\n",
    "all_parties.columns = [\"ID\"]\n",
    "all_parties = all_parties.set_index(\"ID\")\n",
    "\n",
    "HG_bipartite = StellarGraph({\"claim\": all_claims, \"party\":all_parties},edges = pd_merged[[\"source\", \"target\"]])\n",
    "\n",
    "Nx_bipartite = HG_bipartite.to_networkx()"
   ]
  },
  {
   "cell_type": "code",
   "execution_count": 6,
   "id": "6cf83886",
   "metadata": {},
   "outputs": [
    {
     "data": {
      "text/html": [
       "<div>\n",
       "<style scoped>\n",
       "    .dataframe tbody tr th:only-of-type {\n",
       "        vertical-align: middle;\n",
       "    }\n",
       "\n",
       "    .dataframe tbody tr th {\n",
       "        vertical-align: top;\n",
       "    }\n",
       "\n",
       "    .dataframe thead th {\n",
       "        text-align: right;\n",
       "    }\n",
       "</style>\n",
       "<table border=\"1\" class=\"dataframe\">\n",
       "  <thead>\n",
       "    <tr style=\"text-align: right;\">\n",
       "      <th></th>\n",
       "      <th>Fraud</th>\n",
       "      <th>Labelled</th>\n",
       "    </tr>\n",
       "    <tr>\n",
       "      <th>SI01_NO_SIN</th>\n",
       "      <th></th>\n",
       "      <th></th>\n",
       "    </tr>\n",
       "  </thead>\n",
       "  <tbody>\n",
       "    <tr>\n",
       "      <th>000020121000912</th>\n",
       "      <td>1</td>\n",
       "      <td>1.0</td>\n",
       "    </tr>\n",
       "    <tr>\n",
       "      <th>000020121002378</th>\n",
       "      <td>1</td>\n",
       "      <td>1.0</td>\n",
       "    </tr>\n",
       "    <tr>\n",
       "      <th>000020121002446</th>\n",
       "      <td>1</td>\n",
       "      <td>1.0</td>\n",
       "    </tr>\n",
       "    <tr>\n",
       "      <th>000020121002574</th>\n",
       "      <td>1</td>\n",
       "      <td>1.0</td>\n",
       "    </tr>\n",
       "    <tr>\n",
       "      <th>000020121002644</th>\n",
       "      <td>1</td>\n",
       "      <td>1.0</td>\n",
       "    </tr>\n",
       "    <tr>\n",
       "      <th>...</th>\n",
       "      <td>...</td>\n",
       "      <td>...</td>\n",
       "    </tr>\n",
       "    <tr>\n",
       "      <th>000020201004240</th>\n",
       "      <td>1</td>\n",
       "      <td>1.0</td>\n",
       "    </tr>\n",
       "    <tr>\n",
       "      <th>000020201009075</th>\n",
       "      <td>1</td>\n",
       "      <td>1.0</td>\n",
       "    </tr>\n",
       "    <tr>\n",
       "      <th>000020201011175</th>\n",
       "      <td>1</td>\n",
       "      <td>1.0</td>\n",
       "    </tr>\n",
       "    <tr>\n",
       "      <th>000020201011546</th>\n",
       "      <td>1</td>\n",
       "      <td>1.0</td>\n",
       "    </tr>\n",
       "    <tr>\n",
       "      <th>000020201016947</th>\n",
       "      <td>1</td>\n",
       "      <td>1.0</td>\n",
       "    </tr>\n",
       "  </tbody>\n",
       "</table>\n",
       "<p>844 rows × 2 columns</p>\n",
       "</div>"
      ],
      "text/plain": [
       "                 Fraud  Labelled\n",
       "SI01_NO_SIN                     \n",
       "000020121000912      1       1.0\n",
       "000020121002378      1       1.0\n",
       "000020121002446      1       1.0\n",
       "000020121002574      1       1.0\n",
       "000020121002644      1       1.0\n",
       "...                ...       ...\n",
       "000020201004240      1       1.0\n",
       "000020201009075      1       1.0\n",
       "000020201011175      1       1.0\n",
       "000020201011546      1       1.0\n",
       "000020201016947      1       1.0\n",
       "\n",
       "[844 rows x 2 columns]"
      ]
     },
     "execution_count": 6,
     "metadata": {},
     "output_type": "execute_result"
    }
   ],
   "source": [
    "labels[labels[\"Fraud\"]==1]"
   ]
  },
  {
   "cell_type": "code",
   "execution_count": null,
   "id": "36a04b4c",
   "metadata": {},
   "outputs": [
    {
     "data": {
      "application/vnd.jupyter.widget-view+json": {
       "model_id": "a5b83d9ef7a941759545182393bd14fb",
       "version_major": 2,
       "version_minor": 0
      },
      "text/plain": [
       "  0%|          | 0/13311 [00:00<?, ?it/s]"
      ]
     },
     "metadata": {},
     "output_type": "display_data"
    }
   ],
   "source": [
    "fraudClaim_fraudNeighbours = []\n",
    "fraudClaim_nonfraudNeighbours = []\n",
    "\n",
    "nonfraudClaim_fraudNeighbours = []\n",
    "nonfraudClaim_nonfraudNeighbours = []\n",
    "\n",
    "for claim in tqdm(labels[labels[\"Labelled\"] == 1].index): # Only look at labelled claims\n",
    "    total_neighbour = 0.01\n",
    "    fraud_neighbour = 0\n",
    "    nonfraud_neighbour = 0\n",
    "    \n",
    "    neighbourhood = nx.generators.ego.ego_graph(Nx_bipartite, claim, radius = 2) # Radius 2 to get other claims\n",
    "    for neighbour in neighbourhood:\n",
    "        if neighbour in claims_nodes.index: # Only interested in claims in the neighbourhood\n",
    "            if neighbour != claim: # Only interestes in neighbours\n",
    "                total_neighbour += 1\n",
    "                if neighbour in labels[labels[\"Labelled\"] == 1].index:\n",
    "                    if labels.loc[neighbour].Fraud ==1:\n",
    "                        fraud_neighbour += 1\n",
    "                    else:\n",
    "                        nonfraud_neighbour += 1\n",
    "    \n",
    "    if labels.loc[claim].Fraud ==1:\n",
    "        fraudClaim_fraudNeighbours.append(fraud_neighbour/total_neighbour)\n",
    "        fraudClaim_nonfraudNeighbours.append(nonfraud_neighbour/total_neighbour)\n",
    "    else:\n",
    "        nonfraudClaim_fraudNeighbours.append(fraud_neighbour/total_neighbour)\n",
    "        nonfraudClaim_nonfraudNeighbours.append(nonfraud_neighbour/total_neighbour)\n",
    "    "
   ]
  },
  {
   "cell_type": "code",
   "execution_count": null,
   "id": "899c5b09",
   "metadata": {},
   "outputs": [],
   "source": [
    "pd.DataFrame(fraudClaim_fraudNeighbours).to_csv(\"fraudClaim_fraudNeighbours.csv\")\n",
    "pd.DataFrame(fraudClaim_nonfraudNeighbours).to_csv(\"fraudClaim_nonfraudNeighbours.csv\")\n",
    "pd.DataFrame(nonfraudClaim_fraudNeighbours).to_csv(\"nonfraudClaim_fraudNeighbours.csv\")\n",
    "pd.DataFrame(nonfraudClaim_nonfraudNeighbours).to_csv(\"nonfraudClaim_nonfraudNeighbours.csv\")"
   ]
  },
  {
   "cell_type": "code",
   "execution_count": null,
   "id": "03d38407",
   "metadata": {},
   "outputs": [],
   "source": [
    "fraudClaim_fraudNeighbours = pd.read_csv(\"fraudClaim_fraudNeighbours.csv\")\n",
    "fraudClaim_nonfraudNeighbours = pd.read_csv(\"fraudClaim_nonfraudNeighbours.csv\")\n",
    "\n",
    "nonfraudClaim_fraudNeighbours = pd.read_csv(\"nonfraudClaim_fraudNeighbours.csv\")\n",
    "nonfraudClaim_nonfraudNeighbours = pd.read_csv(\"nonfraudClaim_nonfraudNeighbours.csv\")"
   ]
  },
  {
   "cell_type": "code",
   "execution_count": 9,
   "id": "6490fdd6",
   "metadata": {
    "scrolled": false
   },
   "outputs": [
    {
     "data": {
      "image/png": "[encoded data removed]",
      "text/plain": [
       "<Figure size 432x288 with 1 Axes>"
      ]
     },
     "metadata": {
      "needs_background": "light"
     },
     "output_type": "display_data"
    }
   ],
   "source": [
    "KULbg = \"#116E8A\" \n",
    "h=fraudClaim_fraudNeighbours[fraudClaim_fraudNeighbours[\"0\"]>0][\"0\"]\n",
    "plt.hist(h, color = KULbg, edgecolor= 'None', alpha = 0.5)\n",
    "plt.hist(h, edgecolor=  KULbg, linewidth=1.5,facecolor=\"None\")\n",
    "plt.title(\"Claim: Fraud - Neighbours: Fraud\")\n",
    "plt.savefig(\"Fraud_Fraud.pdf\")"
   ]
  },
  {
   "cell_type": "code",
   "execution_count": 10,
   "id": "c9fcea37",
   "metadata": {},
   "outputs": [
    {
     "data": {
      "text/plain": [
       "0.07889966898883234"
      ]
     },
     "execution_count": 10,
     "metadata": {},
     "output_type": "execute_result"
    }
   ],
   "source": [
    "np.mean(fraudClaim_fraudNeighbours[\"0\"])"
   ]
  },
  {
   "cell_type": "code",
   "execution_count": 11,
   "id": "78839602",
   "metadata": {
    "scrolled": true
   },
   "outputs": [
    {
     "data": {
      "image/png": "[encoded data removed]",
      "text/plain": [
       "<Figure size 432x288 with 1 Axes>"
      ]
     },
     "metadata": {
      "needs_background": "light"
     },
     "output_type": "display_data"
    }
   ],
   "source": [
    "h=fraudClaim_nonfraudNeighbours[fraudClaim_nonfraudNeighbours[\"0\"]>0][\"0\"]\n",
    "plt.hist(h, color = KULbg, edgecolor= 'None', alpha = 0.5)\n",
    "plt.hist(h, edgecolor=  KULbg, linewidth=1.5,facecolor=\"None\")\n",
    "plt.title(\"Claim: Fraud - Neighbours: Not fraud\")\n",
    "plt.savefig(\"Fraud_NonFraud.pdf\")"
   ]
  },
  {
   "cell_type": "code",
   "execution_count": 12,
   "id": "b84ec96a",
   "metadata": {},
   "outputs": [
    {
     "data": {
      "text/plain": [
       "0.06241915389022633"
      ]
     },
     "execution_count": 12,
     "metadata": {},
     "output_type": "execute_result"
    }
   ],
   "source": [
    "np.mean(fraudClaim_nonfraudNeighbours[\"0\"])"
   ]
  },
  {
   "cell_type": "code",
   "execution_count": 13,
   "id": "48b68132",
   "metadata": {
    "scrolled": true
   },
   "outputs": [
    {
     "data": {
      "image/png": "[encoded data removed]",
      "text/plain": [
       "<Figure size 432x288 with 1 Axes>"
      ]
     },
     "metadata": {
      "needs_background": "light"
     },
     "output_type": "display_data"
    }
   ],
   "source": [
    "h=nonfraudClaim_fraudNeighbours[nonfraudClaim_fraudNeighbours[\"0\"]>0][\"0\"]\n",
    "plt.hist(h, color = KULbg, edgecolor= 'None', alpha = 0.5)\n",
    "plt.hist(h, edgecolor=  KULbg, linewidth=1.5,facecolor=\"None\")\n",
    "plt.title(\"Claim: Not Fraud - Neighbours: Fraud\")\n",
    "plt.savefig(\"NonFraud_Fraud.pdf\")"
   ]
  },
  {
   "cell_type": "code",
   "execution_count": 14,
   "id": "2b8c31b7",
   "metadata": {},
   "outputs": [
    {
     "data": {
      "text/plain": [
       "0.0041660297521494945"
      ]
     },
     "execution_count": 14,
     "metadata": {},
     "output_type": "execute_result"
    }
   ],
   "source": [
    "np.mean(nonfraudClaim_fraudNeighbours[\"0\"])"
   ]
  },
  {
   "cell_type": "code",
   "execution_count": 15,
   "id": "e3690f9c",
   "metadata": {},
   "outputs": [
    {
     "data": {
      "image/png": "[encoded data removed]",
      "text/plain": [
       "<Figure size 432x288 with 1 Axes>"
      ]
     },
     "metadata": {
      "needs_background": "light"
     },
     "output_type": "display_data"
    }
   ],
   "source": [
    "h=nonfraudClaim_nonfraudNeighbours[nonfraudClaim_nonfraudNeighbours[\"0\"]>0][\"0\"]\n",
    "plt.hist(h, color = KULbg, edgecolor= 'None', alpha = 0.5)\n",
    "plt.hist(h, edgecolor=  KULbg, linewidth=1.5,facecolor=\"None\")\n",
    "plt.title(\"Claim: Not Fraud - Neighbours: Not Fraud\")\n",
    "plt.savefig(\"NonFraud_NonFraud.pdf\")"
   ]
  },
  {
   "cell_type": "code",
   "execution_count": 16,
   "id": "b364f581",
   "metadata": {
    "scrolled": true
   },
   "outputs": [
    {
     "data": {
      "text/plain": [
       "0.04810647734718591"
      ]
     },
     "execution_count": 16,
     "metadata": {},
     "output_type": "execute_result"
    }
   ],
   "source": [
    "np.mean(nonfraudClaim_nonfraudNeighbours[\"0\"])"
   ]
  },
  {
   "cell_type": "code",
   "execution_count": null,
   "id": "6b596bcb",
   "metadata": {},
   "outputs": [],
   "source": []
  }
 ],
 "metadata": {
  "kernelspec": {
   "display_name": "Python 3",
   "language": "python",
   "name": "python3"
  },
  "language_info": {
   "codemirror_mode": {
    "name": "ipython",
    "version": 3
   },
   "file_extension": ".py",
   "mimetype": "text/x-python",
   "name": "python",
   "nbconvert_exporter": "python",
   "pygments_lexer": "ipython3",
   "version": "3.8.8"
  }
 },
 "nbformat": 4,
 "nbformat_minor": 5
}
