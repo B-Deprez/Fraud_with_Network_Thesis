{
 "cells": [
  {
   "cell_type": "code",
   "execution_count": 1,
   "id": "57aa2b72",
   "metadata": {},
   "outputs": [
    {
     "name": "stderr",
     "output_type": "stream",
     "text": [
      "C:\\Users\\bruno\\anaconda3\\lib\\site-packages\\nxviz\\__init__.py:18: UserWarning: \n",
      "nxviz has a new API! Version 0.7.0 onwards, the old class-based API is being\n",
      "deprecated in favour of a new API focused on advancing a grammar of network\n",
      "graphics. If your plotting code depends on the old API, please consider\n",
      "pinning nxviz at version 0.7.0, as the new API will break your old code.\n",
      "\n",
      "To check out the new API, please head over to the docs at\n",
      "https://ericmjl.github.io/nxviz/ to learn more. We hope you enjoy using it!\n",
      "\n",
      "(This deprecation message will go away in version 1.0.)\n",
      "\n",
      "  warnings.warn(\n"
     ]
    },
    {
     "data": {
      "application/vnd.jupyter.widget-view+json": {
       "model_id": "ee3eee73fac54efc8193db044a42fe37",
       "version_major": 2,
       "version_minor": 0
      },
      "text/plain": [
       "  0%|          | 0/396146 [00:00<?, ?it/s]"
      ]
     },
     "metadata": {},
     "output_type": "display_data"
    }
   ],
   "source": [
    "import numpy as np\n",
    "import scipy as sp\n",
    "import pickle as pkl\n",
    "import networkx as nx\n",
    "from py2neo import Graph\n",
    "import py2neo\n",
    "import pandas as pd\n",
    "import nxviz as nv\n",
    "import matplotlib.pyplot as plt\n",
    "from stellargraph import StellarGraph\n",
    "from sklearn import metrics\n",
    "\n",
    "\n",
    "%matplotlib inline\n",
    "\n",
    "broker_nodes = pkl.load(open( \"broker_nodes_brunosept.pkl\", \"rb\" ))\n",
    "cars_nodes = pkl.load(open( \"cars_nodes_brunosept.pkl\", \"rb\" ))\n",
    "claims_nodes = pkl.load(open( \"claims_nodes_brunosept.pkl\", \"rb\" ))\n",
    "policy_nodes = pkl.load(open( \"policy_nodes_brunosept.pkl\", \"rb\" ))\n",
    "edges = pkl.load(open( \"edges_brunosept.pkl\", \"rb\" ))\n",
    "\n",
    "labels = pd.DataFrame(pkl.load(open(\"Y\", \"rb\")))\n",
    "labels.rename(columns = {\"y1\": \"Fraud\", \"y2\":\"Labelled\"}, inplace = True)\n",
    "\n",
    "HG = StellarGraph({\"claim\" : claims_nodes, \"car\" : cars_nodes, \"policy\" : policy_nodes, \"broker\" : broker_nodes}, edges)\n",
    "\n",
    "HG_claims = HG.nodes(\"claim\")\n",
    "HG_cars = HG.nodes(\"car\")\n",
    "HG_sub = list(HG_claims)+ list(HG_cars)\n",
    "adjmat_claim_car = HG.to_adjacency_matrix(HG_sub)[:len(HG_claims), len(HG_claims):]\n",
    "\n",
    "HG_policies = HG.nodes(\"policy\")\n",
    "HG_sub = list(HG_cars)+list(HG_policies)\n",
    "adjmat_car_policy = HG.to_adjacency_matrix(HG_sub)[:len(HG_cars), len(HG_cars):]\n",
    "\n",
    "HG_brokers = HG.nodes(\"broker\")\n",
    "HG_sub = list(HG_policies) + list(HG_brokers)\n",
    "adjmat_policy_broker = HG.to_adjacency_matrix(HG_sub)[:len(HG_policies), len(HG_policies):]\n",
    "\n",
    "C = adjmat_claim_car\n",
    "P = adjmat_car_policy\n",
    "B = adjmat_policy_broker\n",
    "CP = C @ P\n",
    "CB = CP @ B\n",
    "\n",
    "A_bipartite = sp.sparse.hstack((C, \n",
    "                                CP,\n",
    "                                CB\n",
    "                               )).tocsr()\n",
    "\n",
    "\n",
    "nRows = A_bipartite.shape[0]\n",
    "edges = {\"source\":[], \"target\":[], \"weight\":[]}\n",
    "\n",
    "from tqdm.notebook import tqdm\n",
    "for i in tqdm(range(nRows)):\n",
    "    nonzeroIndices = A_bipartite[i, :].nonzero()\n",
    "    for j in nonzeroIndices[1]:\n",
    "        w = A_bipartite[i,j]\n",
    "        edges[\"source\"].append(i)\n",
    "        edges[\"target\"].append(j)\n",
    "        edges[\"weight\"].append(w)\n",
    "        \n",
    "df_edges = pd.DataFrame(edges)\n",
    "\n",
    "party_index = np.concatenate((np.array(cars_nodes.index), np.array(policy_nodes.index), np.array(broker_nodes.index)\n",
    "                             ))\n",
    "pd_party_index = pd.DataFrame(party_index)\n",
    "pd_party_index.columns = [\"party\"]\n",
    "pd_party_index[\"party_num\"] = range(len(party_index))\n",
    "\n",
    "pd_claim_index = pd.DataFrame(claims_nodes.index)\n",
    "pd_claim_index.columns = [\"claim\"]\n",
    "pd_claim_index[\"claim_num\"] = range(len(claims_nodes.index))\n",
    "\n",
    "pd_merged = pd_claim_index.merge(df_edges.merge(pd_party_index, how = \"left\", left_on = \"target\", right_on = \"party_num\"), left_on = \"claim_num\", right_on = \"source\")\n",
    "pd_merged = pd_merged[[\"claim\", \"party\", \"weight\"]]\n",
    "pd_merged.columns = [\"source\", \"target\", \"weight\"]\n",
    "\n",
    "all_claims = pd.DataFrame(pd_claim_index['claim'])\n",
    "all_claims.columns = [\"ID\"]\n",
    "all_claims = all_claims.set_index(\"ID\")\n",
    "\n",
    "all_parties = pd.DataFrame(pd_party_index['party'])\n",
    "all_parties.columns = [\"ID\"]\n",
    "all_parties = all_parties.set_index(\"ID\")\n",
    "\n",
    "HG_bipartite = StellarGraph({\"claim\": all_claims, \"party\":all_parties},edges = pd_merged[[\"source\", \"target\"]])\n",
    "\n",
    "Nx_bipartite = HG_bipartite.to_networkx()\n",
    "\n",
    "labels = pd.DataFrame(pkl.load(open(\"Y\", \"rb\")))\n",
    "labels.rename(columns = {\"y1\": \"Fraud\", \"y2\":\"Labelled\"}, inplace = True)"
   ]
  },
  {
   "cell_type": "code",
   "execution_count": 2,
   "id": "74c84237",
   "metadata": {},
   "outputs": [],
   "source": [
    "degrees = Nx_bipartite.degree\n",
    "deg_cl = [degrees[cl] for cl in list(all_claims.index)]"
   ]
  },
  {
   "cell_type": "code",
   "execution_count": 3,
   "id": "8594d798",
   "metadata": {},
   "outputs": [],
   "source": [
    "deg_cl_sort = np.sort(deg_cl)\n",
    "deg_cl_unique = np.unique(deg_cl)"
   ]
  },
  {
   "cell_type": "code",
   "execution_count": 4,
   "id": "a9082eda",
   "metadata": {},
   "outputs": [],
   "source": [
    "N = len(deg_cl)\n",
    "x = deg_cl_unique\n",
    "px = []\n",
    "for cl in x:\n",
    "    p = np.mean(deg_cl_sort== cl)\n",
    "    px.append(p)\n",
    "    "
   ]
  },
  {
   "cell_type": "code",
   "execution_count": 5,
   "id": "b13df585",
   "metadata": {
    "scrolled": true
   },
   "outputs": [
    {
     "data": {
      "image/png": "[encoded data removed]",
      "text/plain": [
       "<Figure size 432x288 with 1 Axes>"
      ]
     },
     "metadata": {
      "needs_background": "light"
     },
     "output_type": "display_data"
    }
   ],
   "source": [
    "plt.plot(x, px)\n",
    "plt.xscale('log')\n",
    "plt.yscale('log')"
   ]
  },
  {
   "cell_type": "code",
   "execution_count": null,
   "id": "5483f62b",
   "metadata": {},
   "outputs": [],
   "source": []
  }
 ],
 "metadata": {
  "kernelspec": {
   "display_name": "Python 3",
   "language": "python",
   "name": "python3"
  },
  "language_info": {
   "codemirror_mode": {
    "name": "ipython",
    "version": 3
   },
   "file_extension": ".py",
   "mimetype": "text/x-python",
   "name": "python",
   "nbconvert_exporter": "python",
   "pygments_lexer": "ipython3",
   "version": "3.8.8"
  }
 },
 "nbformat": 4,
 "nbformat_minor": 5
}
