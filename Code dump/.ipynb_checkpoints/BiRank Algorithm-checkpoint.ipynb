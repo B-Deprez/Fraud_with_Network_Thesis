{
 "cells": [
  {
   "cell_type": "markdown",
   "id": "5c92c481",
   "metadata": {},
   "source": [
    "# BiRank Algorithm"
   ]
  },
  {
   "cell_type": "markdown",
   "id": "c4d5c6ac",
   "metadata": {},
   "source": [
    "## Data "
   ]
  },
  {
   "cell_type": "code",
   "execution_count": 1,
   "id": "0201db4b",
   "metadata": {},
   "outputs": [
    {
     "name": "stderr",
     "output_type": "stream",
     "text": [
      "C:\\Users\\bruno\\anaconda3\\lib\\site-packages\\nxviz\\__init__.py:18: UserWarning: \n",
      "nxviz has a new API! Version 0.7.0 onwards, the old class-based API is being\n",
      "deprecated in favour of a new API focused on advancing a grammar of network\n",
      "graphics. If your plotting code depends on the old API, please consider\n",
      "pinning nxviz at version 0.7.0, as the new API will break your old code.\n",
      "\n",
      "To check out the new API, please head over to the docs at\n",
      "https://ericmjl.github.io/nxviz/ to learn more. We hope you enjoy using it!\n",
      "\n",
      "(This deprecation message will go away in version 1.0.)\n",
      "\n",
      "  warnings.warn(\n"
     ]
    }
   ],
   "source": [
    "import numpy as np\n",
    "import scipy as sp\n",
    "import pickle as pkl\n",
    "import networkx as nx\n",
    "from py2neo import Graph\n",
    "import py2neo\n",
    "import pandas as pd\n",
    "import nxviz as nv\n",
    "import matplotlib.pyplot as plt\n",
    "from stellargraph import StellarGraph\n",
    "from sklearn.metrics import precision_recall_curve\n",
    "\n",
    "from tqdm.notebook import tqdm\n",
    "\n",
    "\n",
    "%matplotlib inline"
   ]
  },
  {
   "cell_type": "code",
   "execution_count": 2,
   "id": "0038956d",
   "metadata": {},
   "outputs": [],
   "source": [
    "from BiRank import BiRank"
   ]
  },
  {
   "cell_type": "code",
   "execution_count": 3,
   "id": "63d69442",
   "metadata": {},
   "outputs": [],
   "source": [
    "broker_nodes = pkl.load(open( \"broker_nodes_brunosept.pkl\", \"rb\" ))\n",
    "cars_nodes = pkl.load(open( \"cars_nodes_brunosept.pkl\", \"rb\" ))\n",
    "claims_nodes = pkl.load(open( \"claims_nodes_brunosept.pkl\", \"rb\" )).sort_values(\"ID\")\n",
    "policy_nodes = pkl.load(open( \"policy_nodes_brunosept.pkl\", \"rb\" ))\n",
    "edges = pkl.load(open( \"edges_brunosept.pkl\", \"rb\" ))\n",
    "\n",
    "labels = pd.DataFrame(pkl.load(open(\"Y\", \"rb\"))).sort_values(\"SI01_NO_SIN\")\n",
    "labels.rename(columns = {\"y1\": \"Fraud\", \"y2\":\"Labelled\"}, inplace = True)"
   ]
  },
  {
   "cell_type": "code",
   "execution_count": 8,
   "id": "af8a1115",
   "metadata": {
    "scrolled": true
   },
   "outputs": [
    {
     "data": {
      "text/plain": [
       "array(['000020111059354', '000020111059939', '000020121000009', ...,\n",
       "       '000020211007108', '000020211007109', '000020211007111'],\n",
       "      dtype=object)"
      ]
     },
     "execution_count": 8,
     "metadata": {},
     "output_type": "execute_result"
    }
   ],
   "source": [
    "HG = StellarGraph({\"claim\" : claims_nodes, \"car\" : cars_nodes, \"policy\" : policy_nodes, \"broker\" : broker_nodes}, edges)\n",
    "\n",
    "j = 0\n",
    "nodes = []\n",
    "for i in HG.connected_components():\n",
    "    if j == 0:\n",
    "        nodes.append(i)\n",
    "    else: \n",
    "        break\n",
    "\n",
    "nodes_largest_con_comp = nodes[0]\n",
    "\n",
    "HG = HG.subgraph(nodes_largest_con_comp); HG.nodes(\"claim\")"
   ]
  },
  {
   "cell_type": "code",
   "execution_count": 9,
   "id": "0a266b97",
   "metadata": {},
   "outputs": [],
   "source": [
    "labels = labels[labels.index.isin(HG.nodes(\"claim\"))]"
   ]
  },
  {
   "cell_type": "markdown",
   "id": "4058e3c2",
   "metadata": {},
   "source": [
    "## Adjacency Matrix"
   ]
  },
  {
   "cell_type": "code",
   "execution_count": 12,
   "id": "de3902a3",
   "metadata": {},
   "outputs": [],
   "source": [
    "HG_claims = HG.nodes(\"claim\")\n",
    "HG_cars = HG.nodes(\"car\")\n",
    "HG_sub = list(HG_claims)+ list(HG_cars)\n",
    "adjmat_claim_car = HG.to_adjacency_matrix(HG_sub)[:len(HG_claims), len(HG_claims):]\n",
    "\n",
    "HG_policies = HG.nodes(\"policy\")\n",
    "HG_sub = list(HG_cars)+list(HG_policies)\n",
    "adjmat_car_policy = HG.to_adjacency_matrix(HG_sub)[:len(HG_cars), len(HG_cars):]\n",
    "\n",
    "HG_brokers = HG.nodes(\"broker\")\n",
    "HG_sub = list(HG_policies) + list(HG_brokers)\n",
    "adjmat_policy_broker = HG.to_adjacency_matrix(HG_sub)[:len(HG_policies), len(HG_policies):]"
   ]
  },
  {
   "cell_type": "code",
   "execution_count": 13,
   "id": "59d5a639",
   "metadata": {},
   "outputs": [
    {
     "data": {
      "text/plain": [
       "array(['000020111059354', '000020111059939', '000020121000009', ...,\n",
       "       '000020211007108', '000020211007109', '000020211007111'],\n",
       "      dtype=object)"
      ]
     },
     "execution_count": 13,
     "metadata": {},
     "output_type": "execute_result"
    }
   ],
   "source": [
    "HG_claims"
   ]
  },
  {
   "cell_type": "code",
   "execution_count": 14,
   "id": "ab3c87e2",
   "metadata": {},
   "outputs": [],
   "source": [
    "C = adjmat_claim_car\n",
    "P = adjmat_car_policy\n",
    "B = adjmat_policy_broker\n",
    "CP = C @ P\n",
    "CB = CP @ B\n",
    "\n",
    "adjmat_bipartite = sp.sparse.hstack((C, CP, CB))"
   ]
  },
  {
   "cell_type": "markdown",
   "id": "9247efdf",
   "metadata": {},
   "source": [
    "## Fraud labels"
   ]
  },
  {
   "cell_type": "code",
   "execution_count": 15,
   "id": "acc6e24c",
   "metadata": {},
   "outputs": [],
   "source": [
    "fraud = {\"FraudInd\": labels[\"Fraud\"].values}\n",
    "fraudMat = pd.DataFrame(fraud)\n",
    "\n",
    "claim_nodes = pd.DataFrame({\"ID\": HG_claims}).set_index(\"ID\")\n",
    "\n",
    "HG_parties = np.concatenate((HG_cars, HG_policies, HG_brokers))\n",
    "party_nodes = pd.DataFrame({\"ID\": HG_parties}).set_index(\"ID\")\n",
    "\n",
    "ADJ = adjmat_bipartite.transpose().tocsr()"
   ]
  },
  {
   "cell_type": "code",
   "execution_count": 16,
   "id": "0485ab43",
   "metadata": {},
   "outputs": [
    {
     "name": "stderr",
     "output_type": "stream",
     "text": [
      "C:\\Users\\bruno\\OneDrive\\Documenten\\KUL\\MaAct2\\Thesis\\Python\\BiRank.py:6: RuntimeWarning: divide by zero encountered in true_divide\n",
      "  Dp = sparse.diags(np.asarray(1 / np.sqrt(adjMat.sum(axis=1).flatten())), [0])\n"
     ]
    },
    {
     "name": "stdout",
     "output_type": "stream",
     "text": [
      "Convergence reached.\n"
     ]
    }
   ],
   "source": [
    "Claims_res, Parties_res, aMat, iterations, convergence = BiRank(ADJ, claim_nodes, party_nodes, fraudMat)"
   ]
  },
  {
   "cell_type": "code",
   "execution_count": 17,
   "id": "eae0fdd3",
   "metadata": {
    "scrolled": true
   },
   "outputs": [
    {
     "name": "stdout",
     "output_type": "stream",
     "text": [
      "\\begin{tabular}{lrrrr}\n",
      "\\toprule\n",
      "{} &      ID &     Score &   StdScore &  ScaledScore \\\\\n",
      "\\midrule\n",
      "59872  &   59872 &  0.000691 &  38.869349 &     1.000000 \\\\\n",
      "55116  &   55116 &  0.000690 &  38.808654 &     0.998443 \\\\\n",
      "105980 &  105980 &  0.000688 &  38.709495 &     0.995900 \\\\\n",
      "86863  &   86863 &  0.000640 &  36.016585 &     0.926831 \\\\\n",
      "126178 &  126178 &  0.000640 &  35.998055 &     0.926356 \\\\\n",
      "\\bottomrule\n",
      "\\end{tabular}\n",
      "\n"
     ]
    }
   ],
   "source": [
    "print(Claims_res.head().to_latex())"
   ]
  },
  {
   "cell_type": "code",
   "execution_count": 18,
   "id": "fd0b78b9",
   "metadata": {
    "scrolled": true
   },
   "outputs": [
    {
     "data": {
      "text/html": [
       "<div>\n",
       "<style scoped>\n",
       "    .dataframe tbody tr th:only-of-type {\n",
       "        vertical-align: middle;\n",
       "    }\n",
       "\n",
       "    .dataframe tbody tr th {\n",
       "        vertical-align: top;\n",
       "    }\n",
       "\n",
       "    .dataframe thead th {\n",
       "        text-align: right;\n",
       "    }\n",
       "</style>\n",
       "<table border=\"1\" class=\"dataframe\">\n",
       "  <thead>\n",
       "    <tr style=\"text-align: right;\">\n",
       "      <th></th>\n",
       "      <th>ID</th>\n",
       "      <th>Score</th>\n",
       "      <th>StdScore</th>\n",
       "      <th>ScaledScore</th>\n",
       "      <th>Fraud</th>\n",
       "      <th>Labelled</th>\n",
       "    </tr>\n",
       "  </thead>\n",
       "  <tbody>\n",
       "    <tr>\n",
       "      <th>774</th>\n",
       "      <td>41260</td>\n",
       "      <td>0.000218</td>\n",
       "      <td>12.162676</td>\n",
       "      <td>0.315016</td>\n",
       "      <td>0</td>\n",
       "      <td>0.0</td>\n",
       "    </tr>\n",
       "    <tr>\n",
       "      <th>777</th>\n",
       "      <td>142357</td>\n",
       "      <td>0.000215</td>\n",
       "      <td>12.002447</td>\n",
       "      <td>0.310906</td>\n",
       "      <td>0</td>\n",
       "      <td>0.0</td>\n",
       "    </tr>\n",
       "    <tr>\n",
       "      <th>786</th>\n",
       "      <td>41267</td>\n",
       "      <td>0.000210</td>\n",
       "      <td>11.718923</td>\n",
       "      <td>0.303634</td>\n",
       "      <td>0</td>\n",
       "      <td>0.0</td>\n",
       "    </tr>\n",
       "    <tr>\n",
       "      <th>792</th>\n",
       "      <td>196172</td>\n",
       "      <td>0.000202</td>\n",
       "      <td>11.267767</td>\n",
       "      <td>0.292063</td>\n",
       "      <td>0</td>\n",
       "      <td>0.0</td>\n",
       "    </tr>\n",
       "    <tr>\n",
       "      <th>808</th>\n",
       "      <td>223676</td>\n",
       "      <td>0.000187</td>\n",
       "      <td>10.442149</td>\n",
       "      <td>0.270887</td>\n",
       "      <td>0</td>\n",
       "      <td>0.0</td>\n",
       "    </tr>\n",
       "    <tr>\n",
       "      <th>809</th>\n",
       "      <td>201997</td>\n",
       "      <td>0.000187</td>\n",
       "      <td>10.412901</td>\n",
       "      <td>0.270137</td>\n",
       "      <td>0</td>\n",
       "      <td>0.0</td>\n",
       "    </tr>\n",
       "    <tr>\n",
       "      <th>810</th>\n",
       "      <td>179822</td>\n",
       "      <td>0.000186</td>\n",
       "      <td>10.391016</td>\n",
       "      <td>0.269576</td>\n",
       "      <td>0</td>\n",
       "      <td>0.0</td>\n",
       "    </tr>\n",
       "    <tr>\n",
       "      <th>811</th>\n",
       "      <td>180643</td>\n",
       "      <td>0.000183</td>\n",
       "      <td>10.206540</td>\n",
       "      <td>0.264844</td>\n",
       "      <td>0</td>\n",
       "      <td>1.0</td>\n",
       "    </tr>\n",
       "    <tr>\n",
       "      <th>812</th>\n",
       "      <td>352044</td>\n",
       "      <td>0.000183</td>\n",
       "      <td>10.185405</td>\n",
       "      <td>0.264302</td>\n",
       "      <td>0</td>\n",
       "      <td>1.0</td>\n",
       "    </tr>\n",
       "    <tr>\n",
       "      <th>813</th>\n",
       "      <td>279678</td>\n",
       "      <td>0.000177</td>\n",
       "      <td>9.843192</td>\n",
       "      <td>0.255525</td>\n",
       "      <td>0</td>\n",
       "      <td>0.0</td>\n",
       "    </tr>\n",
       "  </tbody>\n",
       "</table>\n",
       "</div>"
      ],
      "text/plain": [
       "         ID     Score   StdScore  ScaledScore  Fraud  Labelled\n",
       "774   41260  0.000218  12.162676     0.315016      0       0.0\n",
       "777  142357  0.000215  12.002447     0.310906      0       0.0\n",
       "786   41267  0.000210  11.718923     0.303634      0       0.0\n",
       "792  196172  0.000202  11.267767     0.292063      0       0.0\n",
       "808  223676  0.000187  10.442149     0.270887      0       0.0\n",
       "809  201997  0.000187  10.412901     0.270137      0       0.0\n",
       "810  179822  0.000186  10.391016     0.269576      0       0.0\n",
       "811  180643  0.000183  10.206540     0.264844      0       1.0\n",
       "812  352044  0.000183  10.185405     0.264302      0       1.0\n",
       "813  279678  0.000177   9.843192     0.255525      0       0.0"
      ]
     },
     "execution_count": 18,
     "metadata": {},
     "output_type": "execute_result"
    }
   ],
   "source": [
    "fraudsters = labels\n",
    "fraudsters = pd.DataFrame(fraudsters)\n",
    "fraudsters[\"ID\"] = range(len(labels.index))\n",
    "\n",
    "claims_merged = pd.merge(Claims_res, fraudsters, on = \"ID\")\n",
    "claims_merged[claims_merged[\"Fraud\"]==0].head(10)"
   ]
  },
  {
   "cell_type": "code",
   "execution_count": 19,
   "id": "789e8a2a",
   "metadata": {},
   "outputs": [
    {
     "name": "stdout",
     "output_type": "stream",
     "text": [
      "\\begin{tabular}{lrrrrrr}\n",
      "\\toprule\n",
      "{} &      ID &     Score &   StdScore &  ScaledScore &  Fraud &  Labelled \\\\\n",
      "\\midrule\n",
      "774 &   41260 &  0.000218 &  12.162676 &     0.315016 &      0 &       0.0 \\\\\n",
      "777 &  142357 &  0.000215 &  12.002447 &     0.310906 &      0 &       0.0 \\\\\n",
      "786 &   41267 &  0.000210 &  11.718923 &     0.303634 &      0 &       0.0 \\\\\n",
      "792 &  196172 &  0.000202 &  11.267767 &     0.292063 &      0 &       0.0 \\\\\n",
      "808 &  223676 &  0.000187 &  10.442149 &     0.270887 &      0 &       0.0 \\\\\n",
      "\\bottomrule\n",
      "\\end{tabular}\n",
      "\n"
     ]
    }
   ],
   "source": [
    "print(claims_merged[claims_merged[\"Fraud\"]==0].head().to_latex())"
   ]
  },
  {
   "cell_type": "code",
   "execution_count": 20,
   "id": "7698e280",
   "metadata": {},
   "outputs": [
    {
     "data": {
      "text/plain": [
       "Series([], Name: 000020121000970, dtype: float64)"
      ]
     },
     "execution_count": 20,
     "metadata": {},
     "output_type": "execute_result"
    }
   ],
   "source": [
    "claim_nodes.iloc[703] #highest fraud"
   ]
  },
  {
   "cell_type": "code",
   "execution_count": 21,
   "id": "c3c170ad",
   "metadata": {},
   "outputs": [
    {
     "data": {
      "text/plain": [
       "Series([], Name: 000020141033072, dtype: float64)"
      ]
     },
     "execution_count": 21,
     "metadata": {},
     "output_type": "execute_result"
    }
   ],
   "source": [
    "claim_nodes.iloc[116408] #with brokers"
   ]
  },
  {
   "cell_type": "code",
   "execution_count": 22,
   "id": "4fd05976",
   "metadata": {},
   "outputs": [
    {
     "data": {
      "text/plain": [
       "Series([], Name: 000020141041214, dtype: float64)"
      ]
     },
     "execution_count": 22,
     "metadata": {},
     "output_type": "execute_result"
    }
   ],
   "source": [
    "claim_nodes.iloc[122134] #with brokers"
   ]
  },
  {
   "cell_type": "code",
   "execution_count": 23,
   "id": "2966ecc8",
   "metadata": {
    "scrolled": false
   },
   "outputs": [
    {
     "data": {
      "text/plain": [
       "Series([], Name: 000020121052243, dtype: float64)"
      ]
     },
     "execution_count": 23,
     "metadata": {},
     "output_type": "execute_result"
    }
   ],
   "source": [
    "claim_nodes.iloc[38447] #with brokers"
   ]
  },
  {
   "cell_type": "code",
   "execution_count": 24,
   "id": "24130270",
   "metadata": {
    "scrolled": true
   },
   "outputs": [
    {
     "data": {
      "text/plain": [
       "Series([], Name: 000020121059586, dtype: float64)"
      ]
     },
     "execution_count": 24,
     "metadata": {},
     "output_type": "execute_result"
    }
   ],
   "source": [
    "claim_nodes.iloc[43645] #without brokers"
   ]
  },
  {
   "cell_type": "code",
   "execution_count": 25,
   "id": "e884b7b6",
   "metadata": {
    "scrolled": true
   },
   "outputs": [
    {
     "data": {
      "text/plain": [
       "Series([], Name: 000020201023664, dtype: float64)"
      ]
     },
     "execution_count": 25,
     "metadata": {},
     "output_type": "execute_result"
    }
   ],
   "source": [
    "claim_nodes.iloc[367463] #without brokers"
   ]
  },
  {
   "cell_type": "code",
   "execution_count": 26,
   "id": "4967f1db",
   "metadata": {},
   "outputs": [],
   "source": [
    "from sklearn import metrics"
   ]
  },
  {
   "cell_type": "code",
   "execution_count": 27,
   "id": "a951c97e",
   "metadata": {
    "scrolled": true
   },
   "outputs": [
    {
     "data": {
      "text/plain": [
       "Text(0.5, 1.0, 'AUC: 1.0')"
      ]
     },
     "execution_count": 27,
     "metadata": {},
     "output_type": "execute_result"
    },
    {
     "data": {
      "image/png": "[encoded data removed]",
      "text/plain": [
       "<Figure size 432x288 with 1 Axes>"
      ]
     },
     "metadata": {
      "needs_background": "light"
     },
     "output_type": "display_data"
    }
   ],
   "source": [
    "from sklearn import metrics\n",
    "y = labels.Fraud.values\n",
    "pred = Claims_res.sort_values(\"ID\").ScaledScore\n",
    "\n",
    "fpr, tpr, thresholds = metrics.roc_curve(y,pred)\n",
    "\n",
    "plt.plot(fpr,tpr)\n",
    "plt.plot([0,1], [0,1], color = \"grey\", alpha = 0.5)\n",
    "plt.title(\"AUC: \"+str(np.round(metrics.auc(fpr, tpr),3)))"
   ]
  },
  {
   "cell_type": "code",
   "execution_count": 29,
   "id": "ee5d5be1",
   "metadata": {},
   "outputs": [
    {
     "data": {
      "text/plain": [
       "Text(0.5, 1.0, 'Average Precision: 1.0')"
      ]
     },
     "execution_count": 29,
     "metadata": {},
     "output_type": "execute_result"
    },
    {
     "data": {
      "image/png": "[encoded data removed]",
      "text/plain": [
       "<Figure size 432x288 with 1 Axes>"
      ]
     },
     "metadata": {
      "needs_background": "light"
     },
     "output_type": "display_data"
    }
   ],
   "source": [
    "precision, recall, thresholds = precision_recall_curve(y, pred)\n",
    "plt.plot(recall,precision)\n",
    "plt.title(\"Average Precision: \"+str(np.round(metrics.average_precision_score(y, pred),3)))"
   ]
  },
  {
   "cell_type": "code",
   "execution_count": 30,
   "id": "c101e7a2",
   "metadata": {
    "scrolled": true
   },
   "outputs": [
    {
     "name": "stderr",
     "output_type": "stream",
     "text": [
      "C:\\Users\\bruno\\OneDrive\\Documenten\\KUL\\MaAct2\\Thesis\\Python\\BiRank.py:6: RuntimeWarning: divide by zero encountered in true_divide\n",
      "  Dp = sparse.diags(np.asarray(1 / np.sqrt(adjMat.sum(axis=1).flatten())), [0])\n"
     ]
    },
    {
     "name": "stdout",
     "output_type": "stream",
     "text": [
      "Convergence reached.\n",
      "Convergence reached.\n"
     ]
    }
   ],
   "source": [
    "ADJ = adjmat_bipartite.tocsr()\n",
    "number_claims = ADJ.shape[0]\n",
    "train_set_size = int(np.round(0.6*number_claims))\n",
    "test_set_size = number_claims-train_set_size\n",
    "ADJ_train= ADJ[:train_set_size,:]\n",
    "fraud_train = {\"FraudInd\": labels[\"Fraud\"].values[:train_set_size]}\n",
    "fraudMat_train = pd.DataFrame(fraud_train)\n",
    "claims_train = claim_nodes[:train_set_size]\n",
    "\n",
    "ADJ = ADJ_train.transpose().tocsr()\n",
    "Claims_res, Parties_res, aMat, iterations, convergence = BiRank(ADJ, claims_train, party_nodes, fraudMat_train)\n",
    "\n",
    "fraud_train_res = {\"FraudInd\": Claims_res.sort_values(\"ID\")[\"ScaledScore\"].values}\n",
    "test_set_fraud = {\"FraudInd\": [0]*test_set_size}\n",
    "fraudMat_train_res = pd.DataFrame(fraud_train_res)\n",
    "fraudMat_test_set = pd.DataFrame(test_set_fraud)\n",
    "fraudMat_test = fraudMat_train_res.append(fraudMat_test_set)\n",
    "\n",
    "ADJ = adjmat_bipartite.transpose().tocsr()\n",
    "Claims_res, Parties_res, aMat, iterations, convergence = BiRank(ADJ, claim_nodes, party_nodes, fraudMat_test)"
   ]
  },
  {
   "cell_type": "code",
   "execution_count": 31,
   "id": "384db643",
   "metadata": {},
   "outputs": [],
   "source": [
    "#ths = [8**(-x) for x in range(3,6)]\n",
    "#ths.append(0); ths"
   ]
  },
  {
   "cell_type": "code",
   "execution_count": 32,
   "id": "f9f87571",
   "metadata": {
    "scrolled": false
   },
   "outputs": [
    {
     "data": {
      "image/png": "[encoded data removed]",
      "text/plain": [
       "<Figure size 432x288 with 1 Axes>"
      ]
     },
     "metadata": {
      "needs_background": "light"
     },
     "output_type": "display_data"
    }
   ],
   "source": [
    "y = labels[train_set_size:].Fraud.values\n",
    "pred = Claims_res.sort_values(\"ID\")[train_set_size:].ScaledScore\n",
    "fpr, tpr, thresholds = metrics.roc_curve(y,pred)\n",
    "\n",
    "plt.plot(fpr,tpr)\n",
    "\n",
    "#for i in range(len(ths)-1):\n",
    "#    fp = fpr[(thresholds<ths[i])&(thresholds>ths[i+1])]\n",
    "#    tp = tpr[(thresholds<ths[i])&(thresholds>ths[i+1])]\n",
    "#    plt.plot(fp, tp)\n",
    "\n",
    "plt.plot([0,1], [0,1], color = \"grey\", alpha = 0.5)\n",
    "plt.title(\"AUC: \"+str(np.round(metrics.auc(fpr, tpr),3)))\n",
    "plt.savefig(\"AUC_Inductive_Connected.pdf\")"
   ]
  },
  {
   "cell_type": "code",
   "execution_count": 33,
   "id": "f2e3468a",
   "metadata": {},
   "outputs": [
    {
     "data": {
      "text/plain": [
       "Text(0.5, 1.0, 'Average Precision: 0.002')"
      ]
     },
     "execution_count": 33,
     "metadata": {},
     "output_type": "execute_result"
    },
    {
     "data": {
      "image/png": "[encoded data removed]",
      "text/plain": [
       "<Figure size 432x288 with 1 Axes>"
      ]
     },
     "metadata": {
      "needs_background": "light"
     },
     "output_type": "display_data"
    }
   ],
   "source": [
    "precision, recall, thresholds = precision_recall_curve(y, pred)\n",
    "plt.plot(recall,precision)\n",
    "plt.title(\"Average Precision: \"+str(np.round(metrics.average_precision_score(y, pred),3)))"
   ]
  },
  {
   "cell_type": "code",
   "execution_count": 34,
   "id": "2d4c7e58",
   "metadata": {
    "scrolled": false
   },
   "outputs": [
    {
     "name": "stderr",
     "output_type": "stream",
     "text": [
      "C:\\Users\\bruno\\OneDrive\\Documenten\\KUL\\MaAct2\\Thesis\\Python\\BiRank.py:6: RuntimeWarning: divide by zero encountered in true_divide\n",
      "  Dp = sparse.diags(np.asarray(1 / np.sqrt(adjMat.sum(axis=1).flatten())), [0])\n"
     ]
    },
    {
     "name": "stdout",
     "output_type": "stream",
     "text": [
      "Convergence reached.\n"
     ]
    },
    {
     "data": {
      "image/png": "[encoded data removed]",
      "text/plain": [
       "<Figure size 432x288 with 1 Axes>"
      ]
     },
     "metadata": {
      "needs_background": "light"
     },
     "output_type": "display_data"
    }
   ],
   "source": [
    "fraud_train = {\"FraudInd\": labels[\"Fraud\"].values[:train_set_size]}\n",
    "fraudMat_train = pd.DataFrame(fraud_train)\n",
    "test_set_fraud = {\"FraudInd\": [0]*test_set_size}\n",
    "fraudMat_test_set = pd.DataFrame(test_set_fraud)\n",
    "fraudMat_test = fraudMat_train.append(fraudMat_test_set)\n",
    "\n",
    "ADJ = adjmat_bipartite.transpose().tocsr()\n",
    "Claims_res, Parties_res, aMat, iterations, convergence = BiRank(ADJ, claim_nodes, party_nodes, fraudMat_test)\n",
    "\n",
    "y = labels[train_set_size:].Fraud.values\n",
    "pred = Claims_res.sort_values(\"ID\")[train_set_size:].ScaledScore\n",
    "fpr, tpr, thresholds = metrics.roc_curve(y,pred)\n",
    "plt.plot(fpr,tpr)\n",
    "plt.plot([0,1], [0,1], color = \"grey\", alpha = 0.5)\n",
    "plt.title(\"AUC: \"+str(np.round(metrics.auc(fpr, tpr),3)))\n",
    "plt.savefig(\"AUC_Transductive_Connected.pdf\")"
   ]
  },
  {
   "cell_type": "code",
   "execution_count": 35,
   "id": "711fd723",
   "metadata": {},
   "outputs": [
    {
     "data": {
      "text/plain": [
       "Text(0.5, 1.0, 'Average Precision: 0.002')"
      ]
     },
     "execution_count": 35,
     "metadata": {},
     "output_type": "execute_result"
    },
    {
     "data": {
      "image/png": "[encoded data removed]",
      "text/plain": [
       "<Figure size 432x288 with 1 Axes>"
      ]
     },
     "metadata": {
      "needs_background": "light"
     },
     "output_type": "display_data"
    }
   ],
   "source": [
    "precision, recall, thresholds = precision_recall_curve(y, pred)\n",
    "plt.plot(recall,precision)\n",
    "plt.title(\"Average Precision: \"+str(np.round(metrics.average_precision_score(y, pred),3)))"
   ]
  },
  {
   "cell_type": "code",
   "execution_count": 36,
   "id": "1b2de91e",
   "metadata": {},
   "outputs": [
    {
     "name": "stdout",
     "output_type": "stream",
     "text": [
      "\\begin{tabular}{lrrrr}\n",
      "\\toprule\n",
      "{} &      ID &     Score &   StdScore &  ScaledScore \\\\\n",
      "\\midrule\n",
      "59872  &   59872 &  0.000905 &  44.230053 &     1.000000 \\\\\n",
      "55116  &   55116 &  0.000903 &  44.160157 &     0.998423 \\\\\n",
      "105980 &  105980 &  0.000901 &  44.033666 &     0.995570 \\\\\n",
      "86863  &   86863 &  0.000838 &  40.981114 &     0.926716 \\\\\n",
      "126178 &  126178 &  0.000838 &  40.963499 &     0.926318 \\\\\n",
      "\\bottomrule\n",
      "\\end{tabular}\n",
      "\n"
     ]
    }
   ],
   "source": [
    "print(Claims_res.head().to_latex())"
   ]
  },
  {
   "cell_type": "markdown",
   "id": "5f694885",
   "metadata": {},
   "source": [
    "## Labelled"
   ]
  },
  {
   "cell_type": "code",
   "execution_count": 37,
   "id": "33673e3f",
   "metadata": {
    "scrolled": false
   },
   "outputs": [
    {
     "name": "stderr",
     "output_type": "stream",
     "text": [
      "C:\\Users\\bruno\\OneDrive\\Documenten\\KUL\\MaAct2\\Thesis\\Python\\BiRank.py:6: RuntimeWarning: divide by zero encountered in true_divide\n",
      "  Dp = sparse.diags(np.asarray(1 / np.sqrt(adjMat.sum(axis=1).flatten())), [0])\n"
     ]
    },
    {
     "name": "stdout",
     "output_type": "stream",
     "text": [
      "Convergence reached.\n"
     ]
    },
    {
     "data": {
      "text/plain": [
       "Text(0.5, 1.0, 'AUC: 0.986')"
      ]
     },
     "execution_count": 37,
     "metadata": {},
     "output_type": "execute_result"
    },
    {
     "data": {
      "image/png": "[encoded data removed]",
      "text/plain": [
       "<Figure size 432x288 with 1 Axes>"
      ]
     },
     "metadata": {
      "needs_background": "light"
     },
     "output_type": "display_data"
    }
   ],
   "source": [
    "fraud = {\"FraudInd\": labels[\"Labelled\"].values}\n",
    "fraudMat = pd.DataFrame(fraud)\n",
    "\n",
    "claim_nodes = pd.DataFrame({\"ID\": HG_claims}).set_index(\"ID\")\n",
    "\n",
    "HG_parties = np.concatenate((HG_cars, HG_policies, HG_brokers))\n",
    "party_nodes = pd.DataFrame({\"ID\": HG_parties}).set_index(\"ID\")\n",
    "\n",
    "ADJ = adjmat_bipartite.transpose().tocsr()\n",
    "\n",
    "Claims_res, Parties_res, aMat, iterations, convergence = BiRank(ADJ, claim_nodes, party_nodes, fraudMat)\n",
    "\n",
    "fraudsters = labels\n",
    "fraudsters = pd.DataFrame(fraudsters)\n",
    "fraudsters[\"ID\"] = range(len(labels.index))\n",
    "\n",
    "y = labels.Fraud.values\n",
    "pred = Claims_res.sort_values(\"ID\").ScaledScore\n",
    "\n",
    "fpr, tpr, thresholds = metrics.roc_curve(y,pred)\n",
    "\n",
    "plt.plot(fpr,tpr)\n",
    "plt.plot([0,1], [0,1], color = \"grey\", alpha = 0.5)\n",
    "plt.title(\"AUC: \"+str(np.round(metrics.auc(fpr, tpr),3)))"
   ]
  },
  {
   "cell_type": "code",
   "execution_count": 38,
   "id": "31713feb",
   "metadata": {
    "scrolled": false
   },
   "outputs": [
    {
     "name": "stderr",
     "output_type": "stream",
     "text": [
      "C:\\Users\\bruno\\OneDrive\\Documenten\\KUL\\MaAct2\\Thesis\\Python\\BiRank.py:6: RuntimeWarning: divide by zero encountered in true_divide\n",
      "  Dp = sparse.diags(np.asarray(1 / np.sqrt(adjMat.sum(axis=1).flatten())), [0])\n"
     ]
    },
    {
     "name": "stdout",
     "output_type": "stream",
     "text": [
      "Convergence reached.\n",
      "Convergence reached.\n"
     ]
    },
    {
     "data": {
      "text/plain": [
       "Text(0.5, 1.0, 'AUC: 0.53')"
      ]
     },
     "execution_count": 38,
     "metadata": {},
     "output_type": "execute_result"
    },
    {
     "data": {
      "image/png": "[encoded data removed]",
      "text/plain": [
       "<Figure size 432x288 with 1 Axes>"
      ]
     },
     "metadata": {
      "needs_background": "light"
     },
     "output_type": "display_data"
    }
   ],
   "source": [
    "ADJ = adjmat_bipartite.tocsr()\n",
    "number_claims = ADJ.shape[0]\n",
    "train_set_size = int(np.round(0.6*number_claims))\n",
    "test_set_size = number_claims-train_set_size\n",
    "ADJ_train= ADJ[:train_set_size,:]\n",
    "fraud_train = {\"FraudInd\": labels[\"Labelled\"].values[:train_set_size]}\n",
    "fraudMat_train = pd.DataFrame(fraud_train)\n",
    "claims_train = claim_nodes[:train_set_size]\n",
    "\n",
    "ADJ = ADJ_train.transpose().tocsr()\n",
    "Claims_res, Parties_res, aMat, iterations, convergence = BiRank(ADJ, claims_train, party_nodes, fraudMat_train)\n",
    "\n",
    "fraud_train_res = {\"FraudInd\": Claims_res.sort_values(\"ID\")[\"ScaledScore\"].values}\n",
    "test_set_fraud = {\"FraudInd\": [0]*test_set_size}\n",
    "fraudMat_train_res = pd.DataFrame(fraud_train_res)\n",
    "fraudMat_test_set = pd.DataFrame(test_set_fraud)\n",
    "fraudMat_test = fraudMat_train_res.append(fraudMat_test_set)\n",
    "\n",
    "ADJ = adjmat_bipartite.transpose().tocsr()\n",
    "Claims_res, Parties_res, aMat, iterations, convergence = BiRank(ADJ, claim_nodes, party_nodes, fraudMat_test)\n",
    "\n",
    "y = labels[train_set_size:].Labelled.values\n",
    "pred = Claims_res.sort_values(\"ID\")[train_set_size:].ScaledScore\n",
    "fpr, tpr, thresholds = metrics.roc_curve(y,pred)\n",
    "plt.plot(fpr,tpr)\n",
    "plt.plot([0,1], [0,1], color = \"grey\", alpha = 0.5)\n",
    "plt.title(\"AUC: \"+str(np.round(metrics.auc(fpr, tpr),3)))"
   ]
  },
  {
   "cell_type": "code",
   "execution_count": 39,
   "id": "d678e898",
   "metadata": {
    "scrolled": false
   },
   "outputs": [
    {
     "name": "stderr",
     "output_type": "stream",
     "text": [
      "C:\\Users\\bruno\\OneDrive\\Documenten\\KUL\\MaAct2\\Thesis\\Python\\BiRank.py:6: RuntimeWarning: divide by zero encountered in true_divide\n",
      "  Dp = sparse.diags(np.asarray(1 / np.sqrt(adjMat.sum(axis=1).flatten())), [0])\n"
     ]
    },
    {
     "name": "stdout",
     "output_type": "stream",
     "text": [
      "Convergence reached.\n"
     ]
    },
    {
     "data": {
      "text/plain": [
       "Text(0.5, 1.0, 'AUC: 0.535')"
      ]
     },
     "execution_count": 39,
     "metadata": {},
     "output_type": "execute_result"
    },
    {
     "data": {
      "image/png": "[encoded data removed]",
      "text/plain": [
       "<Figure size 432x288 with 1 Axes>"
      ]
     },
     "metadata": {
      "needs_background": "light"
     },
     "output_type": "display_data"
    }
   ],
   "source": [
    "fraud_train = {\"FraudInd\": labels[\"Labelled\"].values[:train_set_size]}\n",
    "fraudMat_train = pd.DataFrame(fraud_train)\n",
    "test_set_fraud = {\"FraudInd\": [0]*test_set_size}\n",
    "fraudMat_test_set = pd.DataFrame(test_set_fraud)\n",
    "fraudMat_test = fraudMat_train.append(fraudMat_test_set)\n",
    "\n",
    "ADJ = adjmat_bipartite.transpose().tocsr()\n",
    "Claims_res, Parties_res, aMat, iterations, convergence = BiRank(ADJ, claim_nodes, party_nodes, fraudMat_test)\n",
    "\n",
    "y = labels[train_set_size:].Labelled.values\n",
    "pred = Claims_res.sort_values(\"ID\")[train_set_size:].ScaledScore\n",
    "fpr, tpr, thresholds = metrics.roc_curve(y,pred)\n",
    "plt.plot(fpr,tpr)\n",
    "plt.plot([0,1], [0,1], color = \"grey\", alpha = 0.5)\n",
    "plt.title(\"AUC: \"+str(np.round(metrics.auc(fpr, tpr),3)))"
   ]
  },
  {
   "cell_type": "code",
   "execution_count": 40,
   "id": "f9f8ac8f",
   "metadata": {
    "scrolled": false
   },
   "outputs": [
    {
     "data": {
      "text/html": [
       "<div>\n",
       "<style scoped>\n",
       "    .dataframe tbody tr th:only-of-type {\n",
       "        vertical-align: middle;\n",
       "    }\n",
       "\n",
       "    .dataframe tbody tr th {\n",
       "        vertical-align: top;\n",
       "    }\n",
       "\n",
       "    .dataframe thead th {\n",
       "        text-align: right;\n",
       "    }\n",
       "</style>\n",
       "<table border=\"1\" class=\"dataframe\">\n",
       "  <thead>\n",
       "    <tr style=\"text-align: right;\">\n",
       "      <th></th>\n",
       "      <th>ID</th>\n",
       "      <th>Score</th>\n",
       "      <th>StdScore</th>\n",
       "      <th>ScaledScore</th>\n",
       "    </tr>\n",
       "  </thead>\n",
       "  <tbody>\n",
       "    <tr>\n",
       "      <th>227787</th>\n",
       "      <td>227787</td>\n",
       "      <td>1.129715e-06</td>\n",
       "      <td>-0.177184</td>\n",
       "      <td>0.015143</td>\n",
       "    </tr>\n",
       "    <tr>\n",
       "      <th>227788</th>\n",
       "      <td>227788</td>\n",
       "      <td>1.657672e-06</td>\n",
       "      <td>-0.083221</td>\n",
       "      <td>0.022220</td>\n",
       "    </tr>\n",
       "    <tr>\n",
       "      <th>227789</th>\n",
       "      <td>227789</td>\n",
       "      <td>6.860867e-07</td>\n",
       "      <td>-0.256139</td>\n",
       "      <td>0.009196</td>\n",
       "    </tr>\n",
       "    <tr>\n",
       "      <th>227790</th>\n",
       "      <td>227790</td>\n",
       "      <td>5.280911e-07</td>\n",
       "      <td>-0.284259</td>\n",
       "      <td>0.007079</td>\n",
       "    </tr>\n",
       "    <tr>\n",
       "      <th>227791</th>\n",
       "      <td>227791</td>\n",
       "      <td>4.880848e-08</td>\n",
       "      <td>-0.369559</td>\n",
       "      <td>0.000654</td>\n",
       "    </tr>\n",
       "    <tr>\n",
       "      <th>...</th>\n",
       "      <td>...</td>\n",
       "      <td>...</td>\n",
       "      <td>...</td>\n",
       "      <td>...</td>\n",
       "    </tr>\n",
       "    <tr>\n",
       "      <th>379640</th>\n",
       "      <td>379640</td>\n",
       "      <td>9.410981e-07</td>\n",
       "      <td>-0.210753</td>\n",
       "      <td>0.012615</td>\n",
       "    </tr>\n",
       "    <tr>\n",
       "      <th>379641</th>\n",
       "      <td>379641</td>\n",
       "      <td>8.026796e-07</td>\n",
       "      <td>-0.235388</td>\n",
       "      <td>0.010759</td>\n",
       "    </tr>\n",
       "    <tr>\n",
       "      <th>379642</th>\n",
       "      <td>379642</td>\n",
       "      <td>5.226053e-07</td>\n",
       "      <td>-0.285235</td>\n",
       "      <td>0.007005</td>\n",
       "    </tr>\n",
       "    <tr>\n",
       "      <th>379643</th>\n",
       "      <td>379643</td>\n",
       "      <td>2.557643e-06</td>\n",
       "      <td>0.076952</td>\n",
       "      <td>0.034283</td>\n",
       "    </tr>\n",
       "    <tr>\n",
       "      <th>379644</th>\n",
       "      <td>379644</td>\n",
       "      <td>2.557643e-06</td>\n",
       "      <td>0.076952</td>\n",
       "      <td>0.034283</td>\n",
       "    </tr>\n",
       "  </tbody>\n",
       "</table>\n",
       "<p>151858 rows × 4 columns</p>\n",
       "</div>"
      ],
      "text/plain": [
       "            ID         Score  StdScore  ScaledScore\n",
       "227787  227787  1.129715e-06 -0.177184     0.015143\n",
       "227788  227788  1.657672e-06 -0.083221     0.022220\n",
       "227789  227789  6.860867e-07 -0.256139     0.009196\n",
       "227790  227790  5.280911e-07 -0.284259     0.007079\n",
       "227791  227791  4.880848e-08 -0.369559     0.000654\n",
       "...        ...           ...       ...          ...\n",
       "379640  379640  9.410981e-07 -0.210753     0.012615\n",
       "379641  379641  8.026796e-07 -0.235388     0.010759\n",
       "379642  379642  5.226053e-07 -0.285235     0.007005\n",
       "379643  379643  2.557643e-06  0.076952     0.034283\n",
       "379644  379644  2.557643e-06  0.076952     0.034283\n",
       "\n",
       "[151858 rows x 4 columns]"
      ]
     },
     "execution_count": 40,
     "metadata": {},
     "output_type": "execute_result"
    }
   ],
   "source": [
    "Claims_res.sort_values(\"ID\")[train_set_size:]"
   ]
  },
  {
   "cell_type": "markdown",
   "id": "ae3b9a87",
   "metadata": {},
   "source": [
    "# Leave-one-out cross validation"
   ]
  },
  {
   "cell_type": "code",
   "execution_count": 41,
   "id": "fee70afc",
   "metadata": {},
   "outputs": [],
   "source": [
    "fraud = {\"FraudInd\": labels[\"Fraud\"].values}\n",
    "fraudMat = pd.DataFrame(fraud)\n",
    "\n",
    "claim_nodes = pd.DataFrame({\"ID\": HG_claims}).set_index(\"ID\")\n",
    "claim_nodes_index = claim_nodes.copy()\n",
    "claim_nodes_index[\"Index\"] = range(len(claim_nodes))\n",
    "\n",
    "HG_parties = np.concatenate((HG_cars, HG_policies, HG_brokers))\n",
    "party_nodes = pd.DataFrame({\"ID\": HG_parties}).set_index(\"ID\")\n",
    "\n",
    "ADJ = adjmat_bipartite.tocsr()\n",
    "number_claims = ADJ.shape[0]\n",
    "test_set_size = 200\n",
    "\n",
    "#test_set = claim_nodes.sample(test_set_size, random_state=1997)"
   ]
  },
  {
   "cell_type": "code",
   "execution_count": 42,
   "id": "5d32befb",
   "metadata": {},
   "outputs": [
    {
     "data": {
      "text/plain": [
       "200"
      ]
     },
     "execution_count": 42,
     "metadata": {},
     "output_type": "execute_result"
    }
   ],
   "source": [
    "test_set_fraud = fraudMat[fraudMat[\"FraudInd\"]==1].sample(int(test_set_size/2), random_state = 1997)\n",
    "test_set_nonfraud = fraudMat[fraudMat[\"FraudInd\"]==0].sample(int(test_set_size/2), random_state = 1997)\n",
    "test_set_all_index = list(test_set_fraud.index)+list(test_set_nonfraud.index)\n",
    "len(test_set_all_index)"
   ]
  },
  {
   "cell_type": "code",
   "execution_count": 43,
   "id": "fa973a3c",
   "metadata": {
    "scrolled": true
   },
   "outputs": [],
   "source": [
    "test_set = claim_nodes.iloc[test_set_all_index]"
   ]
  },
  {
   "cell_type": "code",
   "execution_count": 36,
   "id": "4fb3a3d7",
   "metadata": {
    "scrolled": true
   },
   "outputs": [
    {
     "data": {
      "application/vnd.jupyter.widget-view+json": {
       "model_id": "a73e57ab566f4de8b31c4aed53ce0707",
       "version_major": 2,
       "version_minor": 0
      },
      "text/plain": [
       "  0%|          | 0/200 [00:00<?, ?it/s]"
      ]
     },
     "metadata": {},
     "output_type": "display_data"
    },
    {
     "name": "stderr",
     "output_type": "stream",
     "text": [
      "C:\\Users\\bruno\\OneDrive\\Documenten\\KUL\\MaAct2\\Thesis\\Python\\BiRank.py:6: RuntimeWarning: divide by zero encountered in true_divide\n",
      "  Dp = sparse.diags(np.asarray(1 / np.sqrt(adjMat.sum(axis=1).flatten())), [0])\n"
     ]
    },
    {
     "name": "stdout",
     "output_type": "stream",
     "text": [
      "Convergence reached.\n",
      "Convergence reached.\n"
     ]
    },
    {
     "name": "stderr",
     "output_type": "stream",
     "text": [
      "C:\\Users\\bruno\\OneDrive\\Documenten\\KUL\\MaAct2\\Thesis\\Python\\BiRank.py:7: RuntimeWarning: divide by zero encountered in true_divide\n",
      "  Dc = sparse.diags(np.asarray(1 / np.sqrt(adjMat.sum(axis=0))), [0])\n"
     ]
    },
    {
     "name": "stdout",
     "output_type": "stream",
     "text": [
      "Convergence reached.\n",
      "Convergence reached.\n",
      "Convergence reached.\n",
      "Convergence reached.\n",
      "Convergence reached.\n",
      "Convergence reached.\n",
      "Convergence reached.\n",
      "Convergence reached.\n",
      "Convergence reached.\n",
      "Convergence reached.\n",
      "Convergence reached.\n",
      "Convergence reached.\n",
      "Convergence reached.\n",
      "Convergence reached.\n",
      "Convergence reached.\n",
      "Convergence reached.\n",
      "Convergence reached.\n",
      "Convergence reached.\n",
      "Convergence reached.\n",
      "Convergence reached.\n",
      "Convergence reached.\n",
      "Convergence reached.\n",
      "Convergence reached.\n",
      "Convergence reached.\n",
      "Convergence reached.\n",
      "Convergence reached.\n",
      "Convergence reached.\n",
      "Convergence reached.\n",
      "Convergence reached.\n",
      "Convergence reached.\n",
      "Convergence reached.\n",
      "Convergence reached.\n",
      "Convergence reached.\n",
      "Convergence reached.\n",
      "Convergence reached.\n",
      "Convergence reached.\n",
      "Convergence reached.\n",
      "Convergence reached.\n",
      "Convergence reached.\n",
      "Convergence reached.\n",
      "Convergence reached.\n",
      "Convergence reached.\n",
      "Convergence reached.\n",
      "Convergence reached.\n",
      "Convergence reached.\n",
      "Convergence reached.\n",
      "Convergence reached.\n",
      "Convergence reached.\n",
      "Convergence reached.\n",
      "Convergence reached.\n",
      "Convergence reached.\n",
      "Convergence reached.\n",
      "Convergence reached.\n",
      "Convergence reached.\n",
      "Convergence reached.\n",
      "Convergence reached.\n",
      "Convergence reached.\n",
      "Convergence reached.\n",
      "Convergence reached.\n",
      "Convergence reached.\n",
      "Convergence reached.\n",
      "Convergence reached.\n",
      "Convergence reached.\n",
      "Convergence reached.\n",
      "Convergence reached.\n",
      "Convergence reached.\n",
      "Convergence reached.\n",
      "Convergence reached.\n",
      "Convergence reached.\n",
      "Convergence reached.\n",
      "Convergence reached.\n",
      "Convergence reached.\n",
      "Convergence reached.\n",
      "Convergence reached.\n",
      "Convergence reached.\n",
      "Convergence reached.\n",
      "Convergence reached.\n",
      "Convergence reached.\n",
      "Convergence reached.\n",
      "Convergence reached.\n",
      "Convergence reached.\n",
      "Convergence reached.\n",
      "Convergence reached.\n",
      "Convergence reached.\n",
      "Convergence reached.\n",
      "Convergence reached.\n",
      "Convergence reached.\n",
      "Convergence reached.\n",
      "Convergence reached.\n",
      "Convergence reached.\n",
      "Convergence reached.\n",
      "Convergence reached.\n",
      "Convergence reached.\n",
      "Convergence reached.\n",
      "Convergence reached.\n",
      "Convergence reached.\n",
      "Convergence reached.\n",
      "Convergence reached.\n",
      "Convergence reached.\n",
      "Convergence reached.\n",
      "Convergence reached.\n",
      "Convergence reached.\n",
      "Convergence reached.\n",
      "Convergence reached.\n",
      "Convergence reached.\n",
      "Convergence reached.\n",
      "Convergence reached.\n",
      "Convergence reached.\n",
      "Convergence reached.\n",
      "Convergence reached.\n",
      "Convergence reached.\n",
      "Convergence reached.\n",
      "Convergence reached.\n",
      "Convergence reached.\n",
      "Convergence reached.\n",
      "Convergence reached.\n",
      "Convergence reached.\n",
      "Convergence reached.\n",
      "Convergence reached.\n",
      "Convergence reached.\n",
      "Convergence reached.\n",
      "Convergence reached.\n",
      "Convergence reached.\n",
      "Convergence reached.\n",
      "Convergence reached.\n",
      "Convergence reached.\n",
      "Convergence reached.\n",
      "Convergence reached.\n",
      "Convergence reached.\n",
      "Convergence reached.\n",
      "Convergence reached.\n",
      "Convergence reached.\n",
      "Convergence reached.\n",
      "Convergence reached.\n",
      "Convergence reached.\n",
      "Convergence reached.\n",
      "Convergence reached.\n",
      "Convergence reached.\n",
      "Convergence reached.\n",
      "Convergence reached.\n",
      "Convergence reached.\n",
      "Convergence reached.\n",
      "Convergence reached.\n",
      "Convergence reached.\n",
      "Convergence reached.\n",
      "Convergence reached.\n",
      "Convergence reached.\n",
      "Convergence reached.\n",
      "Convergence reached.\n",
      "Convergence reached.\n",
      "Convergence reached.\n",
      "Convergence reached.\n",
      "Convergence reached.\n",
      "Convergence reached.\n",
      "Convergence reached.\n",
      "Convergence reached.\n",
      "Convergence reached.\n",
      "Convergence reached.\n",
      "Convergence reached.\n",
      "Convergence reached.\n",
      "Convergence reached.\n",
      "Convergence reached.\n",
      "Convergence reached.\n",
      "Convergence reached.\n",
      "Convergence reached.\n",
      "Convergence reached.\n",
      "Convergence reached.\n",
      "Convergence reached.\n",
      "Convergence reached.\n",
      "Convergence reached.\n",
      "Convergence reached.\n",
      "Convergence reached.\n",
      "Convergence reached.\n",
      "Convergence reached.\n",
      "Convergence reached.\n",
      "Convergence reached.\n",
      "Convergence reached.\n",
      "Convergence reached.\n",
      "Convergence reached.\n",
      "Convergence reached.\n",
      "Convergence reached.\n",
      "Convergence reached.\n",
      "Convergence reached.\n",
      "Convergence reached.\n",
      "Convergence reached.\n",
      "Convergence reached.\n",
      "Convergence reached.\n",
      "Convergence reached.\n",
      "Convergence reached.\n",
      "Convergence reached.\n",
      "Convergence reached.\n",
      "Convergence reached.\n",
      "Convergence reached.\n",
      "Convergence reached.\n",
      "Convergence reached.\n",
      "Convergence reached.\n",
      "Convergence reached.\n",
      "Convergence reached.\n",
      "Convergence reached.\n",
      "Convergence reached.\n",
      "Convergence reached.\n",
      "Convergence reached.\n",
      "Convergence reached.\n",
      "Convergence reached.\n",
      "Convergence reached.\n",
      "Convergence reached.\n",
      "Convergence reached.\n",
      "Convergence reached.\n",
      "Convergence reached.\n",
      "Convergence reached.\n",
      "Convergence reached.\n",
      "Convergence reached.\n",
      "Convergence reached.\n",
      "Convergence reached.\n",
      "Convergence reached.\n",
      "Convergence reached.\n",
      "Convergence reached.\n",
      "Convergence reached.\n",
      "Convergence reached.\n",
      "Convergence reached.\n",
      "Convergence reached.\n",
      "Convergence reached.\n",
      "Convergence reached.\n",
      "Convergence reached.\n",
      "Convergence reached.\n",
      "Convergence reached.\n",
      "Convergence reached.\n",
      "Convergence reached.\n",
      "Convergence reached.\n",
      "Convergence reached.\n",
      "Convergence reached.\n",
      "Convergence reached.\n",
      "Convergence reached.\n",
      "Convergence reached.\n",
      "Convergence reached.\n",
      "Convergence reached.\n",
      "Convergence reached.\n",
      "Convergence reached.\n",
      "Convergence reached.\n",
      "Convergence reached.\n",
      "Convergence reached.\n",
      "Convergence reached.\n",
      "Convergence reached.\n",
      "Convergence reached.\n",
      "Convergence reached.\n",
      "Convergence reached.\n",
      "Convergence reached.\n",
      "Convergence reached.\n",
      "Convergence reached.\n",
      "Convergence reached.\n",
      "Convergence reached.\n",
      "Convergence reached.\n",
      "Convergence reached.\n",
      "Convergence reached.\n",
      "Convergence reached.\n",
      "Convergence reached.\n",
      "Convergence reached.\n",
      "Convergence reached.\n",
      "Convergence reached.\n",
      "Convergence reached.\n",
      "Convergence reached.\n",
      "Convergence reached.\n",
      "Convergence reached.\n",
      "Convergence reached.\n",
      "Convergence reached.\n",
      "Convergence reached.\n",
      "Convergence reached.\n",
      "Convergence reached.\n",
      "Convergence reached.\n",
      "Convergence reached.\n",
      "Convergence reached.\n",
      "Convergence reached.\n",
      "Convergence reached.\n",
      "Convergence reached.\n",
      "Convergence reached.\n",
      "Convergence reached.\n",
      "Convergence reached.\n",
      "Convergence reached.\n",
      "Convergence reached.\n",
      "Convergence reached.\n",
      "Convergence reached.\n",
      "Convergence reached.\n",
      "Convergence reached.\n",
      "Convergence reached.\n",
      "Convergence reached.\n",
      "Convergence reached.\n",
      "Convergence reached.\n",
      "Convergence reached.\n",
      "Convergence reached.\n",
      "Convergence reached.\n",
      "Convergence reached.\n",
      "Convergence reached.\n",
      "Convergence reached.\n",
      "Convergence reached.\n",
      "Convergence reached.\n",
      "Convergence reached.\n",
      "Convergence reached.\n",
      "Convergence reached.\n",
      "Convergence reached.\n",
      "Convergence reached.\n",
      "Convergence reached.\n",
      "Convergence reached.\n",
      "Convergence reached.\n",
      "Convergence reached.\n",
      "Convergence reached.\n",
      "Convergence reached.\n",
      "Convergence reached.\n",
      "Convergence reached.\n",
      "Convergence reached.\n",
      "Convergence reached.\n",
      "Convergence reached.\n",
      "Convergence reached.\n",
      "Convergence reached.\n",
      "Convergence reached.\n",
      "Convergence reached.\n",
      "Convergence reached.\n",
      "Convergence reached.\n",
      "Convergence reached.\n",
      "Convergence reached.\n",
      "Convergence reached.\n",
      "Convergence reached.\n",
      "Convergence reached.\n",
      "Convergence reached.\n",
      "Convergence reached.\n",
      "Convergence reached.\n",
      "Convergence reached.\n",
      "Convergence reached.\n",
      "Convergence reached.\n",
      "Convergence reached.\n",
      "Convergence reached.\n",
      "Convergence reached.\n",
      "Convergence reached.\n",
      "Convergence reached.\n",
      "Convergence reached.\n",
      "Convergence reached.\n",
      "Convergence reached.\n",
      "Convergence reached.\n",
      "Convergence reached.\n",
      "Convergence reached.\n",
      "Convergence reached.\n",
      "Convergence reached.\n",
      "Convergence reached.\n",
      "Convergence reached.\n",
      "Convergence reached.\n",
      "Convergence reached.\n",
      "Convergence reached.\n",
      "Convergence reached.\n",
      "Convergence reached.\n",
      "Convergence reached.\n",
      "Convergence reached.\n",
      "Convergence reached.\n",
      "Convergence reached.\n",
      "Convergence reached.\n",
      "Convergence reached.\n",
      "Convergence reached.\n",
      "Convergence reached.\n",
      "Convergence reached.\n",
      "Convergence reached.\n",
      "Convergence reached.\n",
      "Convergence reached.\n",
      "Convergence reached.\n",
      "Convergence reached.\n",
      "Convergence reached.\n",
      "Convergence reached.\n",
      "Convergence reached.\n",
      "Convergence reached.\n",
      "Convergence reached.\n",
      "Convergence reached.\n",
      "Convergence reached.\n",
      "Convergence reached.\n",
      "Convergence reached.\n",
      "Convergence reached.\n",
      "Convergence reached.\n",
      "Convergence reached.\n",
      "Convergence reached.\n",
      "Convergence reached.\n",
      "Convergence reached.\n",
      "Convergence reached.\n",
      "Convergence reached.\n",
      "Convergence reached.\n",
      "Convergence reached.\n",
      "Convergence reached.\n",
      "Convergence reached.\n",
      "Convergence reached.\n",
      "Convergence reached.\n",
      "Convergence reached.\n",
      "Convergence reached.\n",
      "Convergence reached.\n",
      "Convergence reached.\n",
      "Convergence reached.\n",
      "Convergence reached.\n"
     ]
    },
    {
     "name": "stdout",
     "output_type": "stream",
     "text": [
      "Convergence reached.\n",
      "Convergence reached.\n",
      "Convergence reached.\n",
      "Convergence reached.\n",
      "Convergence reached.\n",
      "Convergence reached.\n",
      "Convergence reached.\n"
     ]
    }
   ],
   "source": [
    "y_true = []\n",
    "y_predict = []\n",
    "\n",
    "for claim in tqdm(test_set.index):\n",
    "    train_set_boolian = (claim_nodes.index!=claim)\n",
    "    ADJ_train= ADJ[train_set_boolian, :]\n",
    "    fraud_train = {\"FraudInd\": labels[\"Fraud\"].values[train_set_boolian]}\n",
    "    fraudMat_train = pd.DataFrame(fraud_train)\n",
    "    claims_train = claim_nodes[train_set_boolian]\n",
    "\n",
    "    ADJ_train = ADJ_train.transpose().tocsr()\n",
    "    Claims_res, Parties_res, aMat, iterations, convergence = BiRank(ADJ_train, claims_train, party_nodes, fraudMat_train)\n",
    "    \n",
    "    fraud_train_res = pd.DataFrame({\"Index\":Claims_res[\"ID\"].values, \"FraudInd\": Claims_res[\"ScaledScore\"].values})\n",
    "    full_test_scores =fraud_train_res.merge(claim_nodes_index.reset_index(), on = \"Index\", how = \"outer\").fillna(0)\n",
    "    fraudMat_test = full_test_scores.sort_values(\"ID\")[[\"FraudInd\"]]\n",
    "    \n",
    "    ADJ = adjmat_bipartite.transpose().tocsr()\n",
    "    Claims_res, Parties_res, aMat, iterations, convergence = BiRank(ADJ, claim_nodes, party_nodes, fraudMat_test)\n",
    "    \n",
    "    y = labels[claim_nodes.index==claim].Fraud.values\n",
    "    pred = Claims_res.loc[claim_nodes.index==claim].ScaledScore\n",
    "    y_true.append(y[0])\n",
    "    y_predict.append(pred.iloc[0])\n",
    "    "
   ]
  },
  {
   "cell_type": "code",
   "execution_count": 37,
   "id": "a76d822a",
   "metadata": {
    "scrolled": true
   },
   "outputs": [
    {
     "data": {
      "image/png": "[encoded data removed]",
      "text/plain": [
       "<Figure size 432x288 with 1 Axes>"
      ]
     },
     "metadata": {
      "needs_background": "light"
     },
     "output_type": "display_data"
    }
   ],
   "source": [
    "fpr, tpr, thresholds = metrics.roc_curve(y_true,y_predict)\n",
    "plt.plot(fpr,tpr)\n",
    "plt.plot([0,1], [0,1], color = \"grey\", alpha = 0.5)\n",
    "plt.title(\"AUC: \"+str(np.round(metrics.auc(fpr, tpr),3)))\n",
    "plt.savefig(\"LOOCV_5050_connected.pdf\")"
   ]
  },
  {
   "cell_type": "code",
   "execution_count": null,
   "id": "cf18258a",
   "metadata": {},
   "outputs": [],
   "source": [
    "precision, recall, thresholds = precision_recall_curve(y_true, y_predict)\n",
    "plt.plot(recall,precision)\n",
    "plt.title(\"Average Precision: \"+str(np.round(metrics.average_precision_score(y, pred),3)))"
   ]
  },
  {
   "cell_type": "markdown",
   "id": "b9615eb7",
   "metadata": {},
   "source": [
    "# Tuning Alpha"
   ]
  },
  {
   "cell_type": "code",
   "execution_count": 38,
   "id": "d7908c44",
   "metadata": {
    "scrolled": true
   },
   "outputs": [
    {
     "data": {
      "application/vnd.jupyter.widget-view+json": {
       "model_id": "d5c97823ec57463a80b1a8fd831c183b",
       "version_major": 2,
       "version_minor": 0
      },
      "text/plain": [
       "  0%|          | 0/19 [00:00<?, ?it/s]"
      ]
     },
     "metadata": {},
     "output_type": "display_data"
    },
    {
     "name": "stderr",
     "output_type": "stream",
     "text": [
      "C:\\Users\\bruno\\OneDrive\\Documenten\\KUL\\MaAct2\\Thesis\\Python\\BiRank.py:6: RuntimeWarning: divide by zero encountered in true_divide\n",
      "  Dp = sparse.diags(np.asarray(1 / np.sqrt(adjMat.sum(axis=1).flatten())), [0])\n"
     ]
    },
    {
     "name": "stdout",
     "output_type": "stream",
     "text": [
      "Convergence reached.\n",
      "Convergence reached.\n"
     ]
    },
    {
     "name": "stderr",
     "output_type": "stream",
     "text": [
      "C:\\Users\\bruno\\OneDrive\\Documenten\\KUL\\MaAct2\\Thesis\\Python\\BiRank.py:6: RuntimeWarning: divide by zero encountered in true_divide\n",
      "  Dp = sparse.diags(np.asarray(1 / np.sqrt(adjMat.sum(axis=1).flatten())), [0])\n"
     ]
    },
    {
     "name": "stdout",
     "output_type": "stream",
     "text": [
      "Convergence reached.\n",
      "Convergence reached.\n"
     ]
    },
    {
     "name": "stderr",
     "output_type": "stream",
     "text": [
      "C:\\Users\\bruno\\OneDrive\\Documenten\\KUL\\MaAct2\\Thesis\\Python\\BiRank.py:6: RuntimeWarning: divide by zero encountered in true_divide\n",
      "  Dp = sparse.diags(np.asarray(1 / np.sqrt(adjMat.sum(axis=1).flatten())), [0])\n"
     ]
    },
    {
     "name": "stdout",
     "output_type": "stream",
     "text": [
      "Convergence reached.\n",
      "Convergence reached.\n"
     ]
    },
    {
     "name": "stderr",
     "output_type": "stream",
     "text": [
      "C:\\Users\\bruno\\OneDrive\\Documenten\\KUL\\MaAct2\\Thesis\\Python\\BiRank.py:6: RuntimeWarning: divide by zero encountered in true_divide\n",
      "  Dp = sparse.diags(np.asarray(1 / np.sqrt(adjMat.sum(axis=1).flatten())), [0])\n"
     ]
    },
    {
     "name": "stdout",
     "output_type": "stream",
     "text": [
      "Convergence reached.\n",
      "Convergence reached.\n"
     ]
    },
    {
     "name": "stderr",
     "output_type": "stream",
     "text": [
      "C:\\Users\\bruno\\OneDrive\\Documenten\\KUL\\MaAct2\\Thesis\\Python\\BiRank.py:6: RuntimeWarning: divide by zero encountered in true_divide\n",
      "  Dp = sparse.diags(np.asarray(1 / np.sqrt(adjMat.sum(axis=1).flatten())), [0])\n"
     ]
    },
    {
     "name": "stdout",
     "output_type": "stream",
     "text": [
      "Convergence reached.\n",
      "Convergence reached.\n"
     ]
    },
    {
     "name": "stderr",
     "output_type": "stream",
     "text": [
      "C:\\Users\\bruno\\OneDrive\\Documenten\\KUL\\MaAct2\\Thesis\\Python\\BiRank.py:6: RuntimeWarning: divide by zero encountered in true_divide\n",
      "  Dp = sparse.diags(np.asarray(1 / np.sqrt(adjMat.sum(axis=1).flatten())), [0])\n"
     ]
    },
    {
     "name": "stdout",
     "output_type": "stream",
     "text": [
      "Convergence reached.\n",
      "Convergence reached.\n"
     ]
    },
    {
     "name": "stderr",
     "output_type": "stream",
     "text": [
      "C:\\Users\\bruno\\OneDrive\\Documenten\\KUL\\MaAct2\\Thesis\\Python\\BiRank.py:6: RuntimeWarning: divide by zero encountered in true_divide\n",
      "  Dp = sparse.diags(np.asarray(1 / np.sqrt(adjMat.sum(axis=1).flatten())), [0])\n"
     ]
    },
    {
     "name": "stdout",
     "output_type": "stream",
     "text": [
      "Convergence reached.\n",
      "Convergence reached.\n"
     ]
    },
    {
     "name": "stderr",
     "output_type": "stream",
     "text": [
      "C:\\Users\\bruno\\OneDrive\\Documenten\\KUL\\MaAct2\\Thesis\\Python\\BiRank.py:6: RuntimeWarning: divide by zero encountered in true_divide\n",
      "  Dp = sparse.diags(np.asarray(1 / np.sqrt(adjMat.sum(axis=1).flatten())), [0])\n"
     ]
    },
    {
     "name": "stdout",
     "output_type": "stream",
     "text": [
      "Convergence reached.\n",
      "Convergence reached.\n"
     ]
    },
    {
     "name": "stderr",
     "output_type": "stream",
     "text": [
      "C:\\Users\\bruno\\OneDrive\\Documenten\\KUL\\MaAct2\\Thesis\\Python\\BiRank.py:6: RuntimeWarning: divide by zero encountered in true_divide\n",
      "  Dp = sparse.diags(np.asarray(1 / np.sqrt(adjMat.sum(axis=1).flatten())), [0])\n"
     ]
    },
    {
     "name": "stdout",
     "output_type": "stream",
     "text": [
      "Convergence reached.\n",
      "Convergence reached.\n"
     ]
    },
    {
     "name": "stderr",
     "output_type": "stream",
     "text": [
      "C:\\Users\\bruno\\OneDrive\\Documenten\\KUL\\MaAct2\\Thesis\\Python\\BiRank.py:6: RuntimeWarning: divide by zero encountered in true_divide\n",
      "  Dp = sparse.diags(np.asarray(1 / np.sqrt(adjMat.sum(axis=1).flatten())), [0])\n"
     ]
    },
    {
     "name": "stdout",
     "output_type": "stream",
     "text": [
      "Convergence reached.\n",
      "Convergence reached.\n"
     ]
    },
    {
     "name": "stderr",
     "output_type": "stream",
     "text": [
      "C:\\Users\\bruno\\OneDrive\\Documenten\\KUL\\MaAct2\\Thesis\\Python\\BiRank.py:6: RuntimeWarning: divide by zero encountered in true_divide\n",
      "  Dp = sparse.diags(np.asarray(1 / np.sqrt(adjMat.sum(axis=1).flatten())), [0])\n"
     ]
    },
    {
     "name": "stdout",
     "output_type": "stream",
     "text": [
      "Convergence reached.\n",
      "Convergence reached.\n"
     ]
    },
    {
     "name": "stderr",
     "output_type": "stream",
     "text": [
      "C:\\Users\\bruno\\OneDrive\\Documenten\\KUL\\MaAct2\\Thesis\\Python\\BiRank.py:6: RuntimeWarning: divide by zero encountered in true_divide\n",
      "  Dp = sparse.diags(np.asarray(1 / np.sqrt(adjMat.sum(axis=1).flatten())), [0])\n"
     ]
    },
    {
     "name": "stdout",
     "output_type": "stream",
     "text": [
      "Convergence reached.\n",
      "Convergence reached.\n"
     ]
    },
    {
     "name": "stderr",
     "output_type": "stream",
     "text": [
      "C:\\Users\\bruno\\OneDrive\\Documenten\\KUL\\MaAct2\\Thesis\\Python\\BiRank.py:6: RuntimeWarning: divide by zero encountered in true_divide\n",
      "  Dp = sparse.diags(np.asarray(1 / np.sqrt(adjMat.sum(axis=1).flatten())), [0])\n"
     ]
    },
    {
     "name": "stdout",
     "output_type": "stream",
     "text": [
      "Convergence reached.\n",
      "Convergence reached.\n"
     ]
    },
    {
     "name": "stderr",
     "output_type": "stream",
     "text": [
      "C:\\Users\\bruno\\OneDrive\\Documenten\\KUL\\MaAct2\\Thesis\\Python\\BiRank.py:6: RuntimeWarning: divide by zero encountered in true_divide\n",
      "  Dp = sparse.diags(np.asarray(1 / np.sqrt(adjMat.sum(axis=1).flatten())), [0])\n"
     ]
    },
    {
     "name": "stdout",
     "output_type": "stream",
     "text": [
      "Convergence reached.\n",
      "Convergence reached.\n"
     ]
    },
    {
     "name": "stderr",
     "output_type": "stream",
     "text": [
      "C:\\Users\\bruno\\OneDrive\\Documenten\\KUL\\MaAct2\\Thesis\\Python\\BiRank.py:6: RuntimeWarning: divide by zero encountered in true_divide\n",
      "  Dp = sparse.diags(np.asarray(1 / np.sqrt(adjMat.sum(axis=1).flatten())), [0])\n"
     ]
    },
    {
     "name": "stdout",
     "output_type": "stream",
     "text": [
      "Convergence reached.\n",
      "Convergence reached.\n"
     ]
    },
    {
     "name": "stderr",
     "output_type": "stream",
     "text": [
      "C:\\Users\\bruno\\OneDrive\\Documenten\\KUL\\MaAct2\\Thesis\\Python\\BiRank.py:6: RuntimeWarning: divide by zero encountered in true_divide\n",
      "  Dp = sparse.diags(np.asarray(1 / np.sqrt(adjMat.sum(axis=1).flatten())), [0])\n"
     ]
    },
    {
     "name": "stdout",
     "output_type": "stream",
     "text": [
      "Convergence reached.\n",
      "Convergence reached.\n"
     ]
    },
    {
     "name": "stderr",
     "output_type": "stream",
     "text": [
      "C:\\Users\\bruno\\OneDrive\\Documenten\\KUL\\MaAct2\\Thesis\\Python\\BiRank.py:6: RuntimeWarning: divide by zero encountered in true_divide\n",
      "  Dp = sparse.diags(np.asarray(1 / np.sqrt(adjMat.sum(axis=1).flatten())), [0])\n"
     ]
    },
    {
     "name": "stdout",
     "output_type": "stream",
     "text": [
      "Convergence reached.\n",
      "Convergence reached.\n"
     ]
    },
    {
     "name": "stderr",
     "output_type": "stream",
     "text": [
      "C:\\Users\\bruno\\OneDrive\\Documenten\\KUL\\MaAct2\\Thesis\\Python\\BiRank.py:6: RuntimeWarning: divide by zero encountered in true_divide\n",
      "  Dp = sparse.diags(np.asarray(1 / np.sqrt(adjMat.sum(axis=1).flatten())), [0])\n"
     ]
    },
    {
     "name": "stdout",
     "output_type": "stream",
     "text": [
      "Convergence reached.\n",
      "Convergence reached.\n"
     ]
    },
    {
     "name": "stderr",
     "output_type": "stream",
     "text": [
      "C:\\Users\\bruno\\OneDrive\\Documenten\\KUL\\MaAct2\\Thesis\\Python\\BiRank.py:6: RuntimeWarning: divide by zero encountered in true_divide\n",
      "  Dp = sparse.diags(np.asarray(1 / np.sqrt(adjMat.sum(axis=1).flatten())), [0])\n"
     ]
    },
    {
     "name": "stdout",
     "output_type": "stream",
     "text": [
      "Convergence reached.\n",
      "Convergence reached.\n"
     ]
    }
   ],
   "source": [
    "AUCs = []\n",
    "alphas = np.arange(0.05, 1, 0.05)\n",
    "\n",
    "\n",
    "party_nodes = pd.DataFrame({\"ID\": HG_parties}).set_index(\"ID\")\n",
    "claim_nodes = pd.DataFrame({\"ID\": HG_claims}).set_index(\"ID\")\n",
    "\n",
    "ADJ = adjmat_bipartite.tocsr()\n",
    "number_claims = ADJ.shape[0]\n",
    "train_set_size = int(np.round(0.6*number_claims)) #Full training set for validation\n",
    "ADJ= ADJ[:train_set_size,:]\n",
    "claim_nodes_val = claim_nodes[:train_set_size]\n",
    "labels_val = labels[:train_set_size]\n",
    "\n",
    "number_claims = ADJ.shape[0]\n",
    "train_set_size = int(np.round(0.6*number_claims))\n",
    "test_set_size = number_claims-train_set_size #validation set\n",
    "ADJ_train= ADJ[:train_set_size,:]\n",
    "fraud_train = {\"FraudInd\": labels[\"Fraud\"].values[:train_set_size]}\n",
    "fraudMat_train = pd.DataFrame(fraud_train)\n",
    "claims_train = claim_nodes_val[:train_set_size]\n",
    "\n",
    "ADJ_val_train = ADJ_train.transpose().tocsr()\n",
    "ADJ_val_test = ADJ.transpose().tocsr()\n",
    "\n",
    "for alpha in tqdm(alphas):\n",
    "    Claims_res, Parties_res, aMat, iterations, convergence = BiRank(ADJ_val_train, claims_train, party_nodes, fraudMat_train, alpha = alpha)\n",
    "\n",
    "    fraud_train_res = {\"FraudInd\": Claims_res.sort_values(\"ID\")[\"ScaledScore\"].values}\n",
    "    test_set_fraud = {\"FraudInd\": [0]*test_set_size}\n",
    "    fraudMat_train_res = pd.DataFrame(fraud_train_res)\n",
    "    fraudMat_test_set = pd.DataFrame(test_set_fraud)\n",
    "    fraudMat_test = fraudMat_train_res.append(fraudMat_test_set)\n",
    "    \n",
    "    Claims_res, Parties_res, aMat, iterations, convergence = BiRank(ADJ_val_test, claim_nodes_val, party_nodes, fraudMat_test, alpha = alpha)\n",
    "    \n",
    "    y = labels_val[train_set_size:].Fraud.values\n",
    "    pred = Claims_res.sort_values(\"ID\")[train_set_size:].ScaledScore\n",
    "    fpr, tpr, thresholds = metrics.roc_curve(y,pred)\n",
    "    AUC = metrics.auc(fpr, tpr)\n",
    "    AUCs.append(AUC)"
   ]
  },
  {
   "cell_type": "code",
   "execution_count": 39,
   "id": "3749d250",
   "metadata": {},
   "outputs": [
    {
     "name": "stdout",
     "output_type": "stream",
     "text": [
      "0.3\n"
     ]
    }
   ],
   "source": [
    "alpha_maxAUC = alphas[AUCs.index(max(AUCs))]\n",
    "print(alpha_maxAUC)"
   ]
  },
  {
   "cell_type": "code",
   "execution_count": 40,
   "id": "e6751c8f",
   "metadata": {},
   "outputs": [
    {
     "name": "stderr",
     "output_type": "stream",
     "text": [
      "C:\\Users\\bruno\\OneDrive\\Documenten\\KUL\\MaAct2\\Thesis\\Python\\BiRank.py:6: RuntimeWarning: divide by zero encountered in true_divide\n",
      "  Dp = sparse.diags(np.asarray(1 / np.sqrt(adjMat.sum(axis=1).flatten())), [0])\n"
     ]
    },
    {
     "name": "stdout",
     "output_type": "stream",
     "text": [
      "Convergence reached.\n",
      "Convergence reached.\n"
     ]
    },
    {
     "data": {
      "text/plain": [
       "Text(0.5, 1.0, 'AUC: 0.527')"
      ]
     },
     "execution_count": 40,
     "metadata": {},
     "output_type": "execute_result"
    },
    {
     "data": {
      "image/png": "[encoded data removed]",
      "text/plain": [
       "<Figure size 432x288 with 1 Axes>"
      ]
     },
     "metadata": {
      "needs_background": "light"
     },
     "output_type": "display_data"
    }
   ],
   "source": [
    "ADJ = adjmat_bipartite.tocsr()\n",
    "number_claims = ADJ.shape[0]\n",
    "train_set_size = int(np.round(0.6*number_claims))\n",
    "test_set_size = number_claims-train_set_size\n",
    "ADJ_train= ADJ[:train_set_size,:]\n",
    "fraud_train = {\"FraudInd\": labels[\"Fraud\"].values[:train_set_size]}\n",
    "fraudMat_train = pd.DataFrame(fraud_train)\n",
    "claims_train = claim_nodes[:train_set_size]\n",
    "\n",
    "ADJ = ADJ_train.transpose().tocsr()\n",
    "Claims_res, Parties_res, aMat, iterations, convergence = BiRank(ADJ, claims_train, party_nodes, fraudMat_train, alpha = alpha_maxAUC)\n",
    "\n",
    "fraud_train_res = {\"FraudInd\": Claims_res.sort_values(\"ID\")[\"ScaledScore\"].values}\n",
    "test_set_fraud = {\"FraudInd\": [0]*test_set_size}\n",
    "fraudMat_train_res = pd.DataFrame(fraud_train_res)\n",
    "fraudMat_test_set = pd.DataFrame(test_set_fraud)\n",
    "fraudMat_test = fraudMat_train_res.append(fraudMat_test_set)\n",
    "\n",
    "ADJ = adjmat_bipartite.transpose().tocsr()\n",
    "Claims_res, Parties_res, aMat, iterations, convergence = BiRank(ADJ, claim_nodes, party_nodes, fraudMat_test, alpha = alpha_maxAUC)\n",
    "\n",
    "y = labels[train_set_size:].Fraud.values\n",
    "pred = Claims_res.sort_values(\"ID\")[train_set_size:].ScaledScore\n",
    "fpr, tpr, thresholds = metrics.roc_curve(y,pred)\n",
    "\n",
    "plt.plot(fpr,tpr)\n",
    "\n",
    "\n",
    "plt.plot([0,1], [0,1], color = \"grey\", alpha = 0.5)\n",
    "plt.title(\"AUC: \"+str(np.round(metrics.auc(fpr, tpr),3)))\n",
    "#plt.savefig(\"AUC_Inductive_Alpha04.pdf\")"
   ]
  },
  {
   "cell_type": "code",
   "execution_count": null,
   "id": "caaea5c5",
   "metadata": {},
   "outputs": [],
   "source": [
    "precision, recall, thresholds = precision_recall_curve(y, pred)\n",
    "plt.plot(recall,precision)\n",
    "plt.title(\"Average Precision: \"+str(np.round(metrics.average_precision_score(y, pred),3)))"
   ]
  }
 ],
 "metadata": {
  "kernelspec": {
   "display_name": "Python 3",
   "language": "python",
   "name": "python3"
  },
  "language_info": {
   "codemirror_mode": {
    "name": "ipython",
    "version": 3
   },
   "file_extension": ".py",
   "mimetype": "text/x-python",
   "name": "python",
   "nbconvert_exporter": "python",
   "pygments_lexer": "ipython3",
   "version": "3.8.8"
  }
 },
 "nbformat": 4,
 "nbformat_minor": 5
}
