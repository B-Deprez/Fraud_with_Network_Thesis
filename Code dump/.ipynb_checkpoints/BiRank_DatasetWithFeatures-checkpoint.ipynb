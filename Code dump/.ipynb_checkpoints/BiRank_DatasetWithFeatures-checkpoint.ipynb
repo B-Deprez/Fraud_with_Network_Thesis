{
 "cells": [
  {
   "cell_type": "code",
   "execution_count": 1,
   "id": "02b969bd",
   "metadata": {},
   "outputs": [
    {
     "name": "stderr",
     "output_type": "stream",
     "text": [
      "C:\\Users\\bruno\\anaconda3\\lib\\site-packages\\nxviz\\__init__.py:18: UserWarning: \n",
      "nxviz has a new API! Version 0.7.0 onwards, the old class-based API is being\n",
      "deprecated in favour of a new API focused on advancing a grammar of network\n",
      "graphics. If your plotting code depends on the old API, please consider\n",
      "pinning nxviz at version 0.7.0, as the new API will break your old code.\n",
      "\n",
      "To check out the new API, please head over to the docs at\n",
      "https://ericmjl.github.io/nxviz/ to learn more. We hope you enjoy using it!\n",
      "\n",
      "(This deprecation message will go away in version 1.0.)\n",
      "\n",
      "  warnings.warn(\n"
     ]
    }
   ],
   "source": [
    "import numpy as np\n",
    "import scipy as sp\n",
    "import pickle as pkl\n",
    "import networkx as nx\n",
    "from py2neo import Graph\n",
    "import py2neo\n",
    "import pandas as pd\n",
    "import nxviz as nv\n",
    "import matplotlib.pyplot as plt\n",
    "from stellargraph import StellarGraph\n",
    "from BiRank import BiRank\n",
    "from sklearn.metrics import precision_recall_curve\n",
    "import shap\n",
    "\n",
    "from tqdm.notebook import tqdm\n",
    "\n",
    "\n",
    "%matplotlib inline"
   ]
  },
  {
   "cell_type": "code",
   "execution_count": 2,
   "id": "844140f8",
   "metadata": {},
   "outputs": [
    {
     "data": {
      "text/html": [
       "<div>\n",
       "<style scoped>\n",
       "    .dataframe tbody tr th:only-of-type {\n",
       "        vertical-align: middle;\n",
       "    }\n",
       "\n",
       "    .dataframe tbody tr th {\n",
       "        vertical-align: top;\n",
       "    }\n",
       "\n",
       "    .dataframe thead th {\n",
       "        text-align: right;\n",
       "    }\n",
       "</style>\n",
       "<table border=\"1\" class=\"dataframe\">\n",
       "  <thead>\n",
       "    <tr style=\"text-align: right;\">\n",
       "      <th></th>\n",
       "      <th>Proven_fraud</th>\n",
       "      <th>Investigated_case</th>\n",
       "    </tr>\n",
       "  </thead>\n",
       "  <tbody>\n",
       "    <tr>\n",
       "      <th>count</th>\n",
       "      <td>656304.000000</td>\n",
       "      <td>656304.000000</td>\n",
       "    </tr>\n",
       "    <tr>\n",
       "      <th>mean</th>\n",
       "      <td>0.003061</td>\n",
       "      <td>0.033631</td>\n",
       "    </tr>\n",
       "    <tr>\n",
       "      <th>std</th>\n",
       "      <td>0.055242</td>\n",
       "      <td>0.180277</td>\n",
       "    </tr>\n",
       "    <tr>\n",
       "      <th>min</th>\n",
       "      <td>0.000000</td>\n",
       "      <td>0.000000</td>\n",
       "    </tr>\n",
       "    <tr>\n",
       "      <th>25%</th>\n",
       "      <td>0.000000</td>\n",
       "      <td>0.000000</td>\n",
       "    </tr>\n",
       "    <tr>\n",
       "      <th>50%</th>\n",
       "      <td>0.000000</td>\n",
       "      <td>0.000000</td>\n",
       "    </tr>\n",
       "    <tr>\n",
       "      <th>75%</th>\n",
       "      <td>0.000000</td>\n",
       "      <td>0.000000</td>\n",
       "    </tr>\n",
       "    <tr>\n",
       "      <th>max</th>\n",
       "      <td>1.000000</td>\n",
       "      <td>1.000000</td>\n",
       "    </tr>\n",
       "  </tbody>\n",
       "</table>\n",
       "</div>"
      ],
      "text/plain": [
       "        Proven_fraud  Investigated_case\n",
       "count  656304.000000      656304.000000\n",
       "mean        0.003061           0.033631\n",
       "std         0.055242           0.180277\n",
       "min         0.000000           0.000000\n",
       "25%         0.000000           0.000000\n",
       "50%         0.000000           0.000000\n",
       "75%         0.000000           0.000000\n",
       "max         1.000000           1.000000"
      ]
     },
     "execution_count": 2,
     "metadata": {},
     "output_type": "execute_result"
    }
   ],
   "source": [
    "claims_data = pkl.load(open( \"claims_data\", \"rb\" ))\n",
    "counterparty_data = pkl.load(open(\"counterparties\", \"rb\"))\n",
    "labels = pkl.load(open(\"frauds\", \"rb\")).sort_values(\"SI01_NO_SIN\"); labels.describe()"
   ]
  },
  {
   "cell_type": "code",
   "execution_count": 6,
   "id": "b6f13bcd",
   "metadata": {},
   "outputs": [],
   "source": [
    "claims_nodes = claims_data[[\"SI01_NO_SIN\"]].drop_duplicates().set_index(\"SI01_NO_SIN\").sort_values(\"SI01_NO_SIN\")\n",
    "contract_nodes = claims_data[[\"SI01_NO_CNT\"]].drop_duplicates().set_index(\"SI01_NO_CNT\")\n",
    "broker_nodes = claims_data[[\"SI01_C_INTER\"]].drop_duplicates().set_index(\"SI01_C_INTER\")"
   ]
  },
  {
   "cell_type": "code",
   "execution_count": 7,
   "id": "96f4c3c9",
   "metadata": {
    "scrolled": false
   },
   "outputs": [],
   "source": [
    "counterparty_nodes = counterparty_data[[\"C-TIE\"]].drop_duplicates()\n",
    "counterparty_nodes = counterparty_nodes[[cp not in broker_nodes.index for cp in counterparty_nodes[\"C-TIE\"]]]\n",
    "counterparty_nodes = counterparty_nodes.set_index(\"C-TIE\")"
   ]
  },
  {
   "cell_type": "code",
   "execution_count": 8,
   "id": "733a6e86",
   "metadata": {},
   "outputs": [],
   "source": [
    "claim_contract = claims_data[[\"SI01_NO_SIN\", \"SI01_NO_CNT\"]].reset_index(drop=True)\n",
    "claim_broker = claims_data[[\"SI01_NO_SIN\", \"SI01_C_INTER\"]].reset_index(drop=True)\n",
    "claim_counter = counterparty_data[[\"NO-SIN\", \"C-TIE\"]].reset_index(drop=True)"
   ]
  },
  {
   "cell_type": "code",
   "execution_count": 9,
   "id": "e2eb2507",
   "metadata": {},
   "outputs": [],
   "source": [
    "claim_contract.columns = [\"source\", \"target\"]\n",
    "claim_broker.columns = [\"source\", \"target\"]\n",
    "claim_counter.columns = [\"source\", \"target\"]"
   ]
  },
  {
   "cell_type": "code",
   "execution_count": 10,
   "id": "d149dc1e",
   "metadata": {},
   "outputs": [],
   "source": [
    "edges = pd.concat([claim_contract, claim_broker,claim_counter]).reset_index(drop = True)"
   ]
  },
  {
   "cell_type": "code",
   "execution_count": 11,
   "id": "eb10e4d6",
   "metadata": {
    "scrolled": false
   },
   "outputs": [],
   "source": [
    "HG = StellarGraph({\"claim\" : claims_nodes, \"contract\" : contract_nodes, \"broker\" : broker_nodes, \"counterparty\" : counterparty_nodes}, edges)"
   ]
  },
  {
   "cell_type": "code",
   "execution_count": 13,
   "id": "6b3782c6",
   "metadata": {},
   "outputs": [],
   "source": [
    "degrees = HG.node_degrees()\n",
    "claim_degrees = pd.Series([degrees[x] for x in list(claims_nodes.index)])\n",
    "contract_degrees = pd.Series([degrees[x] for x in list(contract_nodes.index)])\n",
    "broker_degrees = pd.Series([degrees[x] for x in list(broker_nodes.index)])\n",
    "counterparty_degrees = pd.Series([degrees[x] for x in list(counterparty_nodes.index)])\n",
    "perc = [.25,.50,.75,.85,.95, .99] "
   ]
  },
  {
   "cell_type": "code",
   "execution_count": 12,
   "id": "1aa9968d",
   "metadata": {},
   "outputs": [
    {
     "name": "stdout",
     "output_type": "stream",
     "text": [
      "825\n"
     ]
    }
   ],
   "source": [
    "j = 0\n",
    "nodes = []\n",
    "for i in HG.connected_components():\n",
    "    nodes.append(len(i))\n",
    "    j +=1\n",
    "print(j)"
   ]
  },
  {
   "cell_type": "code",
   "execution_count": 13,
   "id": "31794a04",
   "metadata": {},
   "outputs": [],
   "source": [
    "nodes_summa = {}\n",
    "for length in nodes:\n",
    "    if length in nodes_summa.keys():\n",
    "        nodes_summa[length]+=1\n",
    "    else:\n",
    "        nodes_summa[length]=1"
   ]
  },
  {
   "cell_type": "code",
   "execution_count": 15,
   "id": "b79dd488",
   "metadata": {},
   "outputs": [],
   "source": [
    "nodes = list(HG.nodes(\"claim\"))+list(HG.nodes(\"contract\"))+list(HG.nodes(\"broker\"))+list(HG.nodes(\"counterparty\"))\n",
    "\n",
    "adjmat_bipartite = HG.to_adjacency_matrix(nodes)[:len(HG.nodes(\"claim\")), len(HG.nodes(\"claim\")):]"
   ]
  },
  {
   "cell_type": "code",
   "execution_count": 16,
   "id": "7ad7d928",
   "metadata": {},
   "outputs": [],
   "source": [
    "fraud = {\"FraudInd\": labels[\"Proven_fraud\"].values}\n",
    "fraudMat = pd.DataFrame(fraud)\n",
    "\n",
    "claim_nodes = pd.DataFrame({\"ID\": HG.nodes(\"claim\")}).set_index(\"ID\").sort_index()\n",
    "\n",
    "HG_parties = np.concatenate((HG.nodes(\"contract\"), HG.nodes(\"broker\"), HG.nodes(\"counterparty\")))\n",
    "party_nodes = pd.DataFrame({\"ID\": HG_parties}).set_index(\"ID\")\n",
    "\n",
    "ADJ = adjmat_bipartite.transpose().tocsr()"
   ]
  },
  {
   "cell_type": "code",
   "execution_count": 18,
   "id": "c9f89335",
   "metadata": {},
   "outputs": [
    {
     "name": "stdout",
     "output_type": "stream",
     "text": [
      "Convergence reached.\n"
     ]
    }
   ],
   "source": [
    "Claims_res, Parties_res, aMat, iterations, convergence = BiRank(ADJ, claim_nodes, party_nodes, fraudMat)"
   ]
  },
  {
   "cell_type": "code",
   "execution_count": 20,
   "id": "6b099f56",
   "metadata": {
    "scrolled": true
   },
   "outputs": [
    {
     "data": {
      "text/plain": [
       "Text(0.5, 1.0, 'AUC: 1.0')"
      ]
     },
     "execution_count": 20,
     "metadata": {},
     "output_type": "execute_result"
    },
    {
     "data": {
      "image/png": "[encoded data removed]",
      "text/plain": [
       "<Figure size 432x288 with 1 Axes>"
      ]
     },
     "metadata": {
      "needs_background": "light"
     },
     "output_type": "display_data"
    }
   ],
   "source": [
    "from sklearn import metrics\n",
    "y = labels[\"Proven_fraud\"].values\n",
    "pred = Claims_res.sort_values(\"ID\").ScaledScore\n",
    "\n",
    "fpr, tpr, thresholds = metrics.roc_curve(y,pred)\n",
    "\n",
    "plt.plot(fpr,tpr)\n",
    "plt.plot([0,1], [0,1], color = \"grey\", alpha = 0.5)\n",
    "plt.title(\"AUC: \"+str(np.round(metrics.auc(fpr, tpr),3)))"
   ]
  },
  {
   "cell_type": "code",
   "execution_count": 21,
   "id": "b6d1b86f",
   "metadata": {},
   "outputs": [
    {
     "data": {
      "text/plain": [
       "Text(0.5, 1.0, 'Average Precision: 0.999')"
      ]
     },
     "execution_count": 21,
     "metadata": {},
     "output_type": "execute_result"
    },
    {
     "data": {
      "image/png": "[encoded data removed]",
      "text/plain": [
       "<Figure size 432x288 with 1 Axes>"
      ]
     },
     "metadata": {
      "needs_background": "light"
     },
     "output_type": "display_data"
    }
   ],
   "source": [
    "precision, recall, thresholds = precision_recall_curve(y, pred)\n",
    "plt.plot(recall,precision)\n",
    "plt.title(\"Average Precision: \"+str(np.round(metrics.average_precision_score(y, pred),3)))"
   ]
  },
  {
   "cell_type": "code",
   "execution_count": 22,
   "id": "3029f0f4",
   "metadata": {},
   "outputs": [
    {
     "name": "stderr",
     "output_type": "stream",
     "text": [
      "C:\\Users\\bruno\\OneDrive\\Documenten\\KUL\\MaAct2\\Thesis\\Python\\NetworkWithFeatures\\BiRank.py:6: RuntimeWarning: divide by zero encountered in true_divide\n",
      "  Dp = sparse.diags(np.asarray(1 / np.sqrt(adjMat.sum(axis=1).flatten())), [0])\n"
     ]
    },
    {
     "name": "stdout",
     "output_type": "stream",
     "text": [
      "Convergence reached.\n",
      "Convergence reached.\n"
     ]
    }
   ],
   "source": [
    "ADJ = adjmat_bipartite.tocsr()\n",
    "number_claims = ADJ.shape[0]\n",
    "train_set_size = int(np.round(0.6*number_claims))\n",
    "test_set_size = number_claims-train_set_size\n",
    "ADJ_train= ADJ[:train_set_size,:]\n",
    "fraud_train = {\"FraudInd\": labels[\"Proven_fraud\"].values[:train_set_size]}\n",
    "fraudMat_train = pd.DataFrame(fraud_train)\n",
    "claims_train = claim_nodes[:train_set_size]\n",
    "\n",
    "ADJ = ADJ_train.transpose().tocsr()\n",
    "Claims_res, Parties_res, aMat, iterations, convergence = BiRank(ADJ, claims_train, party_nodes, fraudMat_train)\n",
    "\n",
    "fraud_train_res = {\"FraudInd\": Claims_res.sort_values(\"ID\")[\"ScaledScore\"].values}\n",
    "test_set_fraud = {\"FraudInd\": [0]*test_set_size}\n",
    "fraudMat_train_res = pd.DataFrame(fraud_train_res)\n",
    "fraudMat_test_set = pd.DataFrame(test_set_fraud)\n",
    "fraudMat_test = fraudMat_train_res.append(fraudMat_test_set)\n",
    "\n",
    "ADJ = adjmat_bipartite.transpose().tocsr()\n",
    "Claims_res, Parties_res, aMat, iterations, convergence = BiRank(ADJ, claim_nodes, party_nodes, fraudMat_test)"
   ]
  },
  {
   "cell_type": "code",
   "execution_count": 23,
   "id": "eb7034bf",
   "metadata": {
    "scrolled": true
   },
   "outputs": [
    {
     "data": {
      "image/png": "[encoded data removed]",
      "text/plain": [
       "<Figure size 432x288 with 1 Axes>"
      ]
     },
     "metadata": {
      "needs_background": "light"
     },
     "output_type": "display_data"
    }
   ],
   "source": [
    "y = labels[train_set_size:][\"Proven_fraud\"].values\n",
    "pred = Claims_res.sort_values(\"ID\")[train_set_size:].ScaledScore\n",
    "fpr, tpr, thresholds = metrics.roc_curve(y,pred)\n",
    "\n",
    "plt.plot(fpr,tpr)\n",
    "\n",
    "plt.plot([0,1], [0,1], color = \"grey\", alpha = 0.5)\n",
    "plt.title(\"AUC: \"+str(np.round(metrics.auc(fpr, tpr),3)))\n",
    "plt.savefig(\"AUC_Inductive_Connected.pdf\")"
   ]
  },
  {
   "cell_type": "code",
   "execution_count": 24,
   "id": "876e3c3e",
   "metadata": {},
   "outputs": [
    {
     "data": {
      "text/plain": [
       "Text(0.5, 1.0, 'Average Precision: 0.004')"
      ]
     },
     "execution_count": 24,
     "metadata": {},
     "output_type": "execute_result"
    },
    {
     "data": {
      "image/png": "[encoded data removed]",
      "text/plain": [
       "<Figure size 432x288 with 1 Axes>"
      ]
     },
     "metadata": {
      "needs_background": "light"
     },
     "output_type": "display_data"
    }
   ],
   "source": [
    "precision, recall, thresholds = precision_recall_curve(y, pred)\n",
    "plt.plot(recall,precision)\n",
    "plt.title(\"Average Precision: \"+str(np.round(metrics.average_precision_score(y, pred),3)))"
   ]
  },
  {
   "cell_type": "code",
   "execution_count": 25,
   "id": "7acf6dbd",
   "metadata": {
    "scrolled": false
   },
   "outputs": [
    {
     "name": "stdout",
     "output_type": "stream",
     "text": [
      "Convergence reached.\n"
     ]
    },
    {
     "data": {
      "image/png": "[encoded data removed]",
      "text/plain": [
       "<Figure size 432x288 with 1 Axes>"
      ]
     },
     "metadata": {
      "needs_background": "light"
     },
     "output_type": "display_data"
    }
   ],
   "source": [
    "fraud_train = {\"FraudInd\": labels[\"Proven_fraud\"].values[:train_set_size]}\n",
    "fraudMat_train = pd.DataFrame(fraud_train)\n",
    "test_set_fraud = {\"FraudInd\": [0]*test_set_size}\n",
    "fraudMat_test_set = pd.DataFrame(test_set_fraud)\n",
    "fraudMat_test = fraudMat_train.append(fraudMat_test_set)\n",
    "\n",
    "ADJ = adjmat_bipartite.transpose().tocsr()\n",
    "Claims_res, Parties_res, aMat, iterations, convergence = BiRank(ADJ, claim_nodes, party_nodes, fraudMat_test)\n",
    "\n",
    "y = labels[train_set_size:][\"Proven_fraud\"].values\n",
    "pred = Claims_res.sort_values(\"ID\")[train_set_size:].ScaledScore\n",
    "fpr, tpr, thresholds = metrics.roc_curve(y,pred)\n",
    "plt.plot(fpr,tpr)\n",
    "plt.plot([0,1], [0,1], color = \"grey\", alpha = 0.5)\n",
    "plt.title(\"AUC: \"+str(np.round(metrics.auc(fpr, tpr),3)))\n",
    "plt.savefig(\"AUC_Transductive_Connected.pdf\")"
   ]
  },
  {
   "cell_type": "code",
   "execution_count": 26,
   "id": "94e2240b",
   "metadata": {},
   "outputs": [
    {
     "data": {
      "text/plain": [
       "Text(0.5, 1.0, 'Average Precision: 0.007')"
      ]
     },
     "execution_count": 26,
     "metadata": {},
     "output_type": "execute_result"
    },
    {
     "data": {
      "image/png": "[encoded data removed]",
      "text/plain": [
       "<Figure size 432x288 with 1 Axes>"
      ]
     },
     "metadata": {
      "needs_background": "light"
     },
     "output_type": "display_data"
    }
   ],
   "source": [
    "precision, recall, thresholds = precision_recall_curve(y, pred)\n",
    "plt.plot(recall,precision)\n",
    "plt.title(\"Average Precision: \"+str(np.round(metrics.average_precision_score(y, pred),3)))"
   ]
  },
  {
   "cell_type": "markdown",
   "id": "33c9908c",
   "metadata": {},
   "source": [
    "## Introducing the other features"
   ]
  },
  {
   "cell_type": "markdown",
   "id": "75993a27",
   "metadata": {},
   "source": [
    "### Claim features"
   ]
  },
  {
   "cell_type": "code",
   "execution_count": 27,
   "id": "30052cd4",
   "metadata": {},
   "outputs": [],
   "source": [
    "from datetime import timedelta"
   ]
  },
  {
   "cell_type": "markdown",
   "id": "f4ea7f34",
   "metadata": {},
   "source": [
    "Here, we will construct the reporting delay (and cap it at 90 days) and we add a column representing the weekday the accident occurred.\n",
    "\n",
    "We will also redefine H_SIN (timing of the claim) to have a more readable representation. "
   ]
  },
  {
   "cell_type": "code",
   "execution_count": 30,
   "id": "d5ba2120",
   "metadata": {},
   "outputs": [],
   "source": [
    "reporting_delay =[min(timedelta(days = 90), delay) for delay in claims_data[\"SI01_D_DCL\"]-claims_data[\"SI01_D_SURV_SIN\"]]"
   ]
  },
  {
   "cell_type": "code",
   "execution_count": 31,
   "id": "6112111a",
   "metadata": {},
   "outputs": [],
   "source": [
    "claims_data[\"Reporting_delay\"] = reporting_delay\n",
    "claims_data[\"Day_Accident\"] = claims_data[\"SI01_D_SURV_SIN\"].dt.day_name()\n",
    "claims_data[\"Month_Accident\"] = claims_data[\"SI01_D_SURV_SIN\"].dt.month_name()"
   ]
  },
  {
   "cell_type": "code",
   "execution_count": 32,
   "id": "03ca6c7b",
   "metadata": {},
   "outputs": [],
   "source": [
    "claims_data[\"SI01_H_SIN\"].replace(0, pd.NA, inplace = True)"
   ]
  },
  {
   "cell_type": "code",
   "execution_count": 33,
   "id": "143f8151",
   "metadata": {
    "scrolled": true
   },
   "outputs": [],
   "source": [
    "decimal_hours = claims_data[\"SI01_H_SIN\"]//100+claims_data[\"SI01_H_SIN\"]%100/60\n",
    "claims_data[\"Closest_Hour\"] = [round(h) if (str(h) != '<NA>') & (str(h) != 'nan') else 0 for h in decimal_hours ]"
   ]
  },
  {
   "cell_type": "code",
   "execution_count": 34,
   "id": "431d709f",
   "metadata": {},
   "outputs": [
    {
     "data": {
      "text/html": [
       "<div>\n",
       "<style scoped>\n",
       "    .dataframe tbody tr th:only-of-type {\n",
       "        vertical-align: middle;\n",
       "    }\n",
       "\n",
       "    .dataframe tbody tr th {\n",
       "        vertical-align: top;\n",
       "    }\n",
       "\n",
       "    .dataframe thead th {\n",
       "        text-align: right;\n",
       "    }\n",
       "</style>\n",
       "<table border=\"1\" class=\"dataframe\">\n",
       "  <thead>\n",
       "    <tr style=\"text-align: right;\">\n",
       "      <th></th>\n",
       "      <th>SI01_NO_SIN</th>\n",
       "      <th>SI01_NO_CNT</th>\n",
       "      <th>SI01_C_INTER</th>\n",
       "      <th>IMM</th>\n",
       "      <th>SI01_CPOST</th>\n",
       "      <th>SI01_C_CAU</th>\n",
       "      <th>SI01_D_DCL</th>\n",
       "      <th>SI01_NB_HIST</th>\n",
       "      <th>SI01_NB_EXPE</th>\n",
       "      <th>SI01_H_SIN</th>\n",
       "      <th>SI01_C_FAM_PROD</th>\n",
       "      <th>SI01_D_SURV_SIN</th>\n",
       "      <th>Reporting_delay</th>\n",
       "      <th>Day_Accident</th>\n",
       "      <th>Month_Accident</th>\n",
       "      <th>Closest_Hour</th>\n",
       "    </tr>\n",
       "  </thead>\n",
       "  <tbody>\n",
       "    <tr>\n",
       "      <th>2120901</th>\n",
       "      <td>000020182003590</td>\n",
       "      <td>020303009036928</td>\n",
       "      <td>15105301</td>\n",
       "      <td>0.0</td>\n",
       "      <td>3150.0</td>\n",
       "      <td>12</td>\n",
       "      <td>2018-03-17</td>\n",
       "      <td>0</td>\n",
       "      <td>0</td>\n",
       "      <td>&lt;NA&gt;</td>\n",
       "      <td>I01</td>\n",
       "      <td>2018-03-12</td>\n",
       "      <td>5 days</td>\n",
       "      <td>Monday</td>\n",
       "      <td>March</td>\n",
       "      <td>0</td>\n",
       "    </tr>\n",
       "    <tr>\n",
       "      <th>2222158</th>\n",
       "      <td>000020192013964</td>\n",
       "      <td>021002200311628</td>\n",
       "      <td>10341001</td>\n",
       "      <td>0.0</td>\n",
       "      <td>1180.0</td>\n",
       "      <td>19</td>\n",
       "      <td>2019-12-16</td>\n",
       "      <td>0</td>\n",
       "      <td>0</td>\n",
       "      <td>&lt;NA&gt;</td>\n",
       "      <td>I05</td>\n",
       "      <td>2019-02-11</td>\n",
       "      <td>90 days</td>\n",
       "      <td>Monday</td>\n",
       "      <td>February</td>\n",
       "      <td>0</td>\n",
       "    </tr>\n",
       "    <tr>\n",
       "      <th>1999647</th>\n",
       "      <td>000020171035446</td>\n",
       "      <td>010102100896928</td>\n",
       "      <td>40007101</td>\n",
       "      <td>219542.0</td>\n",
       "      <td>4040.0</td>\n",
       "      <td>50</td>\n",
       "      <td>2017-08-29</td>\n",
       "      <td>0</td>\n",
       "      <td>0</td>\n",
       "      <td>1500.0</td>\n",
       "      <td>A01</td>\n",
       "      <td>2017-08-22</td>\n",
       "      <td>7 days</td>\n",
       "      <td>Tuesday</td>\n",
       "      <td>August</td>\n",
       "      <td>15</td>\n",
       "    </tr>\n",
       "    <tr>\n",
       "      <th>1644289</th>\n",
       "      <td>000020132004578</td>\n",
       "      <td>020602200105863</td>\n",
       "      <td>10109201</td>\n",
       "      <td>0.0</td>\n",
       "      <td>1070.0</td>\n",
       "      <td>19</td>\n",
       "      <td>2013-06-03</td>\n",
       "      <td>0</td>\n",
       "      <td>0</td>\n",
       "      <td>&lt;NA&gt;</td>\n",
       "      <td>I01</td>\n",
       "      <td>2013-05-31</td>\n",
       "      <td>3 days</td>\n",
       "      <td>Friday</td>\n",
       "      <td>May</td>\n",
       "      <td>0</td>\n",
       "    </tr>\n",
       "    <tr>\n",
       "      <th>2021703</th>\n",
       "      <td>000020171057502</td>\n",
       "      <td>011002100887089</td>\n",
       "      <td>15322601</td>\n",
       "      <td>111552.0</td>\n",
       "      <td>5000.0</td>\n",
       "      <td>SS</td>\n",
       "      <td>2018-01-19</td>\n",
       "      <td>1</td>\n",
       "      <td>1</td>\n",
       "      <td>&lt;NA&gt;</td>\n",
       "      <td>A01</td>\n",
       "      <td>2017-09-01</td>\n",
       "      <td>90 days</td>\n",
       "      <td>Friday</td>\n",
       "      <td>September</td>\n",
       "      <td>0</td>\n",
       "    </tr>\n",
       "  </tbody>\n",
       "</table>\n",
       "</div>"
      ],
      "text/plain": [
       "             SI01_NO_SIN      SI01_NO_CNT     SI01_C_INTER       IMM  \\\n",
       "2120901  000020182003590  020303009036928  15105301              0.0   \n",
       "2222158  000020192013964  021002200311628  10341001              0.0   \n",
       "1999647  000020171035446  010102100896928  40007101         219542.0   \n",
       "1644289  000020132004578  020602200105863  10109201              0.0   \n",
       "2021703  000020171057502  011002100887089  15322601         111552.0   \n",
       "\n",
       "         SI01_CPOST SI01_C_CAU SI01_D_DCL  SI01_NB_HIST  SI01_NB_EXPE  \\\n",
       "2120901      3150.0         12 2018-03-17             0             0   \n",
       "2222158      1180.0         19 2019-12-16             0             0   \n",
       "1999647      4040.0         50 2017-08-29             0             0   \n",
       "1644289      1070.0         19 2013-06-03             0             0   \n",
       "2021703      5000.0         SS 2018-01-19             1             1   \n",
       "\n",
       "        SI01_H_SIN SI01_C_FAM_PROD SI01_D_SURV_SIN Reporting_delay  \\\n",
       "2120901       <NA>             I01      2018-03-12          5 days   \n",
       "2222158       <NA>             I05      2019-02-11         90 days   \n",
       "1999647     1500.0             A01      2017-08-22          7 days   \n",
       "1644289       <NA>             I01      2013-05-31          3 days   \n",
       "2021703       <NA>             A01      2017-09-01         90 days   \n",
       "\n",
       "        Day_Accident Month_Accident  Closest_Hour  \n",
       "2120901       Monday          March             0  \n",
       "2222158       Monday       February             0  \n",
       "1999647      Tuesday         August            15  \n",
       "1644289       Friday            May             0  \n",
       "2021703       Friday      September             0  "
      ]
     },
     "execution_count": 34,
     "metadata": {},
     "output_type": "execute_result"
    }
   ],
   "source": [
    "claims_data.head()"
   ]
  },
  {
   "cell_type": "markdown",
   "id": "22068331",
   "metadata": {},
   "source": [
    "### Counter parties"
   ]
  },
  {
   "cell_type": "markdown",
   "id": "6e0392df",
   "metadata": {},
   "source": [
    "In this part, we do some feature engineering on the counterparties. More precisely, we count each time of counterparty per claim. We hope that this may have some predictive power."
   ]
  },
  {
   "cell_type": "code",
   "execution_count": 35,
   "id": "f4087dce",
   "metadata": {
    "scrolled": true
   },
   "outputs": [
    {
     "data": {
      "text/html": [
       "<div>\n",
       "<style scoped>\n",
       "    .dataframe tbody tr th:only-of-type {\n",
       "        vertical-align: middle;\n",
       "    }\n",
       "\n",
       "    .dataframe tbody tr th {\n",
       "        vertical-align: top;\n",
       "    }\n",
       "\n",
       "    .dataframe thead th {\n",
       "        text-align: right;\n",
       "    }\n",
       "</style>\n",
       "<table border=\"1\" class=\"dataframe\">\n",
       "  <thead>\n",
       "    <tr style=\"text-align: right;\">\n",
       "      <th></th>\n",
       "      <th>NO-SIN</th>\n",
       "      <th>C-TIE</th>\n",
       "      <th>C-NAT-INTVT</th>\n",
       "      <th>IMM</th>\n",
       "      <th>MRQ-ADV</th>\n",
       "      <th>PUISS-KW</th>\n",
       "    </tr>\n",
       "  </thead>\n",
       "  <tbody>\n",
       "    <tr>\n",
       "      <th>0</th>\n",
       "      <td>000020182003590</td>\n",
       "      <td>0009700</td>\n",
       "      <td>CI</td>\n",
       "      <td>0.0</td>\n",
       "      <td></td>\n",
       "      <td>0000</td>\n",
       "    </tr>\n",
       "    <tr>\n",
       "      <th>1</th>\n",
       "      <td>000020182003590</td>\n",
       "      <td>000000000612615</td>\n",
       "      <td>CL</td>\n",
       "      <td>0.0</td>\n",
       "      <td></td>\n",
       "      <td>0000</td>\n",
       "    </tr>\n",
       "    <tr>\n",
       "      <th>2</th>\n",
       "      <td>000020182003590</td>\n",
       "      <td>000000005135071</td>\n",
       "      <td>TI</td>\n",
       "      <td>305832.0</td>\n",
       "      <td></td>\n",
       "      <td>0000</td>\n",
       "    </tr>\n",
       "    <tr>\n",
       "      <th>3</th>\n",
       "      <td>000020192013964</td>\n",
       "      <td>000000008837733</td>\n",
       "      <td>CL</td>\n",
       "      <td>0.0</td>\n",
       "      <td></td>\n",
       "      <td>0000</td>\n",
       "    </tr>\n",
       "    <tr>\n",
       "      <th>4</th>\n",
       "      <td>000020171035446</td>\n",
       "      <td>000000009145429</td>\n",
       "      <td>CL</td>\n",
       "      <td>219542.0</td>\n",
       "      <td>PEUG PARTNER</td>\n",
       "      <td>0044</td>\n",
       "    </tr>\n",
       "  </tbody>\n",
       "</table>\n",
       "</div>"
      ],
      "text/plain": [
       "            NO-SIN            C-TIE C-NAT-INTVT       IMM          MRQ-ADV  \\\n",
       "0  000020182003590  0009700                  CI       0.0                    \n",
       "1  000020182003590  000000000612615          CL       0.0                    \n",
       "2  000020182003590  000000005135071          TI  305832.0                    \n",
       "3  000020192013964  000000008837733          CL       0.0                    \n",
       "4  000020171035446  000000009145429          CL  219542.0  PEUG PARTNER      \n",
       "\n",
       "  PUISS-KW  \n",
       "0     0000  \n",
       "1     0000  \n",
       "2     0000  \n",
       "3     0000  \n",
       "4     0044  "
      ]
     },
     "execution_count": 35,
     "metadata": {},
     "output_type": "execute_result"
    }
   ],
   "source": [
    "counterparty_data.head()"
   ]
  },
  {
   "cell_type": "code",
   "execution_count": 36,
   "id": "e2d46f7e",
   "metadata": {},
   "outputs": [],
   "source": [
    "counterparty_data_df = pd.pivot_table(counterparty_data, index = \"NO-SIN\", values = \"C-TIE\", columns = \"C-NAT-INTVT\", aggfunc='count').fillna(0)\n",
    "counterparty_data_df.columns= np.sort(counterparty_data[\"C-NAT-INTVT\"].unique())\n",
    "counterparty_data_df.reset_index(inplace = True)"
   ]
  },
  {
   "cell_type": "code",
   "execution_count": 38,
   "id": "b81057f6",
   "metadata": {},
   "outputs": [],
   "source": [
    "labels.reset_index(inplace = True)"
   ]
  },
  {
   "cell_type": "code",
   "execution_count": 39,
   "id": "36d43632",
   "metadata": {
    "scrolled": false
   },
   "outputs": [],
   "source": [
    "merged_cntp = counterparty_data_df.merge(labels[[\"SI01_NO_SIN\", \"Proven_fraud\"]],left_on = \"NO-SIN\", right_on = \"SI01_NO_SIN\")"
   ]
  },
  {
   "cell_type": "code",
   "execution_count": 40,
   "id": "bc6436d6",
   "metadata": {},
   "outputs": [],
   "source": [
    "from sklearn.ensemble import GradientBoostingClassifier"
   ]
  },
  {
   "cell_type": "code",
   "execution_count": 41,
   "id": "caf601c8",
   "metadata": {},
   "outputs": [],
   "source": [
    "X_train = merged_cntp.iloc[:, 1:38]\n",
    "y_train = merged_cntp.iloc[:, -1]"
   ]
  },
  {
   "cell_type": "code",
   "execution_count": 42,
   "id": "570f7726",
   "metadata": {},
   "outputs": [],
   "source": [
    "clf = GradientBoostingClassifier(n_estimators=100, learning_rate=0.8,max_depth=3, random_state=1997).fit(X_train, y_train)"
   ]
  },
  {
   "cell_type": "code",
   "execution_count": 44,
   "id": "c5b81e1f",
   "metadata": {},
   "outputs": [],
   "source": [
    "shap_values = shap.TreeExplainer(clf).shap_values(X_train)"
   ]
  },
  {
   "cell_type": "code",
   "execution_count": 47,
   "id": "37a44999",
   "metadata": {},
   "outputs": [
    {
     "data": {
      "image/png": "[encoded data removed]",
      "text/plain": [
       "<Figure size 576x684 with 2 Axes>"
      ]
     },
     "metadata": {
      "needs_background": "light"
     },
     "output_type": "display_data"
    }
   ],
   "source": [
    "shap.summary_plot(shap_values, X_train)"
   ]
  },
  {
   "cell_type": "code",
   "execution_count": 64,
   "id": "aa99cd7e",
   "metadata": {},
   "outputs": [],
   "source": [
    "selected_counterparties = np.sort(counterparty_data[\"C-NAT-INTVT\"].unique())[clf.feature_importances_>0]"
   ]
  },
  {
   "cell_type": "code",
   "execution_count": 65,
   "id": "078907ce",
   "metadata": {},
   "outputs": [],
   "source": [
    "selected = [\"NO-SIN\"]\n",
    "selected.extend(list(selected_counterparties))\n",
    "counterparty_data_df = counterparty_data_df[selected]"
   ]
  },
  {
   "cell_type": "code",
   "execution_count": 66,
   "id": "60e56d46",
   "metadata": {
    "scrolled": true
   },
   "outputs": [
    {
     "data": {
      "text/html": [
       "<div>\n",
       "<style scoped>\n",
       "    .dataframe tbody tr th:only-of-type {\n",
       "        vertical-align: middle;\n",
       "    }\n",
       "\n",
       "    .dataframe tbody tr th {\n",
       "        vertical-align: top;\n",
       "    }\n",
       "\n",
       "    .dataframe thead th {\n",
       "        text-align: right;\n",
       "    }\n",
       "</style>\n",
       "<table border=\"1\" class=\"dataframe\">\n",
       "  <thead>\n",
       "    <tr style=\"text-align: right;\">\n",
       "      <th></th>\n",
       "      <th>NO-SIN</th>\n",
       "      <th>AV</th>\n",
       "      <th>BR</th>\n",
       "      <th>CD</th>\n",
       "      <th>CR</th>\n",
       "      <th>DV</th>\n",
       "      <th>HU</th>\n",
       "      <th>MI</th>\n",
       "      <th>MT</th>\n",
       "      <th>XI</th>\n",
       "      <th>XM</th>\n",
       "    </tr>\n",
       "  </thead>\n",
       "  <tbody>\n",
       "    <tr>\n",
       "      <th>0</th>\n",
       "      <td>000020111059354</td>\n",
       "      <td>0.0</td>\n",
       "      <td>0.0</td>\n",
       "      <td>0.0</td>\n",
       "      <td>0.0</td>\n",
       "      <td>0.0</td>\n",
       "      <td>0.0</td>\n",
       "      <td>0.0</td>\n",
       "      <td>0.0</td>\n",
       "      <td>0.0</td>\n",
       "      <td>0.0</td>\n",
       "    </tr>\n",
       "    <tr>\n",
       "      <th>1</th>\n",
       "      <td>000020111059939</td>\n",
       "      <td>0.0</td>\n",
       "      <td>0.0</td>\n",
       "      <td>1.0</td>\n",
       "      <td>0.0</td>\n",
       "      <td>0.0</td>\n",
       "      <td>0.0</td>\n",
       "      <td>0.0</td>\n",
       "      <td>0.0</td>\n",
       "      <td>0.0</td>\n",
       "      <td>0.0</td>\n",
       "    </tr>\n",
       "    <tr>\n",
       "      <th>2</th>\n",
       "      <td>000020112015244</td>\n",
       "      <td>0.0</td>\n",
       "      <td>0.0</td>\n",
       "      <td>0.0</td>\n",
       "      <td>0.0</td>\n",
       "      <td>0.0</td>\n",
       "      <td>0.0</td>\n",
       "      <td>0.0</td>\n",
       "      <td>0.0</td>\n",
       "      <td>0.0</td>\n",
       "      <td>0.0</td>\n",
       "    </tr>\n",
       "    <tr>\n",
       "      <th>3</th>\n",
       "      <td>000020121000009</td>\n",
       "      <td>0.0</td>\n",
       "      <td>0.0</td>\n",
       "      <td>1.0</td>\n",
       "      <td>0.0</td>\n",
       "      <td>0.0</td>\n",
       "      <td>0.0</td>\n",
       "      <td>0.0</td>\n",
       "      <td>0.0</td>\n",
       "      <td>0.0</td>\n",
       "      <td>0.0</td>\n",
       "    </tr>\n",
       "    <tr>\n",
       "      <th>4</th>\n",
       "      <td>000020121000011</td>\n",
       "      <td>0.0</td>\n",
       "      <td>0.0</td>\n",
       "      <td>0.0</td>\n",
       "      <td>0.0</td>\n",
       "      <td>0.0</td>\n",
       "      <td>0.0</td>\n",
       "      <td>0.0</td>\n",
       "      <td>0.0</td>\n",
       "      <td>0.0</td>\n",
       "      <td>0.0</td>\n",
       "    </tr>\n",
       "  </tbody>\n",
       "</table>\n",
       "</div>"
      ],
      "text/plain": [
       "            NO-SIN   AV   BR   CD   CR   DV   HU   MI   MT   XI   XM\n",
       "0  000020111059354  0.0  0.0  0.0  0.0  0.0  0.0  0.0  0.0  0.0  0.0\n",
       "1  000020111059939  0.0  0.0  1.0  0.0  0.0  0.0  0.0  0.0  0.0  0.0\n",
       "2  000020112015244  0.0  0.0  0.0  0.0  0.0  0.0  0.0  0.0  0.0  0.0\n",
       "3  000020121000009  0.0  0.0  1.0  0.0  0.0  0.0  0.0  0.0  0.0  0.0\n",
       "4  000020121000011  0.0  0.0  0.0  0.0  0.0  0.0  0.0  0.0  0.0  0.0"
      ]
     },
     "execution_count": 66,
     "metadata": {},
     "output_type": "execute_result"
    }
   ],
   "source": [
    "counterparty_data_df.head() #Boosting only looks at the highly predictive ones, but some can be overshadowed due to correlation\n",
    "#Try random forest"
   ]
  },
  {
   "cell_type": "markdown",
   "id": "17279d47",
   "metadata": {},
   "source": [
    "## Model for full database"
   ]
  },
  {
   "cell_type": "code",
   "execution_count": 67,
   "id": "c9d8899d",
   "metadata": {},
   "outputs": [],
   "source": [
    "full_df = claims_data.merge(\n",
    "    counterparty_data_df, \n",
    "    left_on = \"SI01_NO_SIN\", \n",
    "    right_on = \"NO-SIN\"\n",
    ").merge(\n",
    "    labels[[\"SI01_NO_SIN\", \"Proven_fraud\"]],\n",
    "    on = \"SI01_NO_SIN\"\n",
    ")"
   ]
  },
  {
   "cell_type": "code",
   "execution_count": 70,
   "id": "b8da6ea4",
   "metadata": {},
   "outputs": [],
   "source": [
    "selected_features = [\"SI01_C_CAU\", \n",
    "                     \"Reporting_delay\",\n",
    "                     \"Day_Accident\",\n",
    "                     \"Closest_Hour\", \n",
    "                     \"Month_Accident\"]\n",
    "selected_features.extend(list(counterparty_data_df.columns[1:]))\n",
    "X_full = full_df.sort_values(\"SI01_NO_SIN\")[selected_features]\n",
    "y_full = full_df[\"Proven_fraud\"]"
   ]
  },
  {
   "cell_type": "code",
   "execution_count": 71,
   "id": "dbcab35d",
   "metadata": {},
   "outputs": [
    {
     "data": {
      "text/plain": [
       "Index(['Reporting_delay', 'Closest_Hour', 'AV', 'BR', 'CD', 'CR', 'DV', 'HU',\n",
       "       'MI', 'MT', 'XI', 'XM'],\n",
       "      dtype='object')"
      ]
     },
     "execution_count": 71,
     "metadata": {},
     "output_type": "execute_result"
    }
   ],
   "source": [
    "X_full.describe().columns"
   ]
  },
  {
   "cell_type": "code",
   "execution_count": 72,
   "id": "0cd382fe",
   "metadata": {},
   "outputs": [],
   "source": [
    "from sklearn.preprocessing import OneHotEncoder"
   ]
  },
  {
   "cell_type": "code",
   "execution_count": 73,
   "id": "8b07061c",
   "metadata": {},
   "outputs": [],
   "source": [
    "all_columns =  set(X_full.columns)\n",
    "numeric_columns = set(X_full.describe().columns)\n",
    "factor_columns = all_columns.difference(numeric_columns)"
   ]
  },
  {
   "cell_type": "code",
   "execution_count": 74,
   "id": "6e24ea30",
   "metadata": {
    "scrolled": true
   },
   "outputs": [
    {
     "data": {
      "text/plain": [
       "{'Day_Accident', 'Month_Accident', 'SI01_C_CAU'}"
      ]
     },
     "execution_count": 74,
     "metadata": {},
     "output_type": "execute_result"
    }
   ],
   "source": [
    "factor_columns"
   ]
  },
  {
   "cell_type": "code",
   "execution_count": 75,
   "id": "dee1a92e",
   "metadata": {},
   "outputs": [],
   "source": [
    "X_full['Reporting_delay']=X_full['Reporting_delay'].dt.days"
   ]
  },
  {
   "cell_type": "code",
   "execution_count": 78,
   "id": "939ffdb4",
   "metadata": {},
   "outputs": [],
   "source": [
    "onehot_df = pd.DataFrame(X_full_encoded.toarray())"
   ]
  },
  {
   "cell_type": "code",
   "execution_count": 79,
   "id": "39a49751",
   "metadata": {},
   "outputs": [],
   "source": [
    "X_full_onehot = pd.concat([X_full[[*numeric_columns]], onehot_df], axis = 1)"
   ]
  },
  {
   "cell_type": "code",
   "execution_count": 80,
   "id": "314669c0",
   "metadata": {},
   "outputs": [],
   "source": [
    "train_size = int(round(0.6*len(y_full),0))\n",
    "\n",
    "X_train = X_full_onehot.iloc[:train_size, :]\n",
    "y_train = y_full[:train_size]\n",
    "\n",
    "X_test = X_full_onehot.iloc[train_size:, :]\n",
    "y_test = y_full[train_size:]"
   ]
  },
  {
   "cell_type": "code",
   "execution_count": 81,
   "id": "1f71c0b0",
   "metadata": {
    "scrolled": false
   },
   "outputs": [
    {
     "name": "stdout",
     "output_type": "stream",
     "text": [
      "      Iter       Train Loss      OOB Improve   Remaining Time \n",
      "         1           0.0419           0.0010            2.03m\n",
      "         2           0.0412           0.0004            2.07m\n",
      "         3           0.0413           0.0002            2.02m\n",
      "         4           0.0412           0.0001            1.86m\n",
      "         5           0.0407           0.0001            1.84m\n",
      "         6           0.0410           0.0001            1.80m\n",
      "         7           0.0405           0.0001            1.77m\n",
      "         8           0.0403           0.0000            1.73m\n",
      "         9           0.0404           0.0012            1.69m\n",
      "        10           0.0391           0.0003            1.64m\n",
      "        20           0.0388           0.0000            1.48m\n",
      "        30           0.0387          -0.0000            1.28m\n",
      "        40           0.0372          -0.0000            1.09m\n",
      "        50           0.0382           0.0000           56.75s\n",
      "        60           0.0381           0.0000           45.90s\n",
      "        70           0.0373           0.0000           35.70s\n",
      "        80           0.0375          -0.0000           22.56s\n",
      "        90           0.0386           0.0000           11.41s\n",
      "       100           0.0379          -0.0000            0.00s\n"
     ]
    },
    {
     "data": {
      "text/plain": [
       "Text(0.5, 1.0, 'AUC: 0.711')"
      ]
     },
     "execution_count": 81,
     "metadata": {},
     "output_type": "execute_result"
    },
    {
     "data": {
      "image/png": "[encoded data removed]",
      "text/plain": [
       "<Figure size 432x288 with 1 Axes>"
      ]
     },
     "metadata": {
      "needs_background": "light"
     },
     "output_type": "display_data"
    }
   ],
   "source": [
    "first_model = GradientBoostingClassifier(n_estimators=100, subsample = 0.8,max_depth=2, random_state=1997, verbose = 1).fit(X_train, y_train)\n",
    "y_pred = first_model.predict_proba(X_test)[:,1]\n",
    "fpr, tpr, thresholds = metrics.roc_curve(y_test,y_pred)\n",
    "plt.plot(fpr,tpr)\n",
    "plt.plot([0,1], [0,1], color = \"grey\", alpha = 0.5)\n",
    "plt.title(\"AUC: \"+str(np.round(metrics.auc(fpr, tpr),3)))\n",
    "#plt.savefig(\"AUC_intrinsic_features.pdf\")"
   ]
  },
  {
   "cell_type": "code",
   "execution_count": 82,
   "id": "3cb0eecf",
   "metadata": {},
   "outputs": [
    {
     "data": {
      "text/plain": [
       "Text(0.5, 1.0, 'Average Precision: 0.007')"
      ]
     },
     "execution_count": 82,
     "metadata": {},
     "output_type": "execute_result"
    },
    {
     "data": {
      "image/png": "[encoded data removed]",
      "text/plain": [
       "<Figure size 432x288 with 1 Axes>"
      ]
     },
     "metadata": {
      "needs_background": "light"
     },
     "output_type": "display_data"
    }
   ],
   "source": [
    "precision, recall, thresholds = precision_recall_curve(y, pred)\n",
    "plt.plot(recall,precision)\n",
    "plt.title(\"Average Precision: \"+str(np.round(metrics.average_precision_score(y, pred),3)))"
   ]
  },
  {
   "cell_type": "code",
   "execution_count": 83,
   "id": "776d51dd",
   "metadata": {
    "scrolled": true
   },
   "outputs": [
    {
     "name": "stderr",
     "output_type": "stream",
     "text": [
      "C:\\Users\\bruno\\OneDrive\\Documenten\\KUL\\MaAct2\\Thesis\\Python\\NetworkWithFeatures\\BiRank.py:6: RuntimeWarning: divide by zero encountered in true_divide\n",
      "  Dp = sparse.diags(np.asarray(1 / np.sqrt(adjMat.sum(axis=1).flatten())), [0])\n"
     ]
    },
    {
     "name": "stdout",
     "output_type": "stream",
     "text": [
      "Convergence reached.\n",
      "Convergence reached.\n"
     ]
    }
   ],
   "source": [
    "ADJ = adjmat_bipartite.tocsr()\n",
    "number_claims = ADJ.shape[0]\n",
    "train_set_size = int(np.round(0.6*number_claims))\n",
    "test_set_size = number_claims-train_set_size\n",
    "ADJ_train= ADJ[:train_set_size,:]\n",
    "fraud_train = {\"FraudInd\": labels[\"Proven_fraud\"].values[:train_set_size]}\n",
    "fraudMat_train = pd.DataFrame(fraud_train)\n",
    "claims_train = claim_nodes[:train_set_size]\n",
    "\n",
    "ADJ = ADJ_train.transpose().tocsr()\n",
    "Claims_res, Parties_res, aMat, iterations, convergence = BiRank(ADJ, claims_train, party_nodes, fraudMat_train)\n",
    "\n",
    "fraud_train_res = {\"FraudInd\": Claims_res.sort_values(\"ID\")[\"ScaledScore\"].values}\n",
    "test_set_fraud = {\"FraudInd\": [0]*test_set_size}\n",
    "fraudMat_train_res = pd.DataFrame(fraud_train_res)\n",
    "fraudMat_test_set = pd.DataFrame(test_set_fraud)\n",
    "fraudMat_test = fraudMat_train_res.append(fraudMat_test_set)\n",
    "\n",
    "ADJ = adjmat_bipartite.transpose().tocsr()\n",
    "Claims_res, Parties_res, aMat, iterations, convergence = BiRank(ADJ, claim_nodes, party_nodes, fraudMat_test)"
   ]
  },
  {
   "cell_type": "code",
   "execution_count": 84,
   "id": "0fe083f0",
   "metadata": {
    "scrolled": false
   },
   "outputs": [
    {
     "name": "stdout",
     "output_type": "stream",
     "text": [
      "      Iter       Train Loss      OOB Improve   Remaining Time \n",
      "         1           0.0419           0.0010            1.80m\n",
      "         2           0.0412           0.0004            2.27m\n",
      "         3           0.0413           0.0002            2.42m\n",
      "         4           0.0412           0.0001            2.47m\n",
      "         5           0.0407           0.0001            2.51m\n",
      "         6           0.0410           0.0001            2.49m\n",
      "         7           0.0405           0.0001            2.47m\n",
      "         8           0.0403           0.0000            2.43m\n",
      "         9           0.0404           0.0012            2.42m\n",
      "        10           0.0391           0.0003            2.39m\n",
      "        20           0.0388           0.0000            1.83m\n",
      "        30           0.0387          -0.0000            1.47m\n",
      "        40           0.0372           0.0000            1.32m\n",
      "        50           0.0384           0.0000            1.13m\n",
      "        60           0.0384           0.0000           54.02s\n",
      "        70           0.0374           0.0000           41.30s\n",
      "        80           0.0376          -0.0000           28.11s\n",
      "        90           0.0388          -0.0000           14.29s\n",
      "       100           0.0381          -0.0000            0.00s\n"
     ]
    },
    {
     "data": {
      "text/plain": [
       "Text(0.5, 1.0, 'AUC: 0.711')"
      ]
     },
     "execution_count": 84,
     "metadata": {},
     "output_type": "execute_result"
    },
    {
     "data": {
      "image/png": "[encoded data removed]",
      "text/plain": [
       "<Figure size 432x288 with 1 Axes>"
      ]
     },
     "metadata": {
      "needs_background": "light"
     },
     "output_type": "display_data"
    }
   ],
   "source": [
    "network_feature_df = pd.concat([X_full_onehot, Claims_res[['StdScore']].sort_index()], axis = 1)\n",
    "train_size = int(round(0.6*len(y_full),0))\n",
    "\n",
    "X_train = network_feature_df.iloc[:train_size, :]\n",
    "y_train = y_full[:train_size]\n",
    "\n",
    "X_test = network_feature_df.iloc[train_size:, :]\n",
    "y_test = y_full[train_size:]\n",
    "\n",
    "network_feature_model = GradientBoostingClassifier(n_estimators=100, subsample = 0.8,max_depth=2, random_state=1997, verbose = 1).fit(X_train, y_train)\n",
    "\n",
    "y_pred = network_feature_model.predict_proba(X_test)[:,1]\n",
    "fpr, tpr, thresholds = metrics.roc_curve(y_test,y_pred)\n",
    "plt.plot(fpr,tpr)\n",
    "plt.plot([0,1], [0,1], color = \"grey\", alpha = 0.5)\n",
    "plt.title(\"AUC: \"+str(np.round(metrics.auc(fpr, tpr),3)))\n",
    "#plt.savefig(\"AUC_intrinsic+network_features.pdf\")"
   ]
  },
  {
   "cell_type": "code",
   "execution_count": 85,
   "id": "e0771e8a",
   "metadata": {},
   "outputs": [
    {
     "data": {
      "text/plain": [
       "Text(0.5, 1.0, 'Average Precision: 0.007')"
      ]
     },
     "execution_count": 85,
     "metadata": {},
     "output_type": "execute_result"
    },
    {
     "data": {
      "image/png": "[encoded data removed]",
      "text/plain": [
       "<Figure size 432x288 with 1 Axes>"
      ]
     },
     "metadata": {
      "needs_background": "light"
     },
     "output_type": "display_data"
    }
   ],
   "source": [
    "precision, recall, thresholds = precision_recall_curve(y, pred)\n",
    "plt.plot(recall,precision)\n",
    "plt.title(\"Average Precision: \"+str(np.round(metrics.average_precision_score(y, pred),3)))"
   ]
  },
  {
   "cell_type": "code",
   "execution_count": 86,
   "id": "ee029df4",
   "metadata": {
    "scrolled": true
   },
   "outputs": [
    {
     "data": {
      "text/plain": [
       "Index([             'BR',              'XM',              'CD',\n",
       "                    'DV',              'MT',              'MI',\n",
       "                    'XI',              'AV',              'CR',\n",
       "          'Closest_Hour',              'HU', 'Reporting_delay',\n",
       "                      17,                19,                20,\n",
       "                      24,                31,                38,\n",
       "                      57,                74,                84,\n",
       "                      85,                92,                94,\n",
       "                      95,        'StdScore'],\n",
       "      dtype='object')"
      ]
     },
     "execution_count": 86,
     "metadata": {},
     "output_type": "execute_result"
    }
   ],
   "source": [
    "network_feature_df.columns[network_feature_model.feature_importances_>0]"
   ]
  },
  {
   "cell_type": "markdown",
   "id": "ee0d152b",
   "metadata": {},
   "source": [
    "### Adapting train-test procedure"
   ]
  },
  {
   "cell_type": "code",
   "execution_count": 89,
   "id": "a0995ac4",
   "metadata": {},
   "outputs": [
    {
     "name": "stdout",
     "output_type": "stream",
     "text": [
      "Convergence reached.\n"
     ]
    }
   ],
   "source": [
    "split_size = int(round(len(y_full)/3,0))\n",
    "\n",
    "\n",
    "fraud_train = {\"FraudInd\": labels[\"Proven_fraud\"].values[:split_size]}\n",
    "fraudMat_train = pd.DataFrame(fraud_train)\n",
    "validate_set_fraud = {\"FraudInd\": [0]*(2*split_size)}\n",
    "fraudMat_test_set = pd.DataFrame(validate_set_fraud)\n",
    "fraudMat_test = fraudMat_train.append(fraudMat_test_set)\n",
    "\n",
    "ADJ = adjmat_bipartite.transpose().tocsr()\n",
    "Claims_res, Parties_res, aMat, iterations, convergence = BiRank(ADJ, claim_nodes, party_nodes, fraudMat_test)\n",
    "\n"
   ]
  },
  {
   "cell_type": "code",
   "execution_count": 90,
   "id": "f1084645",
   "metadata": {},
   "outputs": [],
   "source": [
    "network_feature_df = pd.concat([X_full_onehot, Claims_res[['StdScore']].sort_index()], axis = 1)\n",
    "\n",
    "X_train = network_feature_df.iloc[split_size:2*split_size, :]\n",
    "y_train = y_full[split_size:2*split_size]\n",
    "\n",
    "X_test = network_feature_df.iloc[2*split_size:, :]\n",
    "y_test = y_full[2*split_size:]"
   ]
  },
  {
   "cell_type": "code",
   "execution_count": 91,
   "id": "35b20146",
   "metadata": {},
   "outputs": [
    {
     "name": "stdout",
     "output_type": "stream",
     "text": [
      "      Iter       Train Loss      OOB Improve   Remaining Time \n",
      "         1           0.0407           0.0011            1.37m\n",
      "         2           0.0409           0.0002            1.37m\n",
      "         3           0.0398           0.0003            1.36m\n",
      "         4           0.0706          -0.1227            1.35m\n",
      "         5           0.1022           0.0001            1.34m\n",
      "         6           0.1024           0.0000            1.32m\n",
      "         7           0.1007          -0.0002            1.31m\n",
      "         8           0.1011           0.0001            1.29m\n",
      "         9           0.1003          -0.0000            1.27m\n",
      "        10           0.0698          -0.0001            1.26m\n",
      "        20           0.0999           0.0000            1.11m\n",
      "        30           0.0982          -0.0000           56.96s\n",
      "        40           0.0996          -0.0000           49.10s\n",
      "        50           0.1000          -0.0000           41.15s\n",
      "        60           0.0994          -0.0000           32.86s\n",
      "        70           0.0988          -0.0000           25.29s\n",
      "        80           0.1003          -0.0000           17.11s\n",
      "        90           0.0994          -0.0000            8.61s\n",
      "       100           0.0984          -0.0000            0.00s\n",
      "      Iter       Train Loss      OOB Improve   Remaining Time \n",
      "         1           0.0407           0.0011            1.10m\n",
      "         2           0.0409           0.0002            1.21m\n",
      "         3           0.0398           0.0003            1.27m\n",
      "         4           0.0706          -0.1227            1.28m\n",
      "         5           0.1022           0.0001            1.27m\n",
      "         6           0.1024           0.0000            1.23m\n",
      "         7           0.1007          -0.0002            1.20m\n",
      "         8           0.1011           0.0001            1.19m\n",
      "         9           0.1003          -0.0000            1.17m\n",
      "        10           0.0698          -0.0001            1.16m\n",
      "        20           0.0999           0.0000           59.74s\n",
      "        30           0.0982          -0.0000           52.97s\n",
      "        40           0.0996          -0.0000           45.79s\n",
      "        50           0.1000          -0.0000           38.23s\n",
      "        60           0.0994           0.0000           30.73s\n",
      "        70           0.0988          -0.0000           22.64s\n",
      "        80           0.1002          -0.0000           14.10s\n",
      "        90           0.0994          -0.0000            6.92s\n",
      "       100           0.0984          -0.0000            0.00s\n"
     ]
    }
   ],
   "source": [
    "network_feature_model = GradientBoostingClassifier(n_estimators=100, subsample = 0.8,max_depth=2, random_state=1997, verbose = 1).fit(X_train, y_train)\n",
    "intrinsic_feature_model = GradientBoostingClassifier(n_estimators=100, subsample = 0.8,max_depth=2, random_state=1997, verbose = 1).fit(X_train.iloc[:,:-1], y_train)"
   ]
  },
  {
   "cell_type": "code",
   "execution_count": 92,
   "id": "78002625",
   "metadata": {},
   "outputs": [
    {
     "data": {
      "image/png": "[encoded data removed]",
      "text/plain": [
       "<Figure size 432x288 with 1 Axes>"
      ]
     },
     "metadata": {
      "needs_background": "light"
     },
     "output_type": "display_data"
    }
   ],
   "source": [
    "y_pred = intrinsic_feature_model.predict_proba(X_test.iloc[:,:-1])[:,1]\n",
    "fpr_int, tpr_int, thresholds = metrics.roc_curve(y_test,y_pred)\n",
    "\n",
    "y_pred = network_feature_model.predict_proba(X_test)[:,1]\n",
    "fpr_net, tpr_net, thresholds = metrics.roc_curve(y_test,y_pred)\n",
    "plt.plot(fpr_net,tpr_net, label = \"Network\")\n",
    "plt.plot(fpr_int,tpr_int, color = \"orange\", label = \"Intrinsic\")\n",
    "plt.plot([0,1], [0,1], color = \"grey\", alpha = 0.5)\n",
    "plt.legend(loc = 'lower right')\n",
    "plt.title(\"AUC: \"+str(np.round(metrics.auc(fpr, tpr),3)))\n",
    "plt.savefig(\"Comparison AUC.pdf\")"
   ]
  },
  {
   "cell_type": "markdown",
   "id": "adf9869d",
   "metadata": {},
   "source": [
    "### Feed the model data into the network"
   ]
  },
  {
   "cell_type": "code",
   "execution_count": 93,
   "id": "78824c8c",
   "metadata": {},
   "outputs": [
    {
     "name": "stdout",
     "output_type": "stream",
     "text": [
      "      Iter       Train Loss      OOB Improve   Remaining Time \n",
      "         1           0.0419           0.0010            1.92m\n",
      "         2           0.0412           0.0004            2.06m\n",
      "         3           0.0413           0.0002            2.06m\n",
      "         4           0.0412           0.0001            2.08m\n",
      "         5           0.0407           0.0001            2.08m\n",
      "         6           0.0410           0.0001            2.07m\n",
      "         7           0.0405           0.0001            2.08m\n",
      "         8           0.0403           0.0000            2.06m\n",
      "         9           0.0404           0.0012            2.05m\n",
      "        10           0.0391           0.0003            2.00m\n",
      "        20           0.0388           0.0000            1.76m\n",
      "        30           0.0387          -0.0000            1.56m\n",
      "        40           0.0372          -0.0000            1.28m\n",
      "        50           0.0382           0.0000           58.73s\n",
      "        60           0.0381           0.0000           44.15s\n",
      "        70           0.0373           0.0000           31.56s\n",
      "        80           0.0375          -0.0000           20.38s\n",
      "        90           0.0386           0.0000           10.47s\n",
      "       100           0.0379          -0.0000            0.00s\n"
     ]
    }
   ],
   "source": [
    "train_size = int(round(0.6*len(y_full),0))\n",
    "\n",
    "X_train = X_full_onehot.iloc[:train_size, :]\n",
    "y_train = y_full[:train_size]\n",
    "\n",
    "X_test = X_full_onehot.iloc[train_size:, :]\n",
    "y_test = y_full[train_size:]\n",
    "\n",
    "intrinsic_model = GradientBoostingClassifier(n_estimators=100, subsample = 0.8,max_depth=2, random_state=1997, verbose = 1).fit(X_train, y_train)\n",
    "y_pred = intrinsic_model.predict_proba(X_full_onehot)[:,1]"
   ]
  },
  {
   "cell_type": "code",
   "execution_count": 94,
   "id": "dec2352e",
   "metadata": {},
   "outputs": [
    {
     "name": "stderr",
     "output_type": "stream",
     "text": [
      "C:\\Users\\bruno\\OneDrive\\Documenten\\KUL\\MaAct2\\Thesis\\Python\\NetworkWithFeatures\\BiRank.py:6: RuntimeWarning: divide by zero encountered in true_divide\n",
      "  Dp = sparse.diags(np.asarray(1 / np.sqrt(adjMat.sum(axis=1).flatten())), [0])\n"
     ]
    },
    {
     "name": "stdout",
     "output_type": "stream",
     "text": [
      "Convergence reached.\n"
     ]
    },
    {
     "ename": "ValueError",
     "evalue": "operands could not be broadcast together with shapes (656304,1) (1050086,1) ",
     "output_type": "error",
     "traceback": [
      "\u001b[1;31m---------------------------------------------------------------------------\u001b[0m",
      "\u001b[1;31mValueError\u001b[0m                                Traceback (most recent call last)",
      "\u001b[1;32m<ipython-input-94-8dfc102a490a>\u001b[0m in \u001b[0;36m<module>\u001b[1;34m\u001b[0m\n\u001b[0;32m     18\u001b[0m \u001b[1;33m\u001b[0m\u001b[0m\n\u001b[0;32m     19\u001b[0m \u001b[0mADJ\u001b[0m \u001b[1;33m=\u001b[0m \u001b[0madjmat_bipartite\u001b[0m\u001b[1;33m.\u001b[0m\u001b[0mtranspose\u001b[0m\u001b[1;33m(\u001b[0m\u001b[1;33m)\u001b[0m\u001b[1;33m.\u001b[0m\u001b[0mtocsr\u001b[0m\u001b[1;33m(\u001b[0m\u001b[1;33m)\u001b[0m\u001b[1;33m\u001b[0m\u001b[1;33m\u001b[0m\u001b[0m\n\u001b[1;32m---> 20\u001b[1;33m \u001b[0mClaims_res\u001b[0m\u001b[1;33m,\u001b[0m \u001b[0mParties_res\u001b[0m\u001b[1;33m,\u001b[0m \u001b[0maMat\u001b[0m\u001b[1;33m,\u001b[0m \u001b[0miterations\u001b[0m\u001b[1;33m,\u001b[0m \u001b[0mconvergence\u001b[0m \u001b[1;33m=\u001b[0m \u001b[0mBiRank\u001b[0m\u001b[1;33m(\u001b[0m\u001b[0mADJ\u001b[0m\u001b[1;33m,\u001b[0m \u001b[0mclaim_nodes\u001b[0m\u001b[1;33m,\u001b[0m \u001b[0mparty_nodes\u001b[0m\u001b[1;33m,\u001b[0m \u001b[0mfraudMat_test\u001b[0m\u001b[1;33m)\u001b[0m\u001b[1;33m\u001b[0m\u001b[1;33m\u001b[0m\u001b[0m\n\u001b[0m",
      "\u001b[1;32m~\\OneDrive\\Documenten\\KUL\\MaAct2\\Thesis\\Python\\NetworkWithFeatures\\BiRank.py\u001b[0m in \u001b[0;36mBiRank\u001b[1;34m(Network, claim_nodes, party_nodes, fraudMat, alpha, maxiter, eps)\u001b[0m\n\u001b[0;32m     34\u001b[0m         \u001b[0mA\u001b[0m \u001b[1;33m=\u001b[0m \u001b[1;33m(\u001b[0m\u001b[0mS\u001b[0m \u001b[1;33m@\u001b[0m \u001b[0mpOld\u001b[0m\u001b[1;33m)\u001b[0m\u001b[1;33m\u001b[0m\u001b[1;33m\u001b[0m\u001b[0m\n\u001b[0;32m     35\u001b[0m         \u001b[0mA\u001b[0m\u001b[1;33m.\u001b[0m\u001b[0mshape\u001b[0m \u001b[1;33m=\u001b[0m \u001b[1;33m(\u001b[0m\u001b[0mlen\u001b[0m\u001b[1;33m(\u001b[0m\u001b[0mclaim_nodes\u001b[0m\u001b[1;33m)\u001b[0m\u001b[1;33m,\u001b[0m \u001b[1;36m1\u001b[0m\u001b[1;33m)\u001b[0m\u001b[1;33m\u001b[0m\u001b[1;33m\u001b[0m\u001b[0m\n\u001b[1;32m---> 36\u001b[1;33m         \u001b[0mc_t\u001b[0m \u001b[1;33m=\u001b[0m \u001b[0malpha\u001b[0m \u001b[1;33m*\u001b[0m \u001b[0mA\u001b[0m \u001b[1;33m+\u001b[0m \u001b[1;33m(\u001b[0m\u001b[1;36m1\u001b[0m \u001b[1;33m-\u001b[0m \u001b[0malpha\u001b[0m\u001b[1;33m)\u001b[0m \u001b[1;33m*\u001b[0m \u001b[0mc0\u001b[0m\u001b[1;33m.\u001b[0m\u001b[0mvalues\u001b[0m\u001b[1;33m\u001b[0m\u001b[1;33m\u001b[0m\u001b[0m\n\u001b[0m\u001b[0;32m     37\u001b[0m         \u001b[0mc\u001b[0m \u001b[1;33m=\u001b[0m \u001b[0mc_t\u001b[0m\u001b[1;33m.\u001b[0m\u001b[0mtranspose\u001b[0m\u001b[1;33m(\u001b[0m\u001b[1;33m)\u001b[0m\u001b[1;33m\u001b[0m\u001b[1;33m\u001b[0m\u001b[0m\n\u001b[0;32m     38\u001b[0m         \u001b[0mp\u001b[0m \u001b[1;33m=\u001b[0m \u001b[1;33m(\u001b[0m\u001b[0mc\u001b[0m \u001b[1;33m@\u001b[0m \u001b[0mS\u001b[0m\u001b[1;33m)\u001b[0m\u001b[1;33m\u001b[0m\u001b[1;33m\u001b[0m\u001b[0m\n",
      "\u001b[1;31mValueError\u001b[0m: operands could not be broadcast together with shapes (656304,1) (1050086,1) "
     ]
    }
   ],
   "source": [
    "ADJ = adjmat_bipartite.tocsr()\n",
    "number_claims = ADJ.shape[0]\n",
    "train_set_size = int(np.round(0.6*number_claims))\n",
    "test_set_size = number_claims-train_set_size\n",
    "ADJ_train= ADJ[:train_set_size,:]\n",
    "fraud_train = {\"FraudInd\": labels[\"Proven_fraud\"].values[:train_set_size]}\n",
    "fraudMat_train = pd.DataFrame(fraud_train)\n",
    "claims_train = claim_nodes[:train_set_size]\n",
    "\n",
    "ADJ = ADJ_train.transpose().tocsr()\n",
    "Claims_res, Parties_res, aMat, iterations, convergence = BiRank(ADJ, claims_train, party_nodes, fraudMat_train)\n",
    "\n",
    "fraud_train_res = {\"FraudInd\": Claims_res.sort_values(\"ID\")[\"ScaledScore\"].values}\n",
    "test_set_fraud = {\"FraudInd\": y_pred}\n",
    "fraudMat_train_res = pd.DataFrame(fraud_train_res)\n",
    "fraudMat_test_set = pd.DataFrame(test_set_fraud)\n",
    "fraudMat_test = fraudMat_train_res.append(fraudMat_test_set)\n",
    "\n",
    "ADJ = adjmat_bipartite.transpose().tocsr()\n",
    "Claims_res, Parties_res, aMat, iterations, convergence = BiRank(ADJ, claim_nodes, party_nodes, fraudMat_test)"
   ]
  },
  {
   "cell_type": "code",
   "execution_count": null,
   "id": "9c7192ee",
   "metadata": {},
   "outputs": [],
   "source": [
    "ADJ = adjmat_bipartite.tocsr()\n",
    "number_claims = ADJ.shape[0]\n",
    "train_set_size = int(np.round(0.6*number_claims))\n",
    "test_set_size = number_claims-train_set_size\n",
    "ADJ_train= ADJ[:train_set_size,:]\n",
    "\n"
   ]
  },
  {
   "cell_type": "code",
   "execution_count": null,
   "id": "ae0b2f13",
   "metadata": {},
   "outputs": [],
   "source": []
  },
  {
   "cell_type": "code",
   "execution_count": null,
   "id": "6130fae2",
   "metadata": {},
   "outputs": [],
   "source": [
    "train_scores = [fraud if label ==1 else prediction for fraud, label, prediction in zip(labels[\"Proven_fraud\"].values[:train_set_size], labels[\"Investigated_case\"].values[:train_set_size], y_pred[:train_set_size])]\n",
    "test_scores = y_pred[train_set_size:]\n",
    "fraud_train = {\"FraudInd\": labels[\"Proven_fraud\"].values[:train_set_size]}\n",
    "fraudMat_train = pd.DataFrame(fraud_train)\n",
    "claims_train = claim_nodes[:train_set_size]\n",
    "\n",
    "ADJ = ADJ_train.transpose().tocsr()\n",
    "Claims_res, Parties_res, aMat, iterations, convergence = BiRank(ADJ, claims_train, party_nodes, fraudMat_train)\n",
    "\n",
    "fraud_train_res = {\"FraudInd\": Claims_res.sort_values(\"ID\")[\"ScaledScore\"].values}\n",
    "test_set_fraud = {\"FraudInd\": test_scores}\n",
    "fraudMat_train_res = pd.DataFrame(fraud_train_res)\n",
    "fraudMat_test_set = pd.DataFrame(test_set_fraud)\n",
    "fraudMat_test = fraudMat_train_res.append(fraudMat_test_set)\n",
    "\n",
    "ADJ = adjmat_bipartite.transpose().tocsr()\n",
    "Claims_res, Parties_res, aMat, iterations, convergence = BiRank(ADJ, claim_nodes, party_nodes, fraudMat_test)"
   ]
  },
  {
   "cell_type": "code",
   "execution_count": null,
   "id": "c45f8fd9",
   "metadata": {
    "scrolled": true
   },
   "outputs": [],
   "source": [
    "y = labels[train_set_size:][\"Proven_fraud\"].values\n",
    "pred = Claims_res.sort_values(\"ID\")[train_set_size:].ScaledScore\n",
    "fpr, tpr, thresholds = metrics.roc_curve(y,pred)\n",
    "plt.plot(fpr,tpr)\n",
    "plt.plot([0,1], [0,1], color = \"grey\", alpha = 0.5)\n",
    "plt.title(\"AUC: \"+str(np.round(metrics.auc(fpr, tpr),3)))\n",
    "plt.savefig(\"AUC_ModelInNetwork.pdf\")"
   ]
  },
  {
   "cell_type": "code",
   "execution_count": null,
   "id": "f92a2a84",
   "metadata": {},
   "outputs": [],
   "source": [
    "precision, recall, thresholds = precision_recall_curve(y, pred)\n",
    "plt.plot(recall,precision)\n",
    "plt.title(\"Average Precision: \"+str(np.round(metrics.average_precision_score(y, pred),3)))"
   ]
  },
  {
   "cell_type": "code",
   "execution_count": null,
   "id": "cdac3d1c",
   "metadata": {},
   "outputs": [],
   "source": []
  }
 ],
 "metadata": {
  "kernelspec": {
   "display_name": "Python 3",
   "language": "python",
   "name": "python3"
  },
  "language_info": {
   "codemirror_mode": {
    "name": "ipython",
    "version": 3
   },
   "file_extension": ".py",
   "mimetype": "text/x-python",
   "name": "python",
   "nbconvert_exporter": "python",
   "pygments_lexer": "ipython3",
   "version": "3.8.8"
  }
 },
 "nbformat": 4,
 "nbformat_minor": 5
}
