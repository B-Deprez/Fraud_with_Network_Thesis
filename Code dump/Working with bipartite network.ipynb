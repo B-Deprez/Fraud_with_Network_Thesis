{
 "cells": [
  {
   "cell_type": "code",
   "execution_count": 1,
   "id": "75178396",
   "metadata": {
    "scrolled": true
   },
   "outputs": [
    {
     "name": "stderr",
     "output_type": "stream",
     "text": [
      "C:\\Users\\bruno\\anaconda3\\lib\\site-packages\\nxviz\\__init__.py:18: UserWarning: \n",
      "nxviz has a new API! Version 0.7.0 onwards, the old class-based API is being\n",
      "deprecated in favour of a new API focused on advancing a grammar of network\n",
      "graphics. If your plotting code depends on the old API, please consider\n",
      "pinning nxviz at version 0.7.0, as the new API will break your old code.\n",
      "\n",
      "To check out the new API, please head over to the docs at\n",
      "https://ericmjl.github.io/nxviz/ to learn more. We hope you enjoy using it!\n",
      "\n",
      "(This deprecation message will go away in version 1.0.)\n",
      "\n",
      "  warnings.warn(\n"
     ]
    }
   ],
   "source": [
    "import numpy as np\n",
    "import scipy as sp\n",
    "import pickle as pkl\n",
    "import networkx as nx\n",
    "from py2neo import Graph\n",
    "import py2neo\n",
    "import pandas as pd\n",
    "import nxviz as nv\n",
    "import matplotlib.pyplot as plt\n",
    "from stellargraph import StellarGraph\n",
    "from sklearn import metrics\n",
    "\n",
    "\n",
    "%matplotlib inline\n",
    "\n",
    "broker_nodes = pkl.load(open( \"broker_nodes_brunosept.pkl\", \"rb\" ))\n",
    "cars_nodes = pkl.load(open( \"cars_nodes_brunosept.pkl\", \"rb\" ))\n",
    "claims_nodes = pkl.load(open( \"claims_nodes_brunosept.pkl\", \"rb\" ))\n",
    "policy_nodes = pkl.load(open( \"policy_nodes_brunosept.pkl\", \"rb\" ))\n",
    "edges = pkl.load(open( \"edges_brunosept.pkl\", \"rb\" ))\n",
    "\n",
    "labels = pd.DataFrame(pkl.load(open(\"Y\", \"rb\")))\n",
    "labels.rename(columns = {\"y1\": \"Fraud\", \"y2\":\"Labelled\"}, inplace = True)\n",
    "\n",
    "HG = StellarGraph({\"claim\" : claims_nodes, \"car\" : cars_nodes, \"policy\" : policy_nodes, \"broker\" : broker_nodes}, edges)\n",
    "\n",
    "HG_claims = HG.nodes(\"claim\")\n",
    "HG_cars = HG.nodes(\"car\")\n",
    "HG_sub = list(HG_claims)+ list(HG_cars)\n",
    "adjmat_claim_car = HG.to_adjacency_matrix(HG_sub)[:len(HG_claims), len(HG_claims):]\n",
    "\n",
    "HG_policies = HG.nodes(\"policy\")\n",
    "HG_sub = list(HG_cars)+list(HG_policies)\n",
    "adjmat_car_policy = HG.to_adjacency_matrix(HG_sub)[:len(HG_cars), len(HG_cars):]\n",
    "\n",
    "HG_brokers = HG.nodes(\"broker\")\n",
    "HG_sub = list(HG_policies) + list(HG_brokers)\n",
    "adjmat_policy_broker = HG.to_adjacency_matrix(HG_sub)[:len(HG_policies), len(HG_policies):]\n",
    "\n",
    "C = adjmat_claim_car\n",
    "P = adjmat_car_policy\n",
    "B = adjmat_policy_broker\n",
    "CP = C @ P\n",
    "CB = CP @ B\n",
    "\n",
    "A_bipartite = sp.sparse.hstack((C, \n",
    "                                CP,\n",
    "                                CB\n",
    "                               )).tocsr()"
   ]
  },
  {
   "cell_type": "code",
   "execution_count": 2,
   "id": "65fccc28",
   "metadata": {},
   "outputs": [
    {
     "data": {
      "application/vnd.jupyter.widget-view+json": {
       "model_id": "306a140889624ba185208bb6205ef942",
       "version_major": 2,
       "version_minor": 0
      },
      "text/plain": [
       "  0%|          | 0/396146 [00:00<?, ?it/s]"
      ]
     },
     "metadata": {},
     "output_type": "display_data"
    }
   ],
   "source": [
    "nRows = A_bipartite.shape[0]\n",
    "edges = {\"source\":[], \"target\":[], \"weight\":[]}\n",
    "\n",
    "from tqdm.notebook import tqdm\n",
    "for i in tqdm(range(nRows)):\n",
    "    nonzeroIndices = A_bipartite[i, :].nonzero()\n",
    "    for j in nonzeroIndices[1]:\n",
    "        w = A_bipartite[i,j]\n",
    "        edges[\"source\"].append(i)\n",
    "        edges[\"target\"].append(j)\n",
    "        edges[\"weight\"].append(w)"
   ]
  },
  {
   "cell_type": "code",
   "execution_count": 3,
   "id": "3b8d42a7",
   "metadata": {},
   "outputs": [],
   "source": [
    "df_edges = pd.DataFrame(edges)\n",
    "#df_edges.to_csv(\"BipartiteNetwork.csv\")"
   ]
  },
  {
   "cell_type": "code",
   "execution_count": 4,
   "id": "98399133",
   "metadata": {},
   "outputs": [],
   "source": [
    "party_index = np.concatenate((np.array(cars_nodes.index), np.array(policy_nodes.index), np.array(broker_nodes.index)\n",
    "                             ))\n",
    "pd_party_index = pd.DataFrame(party_index)\n",
    "pd_party_index.columns = [\"party\"]\n",
    "pd_party_index[\"party_num\"] = range(len(party_index))\n",
    "\n",
    "pd_claim_index = pd.DataFrame(claims_nodes.index)\n",
    "pd_claim_index.columns = [\"claim\"]\n",
    "pd_claim_index[\"claim_num\"] = range(len(claims_nodes.index))"
   ]
  },
  {
   "cell_type": "code",
   "execution_count": 5,
   "id": "64e03376",
   "metadata": {
    "scrolled": false
   },
   "outputs": [
    {
     "data": {
      "text/html": [
       "<div>\n",
       "<style scoped>\n",
       "    .dataframe tbody tr th:only-of-type {\n",
       "        vertical-align: middle;\n",
       "    }\n",
       "\n",
       "    .dataframe tbody tr th {\n",
       "        vertical-align: top;\n",
       "    }\n",
       "\n",
       "    .dataframe thead th {\n",
       "        text-align: right;\n",
       "    }\n",
       "</style>\n",
       "<table border=\"1\" class=\"dataframe\">\n",
       "  <thead>\n",
       "    <tr style=\"text-align: right;\">\n",
       "      <th></th>\n",
       "      <th>source</th>\n",
       "      <th>target</th>\n",
       "      <th>weight</th>\n",
       "    </tr>\n",
       "  </thead>\n",
       "  <tbody>\n",
       "    <tr>\n",
       "      <th>0</th>\n",
       "      <td>000020211004303</td>\n",
       "      <td>267937.0</td>\n",
       "      <td>1.0</td>\n",
       "    </tr>\n",
       "    <tr>\n",
       "      <th>1</th>\n",
       "      <td>000020211004303</td>\n",
       "      <td>176593.0</td>\n",
       "      <td>1.0</td>\n",
       "    </tr>\n",
       "    <tr>\n",
       "      <th>2</th>\n",
       "      <td>000020211004303</td>\n",
       "      <td>010103007094831</td>\n",
       "      <td>1.0</td>\n",
       "    </tr>\n",
       "    <tr>\n",
       "      <th>3</th>\n",
       "      <td>000020211004303</td>\n",
       "      <td>70034001</td>\n",
       "      <td>1.0</td>\n",
       "    </tr>\n",
       "    <tr>\n",
       "      <th>4</th>\n",
       "      <td>000020211004304</td>\n",
       "      <td>127134.0</td>\n",
       "      <td>1.0</td>\n",
       "    </tr>\n",
       "  </tbody>\n",
       "</table>\n",
       "</div>"
      ],
      "text/plain": [
       "            source           target  weight\n",
       "0  000020211004303         267937.0     1.0\n",
       "1  000020211004303         176593.0     1.0\n",
       "2  000020211004303  010103007094831     1.0\n",
       "3  000020211004303  70034001            1.0\n",
       "4  000020211004304         127134.0     1.0"
      ]
     },
     "execution_count": 5,
     "metadata": {},
     "output_type": "execute_result"
    }
   ],
   "source": [
    "pd_merged = pd_claim_index.merge(df_edges.merge(pd_party_index, how = \"left\", left_on = \"target\", right_on = \"party_num\"), left_on = \"claim_num\", right_on = \"source\")\n",
    "pd_merged = pd_merged[[\"claim\", \"party\", \"weight\"]]\n",
    "pd_merged.columns = [\"source\", \"target\", \"weight\"]\n",
    "pd_merged.head()"
   ]
  },
  {
   "cell_type": "code",
   "execution_count": 6,
   "id": "0dbf4c48",
   "metadata": {},
   "outputs": [],
   "source": [
    "all_claims = pd.DataFrame(pd_claim_index['claim'])\n",
    "all_claims.columns = [\"ID\"]\n",
    "all_claims = all_claims.set_index(\"ID\")\n",
    "\n",
    "all_parties = pd.DataFrame(pd_party_index['party'])\n",
    "all_parties.columns = [\"ID\"]\n",
    "all_parties = all_parties.set_index(\"ID\")"
   ]
  },
  {
   "cell_type": "code",
   "execution_count": 7,
   "id": "a94b5b06",
   "metadata": {},
   "outputs": [],
   "source": [
    "HG_bipartite = StellarGraph({\"claim\": all_claims, \"party\":all_parties},edges = pd_merged[[\"source\", \"target\"]])"
   ]
  },
  {
   "cell_type": "code",
   "execution_count": 8,
   "id": "d27cd5e1",
   "metadata": {},
   "outputs": [],
   "source": [
    "Nx_bipartite = HG_bipartite.to_networkx()"
   ]
  },
  {
   "cell_type": "code",
   "execution_count": 9,
   "id": "eaf4e19c",
   "metadata": {},
   "outputs": [],
   "source": [
    "labels = pd.DataFrame(pkl.load(open(\"Y\", \"rb\")))\n",
    "labels.rename(columns = {\"y1\": \"Fraud\", \"y2\":\"Labelled\"}, inplace = True)"
   ]
  },
  {
   "cell_type": "code",
   "execution_count": null,
   "id": "8ccd63fc",
   "metadata": {},
   "outputs": [],
   "source": []
  },
  {
   "cell_type": "markdown",
   "id": "e924ef35",
   "metadata": {},
   "source": [
    "Below, claims are either red or green, depending on whether they are fraudulent or not.\n",
    "\n",
    "Brokers are indicated in blue. \n",
    "\n",
    "The cars are purple and finally, the policies are yellow. "
   ]
  },
  {
   "cell_type": "code",
   "execution_count": 10,
   "id": "21a7ab40",
   "metadata": {
    "scrolled": false
   },
   "outputs": [
    {
     "data": {
      "application/vnd.jupyter.widget-view+json": {
       "model_id": "d6c0f437f0f4460c93b11ca181870a35",
       "version_major": 2,
       "version_minor": 0
      },
      "text/plain": [
       "  0%|          | 0/18 [00:00<?, ?it/s]"
      ]
     },
     "metadata": {},
     "output_type": "display_data"
    },
    {
     "data": {
      "image/png": "[encoded data removed]",
      "text/plain": [
       "<Figure size 432x288 with 1 Axes>"
      ]
     },
     "metadata": {},
     "output_type": "display_data"
    }
   ],
   "source": [
    "G = nx.generators.ego.ego_graph(Nx_bipartite, \"000020121049339\", radius = 10)\n",
    "\n",
    "color_map = []\n",
    "width_map = []\n",
    "for node in tqdm(G):\n",
    "    if node == \"000020121049339\":\n",
    "        width_map.append(3)\n",
    "    else:\n",
    "        width_map.append(0)\n",
    "    \n",
    "    if node in claims_nodes.index:\n",
    "        if labels[labels.index == node][\"Fraud\"][0] ==1:\n",
    "            color_map.append('red')\n",
    "        else:\n",
    "            color_map.append('green')\n",
    "    elif node in broker_nodes.index: \n",
    "        color_map.append('blue')    \n",
    "    elif node in cars_nodes.index:\n",
    "        color_map.append('purple')\n",
    "    else:\n",
    "        color_map.append('yellow')\n",
    "nx.draw(G, node_color=color_map, width = 0.5, linewidths = width_map, edgecolors = 'black')\n",
    "#plt.savefig(\"fraud_high.pdf\")"
   ]
  },
  {
   "cell_type": "code",
   "execution_count": 11,
   "id": "1c04e735",
   "metadata": {},
   "outputs": [
    {
     "data": {
      "text/plain": [
       "'claim'"
      ]
     },
     "execution_count": 11,
     "metadata": {},
     "output_type": "execute_result"
    }
   ],
   "source": [
    "G.nodes[\"000020121049339\"]['label']"
   ]
  },
  {
   "cell_type": "code",
   "execution_count": 12,
   "id": "68eaabc6",
   "metadata": {},
   "outputs": [
    {
     "data": {
      "text/plain": [
       "NodeView(('010102101026461', '000020161026049', '010102100655912', '000020161031321', '010502100593240', '010302100948501', '91032101       ', 145375.0, 218513.0, '000020181052723', '000020201025292', 4024.0, 18841.0, '000020121049339', 195870.0, 389693.0, 386302.0, 14815.0))"
      ]
     },
     "execution_count": 12,
     "metadata": {},
     "output_type": "execute_result"
    }
   ],
   "source": [
    "G.nodes()"
   ]
  },
  {
   "cell_type": "markdown",
   "id": "4255b8b8",
   "metadata": {},
   "source": [
    "We plot a couple of different neighbourhoods."
   ]
  },
  {
   "cell_type": "code",
   "execution_count": 13,
   "id": "92d07fd7",
   "metadata": {
    "scrolled": true
   },
   "outputs": [
    {
     "data": {
      "application/vnd.jupyter.widget-view+json": {
       "model_id": "6e983f21bb2945aaa3be02a5b3bcd3de",
       "version_major": 2,
       "version_minor": 0
      },
      "text/plain": [
       "  0%|          | 0/10 [00:00<?, ?it/s]"
      ]
     },
     "metadata": {},
     "output_type": "display_data"
    }
   ],
   "source": [
    "fraud_claims_sample = labels[labels[\"Fraud\"]== 1].sample(10, random_state=1997)\n",
    "for claim in tqdm(fraud_claims_sample.index):\n",
    "    color_map = []\n",
    "    G = nx.generators.ego.ego_graph(Nx_bipartite, claim, radius = 2)\n",
    "    for node in G:\n",
    "        if node == claim:\n",
    "            color_map.append(\"black\")\n",
    "        elif node in claims_nodes.index:\n",
    "            if labels[labels.index == node][\"Fraud\"][0] ==1:\n",
    "                color_map.append('red')\n",
    "            else:\n",
    "                color_map.append('green')\n",
    "        elif node in broker_nodes.index: \n",
    "            color_map.append('blue')    \n",
    "        elif node in cars_nodes.index:\n",
    "            color_map.append('purple')\n",
    "        else:\n",
    "            color_map.append('yellow')\n",
    "    nx.draw(G, node_color=color_map)\n",
    "    plt.savefig(\"fraud\"+claim+\".pdf\")\n",
    "    plt.close()"
   ]
  },
  {
   "cell_type": "code",
   "execution_count": 14,
   "id": "57edafcd",
   "metadata": {},
   "outputs": [
    {
     "data": {
      "text/html": [
       "<div>\n",
       "<style scoped>\n",
       "    .dataframe tbody tr th:only-of-type {\n",
       "        vertical-align: middle;\n",
       "    }\n",
       "\n",
       "    .dataframe tbody tr th {\n",
       "        vertical-align: top;\n",
       "    }\n",
       "\n",
       "    .dataframe thead th {\n",
       "        text-align: right;\n",
       "    }\n",
       "</style>\n",
       "<table border=\"1\" class=\"dataframe\">\n",
       "  <thead>\n",
       "    <tr style=\"text-align: right;\">\n",
       "      <th></th>\n",
       "      <th>Fraud</th>\n",
       "      <th>Labelled</th>\n",
       "    </tr>\n",
       "    <tr>\n",
       "      <th>SI01_NO_SIN</th>\n",
       "      <th></th>\n",
       "      <th></th>\n",
       "    </tr>\n",
       "  </thead>\n",
       "  <tbody>\n",
       "    <tr>\n",
       "      <th>000020121050002</th>\n",
       "      <td>1</td>\n",
       "      <td>1.0</td>\n",
       "    </tr>\n",
       "    <tr>\n",
       "      <th>000020131034408</th>\n",
       "      <td>1</td>\n",
       "      <td>1.0</td>\n",
       "    </tr>\n",
       "    <tr>\n",
       "      <th>000020181041698</th>\n",
       "      <td>1</td>\n",
       "      <td>1.0</td>\n",
       "    </tr>\n",
       "    <tr>\n",
       "      <th>000020151007726</th>\n",
       "      <td>1</td>\n",
       "      <td>1.0</td>\n",
       "    </tr>\n",
       "    <tr>\n",
       "      <th>000020141044826</th>\n",
       "      <td>1</td>\n",
       "      <td>1.0</td>\n",
       "    </tr>\n",
       "    <tr>\n",
       "      <th>000020141018331</th>\n",
       "      <td>1</td>\n",
       "      <td>1.0</td>\n",
       "    </tr>\n",
       "    <tr>\n",
       "      <th>000020191046466</th>\n",
       "      <td>1</td>\n",
       "      <td>1.0</td>\n",
       "    </tr>\n",
       "    <tr>\n",
       "      <th>000020151003869</th>\n",
       "      <td>1</td>\n",
       "      <td>1.0</td>\n",
       "    </tr>\n",
       "    <tr>\n",
       "      <th>000020121004240</th>\n",
       "      <td>1</td>\n",
       "      <td>1.0</td>\n",
       "    </tr>\n",
       "    <tr>\n",
       "      <th>000020191001681</th>\n",
       "      <td>1</td>\n",
       "      <td>1.0</td>\n",
       "    </tr>\n",
       "  </tbody>\n",
       "</table>\n",
       "</div>"
      ],
      "text/plain": [
       "                 Fraud  Labelled\n",
       "SI01_NO_SIN                     \n",
       "000020121050002      1       1.0\n",
       "000020131034408      1       1.0\n",
       "000020181041698      1       1.0\n",
       "000020151007726      1       1.0\n",
       "000020141044826      1       1.0\n",
       "000020141018331      1       1.0\n",
       "000020191046466      1       1.0\n",
       "000020151003869      1       1.0\n",
       "000020121004240      1       1.0\n",
       "000020191001681      1       1.0"
      ]
     },
     "execution_count": 14,
     "metadata": {},
     "output_type": "execute_result"
    }
   ],
   "source": [
    "fraud_claims_sample"
   ]
  },
  {
   "cell_type": "code",
   "execution_count": 15,
   "id": "bb480c9a",
   "metadata": {},
   "outputs": [],
   "source": [
    "df_degree = pd.DataFrame(Nx_bipartite.degree(claims_nodes.index))"
   ]
  },
  {
   "cell_type": "code",
   "execution_count": 16,
   "id": "2faaf01d",
   "metadata": {},
   "outputs": [
    {
     "data": {
      "text/html": [
       "<div>\n",
       "<style scoped>\n",
       "    .dataframe tbody tr th:only-of-type {\n",
       "        vertical-align: middle;\n",
       "    }\n",
       "\n",
       "    .dataframe tbody tr th {\n",
       "        vertical-align: top;\n",
       "    }\n",
       "\n",
       "    .dataframe thead th {\n",
       "        text-align: right;\n",
       "    }\n",
       "</style>\n",
       "<table border=\"1\" class=\"dataframe\">\n",
       "  <thead>\n",
       "    <tr style=\"text-align: right;\">\n",
       "      <th></th>\n",
       "      <th>claim</th>\n",
       "      <th>degree</th>\n",
       "    </tr>\n",
       "  </thead>\n",
       "  <tbody>\n",
       "    <tr>\n",
       "      <th>0</th>\n",
       "      <td>000020211004303</td>\n",
       "      <td>0.000004</td>\n",
       "    </tr>\n",
       "    <tr>\n",
       "      <th>1</th>\n",
       "      <td>000020211004304</td>\n",
       "      <td>0.000003</td>\n",
       "    </tr>\n",
       "    <tr>\n",
       "      <th>2</th>\n",
       "      <td>000020211004306</td>\n",
       "      <td>0.000004</td>\n",
       "    </tr>\n",
       "    <tr>\n",
       "      <th>3</th>\n",
       "      <td>000020211004307</td>\n",
       "      <td>0.000004</td>\n",
       "    </tr>\n",
       "    <tr>\n",
       "      <th>4</th>\n",
       "      <td>000020211004308</td>\n",
       "      <td>0.000003</td>\n",
       "    </tr>\n",
       "  </tbody>\n",
       "</table>\n",
       "</div>"
      ],
      "text/plain": [
       "             claim    degree\n",
       "0  000020211004303  0.000004\n",
       "1  000020211004304  0.000003\n",
       "2  000020211004306  0.000004\n",
       "3  000020211004307  0.000004\n",
       "4  000020211004308  0.000003"
      ]
     },
     "execution_count": 16,
     "metadata": {},
     "output_type": "execute_result"
    }
   ],
   "source": [
    "di = nx.degree_centrality(Nx_bipartite)\n",
    "df_degcen = pd.DataFrame({'claim': [claim for claim in claims_nodes.index],\n",
    "                          'degree': [di[claim] for claim in claims_nodes.index] })\n",
    "df_degcen.head()"
   ]
  },
  {
   "cell_type": "markdown",
   "id": "156b6ca0",
   "metadata": {},
   "source": [
    "## Geodesic Distance "
   ]
  },
  {
   "cell_type": "markdown",
   "id": "b2dfd7ca",
   "metadata": {},
   "source": [
    "Here, we change the graph a bit, since we don't want brokers in the network"
   ]
  },
  {
   "cell_type": "code",
   "execution_count": 17,
   "id": "a7fcc7ae",
   "metadata": {},
   "outputs": [
    {
     "data": {
      "application/vnd.jupyter.widget-view+json": {
       "model_id": "dbf2fe8317f54a478c35a488f1683c57",
       "version_major": 2,
       "version_minor": 0
      },
      "text/plain": [
       "  0%|          | 0/396146 [00:00<?, ?it/s]"
      ]
     },
     "metadata": {},
     "output_type": "display_data"
    }
   ],
   "source": [
    "A_bipartite = sp.sparse.hstack((C, \n",
    "                                CP\n",
    "                               )).tocsr()\n",
    "\n",
    "nRows = A_bipartite.shape[0]\n",
    "edges = {\"source\":[], \"target\":[], \"weight\":[]}\n",
    "\n",
    "from tqdm.notebook import tqdm\n",
    "for i in tqdm(range(nRows)):\n",
    "    nonzeroIndices = A_bipartite[i, :].nonzero()\n",
    "    for j in nonzeroIndices[1]:\n",
    "        w = A_bipartite[i,j]\n",
    "        edges[\"source\"].append(i)\n",
    "        edges[\"target\"].append(j)\n",
    "        edges[\"weight\"].append(w)\n",
    "        \n",
    "df_edges = pd.DataFrame(edges)\n",
    "\n",
    "party_index = np.concatenate((np.array(cars_nodes.index), np.array(policy_nodes.index)))\n",
    "pd_party_index = pd.DataFrame(party_index)\n",
    "pd_party_index.columns = [\"party\"]\n",
    "pd_party_index[\"party_num\"] = range(len(party_index))\n",
    "\n",
    "pd_merged = pd_claim_index.merge(df_edges.merge(pd_party_index, how = \"left\", left_on = \"target\", right_on = \"party_num\"), left_on = \"claim_num\", right_on = \"source\")\n",
    "pd_merged = pd_merged[[\"claim\", \"party\", \"weight\"]]\n",
    "pd_merged.columns = [\"source\", \"target\", \"weight\"]\n",
    "\n",
    "all_parties = pd.DataFrame(pd_party_index['party'])\n",
    "all_parties.columns = [\"ID\"]\n",
    "all_parties = all_parties.set_index(\"ID\")\n",
    "\n",
    "HG_bipartite = StellarGraph({\"claim\": all_claims, \"party\":all_parties},edges = pd_merged[[\"source\", \"target\"]])\n",
    "\n",
    "Nx_bipartite = HG_bipartite.to_networkx()"
   ]
  },
  {
   "cell_type": "code",
   "execution_count": 18,
   "id": "a6db48f0",
   "metadata": {},
   "outputs": [
    {
     "name": "stderr",
     "output_type": "stream",
     "text": [
      "C:\\Users\\bruno\\anaconda3\\lib\\site-packages\\gensim\\similarities\\__init__.py:15: UserWarning: The gensim.similarities.levenshtein submodule is disabled, because the optional Levenshtein package <https://pypi.org/project/python-Levenshtein/> is unavailable. Install Levenhstein (e.g. `pip install python-Levenshtein`) to suppress this warning.\n",
      "  warnings.warn(msg)\n"
     ]
    }
   ],
   "source": [
    "from BipartiteFunctions import geodesic"
   ]
  },
  {
   "cell_type": "code",
   "execution_count": 19,
   "id": "3e3e8ac1",
   "metadata": {},
   "outputs": [
    {
     "data": {
      "text/html": [
       "<div>\n",
       "<style scoped>\n",
       "    .dataframe tbody tr th:only-of-type {\n",
       "        vertical-align: middle;\n",
       "    }\n",
       "\n",
       "    .dataframe tbody tr th {\n",
       "        vertical-align: top;\n",
       "    }\n",
       "\n",
       "    .dataframe thead th {\n",
       "        text-align: right;\n",
       "    }\n",
       "</style>\n",
       "<table border=\"1\" class=\"dataframe\">\n",
       "  <thead>\n",
       "    <tr style=\"text-align: right;\">\n",
       "      <th></th>\n",
       "      <th>Item</th>\n",
       "      <th>Geodesic distance</th>\n",
       "      <th>Number of cycles</th>\n",
       "    </tr>\n",
       "  </thead>\n",
       "  <tbody>\n",
       "    <tr>\n",
       "      <th>0</th>\n",
       "      <td>000020161007988</td>\n",
       "      <td>4</td>\n",
       "      <td>1</td>\n",
       "    </tr>\n",
       "    <tr>\n",
       "      <th>1</th>\n",
       "      <td>385969.0</td>\n",
       "      <td>4</td>\n",
       "      <td>1</td>\n",
       "    </tr>\n",
       "    <tr>\n",
       "      <th>2</th>\n",
       "      <td>000020161022170</td>\n",
       "      <td>4</td>\n",
       "      <td>1</td>\n",
       "    </tr>\n",
       "    <tr>\n",
       "      <th>3</th>\n",
       "      <td>011002100690914</td>\n",
       "      <td>4</td>\n",
       "      <td>2</td>\n",
       "    </tr>\n",
       "    <tr>\n",
       "      <th>4</th>\n",
       "      <td>172958.0</td>\n",
       "      <td>4</td>\n",
       "      <td>1</td>\n",
       "    </tr>\n",
       "    <tr>\n",
       "      <th>5</th>\n",
       "      <td>000020151010838</td>\n",
       "      <td>4</td>\n",
       "      <td>1</td>\n",
       "    </tr>\n",
       "    <tr>\n",
       "      <th>6</th>\n",
       "      <td>000020151026654</td>\n",
       "      <td>4</td>\n",
       "      <td>1</td>\n",
       "    </tr>\n",
       "  </tbody>\n",
       "</table>\n",
       "</div>"
      ],
      "text/plain": [
       "              Item  Geodesic distance  Number of cycles\n",
       "0  000020161007988                  4                 1\n",
       "1         385969.0                  4                 1\n",
       "2  000020161022170                  4                 1\n",
       "3  011002100690914                  4                 2\n",
       "4         172958.0                  4                 1\n",
       "5  000020151010838                  4                 1\n",
       "6  000020151026654                  4                 1"
      ]
     },
     "execution_count": 19,
     "metadata": {},
     "output_type": "execute_result"
    }
   ],
   "source": [
    "G = nx.generators.ego.ego_graph(Nx_bipartite, \"000020121002644\", radius = 5)\n",
    "geo_G = geodesic(G); geo_G"
   ]
  },
  {
   "cell_type": "code",
   "execution_count": 20,
   "id": "fa0ffc32",
   "metadata": {},
   "outputs": [],
   "source": [
    "full_geo_G = geodesic(Nx_bipartite)"
   ]
  },
  {
   "cell_type": "code",
   "execution_count": 21,
   "id": "9203d2e4",
   "metadata": {},
   "outputs": [
    {
     "data": {
      "text/html": [
       "<div>\n",
       "<style scoped>\n",
       "    .dataframe tbody tr th:only-of-type {\n",
       "        vertical-align: middle;\n",
       "    }\n",
       "\n",
       "    .dataframe tbody tr th {\n",
       "        vertical-align: top;\n",
       "    }\n",
       "\n",
       "    .dataframe thead th {\n",
       "        text-align: right;\n",
       "    }\n",
       "</style>\n",
       "<table border=\"1\" class=\"dataframe\">\n",
       "  <thead>\n",
       "    <tr style=\"text-align: right;\">\n",
       "      <th></th>\n",
       "      <th>Item</th>\n",
       "      <th>Geodesic distance</th>\n",
       "      <th>Number of cycles</th>\n",
       "    </tr>\n",
       "  </thead>\n",
       "  <tbody>\n",
       "    <tr>\n",
       "      <th>0</th>\n",
       "      <td>000020211004798</td>\n",
       "      <td>4</td>\n",
       "      <td>93</td>\n",
       "    </tr>\n",
       "    <tr>\n",
       "      <th>1</th>\n",
       "      <td>011002001945985</td>\n",
       "      <td>4</td>\n",
       "      <td>2257</td>\n",
       "    </tr>\n",
       "    <tr>\n",
       "      <th>2</th>\n",
       "      <td>000020211004274</td>\n",
       "      <td>4</td>\n",
       "      <td>230807</td>\n",
       "    </tr>\n",
       "    <tr>\n",
       "      <th>3</th>\n",
       "      <td>010102120000025</td>\n",
       "      <td>4</td>\n",
       "      <td>270153</td>\n",
       "    </tr>\n",
       "    <tr>\n",
       "      <th>4</th>\n",
       "      <td>000020211005472</td>\n",
       "      <td>4</td>\n",
       "      <td>94</td>\n",
       "    </tr>\n",
       "    <tr>\n",
       "      <th>...</th>\n",
       "      <td>...</td>\n",
       "      <td>...</td>\n",
       "      <td>...</td>\n",
       "    </tr>\n",
       "    <tr>\n",
       "      <th>447610</th>\n",
       "      <td>397662.0</td>\n",
       "      <td>4</td>\n",
       "      <td>1</td>\n",
       "    </tr>\n",
       "    <tr>\n",
       "      <th>447611</th>\n",
       "      <td>412776.0</td>\n",
       "      <td>4</td>\n",
       "      <td>1</td>\n",
       "    </tr>\n",
       "    <tr>\n",
       "      <th>447612</th>\n",
       "      <td>000020181041256</td>\n",
       "      <td>4</td>\n",
       "      <td>1</td>\n",
       "    </tr>\n",
       "    <tr>\n",
       "      <th>447613</th>\n",
       "      <td>010202100619748</td>\n",
       "      <td>4</td>\n",
       "      <td>1</td>\n",
       "    </tr>\n",
       "    <tr>\n",
       "      <th>447614</th>\n",
       "      <td>000020121031060</td>\n",
       "      <td>4</td>\n",
       "      <td>1</td>\n",
       "    </tr>\n",
       "  </tbody>\n",
       "</table>\n",
       "<p>447615 rows × 3 columns</p>\n",
       "</div>"
      ],
      "text/plain": [
       "                   Item  Geodesic distance  Number of cycles\n",
       "0       000020211004798                  4                93\n",
       "1       011002001945985                  4              2257\n",
       "2       000020211004274                  4            230807\n",
       "3       010102120000025                  4            270153\n",
       "4       000020211005472                  4                94\n",
       "...                 ...                ...               ...\n",
       "447610         397662.0                  4                 1\n",
       "447611         412776.0                  4                 1\n",
       "447612  000020181041256                  4                 1\n",
       "447613  010202100619748                  4                 1\n",
       "447614  000020121031060                  4                 1\n",
       "\n",
       "[447615 rows x 3 columns]"
      ]
     },
     "execution_count": 21,
     "metadata": {},
     "output_type": "execute_result"
    }
   ],
   "source": [
    "full_geo_G"
   ]
  },
  {
   "cell_type": "code",
   "execution_count": 22,
   "id": "ded7995a",
   "metadata": {
    "scrolled": true
   },
   "outputs": [
    {
     "data": {
      "text/html": [
       "<div>\n",
       "<style scoped>\n",
       "    .dataframe tbody tr th:only-of-type {\n",
       "        vertical-align: middle;\n",
       "    }\n",
       "\n",
       "    .dataframe tbody tr th {\n",
       "        vertical-align: top;\n",
       "    }\n",
       "\n",
       "    .dataframe thead th {\n",
       "        text-align: right;\n",
       "    }\n",
       "</style>\n",
       "<table border=\"1\" class=\"dataframe\">\n",
       "  <thead>\n",
       "    <tr style=\"text-align: right;\">\n",
       "      <th></th>\n",
       "      <th>Item</th>\n",
       "      <th>Geodesic distance</th>\n",
       "      <th>Number of cycles</th>\n",
       "    </tr>\n",
       "  </thead>\n",
       "  <tbody>\n",
       "    <tr>\n",
       "      <th>0</th>\n",
       "      <td>000020211004798</td>\n",
       "      <td>4</td>\n",
       "      <td>93</td>\n",
       "    </tr>\n",
       "    <tr>\n",
       "      <th>2</th>\n",
       "      <td>000020211004274</td>\n",
       "      <td>4</td>\n",
       "      <td>230807</td>\n",
       "    </tr>\n",
       "    <tr>\n",
       "      <th>4</th>\n",
       "      <td>000020211005472</td>\n",
       "      <td>4</td>\n",
       "      <td>94</td>\n",
       "    </tr>\n",
       "    <tr>\n",
       "      <th>5</th>\n",
       "      <td>000020211005516</td>\n",
       "      <td>4</td>\n",
       "      <td>93</td>\n",
       "    </tr>\n",
       "    <tr>\n",
       "      <th>6</th>\n",
       "      <td>000020201034680</td>\n",
       "      <td>4</td>\n",
       "      <td>93</td>\n",
       "    </tr>\n",
       "  </tbody>\n",
       "</table>\n",
       "</div>"
      ],
      "text/plain": [
       "              Item  Geodesic distance  Number of cycles\n",
       "0  000020211004798                  4                93\n",
       "2  000020211004274                  4            230807\n",
       "4  000020211005472                  4                94\n",
       "5  000020211005516                  4                93\n",
       "6  000020201034680                  4                93"
      ]
     },
     "execution_count": 22,
     "metadata": {},
     "output_type": "execute_result"
    }
   ],
   "source": [
    "full_geo_G = full_geo_G[full_geo_G[\"Item\"].isin(claims_nodes.index)]\n",
    "full_geo_G.head()"
   ]
  },
  {
   "cell_type": "code",
   "execution_count": 23,
   "id": "1990d1f3",
   "metadata": {},
   "outputs": [
    {
     "data": {
      "text/plain": [
       "<AxesSubplot:>"
      ]
     },
     "execution_count": 23,
     "metadata": {},
     "output_type": "execute_result"
    },
    {
     "data": {
      "image/png": "[encoded data removed]",
      "text/plain": [
       "<Figure size 432x288 with 1 Axes>"
      ]
     },
     "metadata": {
      "needs_background": "light"
     },
     "output_type": "display_data"
    }
   ],
   "source": [
    "full_geo_G.plot.area()"
   ]
  },
  {
   "cell_type": "code",
   "execution_count": 24,
   "id": "02d20dc4",
   "metadata": {},
   "outputs": [
    {
     "data": {
      "text/html": [
       "<div>\n",
       "<style scoped>\n",
       "    .dataframe tbody tr th:only-of-type {\n",
       "        vertical-align: middle;\n",
       "    }\n",
       "\n",
       "    .dataframe tbody tr th {\n",
       "        vertical-align: top;\n",
       "    }\n",
       "\n",
       "    .dataframe thead th {\n",
       "        text-align: right;\n",
       "    }\n",
       "</style>\n",
       "<table border=\"1\" class=\"dataframe\">\n",
       "  <thead>\n",
       "    <tr style=\"text-align: right;\">\n",
       "      <th></th>\n",
       "      <th>Item</th>\n",
       "      <th>Geodesic distance</th>\n",
       "      <th>Number of cycles</th>\n",
       "      <th>SI01_NO_SIN</th>\n",
       "      <th>Fraud</th>\n",
       "      <th>Labelled</th>\n",
       "    </tr>\n",
       "  </thead>\n",
       "  <tbody>\n",
       "    <tr>\n",
       "      <th>0</th>\n",
       "      <td>000020211004798</td>\n",
       "      <td>4</td>\n",
       "      <td>93</td>\n",
       "      <td>000020211004798</td>\n",
       "      <td>0</td>\n",
       "      <td>0.0</td>\n",
       "    </tr>\n",
       "    <tr>\n",
       "      <th>1</th>\n",
       "      <td>000020211004274</td>\n",
       "      <td>4</td>\n",
       "      <td>230807</td>\n",
       "      <td>000020211004274</td>\n",
       "      <td>0</td>\n",
       "      <td>0.0</td>\n",
       "    </tr>\n",
       "    <tr>\n",
       "      <th>2</th>\n",
       "      <td>000020211005472</td>\n",
       "      <td>4</td>\n",
       "      <td>94</td>\n",
       "      <td>000020211005472</td>\n",
       "      <td>0</td>\n",
       "      <td>0.0</td>\n",
       "    </tr>\n",
       "    <tr>\n",
       "      <th>3</th>\n",
       "      <td>000020211005516</td>\n",
       "      <td>4</td>\n",
       "      <td>93</td>\n",
       "      <td>000020211005516</td>\n",
       "      <td>0</td>\n",
       "      <td>0.0</td>\n",
       "    </tr>\n",
       "    <tr>\n",
       "      <th>4</th>\n",
       "      <td>000020201034680</td>\n",
       "      <td>4</td>\n",
       "      <td>93</td>\n",
       "      <td>000020201034680</td>\n",
       "      <td>0</td>\n",
       "      <td>0.0</td>\n",
       "    </tr>\n",
       "    <tr>\n",
       "      <th>...</th>\n",
       "      <td>...</td>\n",
       "      <td>...</td>\n",
       "      <td>...</td>\n",
       "      <td>...</td>\n",
       "      <td>...</td>\n",
       "      <td>...</td>\n",
       "    </tr>\n",
       "    <tr>\n",
       "      <th>258783</th>\n",
       "      <td>000020121004616</td>\n",
       "      <td>4</td>\n",
       "      <td>1</td>\n",
       "      <td>000020121004616</td>\n",
       "      <td>0</td>\n",
       "      <td>0.0</td>\n",
       "    </tr>\n",
       "    <tr>\n",
       "      <th>258784</th>\n",
       "      <td>000020121008532</td>\n",
       "      <td>4</td>\n",
       "      <td>1</td>\n",
       "      <td>000020121008532</td>\n",
       "      <td>0</td>\n",
       "      <td>0.0</td>\n",
       "    </tr>\n",
       "    <tr>\n",
       "      <th>258785</th>\n",
       "      <td>000020141018727</td>\n",
       "      <td>4</td>\n",
       "      <td>1</td>\n",
       "      <td>000020141018727</td>\n",
       "      <td>0</td>\n",
       "      <td>0.0</td>\n",
       "    </tr>\n",
       "    <tr>\n",
       "      <th>258786</th>\n",
       "      <td>000020181041256</td>\n",
       "      <td>4</td>\n",
       "      <td>1</td>\n",
       "      <td>000020181041256</td>\n",
       "      <td>0</td>\n",
       "      <td>0.0</td>\n",
       "    </tr>\n",
       "    <tr>\n",
       "      <th>258787</th>\n",
       "      <td>000020121031060</td>\n",
       "      <td>4</td>\n",
       "      <td>1</td>\n",
       "      <td>000020121031060</td>\n",
       "      <td>0</td>\n",
       "      <td>0.0</td>\n",
       "    </tr>\n",
       "  </tbody>\n",
       "</table>\n",
       "<p>258788 rows × 6 columns</p>\n",
       "</div>"
      ],
      "text/plain": [
       "                   Item  Geodesic distance  Number of cycles      SI01_NO_SIN  \\\n",
       "0       000020211004798                  4                93  000020211004798   \n",
       "1       000020211004274                  4            230807  000020211004274   \n",
       "2       000020211005472                  4                94  000020211005472   \n",
       "3       000020211005516                  4                93  000020211005516   \n",
       "4       000020201034680                  4                93  000020201034680   \n",
       "...                 ...                ...               ...              ...   \n",
       "258783  000020121004616                  4                 1  000020121004616   \n",
       "258784  000020121008532                  4                 1  000020121008532   \n",
       "258785  000020141018727                  4                 1  000020141018727   \n",
       "258786  000020181041256                  4                 1  000020181041256   \n",
       "258787  000020121031060                  4                 1  000020121031060   \n",
       "\n",
       "        Fraud  Labelled  \n",
       "0           0       0.0  \n",
       "1           0       0.0  \n",
       "2           0       0.0  \n",
       "3           0       0.0  \n",
       "4           0       0.0  \n",
       "...       ...       ...  \n",
       "258783      0       0.0  \n",
       "258784      0       0.0  \n",
       "258785      0       0.0  \n",
       "258786      0       0.0  \n",
       "258787      0       0.0  \n",
       "\n",
       "[258788 rows x 6 columns]"
      ]
     },
     "execution_count": 24,
     "metadata": {},
     "output_type": "execute_result"
    }
   ],
   "source": [
    "df_geo_fraud = full_geo_G.merge(labels.reset_index(), left_on = \"Item\", right_on = \"SI01_NO_SIN\");\n",
    "df_geo_fraud"
   ]
  },
  {
   "cell_type": "code",
   "execution_count": 25,
   "id": "c6be3d72",
   "metadata": {
    "scrolled": false
   },
   "outputs": [
    {
     "data": {
      "image/png": "[encoded data removed]",
      "text/plain": [
       "<Figure size 432x288 with 1 Axes>"
      ]
     },
     "metadata": {
      "needs_background": "light"
     },
     "output_type": "display_data"
    }
   ],
   "source": [
    "df_geo_fraud[[\"Geodesic distance\", \"Fraud\"]].boxplot(by = [\"Fraud\"], grid = False)\n",
    "plt.savefig(\"BoxplotFraudGeo.pdf\")"
   ]
  },
  {
   "cell_type": "code",
   "execution_count": 26,
   "id": "43811178",
   "metadata": {},
   "outputs": [
    {
     "data": {
      "image/png": "[encoded data removed]",
      "text/plain": [
       "<Figure size 432x288 with 1 Axes>"
      ]
     },
     "metadata": {
      "needs_background": "light"
     },
     "output_type": "display_data"
    }
   ],
   "source": [
    "df_geo_fraud[[\"Number of cycles\", \"Fraud\"]].boxplot(by = [\"Fraud\"], grid = False)\n",
    "plt.savefig(\"BoxplotFraudCycle.pdf\")"
   ]
  },
  {
   "cell_type": "markdown",
   "id": "78257793",
   "metadata": {},
   "source": [
    "# Incorportate the BiRank and train-test split"
   ]
  },
  {
   "cell_type": "code",
   "execution_count": 10,
   "id": "bea526f2",
   "metadata": {},
   "outputs": [],
   "source": [
    "import numpy as np\n",
    "import scipy as sp\n",
    "import pickle as pkl\n",
    "import networkx as nx\n",
    "from py2neo import Graph\n",
    "import py2neo\n",
    "import pandas as pd\n",
    "import nxviz as nv\n",
    "import matplotlib.pyplot as plt\n",
    "from stellargraph import StellarGraph\n",
    "\n",
    "from tqdm.notebook import tqdm\n",
    "\n",
    "from BiRank import BiRank\n",
    "\n",
    "%matplotlib inline"
   ]
  },
  {
   "cell_type": "code",
   "execution_count": 11,
   "id": "fd8099cf",
   "metadata": {},
   "outputs": [],
   "source": [
    "broker_nodes = pkl.load(open( \"broker_nodes_brunosept.pkl\", \"rb\" ))\n",
    "cars_nodes = pkl.load(open( \"cars_nodes_brunosept.pkl\", \"rb\" ))\n",
    "claims_nodes = pkl.load(open( \"claims_nodes_brunosept.pkl\", \"rb\" )).sort_values(\"ID\")\n",
    "policy_nodes = pkl.load(open( \"policy_nodes_brunosept.pkl\", \"rb\" ))\n",
    "edges = pkl.load(open( \"edges_brunosept.pkl\", \"rb\" ))\n",
    "\n",
    "labels = pd.DataFrame(pkl.load(open(\"Y\", \"rb\"))).sort_values(\"SI01_NO_SIN\")\n",
    "labels.rename(columns = {\"y1\": \"Fraud\", \"y2\":\"Labelled\"}, inplace = True)"
   ]
  },
  {
   "cell_type": "code",
   "execution_count": 12,
   "id": "47a88c05",
   "metadata": {},
   "outputs": [],
   "source": [
    "HG = StellarGraph({\"claim\" : claims_nodes, \"car\" : cars_nodes, \"policy\" : policy_nodes, \"broker\" : broker_nodes}, edges)"
   ]
  },
  {
   "cell_type": "code",
   "execution_count": 13,
   "id": "816c7843",
   "metadata": {},
   "outputs": [],
   "source": [
    "HG_claims = HG.nodes(\"claim\")\n",
    "HG_cars = HG.nodes(\"car\")\n",
    "HG_sub = list(HG_claims)+ list(HG_cars)\n",
    "adjmat_claim_car = HG.to_adjacency_matrix(HG_sub)[:len(HG_claims), len(HG_claims):]\n",
    "\n",
    "HG_policies = HG.nodes(\"policy\")\n",
    "HG_sub = list(HG_cars)+list(HG_policies)\n",
    "adjmat_car_policy = HG.to_adjacency_matrix(HG_sub)[:len(HG_cars), len(HG_cars):]\n",
    "\n",
    "HG_brokers = HG.nodes(\"broker\")\n",
    "HG_sub = list(HG_policies) + list(HG_brokers)\n",
    "adjmat_policy_broker = HG.to_adjacency_matrix(HG_sub)[:len(HG_policies), len(HG_policies):]"
   ]
  },
  {
   "cell_type": "code",
   "execution_count": 14,
   "id": "8d841c71",
   "metadata": {},
   "outputs": [],
   "source": [
    "C = adjmat_claim_car\n",
    "P = adjmat_car_policy\n",
    "B = adjmat_policy_broker\n",
    "CP = C @ P\n",
    "CB = CP @ B\n",
    "\n",
    "adjmat_bipartite = sp.sparse.hstack((C, CP, CB))\n",
    "\n",
    "fraud = {\"FraudInd\": labels[\"Fraud\"].values}\n",
    "fraudMat = pd.DataFrame(fraud)\n",
    "\n",
    "claim_nodes = pd.DataFrame({\"ID\": HG_claims}).set_index(\"ID\")\n",
    "\n",
    "HG_parties = np.concatenate((HG_cars, HG_policies, HG_brokers))\n",
    "party_nodes = pd.DataFrame({\"ID\": HG_parties}).set_index(\"ID\")"
   ]
  },
  {
   "cell_type": "code",
   "execution_count": 15,
   "id": "df680cd7",
   "metadata": {},
   "outputs": [
    {
     "name": "stderr",
     "output_type": "stream",
     "text": [
      "C:\\Users\\bruno\\OneDrive\\Documenten\\KUL\\MaAct2\\Thesis\\Python\\BiRank.py:6: RuntimeWarning: divide by zero encountered in true_divide\n",
      "  Dp = sparse.diags(np.asarray(1 / np.sqrt(adjMat.sum(axis=1).flatten())), [0])\n",
      "C:\\Users\\bruno\\OneDrive\\Documenten\\KUL\\MaAct2\\Thesis\\Python\\BiRank.py:7: RuntimeWarning: divide by zero encountered in true_divide\n",
      "  Dc = sparse.diags(np.asarray(1 / np.sqrt(adjMat.sum(axis=0))), [0])\n"
     ]
    },
    {
     "name": "stdout",
     "output_type": "stream",
     "text": [
      "Convergence reached.\n"
     ]
    }
   ],
   "source": [
    "ADJ = adjmat_bipartite.tocsr()\n",
    "number_claims = ADJ.shape[0]\n",
    "train_set_size = int(np.round(0.6*number_claims))\n",
    "test_set_size = number_claims-train_set_size\n",
    "\n",
    "fraud_train = {\"FraudInd\": labels[\"Fraud\"].values[:train_set_size]}\n",
    "fraudMat_train = pd.DataFrame(fraud_train)\n",
    "test_set_fraud = {\"FraudInd\": [0]*test_set_size}\n",
    "fraudMat_test_set = pd.DataFrame(test_set_fraud)\n",
    "fraudMat_test = fraudMat_train.append(fraudMat_test_set)\n",
    "\n",
    "ADJ = ADJ.transpose().tocsr()\n",
    "\n",
    "Claims_res, Parties_res, aMat, iterations, convergence = BiRank(ADJ, claim_nodes, party_nodes, fraudMat_test)"
   ]
  },
  {
   "cell_type": "code",
   "execution_count": 16,
   "id": "675e34f1",
   "metadata": {},
   "outputs": [
    {
     "data": {
      "text/plain": [
       "[<matplotlib.lines.Line2D at 0x2526353f5b0>]"
      ]
     },
     "execution_count": 16,
     "metadata": {},
     "output_type": "execute_result"
    },
    {
     "data": {
      "image/png": "[encoded data removed]",
      "text/plain": [
       "<Figure size 432x288 with 1 Axes>"
      ]
     },
     "metadata": {
      "needs_background": "light"
     },
     "output_type": "display_data"
    }
   ],
   "source": [
    "y = labels[train_set_size:].Fraud.values\n",
    "pred = Claims_res.sort_values(\"ID\")[train_set_size:].ScaledScore\n",
    "fpr_bi, tpr_bi, thresholds = metrics.roc_curve(y,pred)\n",
    "plt.plot(fpr_bi,tpr_bi)"
   ]
  },
  {
   "cell_type": "code",
   "execution_count": 33,
   "id": "cd6b8e18",
   "metadata": {},
   "outputs": [
    {
     "data": {
      "text/html": [
       "<div>\n",
       "<style scoped>\n",
       "    .dataframe tbody tr th:only-of-type {\n",
       "        vertical-align: middle;\n",
       "    }\n",
       "\n",
       "    .dataframe tbody tr th {\n",
       "        vertical-align: top;\n",
       "    }\n",
       "\n",
       "    .dataframe thead th {\n",
       "        text-align: right;\n",
       "    }\n",
       "</style>\n",
       "<table border=\"1\" class=\"dataframe\">\n",
       "  <thead>\n",
       "    <tr style=\"text-align: right;\">\n",
       "      <th></th>\n",
       "      <th>index</th>\n",
       "      <th>StdScore</th>\n",
       "    </tr>\n",
       "  </thead>\n",
       "  <tbody>\n",
       "    <tr>\n",
       "      <th>0</th>\n",
       "      <td>0</td>\n",
       "      <td>-0.068859</td>\n",
       "    </tr>\n",
       "    <tr>\n",
       "      <th>1</th>\n",
       "      <td>1</td>\n",
       "      <td>-0.075079</td>\n",
       "    </tr>\n",
       "    <tr>\n",
       "      <th>2</th>\n",
       "      <td>2</td>\n",
       "      <td>-0.071438</td>\n",
       "    </tr>\n",
       "    <tr>\n",
       "      <th>3</th>\n",
       "      <td>3</td>\n",
       "      <td>-0.049342</td>\n",
       "    </tr>\n",
       "    <tr>\n",
       "      <th>4</th>\n",
       "      <td>4</td>\n",
       "      <td>-0.075863</td>\n",
       "    </tr>\n",
       "    <tr>\n",
       "      <th>...</th>\n",
       "      <td>...</td>\n",
       "      <td>...</td>\n",
       "    </tr>\n",
       "    <tr>\n",
       "      <th>396141</th>\n",
       "      <td>396141</td>\n",
       "      <td>0.424123</td>\n",
       "    </tr>\n",
       "    <tr>\n",
       "      <th>396142</th>\n",
       "      <td>396142</td>\n",
       "      <td>-0.096843</td>\n",
       "    </tr>\n",
       "    <tr>\n",
       "      <th>396143</th>\n",
       "      <td>396143</td>\n",
       "      <td>-0.072824</td>\n",
       "    </tr>\n",
       "    <tr>\n",
       "      <th>396144</th>\n",
       "      <td>396144</td>\n",
       "      <td>0.010491</td>\n",
       "    </tr>\n",
       "    <tr>\n",
       "      <th>396145</th>\n",
       "      <td>396145</td>\n",
       "      <td>0.010491</td>\n",
       "    </tr>\n",
       "  </tbody>\n",
       "</table>\n",
       "<p>396146 rows × 2 columns</p>\n",
       "</div>"
      ],
      "text/plain": [
       "         index  StdScore\n",
       "0            0 -0.068859\n",
       "1            1 -0.075079\n",
       "2            2 -0.071438\n",
       "3            3 -0.049342\n",
       "4            4 -0.075863\n",
       "...        ...       ...\n",
       "396141  396141  0.424123\n",
       "396142  396142 -0.096843\n",
       "396143  396143 -0.072824\n",
       "396144  396144  0.010491\n",
       "396145  396145  0.010491\n",
       "\n",
       "[396146 rows x 2 columns]"
      ]
     },
     "execution_count": 33,
     "metadata": {},
     "output_type": "execute_result"
    }
   ],
   "source": [
    "BiRankScore = Claims_res.sort_values(\"ID\")[[\"StdScore\"]];\n",
    "BiRankScore_index = BiRankScore.reset_index()\n",
    "BiRankScore_index"
   ]
  },
  {
   "cell_type": "code",
   "execution_count": 34,
   "id": "51dbdaa0",
   "metadata": {
    "scrolled": false
   },
   "outputs": [
    {
     "name": "stderr",
     "output_type": "stream",
     "text": [
      "C:\\Users\\bruno\\OneDrive\\Documenten\\KUL\\MaAct2\\Thesis\\Python\\BiRank.py:6: RuntimeWarning: divide by zero encountered in true_divide\n",
      "  Dp = sparse.diags(np.asarray(1 / np.sqrt(adjMat.sum(axis=1).flatten())), [0])\n",
      "C:\\Users\\bruno\\OneDrive\\Documenten\\KUL\\MaAct2\\Thesis\\Python\\BiRank.py:7: RuntimeWarning: divide by zero encountered in true_divide\n",
      "  Dc = sparse.diags(np.asarray(1 / np.sqrt(adjMat.sum(axis=0))), [0])\n"
     ]
    },
    {
     "name": "stdout",
     "output_type": "stream",
     "text": [
      "Convergence reached.\n"
     ]
    },
    {
     "data": {
      "text/html": [
       "<div>\n",
       "<style scoped>\n",
       "    .dataframe tbody tr th:only-of-type {\n",
       "        vertical-align: middle;\n",
       "    }\n",
       "\n",
       "    .dataframe tbody tr th {\n",
       "        vertical-align: top;\n",
       "    }\n",
       "\n",
       "    .dataframe thead th {\n",
       "        text-align: right;\n",
       "    }\n",
       "</style>\n",
       "<table border=\"1\" class=\"dataframe\">\n",
       "  <thead>\n",
       "    <tr style=\"text-align: right;\">\n",
       "      <th></th>\n",
       "      <th>index</th>\n",
       "      <th>StdScoreVanilla</th>\n",
       "    </tr>\n",
       "  </thead>\n",
       "  <tbody>\n",
       "    <tr>\n",
       "      <th>0</th>\n",
       "      <td>0</td>\n",
       "      <td>-0.040352</td>\n",
       "    </tr>\n",
       "    <tr>\n",
       "      <th>1</th>\n",
       "      <td>1</td>\n",
       "      <td>-0.040352</td>\n",
       "    </tr>\n",
       "    <tr>\n",
       "      <th>2</th>\n",
       "      <td>2</td>\n",
       "      <td>-0.040352</td>\n",
       "    </tr>\n",
       "    <tr>\n",
       "      <th>3</th>\n",
       "      <td>3</td>\n",
       "      <td>-0.040352</td>\n",
       "    </tr>\n",
       "    <tr>\n",
       "      <th>4</th>\n",
       "      <td>4</td>\n",
       "      <td>-0.040352</td>\n",
       "    </tr>\n",
       "    <tr>\n",
       "      <th>...</th>\n",
       "      <td>...</td>\n",
       "      <td>...</td>\n",
       "    </tr>\n",
       "    <tr>\n",
       "      <th>396141</th>\n",
       "      <td>396141</td>\n",
       "      <td>-0.040352</td>\n",
       "    </tr>\n",
       "    <tr>\n",
       "      <th>396142</th>\n",
       "      <td>396142</td>\n",
       "      <td>-0.040352</td>\n",
       "    </tr>\n",
       "    <tr>\n",
       "      <th>396143</th>\n",
       "      <td>396143</td>\n",
       "      <td>-0.040352</td>\n",
       "    </tr>\n",
       "    <tr>\n",
       "      <th>396144</th>\n",
       "      <td>396144</td>\n",
       "      <td>-0.040352</td>\n",
       "    </tr>\n",
       "    <tr>\n",
       "      <th>396145</th>\n",
       "      <td>396145</td>\n",
       "      <td>-0.040352</td>\n",
       "    </tr>\n",
       "  </tbody>\n",
       "</table>\n",
       "<p>396146 rows × 2 columns</p>\n",
       "</div>"
      ],
      "text/plain": [
       "         index  StdScoreVanilla\n",
       "0            0        -0.040352\n",
       "1            1        -0.040352\n",
       "2            2        -0.040352\n",
       "3            3        -0.040352\n",
       "4            4        -0.040352\n",
       "...        ...              ...\n",
       "396141  396141        -0.040352\n",
       "396142  396142        -0.040352\n",
       "396143  396143        -0.040352\n",
       "396144  396144        -0.040352\n",
       "396145  396145        -0.040352\n",
       "\n",
       "[396146 rows x 2 columns]"
      ]
     },
     "execution_count": 34,
     "metadata": {},
     "output_type": "execute_result"
    }
   ],
   "source": [
    "Claims_res, Parties_res, aMat, iterations, convergence = BiRank(ADJ, claim_nodes, party_nodes, fraudMat_test, alpha = 0)\n",
    "BiRankScore_vanilla = Claims_res.sort_values(\"ID\")[[\"StdScore\"]];\n",
    "BiRankScore_vanilla_index = BiRankScore_vanilla.reset_index()\n",
    "BiRankScore_vanilla_index.columns = [\"index\", \"StdScoreVanilla\"]\n",
    "BiRankScore_vanilla_index"
   ]
  },
  {
   "cell_type": "code",
   "execution_count": 25,
   "id": "2591d9bc",
   "metadata": {},
   "outputs": [],
   "source": [
    "from sklearn.ensemble import GradientBoostingClassifier"
   ]
  },
  {
   "cell_type": "code",
   "execution_count": 36,
   "id": "7a66badb",
   "metadata": {},
   "outputs": [
    {
     "data": {
      "text/plain": [
       "SI01_NO_SIN\n",
       "000020111059354    0\n",
       "000020111059939    0\n",
       "000020121000009    0\n",
       "000020121000011    0\n",
       "000020121000015    0\n",
       "                  ..\n",
       "000020211007106    0\n",
       "000020211007107    0\n",
       "000020211007108    0\n",
       "000020211007109    0\n",
       "000020211007111    0\n",
       "Name: Fraud, Length: 396146, dtype: int64"
      ]
     },
     "execution_count": 36,
     "metadata": {},
     "output_type": "execute_result"
    }
   ],
   "source": [
    "y = labels[\"Fraud\"]; y"
   ]
  },
  {
   "cell_type": "code",
   "execution_count": 37,
   "id": "211a15d7",
   "metadata": {
    "scrolled": true
   },
   "outputs": [],
   "source": [
    "df_geo_fraud_index = df_geo_fraud.reset_index()"
   ]
  },
  {
   "cell_type": "code",
   "execution_count": 38,
   "id": "c0553522",
   "metadata": {},
   "outputs": [
    {
     "data": {
      "text/html": [
       "<div>\n",
       "<style scoped>\n",
       "    .dataframe tbody tr th:only-of-type {\n",
       "        vertical-align: middle;\n",
       "    }\n",
       "\n",
       "    .dataframe tbody tr th {\n",
       "        vertical-align: top;\n",
       "    }\n",
       "\n",
       "    .dataframe thead th {\n",
       "        text-align: right;\n",
       "    }\n",
       "</style>\n",
       "<table border=\"1\" class=\"dataframe\">\n",
       "  <thead>\n",
       "    <tr style=\"text-align: right;\">\n",
       "      <th></th>\n",
       "      <th>claim</th>\n",
       "      <th>degree</th>\n",
       "    </tr>\n",
       "  </thead>\n",
       "  <tbody>\n",
       "    <tr>\n",
       "      <th>0</th>\n",
       "      <td>000020211004303</td>\n",
       "      <td>0.000004</td>\n",
       "    </tr>\n",
       "    <tr>\n",
       "      <th>1</th>\n",
       "      <td>000020211004304</td>\n",
       "      <td>0.000003</td>\n",
       "    </tr>\n",
       "    <tr>\n",
       "      <th>2</th>\n",
       "      <td>000020211004306</td>\n",
       "      <td>0.000004</td>\n",
       "    </tr>\n",
       "    <tr>\n",
       "      <th>3</th>\n",
       "      <td>000020211004307</td>\n",
       "      <td>0.000004</td>\n",
       "    </tr>\n",
       "    <tr>\n",
       "      <th>4</th>\n",
       "      <td>000020211004308</td>\n",
       "      <td>0.000003</td>\n",
       "    </tr>\n",
       "    <tr>\n",
       "      <th>...</th>\n",
       "      <td>...</td>\n",
       "      <td>...</td>\n",
       "    </tr>\n",
       "    <tr>\n",
       "      <th>396141</th>\n",
       "      <td>000020211004295</td>\n",
       "      <td>0.000003</td>\n",
       "    </tr>\n",
       "    <tr>\n",
       "      <th>396142</th>\n",
       "      <td>000020211004296</td>\n",
       "      <td>0.000000</td>\n",
       "    </tr>\n",
       "    <tr>\n",
       "      <th>396143</th>\n",
       "      <td>000020211004300</td>\n",
       "      <td>0.000004</td>\n",
       "    </tr>\n",
       "    <tr>\n",
       "      <th>396144</th>\n",
       "      <td>000020211004301</td>\n",
       "      <td>0.000004</td>\n",
       "    </tr>\n",
       "    <tr>\n",
       "      <th>396145</th>\n",
       "      <td>000020211004302</td>\n",
       "      <td>0.000004</td>\n",
       "    </tr>\n",
       "  </tbody>\n",
       "</table>\n",
       "<p>396146 rows × 2 columns</p>\n",
       "</div>"
      ],
      "text/plain": [
       "                  claim    degree\n",
       "0       000020211004303  0.000004\n",
       "1       000020211004304  0.000003\n",
       "2       000020211004306  0.000004\n",
       "3       000020211004307  0.000004\n",
       "4       000020211004308  0.000003\n",
       "...                 ...       ...\n",
       "396141  000020211004295  0.000003\n",
       "396142  000020211004296  0.000000\n",
       "396143  000020211004300  0.000004\n",
       "396144  000020211004301  0.000004\n",
       "396145  000020211004302  0.000004\n",
       "\n",
       "[396146 rows x 2 columns]"
      ]
     },
     "execution_count": 38,
     "metadata": {},
     "output_type": "execute_result"
    }
   ],
   "source": [
    "df_degcen"
   ]
  },
  {
   "cell_type": "code",
   "execution_count": 39,
   "id": "dd009375",
   "metadata": {},
   "outputs": [
    {
     "data": {
      "text/html": [
       "<div>\n",
       "<style scoped>\n",
       "    .dataframe tbody tr th:only-of-type {\n",
       "        vertical-align: middle;\n",
       "    }\n",
       "\n",
       "    .dataframe tbody tr th {\n",
       "        vertical-align: top;\n",
       "    }\n",
       "\n",
       "    .dataframe thead th {\n",
       "        text-align: right;\n",
       "    }\n",
       "</style>\n",
       "<table border=\"1\" class=\"dataframe\">\n",
       "  <thead>\n",
       "    <tr style=\"text-align: right;\">\n",
       "      <th></th>\n",
       "      <th>StdScore</th>\n",
       "      <th>StdScoreVanilla</th>\n",
       "      <th>degree</th>\n",
       "      <th>Geodesic distance</th>\n",
       "      <th>Number of cycles</th>\n",
       "    </tr>\n",
       "  </thead>\n",
       "  <tbody>\n",
       "    <tr>\n",
       "      <th>2113</th>\n",
       "      <td>0.015079</td>\n",
       "      <td>-0.040352</td>\n",
       "      <td>0.000003</td>\n",
       "      <td>4.0</td>\n",
       "      <td>1.0</td>\n",
       "    </tr>\n",
       "    <tr>\n",
       "      <th>2114</th>\n",
       "      <td>0.065097</td>\n",
       "      <td>-0.040352</td>\n",
       "      <td>0.000003</td>\n",
       "      <td>4.0</td>\n",
       "      <td>1.0</td>\n",
       "    </tr>\n",
       "    <tr>\n",
       "      <th>2115</th>\n",
       "      <td>-0.078394</td>\n",
       "      <td>-0.040352</td>\n",
       "      <td>0.000003</td>\n",
       "      <td>0.0</td>\n",
       "      <td>0.0</td>\n",
       "    </tr>\n",
       "    <tr>\n",
       "      <th>2116</th>\n",
       "      <td>-0.084015</td>\n",
       "      <td>-0.040352</td>\n",
       "      <td>0.000003</td>\n",
       "      <td>4.0</td>\n",
       "      <td>1.0</td>\n",
       "    </tr>\n",
       "    <tr>\n",
       "      <th>2117</th>\n",
       "      <td>-0.086124</td>\n",
       "      <td>-0.040352</td>\n",
       "      <td>0.000004</td>\n",
       "      <td>4.0</td>\n",
       "      <td>1.0</td>\n",
       "    </tr>\n",
       "    <tr>\n",
       "      <th>...</th>\n",
       "      <td>...</td>\n",
       "      <td>...</td>\n",
       "      <td>...</td>\n",
       "      <td>...</td>\n",
       "      <td>...</td>\n",
       "    </tr>\n",
       "    <tr>\n",
       "      <th>2109</th>\n",
       "      <td>-0.010476</td>\n",
       "      <td>-0.040352</td>\n",
       "      <td>0.000004</td>\n",
       "      <td>0.0</td>\n",
       "      <td>0.0</td>\n",
       "    </tr>\n",
       "    <tr>\n",
       "      <th>2110</th>\n",
       "      <td>-0.069720</td>\n",
       "      <td>-0.040352</td>\n",
       "      <td>0.000003</td>\n",
       "      <td>4.0</td>\n",
       "      <td>1.0</td>\n",
       "    </tr>\n",
       "    <tr>\n",
       "      <th>2111</th>\n",
       "      <td>-0.067879</td>\n",
       "      <td>-0.040352</td>\n",
       "      <td>0.000003</td>\n",
       "      <td>4.0</td>\n",
       "      <td>1.0</td>\n",
       "    </tr>\n",
       "    <tr>\n",
       "      <th>2107</th>\n",
       "      <td>-0.088260</td>\n",
       "      <td>-0.040352</td>\n",
       "      <td>0.000134</td>\n",
       "      <td>4.0</td>\n",
       "      <td>93.0</td>\n",
       "    </tr>\n",
       "    <tr>\n",
       "      <th>2112</th>\n",
       "      <td>-0.100118</td>\n",
       "      <td>-0.040352</td>\n",
       "      <td>0.000134</td>\n",
       "      <td>4.0</td>\n",
       "      <td>93.0</td>\n",
       "    </tr>\n",
       "  </tbody>\n",
       "</table>\n",
       "<p>396146 rows × 5 columns</p>\n",
       "</div>"
      ],
      "text/plain": [
       "      StdScore  StdScoreVanilla    degree  Geodesic distance  Number of cycles\n",
       "2113  0.015079        -0.040352  0.000003                4.0               1.0\n",
       "2114  0.065097        -0.040352  0.000003                4.0               1.0\n",
       "2115 -0.078394        -0.040352  0.000003                0.0               0.0\n",
       "2116 -0.084015        -0.040352  0.000003                4.0               1.0\n",
       "2117 -0.086124        -0.040352  0.000004                4.0               1.0\n",
       "...        ...              ...       ...                ...               ...\n",
       "2109 -0.010476        -0.040352  0.000004                0.0               0.0\n",
       "2110 -0.069720        -0.040352  0.000003                4.0               1.0\n",
       "2111 -0.067879        -0.040352  0.000003                4.0               1.0\n",
       "2107 -0.088260        -0.040352  0.000134                4.0              93.0\n",
       "2112 -0.100118        -0.040352  0.000134                4.0              93.0\n",
       "\n",
       "[396146 rows x 5 columns]"
      ]
     },
     "execution_count": 39,
     "metadata": {},
     "output_type": "execute_result"
    }
   ],
   "source": [
    "X = BiRankScore_index.merge(df_degcen.reset_index(), on = \"index\", how = \"outer\")\n",
    "X = X.merge(BiRankScore_vanilla_index, on = \"index\", how = \"outer\")\n",
    "X = X.merge(df_geo_fraud_index, left_on = \"claim\", right_on = \"Item\", how = \"outer\").sort_values(\"claim\")\n",
    "X = X[[\"StdScore\", \"StdScoreVanilla\", \"degree\", \"Geodesic distance\", \"Number of cycles\"]].fillna(0);\n",
    "X"
   ]
  },
  {
   "cell_type": "code",
   "execution_count": 40,
   "id": "a2fbb64c",
   "metadata": {},
   "outputs": [],
   "source": [
    "X_train = X.iloc[:train_set_size]\n",
    "y_train = y[:train_set_size]\n",
    "\n",
    "X_test = X.iloc[train_set_size:]\n",
    "y_test = y[train_set_size:]"
   ]
  },
  {
   "cell_type": "code",
   "execution_count": 41,
   "id": "c24c4a13",
   "metadata": {
    "scrolled": true
   },
   "outputs": [
    {
     "data": {
      "image/png": "[encoded data removed]",
      "text/plain": [
       "<Figure size 432x288 with 1 Axes>"
      ]
     },
     "metadata": {
      "needs_background": "light"
     },
     "output_type": "display_data"
    }
   ],
   "source": [
    "model = GradientBoostingClassifier(n_estimators=50)\n",
    "model.fit(X_train,y_train)\n",
    "\n",
    "y_pred_proba = model.predict_proba(X_test)\n",
    "y_pred = y_pred_proba[:,1]\n",
    "\n",
    "fpr, tpr, thresholds = metrics.roc_curve(y_test,y_pred)\n",
    "\n",
    "plt.plot(fpr,tpr)\n",
    "plt.plot([0,1], [0,1], color = \"grey\", alpha = 0.5)\n",
    "plt.title(\"AUC: \"+str(np.round(metrics.auc(fpr, tpr),3)))\n",
    "plt.savefig(\"AUC_Transductive_5features.pdf\")"
   ]
  },
  {
   "cell_type": "code",
   "execution_count": 10,
   "id": "9f5e2bd1",
   "metadata": {},
   "outputs": [
    {
     "name": "stderr",
     "output_type": "stream",
     "text": [
      "C:\\Users\\bruno\\anaconda3\\lib\\site-packages\\gensim\\similarities\\__init__.py:15: UserWarning: The gensim.similarities.levenshtein submodule is disabled, because the optional Levenshtein package <https://pypi.org/project/python-Levenshtein/> is unavailable. Install Levenhstein (e.g. `pip install python-Levenshtein`) to suppress this warning.\n",
      "  warnings.warn(msg)\n"
     ]
    }
   ],
   "source": [
    "from stellargraph.data import UniformRandomMetaPathWalk\n",
    "from gensim.models import Word2Vec\n",
    "import multiprocessing"
   ]
  },
  {
   "cell_type": "code",
   "execution_count": 11,
   "id": "86baba44",
   "metadata": {},
   "outputs": [],
   "source": [
    "metapaths = [\n",
    "    [\"claim\", \"car\", \"claim\"],\n",
    "    [\"claim\", \"car\",\"policy\",\"car\",\"claim\"],\n",
    "    [\"claim\",  \"car\",\"policy\",\"broker\",\"policy\",\"car\", \"claim\"]\n",
    "]"
   ]
  },
  {
   "cell_type": "code",
   "execution_count": 12,
   "id": "daf8e02e",
   "metadata": {},
   "outputs": [
    {
     "data": {
      "text/plain": [
       "[['claim', 'car', 'claim'],\n",
       " ['claim', 'car', 'policy', 'car', 'claim'],\n",
       " ['claim', 'car', 'policy', 'broker', 'policy', 'car', 'claim']]"
      ]
     },
     "execution_count": 12,
     "metadata": {},
     "output_type": "execute_result"
    }
   ],
   "source": [
    "metapaths"
   ]
  },
  {
   "cell_type": "code",
   "execution_count": 13,
   "id": "f67eecd0",
   "metadata": {},
   "outputs": [
    {
     "name": "stdout",
     "output_type": "stream",
     "text": [
      "16\n",
      "Number of random walks: 2376876\n"
     ]
    }
   ],
   "source": [
    "dimensions = 20\n",
    "num_walks = 2\n",
    "walk_length = 13 #Go from claim to claim via broker twice\n",
    "context_window_size = 10\n",
    "\n",
    "workers = multiprocessing.cpu_count()\n",
    "print(workers)\n",
    "\n",
    "rw = UniformRandomMetaPathWalk(HG)\n",
    "walks = rw.run(\n",
    "    HG.nodes(), n=num_walks, length=walk_length, metapaths=metapaths, seed = 123\n",
    ")\n",
    "print(\"Number of random walks: {}\".format(len(walks)))"
   ]
  },
  {
   "cell_type": "code",
   "execution_count": 14,
   "id": "0701aff2",
   "metadata": {},
   "outputs": [],
   "source": [
    "model = Word2Vec(\n",
    "    walks,\n",
    "    window=context_window_size,\n",
    "    min_count=0,\n",
    "    sg=1,\n",
    "    workers=workers,\n",
    "    vector_size=dimensions\n",
    ")\n",
    "\n",
    "node_ids = model.wv.index_to_key  # list of node IDs\n",
    "node_embeddings = (\n",
    "    model.wv.vectors\n",
    ")  # numpy.ndarray of size number of nodes times embeddings dimensionality\n",
    "node_targets = [HG.node_type(node_id) for node_id in node_ids]"
   ]
  },
  {
   "cell_type": "code",
   "execution_count": 15,
   "id": "700d1d6f",
   "metadata": {},
   "outputs": [],
   "source": [
    "#pd.DataFrame(walks).to_csv(\"randomWalks_npartite.csv\")"
   ]
  },
  {
   "cell_type": "code",
   "execution_count": 16,
   "id": "940dfae9",
   "metadata": {},
   "outputs": [
    {
     "data": {
      "text/html": [
       "<div>\n",
       "<style scoped>\n",
       "    .dataframe tbody tr th:only-of-type {\n",
       "        vertical-align: middle;\n",
       "    }\n",
       "\n",
       "    .dataframe tbody tr th {\n",
       "        vertical-align: top;\n",
       "    }\n",
       "\n",
       "    .dataframe thead th {\n",
       "        text-align: right;\n",
       "    }\n",
       "</style>\n",
       "<table border=\"1\" class=\"dataframe\">\n",
       "  <thead>\n",
       "    <tr style=\"text-align: right;\">\n",
       "      <th></th>\n",
       "      <th>Fraud</th>\n",
       "      <th>Labelled</th>\n",
       "    </tr>\n",
       "    <tr>\n",
       "      <th>SI01_NO_SIN</th>\n",
       "      <th></th>\n",
       "      <th></th>\n",
       "    </tr>\n",
       "  </thead>\n",
       "  <tbody>\n",
       "    <tr>\n",
       "      <th>000020211004303</th>\n",
       "      <td>0</td>\n",
       "      <td>0.0</td>\n",
       "    </tr>\n",
       "    <tr>\n",
       "      <th>000020211004304</th>\n",
       "      <td>0</td>\n",
       "      <td>0.0</td>\n",
       "    </tr>\n",
       "    <tr>\n",
       "      <th>000020211004306</th>\n",
       "      <td>0</td>\n",
       "      <td>0.0</td>\n",
       "    </tr>\n",
       "    <tr>\n",
       "      <th>000020211004307</th>\n",
       "      <td>0</td>\n",
       "      <td>0.0</td>\n",
       "    </tr>\n",
       "    <tr>\n",
       "      <th>000020211004308</th>\n",
       "      <td>0</td>\n",
       "      <td>0.0</td>\n",
       "    </tr>\n",
       "    <tr>\n",
       "      <th>...</th>\n",
       "      <td>...</td>\n",
       "      <td>...</td>\n",
       "    </tr>\n",
       "    <tr>\n",
       "      <th>000020211004295</th>\n",
       "      <td>0</td>\n",
       "      <td>0.0</td>\n",
       "    </tr>\n",
       "    <tr>\n",
       "      <th>000020211004296</th>\n",
       "      <td>0</td>\n",
       "      <td>0.0</td>\n",
       "    </tr>\n",
       "    <tr>\n",
       "      <th>000020211004300</th>\n",
       "      <td>0</td>\n",
       "      <td>0.0</td>\n",
       "    </tr>\n",
       "    <tr>\n",
       "      <th>000020211004301</th>\n",
       "      <td>0</td>\n",
       "      <td>0.0</td>\n",
       "    </tr>\n",
       "    <tr>\n",
       "      <th>000020211004302</th>\n",
       "      <td>0</td>\n",
       "      <td>0.0</td>\n",
       "    </tr>\n",
       "  </tbody>\n",
       "</table>\n",
       "<p>396146 rows × 2 columns</p>\n",
       "</div>"
      ],
      "text/plain": [
       "                 Fraud  Labelled\n",
       "SI01_NO_SIN                     \n",
       "000020211004303      0       0.0\n",
       "000020211004304      0       0.0\n",
       "000020211004306      0       0.0\n",
       "000020211004307      0       0.0\n",
       "000020211004308      0       0.0\n",
       "...                ...       ...\n",
       "000020211004295      0       0.0\n",
       "000020211004296      0       0.0\n",
       "000020211004300      0       0.0\n",
       "000020211004301      0       0.0\n",
       "000020211004302      0       0.0\n",
       "\n",
       "[396146 rows x 2 columns]"
      ]
     },
     "execution_count": 16,
     "metadata": {},
     "output_type": "execute_result"
    }
   ],
   "source": [
    "labels"
   ]
  },
  {
   "cell_type": "code",
   "execution_count": 17,
   "id": "8a09ebaa",
   "metadata": {},
   "outputs": [],
   "source": [
    "embedding_df = pd.DataFrame(node_embeddings)\n",
    "embedding_df.index = node_ids\n",
    "claim_embedding_df = embedding_df.loc[list(claims_nodes.index)]\n",
    "embedding_fraud = claim_embedding_df.merge(labels, left_index=True, right_index=True)\n",
    "embedding_fraud.sort_index(inplace = True)"
   ]
  },
  {
   "cell_type": "code",
   "execution_count": 18,
   "id": "cbd4f359",
   "metadata": {},
   "outputs": [],
   "source": [
    "train_size = int(round(0.6*len(embedding_fraud),0))\n",
    "\n",
    "X_train = embedding_fraud.iloc[:train_size, :20]\n",
    "y_train = embedding_fraud.iloc[:train_size, 20]\n",
    "\n",
    "X_test = embedding_fraud.iloc[train_size:, :20]\n",
    "y_test = embedding_fraud.iloc[train_size:, 20]"
   ]
  },
  {
   "cell_type": "code",
   "execution_count": 19,
   "id": "2c2978af",
   "metadata": {},
   "outputs": [],
   "source": [
    "from sklearn.ensemble import GradientBoostingClassifier"
   ]
  },
  {
   "cell_type": "code",
   "execution_count": 24,
   "id": "642d5c10",
   "metadata": {},
   "outputs": [
    {
     "name": "stdout",
     "output_type": "stream",
     "text": [
      "      Iter       Train Loss      OOB Improve   Remaining Time \n",
      "         1           0.0375          -0.0011            1.40m\n",
      "         2           0.0368           0.0003            1.36m\n",
      "         3           0.0383          -0.0000            1.34m\n",
      "         4           0.0372           0.0000            1.32m\n",
      "         5           0.0374           0.0000            1.31m\n",
      "         6           0.0372           0.0000            1.29m\n",
      "         7           0.0374           0.0000            1.28m\n",
      "         8           0.0374          -0.0000            1.27m\n",
      "         9           0.0382          -0.0000            1.26m\n",
      "        10           0.0372          -0.0000            1.25m\n",
      "        20           0.0374          -0.0000            1.10m\n",
      "        30           0.0372          -0.0013           56.68s\n",
      "        40           0.0362           0.0000           48.14s\n",
      "        50           0.0356           0.0000           39.90s\n",
      "        60           0.0358           0.0000           31.87s\n",
      "        70           0.0358          -0.0000           23.87s\n",
      "        80           0.0361          -0.0000           15.94s\n",
      "        90           0.0367          -0.0000            8.03s\n",
      "       100           0.0363          -0.0000            0.00s\n"
     ]
    }
   ],
   "source": [
    "embedding_model = GradientBoostingClassifier(n_estimators=100, subsample = 0.8,max_depth=2, random_state=1997, verbose = 1).fit(X_train, y_train)"
   ]
  },
  {
   "cell_type": "code",
   "execution_count": 25,
   "id": "b65d5b39",
   "metadata": {
    "scrolled": true
   },
   "outputs": [
    {
     "data": {
      "image/png": "[encoded data removed]",
      "text/plain": [
       "<Figure size 432x288 with 1 Axes>"
      ]
     },
     "metadata": {
      "needs_background": "light"
     },
     "output_type": "display_data"
    }
   ],
   "source": [
    "y_pred = embedding_model.predict_proba(X_test)[:,1]\n",
    "fpr, tpr, thresholds = metrics.roc_curve(y_test,y_pred)\n",
    "plt.plot(fpr,tpr)\n",
    "plt.plot([0,1], [0,1], color = \"grey\", alpha = 0.5)\n",
    "plt.title(\"AUC: \"+str(np.round(metrics.auc(fpr, tpr),3)))\n",
    "plt.savefig(\"AUC_metapath_pitch.pdf\")"
   ]
  },
  {
   "cell_type": "code",
   "execution_count": 64,
   "id": "5804dbcd",
   "metadata": {},
   "outputs": [],
   "source": [
    "X = BiRankScore_index.merge(df_degcen.reset_index(), on = \"index\", how = \"outer\")\n",
    "X = X.merge(BiRankScore_vanilla_index, on = \"index\", how = \"outer\")\n",
    "X = X.merge(df_geo_fraud_index, left_on = \"claim\", right_on = \"Item\", how = \"outer\").sort_values(\"claim\")\n",
    "X = X[[\"claim\",\"StdScore\", \"StdScoreVanilla\", \"degree\", \"Geodesic distance\", \"Number of cycles\"]].fillna(0)\n",
    "X.set_index(\"claim\", inplace = True)\n",
    "X = X.merge(embedding_fraud, left_index = True, right_index = True)"
   ]
  },
  {
   "cell_type": "code",
   "execution_count": 65,
   "id": "cb0ac2d9",
   "metadata": {},
   "outputs": [
    {
     "data": {
      "text/html": [
       "<div>\n",
       "<style scoped>\n",
       "    .dataframe tbody tr th:only-of-type {\n",
       "        vertical-align: middle;\n",
       "    }\n",
       "\n",
       "    .dataframe tbody tr th {\n",
       "        vertical-align: top;\n",
       "    }\n",
       "\n",
       "    .dataframe thead th {\n",
       "        text-align: right;\n",
       "    }\n",
       "</style>\n",
       "<table border=\"1\" class=\"dataframe\">\n",
       "  <thead>\n",
       "    <tr style=\"text-align: right;\">\n",
       "      <th></th>\n",
       "      <th>StdScore</th>\n",
       "      <th>StdScoreVanilla</th>\n",
       "      <th>degree</th>\n",
       "      <th>Geodesic distance</th>\n",
       "      <th>Number of cycles</th>\n",
       "      <th>0</th>\n",
       "      <th>1</th>\n",
       "      <th>2</th>\n",
       "      <th>3</th>\n",
       "      <th>4</th>\n",
       "      <th>...</th>\n",
       "      <th>12</th>\n",
       "      <th>13</th>\n",
       "      <th>14</th>\n",
       "      <th>15</th>\n",
       "      <th>16</th>\n",
       "      <th>17</th>\n",
       "      <th>18</th>\n",
       "      <th>19</th>\n",
       "      <th>Fraud</th>\n",
       "      <th>Labelled</th>\n",
       "    </tr>\n",
       "    <tr>\n",
       "      <th>claim</th>\n",
       "      <th></th>\n",
       "      <th></th>\n",
       "      <th></th>\n",
       "      <th></th>\n",
       "      <th></th>\n",
       "      <th></th>\n",
       "      <th></th>\n",
       "      <th></th>\n",
       "      <th></th>\n",
       "      <th></th>\n",
       "      <th></th>\n",
       "      <th></th>\n",
       "      <th></th>\n",
       "      <th></th>\n",
       "      <th></th>\n",
       "      <th></th>\n",
       "      <th></th>\n",
       "      <th></th>\n",
       "      <th></th>\n",
       "      <th></th>\n",
       "      <th></th>\n",
       "    </tr>\n",
       "  </thead>\n",
       "  <tbody>\n",
       "    <tr>\n",
       "      <th>000020111059354</th>\n",
       "      <td>0.015079</td>\n",
       "      <td>-0.040352</td>\n",
       "      <td>0.000003</td>\n",
       "      <td>4.0</td>\n",
       "      <td>1.0</td>\n",
       "      <td>-0.130797</td>\n",
       "      <td>0.456789</td>\n",
       "      <td>0.449923</td>\n",
       "      <td>0.247995</td>\n",
       "      <td>-0.472199</td>\n",
       "      <td>...</td>\n",
       "      <td>0.273202</td>\n",
       "      <td>0.063068</td>\n",
       "      <td>0.618694</td>\n",
       "      <td>0.092549</td>\n",
       "      <td>0.862550</td>\n",
       "      <td>0.063066</td>\n",
       "      <td>-0.973532</td>\n",
       "      <td>-0.053260</td>\n",
       "      <td>0</td>\n",
       "      <td>0.0</td>\n",
       "    </tr>\n",
       "    <tr>\n",
       "      <th>000020111059939</th>\n",
       "      <td>0.065097</td>\n",
       "      <td>-0.040352</td>\n",
       "      <td>0.000003</td>\n",
       "      <td>4.0</td>\n",
       "      <td>1.0</td>\n",
       "      <td>-0.594025</td>\n",
       "      <td>-0.313841</td>\n",
       "      <td>1.272519</td>\n",
       "      <td>0.067338</td>\n",
       "      <td>-0.508291</td>\n",
       "      <td>...</td>\n",
       "      <td>-0.518224</td>\n",
       "      <td>-0.095048</td>\n",
       "      <td>1.093315</td>\n",
       "      <td>0.299823</td>\n",
       "      <td>1.236074</td>\n",
       "      <td>0.547563</td>\n",
       "      <td>-0.346738</td>\n",
       "      <td>-0.673835</td>\n",
       "      <td>0</td>\n",
       "      <td>0.0</td>\n",
       "    </tr>\n",
       "    <tr>\n",
       "      <th>000020121000009</th>\n",
       "      <td>-0.078394</td>\n",
       "      <td>-0.040352</td>\n",
       "      <td>0.000003</td>\n",
       "      <td>0.0</td>\n",
       "      <td>0.0</td>\n",
       "      <td>0.016082</td>\n",
       "      <td>1.262875</td>\n",
       "      <td>0.427353</td>\n",
       "      <td>-0.089090</td>\n",
       "      <td>-0.755525</td>\n",
       "      <td>...</td>\n",
       "      <td>-0.141618</td>\n",
       "      <td>-0.292989</td>\n",
       "      <td>-0.035313</td>\n",
       "      <td>0.066281</td>\n",
       "      <td>0.190876</td>\n",
       "      <td>-0.482680</td>\n",
       "      <td>-0.528303</td>\n",
       "      <td>-1.555738</td>\n",
       "      <td>0</td>\n",
       "      <td>0.0</td>\n",
       "    </tr>\n",
       "    <tr>\n",
       "      <th>000020121000011</th>\n",
       "      <td>-0.084015</td>\n",
       "      <td>-0.040352</td>\n",
       "      <td>0.000003</td>\n",
       "      <td>4.0</td>\n",
       "      <td>1.0</td>\n",
       "      <td>0.009999</td>\n",
       "      <td>0.524252</td>\n",
       "      <td>1.088241</td>\n",
       "      <td>0.158074</td>\n",
       "      <td>-0.223546</td>\n",
       "      <td>...</td>\n",
       "      <td>-0.426811</td>\n",
       "      <td>0.191263</td>\n",
       "      <td>0.289504</td>\n",
       "      <td>0.608432</td>\n",
       "      <td>0.143248</td>\n",
       "      <td>-1.096324</td>\n",
       "      <td>-1.019708</td>\n",
       "      <td>-0.889711</td>\n",
       "      <td>0</td>\n",
       "      <td>0.0</td>\n",
       "    </tr>\n",
       "    <tr>\n",
       "      <th>000020121000015</th>\n",
       "      <td>-0.086124</td>\n",
       "      <td>-0.040352</td>\n",
       "      <td>0.000004</td>\n",
       "      <td>4.0</td>\n",
       "      <td>1.0</td>\n",
       "      <td>0.157540</td>\n",
       "      <td>0.522450</td>\n",
       "      <td>1.050192</td>\n",
       "      <td>0.028250</td>\n",
       "      <td>-0.714635</td>\n",
       "      <td>...</td>\n",
       "      <td>-0.433947</td>\n",
       "      <td>-0.284955</td>\n",
       "      <td>0.788764</td>\n",
       "      <td>0.414563</td>\n",
       "      <td>-0.239039</td>\n",
       "      <td>-0.346185</td>\n",
       "      <td>-0.862916</td>\n",
       "      <td>-0.381169</td>\n",
       "      <td>0</td>\n",
       "      <td>0.0</td>\n",
       "    </tr>\n",
       "    <tr>\n",
       "      <th>...</th>\n",
       "      <td>...</td>\n",
       "      <td>...</td>\n",
       "      <td>...</td>\n",
       "      <td>...</td>\n",
       "      <td>...</td>\n",
       "      <td>...</td>\n",
       "      <td>...</td>\n",
       "      <td>...</td>\n",
       "      <td>...</td>\n",
       "      <td>...</td>\n",
       "      <td>...</td>\n",
       "      <td>...</td>\n",
       "      <td>...</td>\n",
       "      <td>...</td>\n",
       "      <td>...</td>\n",
       "      <td>...</td>\n",
       "      <td>...</td>\n",
       "      <td>...</td>\n",
       "      <td>...</td>\n",
       "      <td>...</td>\n",
       "      <td>...</td>\n",
       "    </tr>\n",
       "    <tr>\n",
       "      <th>000020211007106</th>\n",
       "      <td>-0.010476</td>\n",
       "      <td>-0.040352</td>\n",
       "      <td>0.000004</td>\n",
       "      <td>0.0</td>\n",
       "      <td>0.0</td>\n",
       "      <td>-0.249085</td>\n",
       "      <td>0.397809</td>\n",
       "      <td>0.611531</td>\n",
       "      <td>0.927904</td>\n",
       "      <td>-0.259568</td>\n",
       "      <td>...</td>\n",
       "      <td>-0.171277</td>\n",
       "      <td>-0.199634</td>\n",
       "      <td>0.464123</td>\n",
       "      <td>0.339948</td>\n",
       "      <td>0.242356</td>\n",
       "      <td>0.090134</td>\n",
       "      <td>-0.384038</td>\n",
       "      <td>-0.204075</td>\n",
       "      <td>0</td>\n",
       "      <td>0.0</td>\n",
       "    </tr>\n",
       "    <tr>\n",
       "      <th>000020211007107</th>\n",
       "      <td>-0.069720</td>\n",
       "      <td>-0.040352</td>\n",
       "      <td>0.000003</td>\n",
       "      <td>4.0</td>\n",
       "      <td>1.0</td>\n",
       "      <td>-0.155327</td>\n",
       "      <td>0.217694</td>\n",
       "      <td>0.491820</td>\n",
       "      <td>0.129317</td>\n",
       "      <td>-0.416477</td>\n",
       "      <td>...</td>\n",
       "      <td>-0.002189</td>\n",
       "      <td>0.004128</td>\n",
       "      <td>0.515592</td>\n",
       "      <td>-0.449997</td>\n",
       "      <td>0.211060</td>\n",
       "      <td>-0.127408</td>\n",
       "      <td>-0.219511</td>\n",
       "      <td>-0.489204</td>\n",
       "      <td>0</td>\n",
       "      <td>0.0</td>\n",
       "    </tr>\n",
       "    <tr>\n",
       "      <th>000020211007108</th>\n",
       "      <td>-0.067879</td>\n",
       "      <td>-0.040352</td>\n",
       "      <td>0.000003</td>\n",
       "      <td>4.0</td>\n",
       "      <td>1.0</td>\n",
       "      <td>-0.578808</td>\n",
       "      <td>0.857570</td>\n",
       "      <td>1.656601</td>\n",
       "      <td>-0.327035</td>\n",
       "      <td>-0.406322</td>\n",
       "      <td>...</td>\n",
       "      <td>-0.376531</td>\n",
       "      <td>0.637794</td>\n",
       "      <td>0.511105</td>\n",
       "      <td>-0.583268</td>\n",
       "      <td>-0.006634</td>\n",
       "      <td>0.290544</td>\n",
       "      <td>-1.077538</td>\n",
       "      <td>0.201863</td>\n",
       "      <td>0</td>\n",
       "      <td>0.0</td>\n",
       "    </tr>\n",
       "    <tr>\n",
       "      <th>000020211007109</th>\n",
       "      <td>-0.088260</td>\n",
       "      <td>-0.040352</td>\n",
       "      <td>0.000134</td>\n",
       "      <td>4.0</td>\n",
       "      <td>93.0</td>\n",
       "      <td>0.649299</td>\n",
       "      <td>0.473946</td>\n",
       "      <td>1.017172</td>\n",
       "      <td>0.227969</td>\n",
       "      <td>0.309170</td>\n",
       "      <td>...</td>\n",
       "      <td>0.534496</td>\n",
       "      <td>-0.842681</td>\n",
       "      <td>-0.325511</td>\n",
       "      <td>-0.843739</td>\n",
       "      <td>1.005395</td>\n",
       "      <td>-0.375093</td>\n",
       "      <td>-0.518932</td>\n",
       "      <td>-1.359412</td>\n",
       "      <td>0</td>\n",
       "      <td>0.0</td>\n",
       "    </tr>\n",
       "    <tr>\n",
       "      <th>000020211007111</th>\n",
       "      <td>-0.100118</td>\n",
       "      <td>-0.040352</td>\n",
       "      <td>0.000134</td>\n",
       "      <td>4.0</td>\n",
       "      <td>93.0</td>\n",
       "      <td>0.744687</td>\n",
       "      <td>0.613211</td>\n",
       "      <td>1.079943</td>\n",
       "      <td>0.215553</td>\n",
       "      <td>0.219878</td>\n",
       "      <td>...</td>\n",
       "      <td>0.431368</td>\n",
       "      <td>-1.015839</td>\n",
       "      <td>-0.292966</td>\n",
       "      <td>-1.015457</td>\n",
       "      <td>1.267882</td>\n",
       "      <td>-0.298400</td>\n",
       "      <td>-0.590287</td>\n",
       "      <td>-1.633659</td>\n",
       "      <td>0</td>\n",
       "      <td>0.0</td>\n",
       "    </tr>\n",
       "  </tbody>\n",
       "</table>\n",
       "<p>396146 rows × 27 columns</p>\n",
       "</div>"
      ],
      "text/plain": [
       "                 StdScore  StdScoreVanilla    degree  Geodesic distance  \\\n",
       "claim                                                                     \n",
       "000020111059354  0.015079        -0.040352  0.000003                4.0   \n",
       "000020111059939  0.065097        -0.040352  0.000003                4.0   \n",
       "000020121000009 -0.078394        -0.040352  0.000003                0.0   \n",
       "000020121000011 -0.084015        -0.040352  0.000003                4.0   \n",
       "000020121000015 -0.086124        -0.040352  0.000004                4.0   \n",
       "...                   ...              ...       ...                ...   \n",
       "000020211007106 -0.010476        -0.040352  0.000004                0.0   \n",
       "000020211007107 -0.069720        -0.040352  0.000003                4.0   \n",
       "000020211007108 -0.067879        -0.040352  0.000003                4.0   \n",
       "000020211007109 -0.088260        -0.040352  0.000134                4.0   \n",
       "000020211007111 -0.100118        -0.040352  0.000134                4.0   \n",
       "\n",
       "                 Number of cycles         0         1         2         3  \\\n",
       "claim                                                                       \n",
       "000020111059354               1.0 -0.130797  0.456789  0.449923  0.247995   \n",
       "000020111059939               1.0 -0.594025 -0.313841  1.272519  0.067338   \n",
       "000020121000009               0.0  0.016082  1.262875  0.427353 -0.089090   \n",
       "000020121000011               1.0  0.009999  0.524252  1.088241  0.158074   \n",
       "000020121000015               1.0  0.157540  0.522450  1.050192  0.028250   \n",
       "...                           ...       ...       ...       ...       ...   \n",
       "000020211007106               0.0 -0.249085  0.397809  0.611531  0.927904   \n",
       "000020211007107               1.0 -0.155327  0.217694  0.491820  0.129317   \n",
       "000020211007108               1.0 -0.578808  0.857570  1.656601 -0.327035   \n",
       "000020211007109              93.0  0.649299  0.473946  1.017172  0.227969   \n",
       "000020211007111              93.0  0.744687  0.613211  1.079943  0.215553   \n",
       "\n",
       "                        4  ...        12        13        14        15  \\\n",
       "claim                      ...                                           \n",
       "000020111059354 -0.472199  ...  0.273202  0.063068  0.618694  0.092549   \n",
       "000020111059939 -0.508291  ... -0.518224 -0.095048  1.093315  0.299823   \n",
       "000020121000009 -0.755525  ... -0.141618 -0.292989 -0.035313  0.066281   \n",
       "000020121000011 -0.223546  ... -0.426811  0.191263  0.289504  0.608432   \n",
       "000020121000015 -0.714635  ... -0.433947 -0.284955  0.788764  0.414563   \n",
       "...                   ...  ...       ...       ...       ...       ...   \n",
       "000020211007106 -0.259568  ... -0.171277 -0.199634  0.464123  0.339948   \n",
       "000020211007107 -0.416477  ... -0.002189  0.004128  0.515592 -0.449997   \n",
       "000020211007108 -0.406322  ... -0.376531  0.637794  0.511105 -0.583268   \n",
       "000020211007109  0.309170  ...  0.534496 -0.842681 -0.325511 -0.843739   \n",
       "000020211007111  0.219878  ...  0.431368 -1.015839 -0.292966 -1.015457   \n",
       "\n",
       "                       16        17        18        19  Fraud  Labelled  \n",
       "claim                                                                     \n",
       "000020111059354  0.862550  0.063066 -0.973532 -0.053260      0       0.0  \n",
       "000020111059939  1.236074  0.547563 -0.346738 -0.673835      0       0.0  \n",
       "000020121000009  0.190876 -0.482680 -0.528303 -1.555738      0       0.0  \n",
       "000020121000011  0.143248 -1.096324 -1.019708 -0.889711      0       0.0  \n",
       "000020121000015 -0.239039 -0.346185 -0.862916 -0.381169      0       0.0  \n",
       "...                   ...       ...       ...       ...    ...       ...  \n",
       "000020211007106  0.242356  0.090134 -0.384038 -0.204075      0       0.0  \n",
       "000020211007107  0.211060 -0.127408 -0.219511 -0.489204      0       0.0  \n",
       "000020211007108 -0.006634  0.290544 -1.077538  0.201863      0       0.0  \n",
       "000020211007109  1.005395 -0.375093 -0.518932 -1.359412      0       0.0  \n",
       "000020211007111  1.267882 -0.298400 -0.590287 -1.633659      0       0.0  \n",
       "\n",
       "[396146 rows x 27 columns]"
      ]
     },
     "execution_count": 65,
     "metadata": {},
     "output_type": "execute_result"
    }
   ],
   "source": []
  },
  {
   "cell_type": "code",
   "execution_count": 68,
   "id": "1cb69247",
   "metadata": {},
   "outputs": [],
   "source": [
    "train_size = int(round(0.6*len(X),0))\n",
    "\n",
    "X_train = X.iloc[:train_size, :25]\n",
    "y_train = X.iloc[:train_size, 25]\n",
    "\n",
    "X_test = X.iloc[train_size:, :25]\n",
    "y_test = X.iloc[train_size:, 25]"
   ]
  },
  {
   "cell_type": "code",
   "execution_count": 70,
   "id": "837c57a2",
   "metadata": {},
   "outputs": [
    {
     "name": "stdout",
     "output_type": "stream",
     "text": [
      "      Iter       Train Loss      OOB Improve   Remaining Time \n",
      "         1           0.0374          -0.0000            1.49m\n",
      "         2           0.0368           0.0000            1.49m\n",
      "         3           0.0383          -0.0000            1.48m\n",
      "         4           0.0371           0.0000            1.47m\n",
      "         5           0.0373           0.0000            1.47m\n",
      "         6           0.0370          -0.0013            1.45m\n",
      "         7           0.0373           0.0000            1.44m\n",
      "         8           0.0373           0.0000            1.44m\n",
      "         9           0.0381          -0.0000            1.43m\n",
      "        10           0.0371           0.0000            1.41m\n",
      "        20           0.0372          -0.0000            1.23m\n",
      "        30           0.0371          -0.0000            1.08m\n",
      "        40     6286518.3313           0.0000           54.86s\n",
      "        50           0.0358          -0.0000           45.40s\n",
      "        60     6286518.3299          -0.0000           36.20s\n",
      "        70     6286518.3312          -0.0000           27.07s\n",
      "        80     6286518.3302          -0.0000           18.02s\n",
      "        90     6286518.3315          -0.0000            9.00s\n",
      "       100     6286518.3299          -0.0000            0.00s\n"
     ]
    },
    {
     "data": {
      "image/png": "[encoded data removed]",
      "text/plain": [
       "<Figure size 432x288 with 1 Axes>"
      ]
     },
     "metadata": {
      "needs_background": "light"
     },
     "output_type": "display_data"
    }
   ],
   "source": [
    "model =  GradientBoostingClassifier(n_estimators=100, subsample = 0.8,max_depth=2, random_state=1997, verbose = 1).fit(X_train, y_train)\n",
    "\n",
    "y_pred_proba = model.predict_proba(X_test)\n",
    "y_pred = y_pred_proba[:,1]\n",
    "\n",
    "fpr, tpr, thresholds = metrics.roc_curve(y_test,y_pred)\n",
    "\n",
    "plt.plot(fpr,tpr)\n",
    "plt.plot([0,1], [0,1], color = \"grey\", alpha = 0.5)\n",
    "plt.title(\"AUC: \"+str(np.round(metrics.auc(fpr, tpr),3)))\n",
    "plt.savefig(\"AUC_Transductive_25features.pdf\")"
   ]
  },
  {
   "cell_type": "markdown",
   "id": "45bff3d7",
   "metadata": {},
   "source": [
    "## Distribution AUC of metapath2vec"
   ]
  },
  {
   "cell_type": "markdown",
   "id": "c319f9a2",
   "metadata": {},
   "source": [
    "In this part, we do the random walks a couple of times to see the difference in AUC. This will give us a feeling of the distribution and stability of these random walks."
   ]
  },
  {
   "cell_type": "markdown",
   "id": "78e6b234",
   "metadata": {},
   "source": [
    "This serves as additional insights into the strengths and weeknesses of this procedure."
   ]
  },
  {
   "cell_type": "code",
   "execution_count": 48,
   "id": "6f84181d",
   "metadata": {},
   "outputs": [],
   "source": [
    "from BipartiteFunctions import Metapath2vec"
   ]
  },
  {
   "cell_type": "code",
   "execution_count": 49,
   "id": "8d5eee90",
   "metadata": {},
   "outputs": [
    {
     "data": {
      "application/vnd.jupyter.widget-view+json": {
       "model_id": "5439df5cf2d9405d878b0c8f6873684d",
       "version_major": 2,
       "version_minor": 0
      },
      "text/plain": [
       "  0%|          | 0/15 [00:00<?, ?it/s]"
      ]
     },
     "metadata": {},
     "output_type": "display_data"
    },
    {
     "name": "stdout",
     "output_type": "stream",
     "text": [
      "Number of random walks: 1188438\n",
      "Number of random walks: 1188438\n",
      "Number of random walks: 1188438\n",
      "Number of random walks: 1188438\n",
      "Number of random walks: 1188438\n",
      "Number of random walks: 1188438\n",
      "Number of random walks: 1188438\n",
      "Number of random walks: 1188438\n",
      "Number of random walks: 1188438\n",
      "Number of random walks: 1188438\n",
      "Number of random walks: 1188438\n",
      "Number of random walks: 1188438\n",
      "Number of random walks: 1188438\n",
      "Number of random walks: 1188438\n",
      "Number of random walks: 1188438\n"
     ]
    }
   ],
   "source": [
    "dimensions = 20\n",
    "num_walks = 1\n",
    "walk_length = 13 #Go from claim to claim via broker twice\n",
    "context_window_size = 10\n",
    "\n",
    "metapaths = [\n",
    "    [\"claim\", \"car\", \"claim\"],\n",
    "    [\"claim\", \"car\",\"policy\",\"car\",\"claim\"],\n",
    "    [\"claim\",  \"car\",\"policy\",\"broker\",\"policy\",\"car\", \"claim\"]\n",
    "]\n",
    "\n",
    "AUC = []\n",
    "\n",
    "for i in tqdm(range(15)):\n",
    "    node_ids, node_embeddings, node_targets = Metapath2vec(HG, \n",
    "                                                           metapaths, \n",
    "                                                           dimensions = dimensions, \n",
    "                                                           num_walks = num_walks, \n",
    "                                                           walk_length = walk_length)\n",
    "    \n",
    "    embedding_df = pd.DataFrame(node_embeddings)\n",
    "    embedding_df.index = node_ids\n",
    "    claim_embedding_df = embedding_df.loc[list(claims_nodes.index)]\n",
    "    embedding_fraud = claim_embedding_df.merge(labels, left_index=True, right_index=True)\n",
    "    embedding_fraud.sort_index(inplace = True)\n",
    "    \n",
    "    train_size = int(round(0.6*len(embedding_fraud),0))\n",
    "\n",
    "    X_train = embedding_fraud.iloc[:train_size, :20]\n",
    "    y_train = embedding_fraud.iloc[:train_size, 20]\n",
    "\n",
    "    X_test = embedding_fraud.iloc[train_size:, :20]\n",
    "    y_test = embedding_fraud.iloc[train_size:, 20]\n",
    "    \n",
    "    embedding_model = GradientBoostingClassifier(n_estimators=100, \n",
    "                                                 subsample = 0.8,\n",
    "                                                 max_depth=2, \n",
    "                                                 random_state=1997).fit(X_train, y_train)\n",
    "    \n",
    "    y_pred = embedding_model.predict_proba(X_test)[:,1]\n",
    "    fpr, tpr, thresholds = metrics.roc_curve(y_test,y_pred)\n",
    "    AUC.append(metrics.auc(fpr, tpr))"
   ]
  },
  {
   "cell_type": "code",
   "execution_count": 50,
   "id": "7fa8010b",
   "metadata": {},
   "outputs": [
    {
     "data": {
      "text/plain": [
       "[0.5793837910247823,\n",
       " 0.5978371393547246,\n",
       " 0.5680235912244563,\n",
       " 0.543151894375008,\n",
       " 0.5345292181121966,\n",
       " 0.592146937279632,\n",
       " 0.5886078112954796,\n",
       " 0.5422844974661628,\n",
       " 0.5524450106787651,\n",
       " 0.590954975419884,\n",
       " 0.5768501908276359,\n",
       " 0.5595676995791682,\n",
       " 0.5512592096450101,\n",
       " 0.5642425975306146,\n",
       " 0.5859172838023987]"
      ]
     },
     "execution_count": 50,
     "metadata": {},
     "output_type": "execute_result"
    }
   ],
   "source": [
    "AUC"
   ]
  },
  {
   "cell_type": "code",
   "execution_count": 51,
   "id": "a46b8b82",
   "metadata": {},
   "outputs": [
    {
     "data": {
      "text/plain": [
       "(array([1., 2., 2., 1., 1., 1., 1., 1., 3., 2.]),\n",
       " array([0.53452922, 0.54086001, 0.5471908 , 0.55352159, 0.55985239,\n",
       "        0.56618318, 0.57251397, 0.57884476, 0.58517556, 0.59150635,\n",
       "        0.59783714]),\n",
       " <BarContainer object of 10 artists>)"
      ]
     },
     "execution_count": 51,
     "metadata": {},
     "output_type": "execute_result"
    },
    {
     "data": {
      "image/png": "[encoded data removed]",
      "text/plain": [
       "<Figure size 432x288 with 1 Axes>"
      ]
     },
     "metadata": {
      "needs_background": "light"
     },
     "output_type": "display_data"
    }
   ],
   "source": [
    "plt.hist(AUC)"
   ]
  },
  {
   "cell_type": "code",
   "execution_count": 52,
   "id": "63a72bde",
   "metadata": {},
   "outputs": [
    {
     "data": {
      "text/plain": [
       "(array([3., 3., 2., 2., 5.]),\n",
       " array([0.53452922, 0.5471908 , 0.55985239, 0.57251397, 0.58517556,\n",
       "        0.59783714]),\n",
       " <BarContainer object of 5 artists>)"
      ]
     },
     "execution_count": 52,
     "metadata": {},
     "output_type": "execute_result"
    },
    {
     "data": {
      "image/png": "[encoded data removed]",
      "text/plain": [
       "<Figure size 432x288 with 1 Axes>"
      ]
     },
     "metadata": {
      "needs_background": "light"
     },
     "output_type": "display_data"
    }
   ],
   "source": [
    "plt.hist(AUC,bins=5)"
   ]
  },
  {
   "cell_type": "code",
   "execution_count": 53,
   "id": "e79f8d9f",
   "metadata": {},
   "outputs": [
    {
     "data": {
      "text/plain": [
       "0.5684801231743946"
      ]
     },
     "execution_count": 53,
     "metadata": {},
     "output_type": "execute_result"
    }
   ],
   "source": [
    "np.mean(AUC)"
   ]
  },
  {
   "cell_type": "code",
   "execution_count": 54,
   "id": "4dfba2da",
   "metadata": {},
   "outputs": [
    {
     "data": {
      "text/plain": [
       "0.019927991782278717"
      ]
     },
     "execution_count": 54,
     "metadata": {},
     "output_type": "execute_result"
    }
   ],
   "source": [
    "np.std(AUC)"
   ]
  },
  {
   "cell_type": "code",
   "execution_count": 57,
   "id": "68c3fa5d",
   "metadata": {},
   "outputs": [
    {
     "data": {
      "text/plain": [
       "0.5345292181121966"
      ]
     },
     "execution_count": 57,
     "metadata": {},
     "output_type": "execute_result"
    }
   ],
   "source": [
    "min(AUC)"
   ]
  },
  {
   "cell_type": "code",
   "execution_count": 58,
   "id": "5b95a0bb",
   "metadata": {},
   "outputs": [
    {
     "data": {
      "text/plain": [
       "0.5978371393547246"
      ]
     },
     "execution_count": 58,
     "metadata": {},
     "output_type": "execute_result"
    }
   ],
   "source": [
    "max(AUC)"
   ]
  },
  {
   "cell_type": "code",
   "execution_count": 77,
   "id": "f690c44c",
   "metadata": {},
   "outputs": [
    {
     "data": {
      "image/png": "[encoded data removed]",
      "text/plain": [
       "<Figure size 432x288 with 1 Axes>"
      ]
     },
     "metadata": {
      "needs_background": "light"
     },
     "output_type": "display_data"
    }
   ],
   "source": [
    "KULbg = \"#116E8A\" \n",
    "plt.hist(AUC, color = KULbg, edgecolor= 'None', alpha = 0.5)\n",
    "plt.hist(AUC, edgecolor=  KULbg, linewidth=1.5,facecolor=\"None\")\n",
    "plt.savefig(\"hist_AUC_meta_15.pdf\")"
   ]
  },
  {
   "cell_type": "code",
   "execution_count": 66,
   "id": "61d67dcf",
   "metadata": {},
   "outputs": [
    {
     "data": {
      "text/plain": [
       "(array([1., 2., 2., 1., 1., 1., 1., 1., 3., 2.]),\n",
       " array([0.53452922, 0.54086001, 0.5471908 , 0.55352159, 0.55985239,\n",
       "        0.56618318, 0.57251397, 0.57884476, 0.58517556, 0.59150635,\n",
       "        0.59783714]),\n",
       " <BarContainer object of 10 artists>)"
      ]
     },
     "execution_count": 66,
     "metadata": {},
     "output_type": "execute_result"
    },
    {
     "data": {
      "image/png": "[encoded data removed]",
      "text/plain": [
       "<Figure size 432x288 with 1 Axes>"
      ]
     },
     "metadata": {
      "needs_background": "light"
     },
     "output_type": "display_data"
    }
   ],
   "source": []
  },
  {
   "cell_type": "code",
   "execution_count": null,
   "id": "f8cb0330",
   "metadata": {},
   "outputs": [],
   "source": []
  }
 ],
 "metadata": {
  "kernelspec": {
   "display_name": "Python 3",
   "language": "python",
   "name": "python3"
  },
  "language_info": {
   "codemirror_mode": {
    "name": "ipython",
    "version": 3
   },
   "file_extension": ".py",
   "mimetype": "text/x-python",
   "name": "python",
   "nbconvert_exporter": "python",
   "pygments_lexer": "ipython3",
   "version": "3.8.8"
  }
 },
 "nbformat": 4,
 "nbformat_minor": 5
}
